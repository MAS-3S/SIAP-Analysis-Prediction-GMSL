{
 "cells": [
  {
   "cell_type": "code",
   "execution_count": 155,
   "id": "a4e815d2",
   "metadata": {},
   "outputs": [],
   "source": [
    "import pandas as pd\n",
    "import seaborn as sb\n",
    "import numpy as np"
   ]
  },
  {
   "cell_type": "code",
   "execution_count": 174,
   "id": "b6c009cb",
   "metadata": {},
   "outputs": [],
   "source": [
    "df = pd.read_csv('processed_datasets/GMSL_analysis_and_prediction.csv', delimiter=',')"
   ]
  },
  {
   "cell_type": "code",
   "execution_count": 175,
   "id": "1b2125fa",
   "metadata": {},
   "outputs": [
    {
     "data": {
      "text/html": [
       "<div>\n",
       "<style scoped>\n",
       "    .dataframe tbody tr th:only-of-type {\n",
       "        vertical-align: middle;\n",
       "    }\n",
       "\n",
       "    .dataframe tbody tr th {\n",
       "        vertical-align: top;\n",
       "    }\n",
       "\n",
       "    .dataframe thead th {\n",
       "        text-align: right;\n",
       "    }\n",
       "</style>\n",
       "<table border=\"1\" class=\"dataframe\">\n",
       "  <thead>\n",
       "    <tr style=\"text-align: right;\">\n",
       "      <th></th>\n",
       "      <th>Date</th>\n",
       "      <th>Extent</th>\n",
       "      <th>WaterTemp</th>\n",
       "      <th>O2ml</th>\n",
       "      <th>SiO3</th>\n",
       "      <th>NO3</th>\n",
       "      <th>LandAverageTemperature</th>\n",
       "      <th>LandAndOceanAverageTemperature</th>\n",
       "      <th>CO2</th>\n",
       "      <th>IsGMSLIncreased</th>\n",
       "      <th>GMSL</th>\n",
       "    </tr>\n",
       "  </thead>\n",
       "  <tbody>\n",
       "    <tr>\n",
       "      <th>0</th>\n",
       "      <td>1969-01</td>\n",
       "      <td>11.412998</td>\n",
       "      <td>13.265000</td>\n",
       "      <td>5.595000</td>\n",
       "      <td>7.00000</td>\n",
       "      <td>3.250</td>\n",
       "      <td>1.966</td>\n",
       "      <td>13.518</td>\n",
       "      <td>324.00</td>\n",
       "      <td>0</td>\n",
       "      <td>-35.8</td>\n",
       "    </tr>\n",
       "    <tr>\n",
       "      <th>1</th>\n",
       "      <td>1969-02</td>\n",
       "      <td>11.419180</td>\n",
       "      <td>12.435000</td>\n",
       "      <td>5.695000</td>\n",
       "      <td>6.40000</td>\n",
       "      <td>5.200</td>\n",
       "      <td>2.450</td>\n",
       "      <td>13.747</td>\n",
       "      <td>324.42</td>\n",
       "      <td>0</td>\n",
       "      <td>-37.2</td>\n",
       "    </tr>\n",
       "    <tr>\n",
       "      <th>2</th>\n",
       "      <td>1969-03</td>\n",
       "      <td>11.425310</td>\n",
       "      <td>15.535000</td>\n",
       "      <td>5.490000</td>\n",
       "      <td>4.00000</td>\n",
       "      <td>0.300</td>\n",
       "      <td>5.131</td>\n",
       "      <td>14.576</td>\n",
       "      <td>325.64</td>\n",
       "      <td>1</td>\n",
       "      <td>-36.2</td>\n",
       "    </tr>\n",
       "    <tr>\n",
       "      <th>3</th>\n",
       "      <td>1969-04</td>\n",
       "      <td>11.431388</td>\n",
       "      <td>12.070000</td>\n",
       "      <td>5.312500</td>\n",
       "      <td>8.50000</td>\n",
       "      <td>6.400</td>\n",
       "      <td>8.576</td>\n",
       "      <td>15.518</td>\n",
       "      <td>326.66</td>\n",
       "      <td>0</td>\n",
       "      <td>-37.4</td>\n",
       "    </tr>\n",
       "    <tr>\n",
       "      <th>4</th>\n",
       "      <td>1969-05</td>\n",
       "      <td>11.437415</td>\n",
       "      <td>12.120000</td>\n",
       "      <td>5.945000</td>\n",
       "      <td>6.00000</td>\n",
       "      <td>3.700</td>\n",
       "      <td>11.354</td>\n",
       "      <td>16.329</td>\n",
       "      <td>327.34</td>\n",
       "      <td>0</td>\n",
       "      <td>-38.6</td>\n",
       "    </tr>\n",
       "    <tr>\n",
       "      <th>535</th>\n",
       "      <td>2013-08</td>\n",
       "      <td>12.338645</td>\n",
       "      <td>12.053062</td>\n",
       "      <td>5.263625</td>\n",
       "      <td>7.47125</td>\n",
       "      <td>8.925</td>\n",
       "      <td>14.742</td>\n",
       "      <td>17.462</td>\n",
       "      <td>395.20</td>\n",
       "      <td>1</td>\n",
       "      <td>71.6</td>\n",
       "    </tr>\n",
       "    <tr>\n",
       "      <th>536</th>\n",
       "      <td>2013-09</td>\n",
       "      <td>12.298467</td>\n",
       "      <td>12.200875</td>\n",
       "      <td>5.302750</td>\n",
       "      <td>6.75750</td>\n",
       "      <td>8.100</td>\n",
       "      <td>13.154</td>\n",
       "      <td>16.894</td>\n",
       "      <td>393.45</td>\n",
       "      <td>0</td>\n",
       "      <td>68.8</td>\n",
       "    </tr>\n",
       "    <tr>\n",
       "      <th>537</th>\n",
       "      <td>2013-10</td>\n",
       "      <td>13.236306</td>\n",
       "      <td>12.348688</td>\n",
       "      <td>5.341875</td>\n",
       "      <td>6.04375</td>\n",
       "      <td>7.275</td>\n",
       "      <td>10.256</td>\n",
       "      <td>15.905</td>\n",
       "      <td>393.70</td>\n",
       "      <td>0</td>\n",
       "      <td>66.4</td>\n",
       "    </tr>\n",
       "    <tr>\n",
       "      <th>538</th>\n",
       "      <td>2013-11</td>\n",
       "      <td>13.405600</td>\n",
       "      <td>12.496500</td>\n",
       "      <td>5.381000</td>\n",
       "      <td>5.33000</td>\n",
       "      <td>6.450</td>\n",
       "      <td>7.424</td>\n",
       "      <td>15.107</td>\n",
       "      <td>395.16</td>\n",
       "      <td>0</td>\n",
       "      <td>59.7</td>\n",
       "    </tr>\n",
       "    <tr>\n",
       "      <th>539</th>\n",
       "      <td>2013-12</td>\n",
       "      <td>13.066000</td>\n",
       "      <td>13.062250</td>\n",
       "      <td>5.427250</td>\n",
       "      <td>4.62625</td>\n",
       "      <td>4.275</td>\n",
       "      <td>4.724</td>\n",
       "      <td>14.339</td>\n",
       "      <td>396.84</td>\n",
       "      <td>0</td>\n",
       "      <td>58.5</td>\n",
       "    </tr>\n",
       "  </tbody>\n",
       "</table>\n",
       "</div>"
      ],
      "text/plain": [
       "        Date     Extent  WaterTemp      O2ml     SiO3    NO3  \\\n",
       "0    1969-01  11.412998  13.265000  5.595000  7.00000  3.250   \n",
       "1    1969-02  11.419180  12.435000  5.695000  6.40000  5.200   \n",
       "2    1969-03  11.425310  15.535000  5.490000  4.00000  0.300   \n",
       "3    1969-04  11.431388  12.070000  5.312500  8.50000  6.400   \n",
       "4    1969-05  11.437415  12.120000  5.945000  6.00000  3.700   \n",
       "535  2013-08  12.338645  12.053062  5.263625  7.47125  8.925   \n",
       "536  2013-09  12.298467  12.200875  5.302750  6.75750  8.100   \n",
       "537  2013-10  13.236306  12.348688  5.341875  6.04375  7.275   \n",
       "538  2013-11  13.405600  12.496500  5.381000  5.33000  6.450   \n",
       "539  2013-12  13.066000  13.062250  5.427250  4.62625  4.275   \n",
       "\n",
       "     LandAverageTemperature  LandAndOceanAverageTemperature     CO2  \\\n",
       "0                     1.966                          13.518  324.00   \n",
       "1                     2.450                          13.747  324.42   \n",
       "2                     5.131                          14.576  325.64   \n",
       "3                     8.576                          15.518  326.66   \n",
       "4                    11.354                          16.329  327.34   \n",
       "535                  14.742                          17.462  395.20   \n",
       "536                  13.154                          16.894  393.45   \n",
       "537                  10.256                          15.905  393.70   \n",
       "538                   7.424                          15.107  395.16   \n",
       "539                   4.724                          14.339  396.84   \n",
       "\n",
       "     IsGMSLIncreased  GMSL  \n",
       "0                  0 -35.8  \n",
       "1                  0 -37.2  \n",
       "2                  1 -36.2  \n",
       "3                  0 -37.4  \n",
       "4                  0 -38.6  \n",
       "535                1  71.6  \n",
       "536                0  68.8  \n",
       "537                0  66.4  \n",
       "538                0  59.7  \n",
       "539                0  58.5  "
      ]
     },
     "execution_count": 175,
     "metadata": {},
     "output_type": "execute_result"
    }
   ],
   "source": [
    "df.head().append(df.tail())"
   ]
  },
  {
   "cell_type": "code",
   "execution_count": 176,
   "id": "88e7381b",
   "metadata": {},
   "outputs": [
    {
     "data": {
      "text/html": [
       "<div>\n",
       "<style scoped>\n",
       "    .dataframe tbody tr th:only-of-type {\n",
       "        vertical-align: middle;\n",
       "    }\n",
       "\n",
       "    .dataframe tbody tr th {\n",
       "        vertical-align: top;\n",
       "    }\n",
       "\n",
       "    .dataframe thead th {\n",
       "        text-align: right;\n",
       "    }\n",
       "</style>\n",
       "<table border=\"1\" class=\"dataframe\">\n",
       "  <thead>\n",
       "    <tr style=\"text-align: right;\">\n",
       "      <th></th>\n",
       "      <th>Extent</th>\n",
       "      <th>WaterTemp</th>\n",
       "      <th>O2ml</th>\n",
       "      <th>SiO3</th>\n",
       "      <th>NO3</th>\n",
       "      <th>LandAverageTemperature</th>\n",
       "      <th>LandAndOceanAverageTemperature</th>\n",
       "      <th>CO2</th>\n",
       "      <th>IsGMSLIncreased</th>\n",
       "      <th>GMSL</th>\n",
       "    </tr>\n",
       "  </thead>\n",
       "  <tbody>\n",
       "    <tr>\n",
       "      <th>count</th>\n",
       "      <td>540.000000</td>\n",
       "      <td>540.000000</td>\n",
       "      <td>540.000000</td>\n",
       "      <td>540.000000</td>\n",
       "      <td>540.000000</td>\n",
       "      <td>540.000000</td>\n",
       "      <td>540.000000</td>\n",
       "      <td>540.000000</td>\n",
       "      <td>540.000000</td>\n",
       "      <td>540.000000</td>\n",
       "    </tr>\n",
       "    <tr>\n",
       "      <th>mean</th>\n",
       "      <td>11.633582</td>\n",
       "      <td>12.703859</td>\n",
       "      <td>5.140705</td>\n",
       "      <td>8.623137</td>\n",
       "      <td>7.488843</td>\n",
       "      <td>9.091504</td>\n",
       "      <td>15.553526</td>\n",
       "      <td>355.062907</td>\n",
       "      <td>0.525926</td>\n",
       "      <td>8.211111</td>\n",
       "    </tr>\n",
       "    <tr>\n",
       "      <th>std</th>\n",
       "      <td>1.257900</td>\n",
       "      <td>1.178649</td>\n",
       "      <td>0.613406</td>\n",
       "      <td>5.566774</td>\n",
       "      <td>4.980329</td>\n",
       "      <td>4.156488</td>\n",
       "      <td>1.233037</td>\n",
       "      <td>34.925471</td>\n",
       "      <td>0.499790</td>\n",
       "      <td>31.076247</td>\n",
       "    </tr>\n",
       "    <tr>\n",
       "      <th>min</th>\n",
       "      <td>8.441054</td>\n",
       "      <td>9.187500</td>\n",
       "      <td>2.320000</td>\n",
       "      <td>1.900000</td>\n",
       "      <td>0.000000</td>\n",
       "      <td>1.882000</td>\n",
       "      <td>13.298000</td>\n",
       "      <td>-99.990000</td>\n",
       "      <td>0.000000</td>\n",
       "      <td>-42.600000</td>\n",
       "    </tr>\n",
       "    <tr>\n",
       "      <th>25%</th>\n",
       "      <td>10.981980</td>\n",
       "      <td>11.967042</td>\n",
       "      <td>5.050313</td>\n",
       "      <td>5.451974</td>\n",
       "      <td>3.850000</td>\n",
       "      <td>4.959750</td>\n",
       "      <td>14.386250</td>\n",
       "      <td>338.025000</td>\n",
       "      <td>0.000000</td>\n",
       "      <td>-15.725000</td>\n",
       "    </tr>\n",
       "    <tr>\n",
       "      <th>50%</th>\n",
       "      <td>11.750654</td>\n",
       "      <td>12.453371</td>\n",
       "      <td>5.307197</td>\n",
       "      <td>7.508352</td>\n",
       "      <td>6.741667</td>\n",
       "      <td>9.342500</td>\n",
       "      <td>15.581000</td>\n",
       "      <td>355.390000</td>\n",
       "      <td>1.000000</td>\n",
       "      <td>1.900000</td>\n",
       "    </tr>\n",
       "    <tr>\n",
       "      <th>75%</th>\n",
       "      <td>12.585463</td>\n",
       "      <td>13.278750</td>\n",
       "      <td>5.483333</td>\n",
       "      <td>10.000000</td>\n",
       "      <td>9.917708</td>\n",
       "      <td>13.153250</td>\n",
       "      <td>16.729750</td>\n",
       "      <td>373.890000</td>\n",
       "      <td>1.000000</td>\n",
       "      <td>29.925000</td>\n",
       "    </tr>\n",
       "    <tr>\n",
       "      <th>max</th>\n",
       "      <td>14.050833</td>\n",
       "      <td>18.627500</td>\n",
       "      <td>6.150000</td>\n",
       "      <td>41.400000</td>\n",
       "      <td>22.900000</td>\n",
       "      <td>15.482000</td>\n",
       "      <td>17.609000</td>\n",
       "      <td>399.780000</td>\n",
       "      <td>1.000000</td>\n",
       "      <td>82.400000</td>\n",
       "    </tr>\n",
       "  </tbody>\n",
       "</table>\n",
       "</div>"
      ],
      "text/plain": [
       "           Extent   WaterTemp        O2ml        SiO3         NO3  \\\n",
       "count  540.000000  540.000000  540.000000  540.000000  540.000000   \n",
       "mean    11.633582   12.703859    5.140705    8.623137    7.488843   \n",
       "std      1.257900    1.178649    0.613406    5.566774    4.980329   \n",
       "min      8.441054    9.187500    2.320000    1.900000    0.000000   \n",
       "25%     10.981980   11.967042    5.050313    5.451974    3.850000   \n",
       "50%     11.750654   12.453371    5.307197    7.508352    6.741667   \n",
       "75%     12.585463   13.278750    5.483333   10.000000    9.917708   \n",
       "max     14.050833   18.627500    6.150000   41.400000   22.900000   \n",
       "\n",
       "       LandAverageTemperature  LandAndOceanAverageTemperature         CO2  \\\n",
       "count              540.000000                      540.000000  540.000000   \n",
       "mean                 9.091504                       15.553526  355.062907   \n",
       "std                  4.156488                        1.233037   34.925471   \n",
       "min                  1.882000                       13.298000  -99.990000   \n",
       "25%                  4.959750                       14.386250  338.025000   \n",
       "50%                  9.342500                       15.581000  355.390000   \n",
       "75%                 13.153250                       16.729750  373.890000   \n",
       "max                 15.482000                       17.609000  399.780000   \n",
       "\n",
       "       IsGMSLIncreased        GMSL  \n",
       "count       540.000000  540.000000  \n",
       "mean          0.525926    8.211111  \n",
       "std           0.499790   31.076247  \n",
       "min           0.000000  -42.600000  \n",
       "25%           0.000000  -15.725000  \n",
       "50%           1.000000    1.900000  \n",
       "75%           1.000000   29.925000  \n",
       "max           1.000000   82.400000  "
      ]
     },
     "execution_count": 176,
     "metadata": {},
     "output_type": "execute_result"
    }
   ],
   "source": [
    "df.describe()"
   ]
  },
  {
   "cell_type": "code",
   "execution_count": 177,
   "id": "1551078a",
   "metadata": {},
   "outputs": [
    {
     "name": "stdout",
     "output_type": "stream",
     "text": [
      "<class 'pandas.core.frame.DataFrame'>\n",
      "RangeIndex: 540 entries, 0 to 539\n",
      "Data columns (total 11 columns):\n",
      " #   Column                          Non-Null Count  Dtype  \n",
      "---  ------                          --------------  -----  \n",
      " 0   Date                            540 non-null    object \n",
      " 1   Extent                          540 non-null    float64\n",
      " 2   WaterTemp                       540 non-null    float64\n",
      " 3   O2ml                            540 non-null    float64\n",
      " 4   SiO3                            540 non-null    float64\n",
      " 5   NO3                             540 non-null    float64\n",
      " 6   LandAverageTemperature          540 non-null    float64\n",
      " 7   LandAndOceanAverageTemperature  540 non-null    float64\n",
      " 8   CO2                             540 non-null    float64\n",
      " 9   IsGMSLIncreased                 540 non-null    int64  \n",
      " 10  GMSL                            540 non-null    float64\n",
      "dtypes: float64(9), int64(1), object(1)\n",
      "memory usage: 46.5+ KB\n"
     ]
    }
   ],
   "source": [
    "df.info()"
   ]
  },
  {
   "cell_type": "markdown",
   "id": "fe1e084d",
   "metadata": {},
   "source": [
    "#### Podela skupa podataka na training i test"
   ]
  },
  {
   "cell_type": "code",
   "execution_count": 188,
   "id": "47af0fb5",
   "metadata": {},
   "outputs": [],
   "source": [
    "from sklearn.model_selection import train_test_split\n",
    "\n",
    "X = df.drop([\"IsGMSLIncreased\", \"Date\", \"GMSL\"], axis=1)\n",
    "Y = df[\"IsGMSLIncreased\"]\n",
    "\n",
    "X_train, X_test, Y_train, Y_test = train_test_split(X, Y, test_size=0.30, random_state=60)"
   ]
  },
  {
   "cell_type": "markdown",
   "id": "7c7ca60f",
   "metadata": {},
   "source": [
    "## Random Forest"
   ]
  },
  {
   "cell_type": "code",
   "execution_count": 189,
   "id": "f8047823",
   "metadata": {},
   "outputs": [],
   "source": [
    "from sklearn.ensemble import RandomForestClassifier\n",
    "\n",
    "rfc = RandomForestClassifier()"
   ]
  },
  {
   "cell_type": "markdown",
   "id": "dbe0b325",
   "metadata": {},
   "source": [
    "#### Obučavanje - Random Forest"
   ]
  },
  {
   "cell_type": "code",
   "execution_count": 190,
   "id": "37529f2b",
   "metadata": {},
   "outputs": [
    {
     "data": {
      "text/plain": [
       "RandomForestClassifier()"
      ]
     },
     "execution_count": 190,
     "metadata": {},
     "output_type": "execute_result"
    }
   ],
   "source": [
    "rfc.fit(X_train, Y_train)"
   ]
  },
  {
   "cell_type": "markdown",
   "id": "ddf86f23",
   "metadata": {},
   "source": [
    "#### Predikcija - Random Forest"
   ]
  },
  {
   "cell_type": "code",
   "execution_count": 191,
   "id": "e3763fac",
   "metadata": {},
   "outputs": [],
   "source": [
    "rfc_predictions = rfc.predict(X_test)"
   ]
  },
  {
   "cell_type": "markdown",
   "id": "dbbeade3",
   "metadata": {},
   "source": [
    "#### F1 Score - Random Forest"
   ]
  },
  {
   "cell_type": "code",
   "execution_count": 192,
   "id": "8aa950a6",
   "metadata": {},
   "outputs": [
    {
     "name": "stdout",
     "output_type": "stream",
     "text": [
      "F1 score:  [0.5323741  0.64864865]\n"
     ]
    }
   ],
   "source": [
    "from sklearn.metrics import f1_score\n",
    "\n",
    "f1_sc = f1_score(Y_test, rfc_predictions, average=None)\n",
    "print(\"F1 score: \", f1_sc)"
   ]
  },
  {
   "cell_type": "markdown",
   "id": "d45ee2f2",
   "metadata": {},
   "source": [
    "#### Report - Random Forest"
   ]
  },
  {
   "cell_type": "code",
   "execution_count": 193,
   "id": "cd4a6c38",
   "metadata": {},
   "outputs": [
    {
     "name": "stdout",
     "output_type": "stream",
     "text": [
      "              precision    recall  f1-score   support\n",
      "\n",
      "           0       0.60      0.48      0.53        77\n",
      "           1       0.60      0.71      0.65        85\n",
      "\n",
      "    accuracy                           0.60       162\n",
      "   macro avg       0.60      0.59      0.59       162\n",
      "weighted avg       0.60      0.60      0.59       162\n",
      "\n"
     ]
    }
   ],
   "source": [
    "from sklearn.metrics import classification_report\n",
    "\n",
    "print(classification_report(Y_test, rfc_predictions))"
   ]
  },
  {
   "cell_type": "markdown",
   "id": "22dd4b28",
   "metadata": {},
   "source": [
    "#### Tuning Hyperparameters"
   ]
  },
  {
   "cell_type": "code",
   "execution_count": 194,
   "id": "cf3442b0",
   "metadata": {},
   "outputs": [
    {
     "name": "stdout",
     "output_type": "stream",
     "text": [
      "Fitting 3 folds for each of 100 candidates, totalling 300 fits\n",
      "{'n_estimators': 300, 'max_features': 'auto', 'max_depth': 55}\n"
     ]
    }
   ],
   "source": [
    "from sklearn.model_selection import RandomizedSearchCV\n",
    "\n",
    "n_estimators = [int(x) for x in np.linspace(start = 100, stop = 1000, num = 10)]\n",
    "\n",
    "max_features = ['auto', 'sqrt',]\n",
    "\n",
    "max_depth = [int(x) for x in np.linspace(10, 100, num = 5)]\n",
    "max_depth.append(None)\n",
    "\n",
    "random_grid = {\n",
    " 'n_estimators': n_estimators,\n",
    " 'max_features': max_features,\n",
    " 'max_depth': max_depth\n",
    " }\n",
    "\n",
    "rfc_random = RandomizedSearchCV(estimator = rfc, param_distributions = random_grid, n_iter = 100, cv = 3, verbose=2, random_state=42, n_jobs = -1)\n",
    "\n",
    "rfc_random.fit(X_train, Y_train)\n",
    "\n",
    "print(rfc_random.best_params_)"
   ]
  },
  {
   "cell_type": "markdown",
   "id": "0937206e",
   "metadata": {},
   "source": [
    "#### Best params: {'n_estimators': 100, 'max_features': 'sqrt', 'max_depth': 10}"
   ]
  },
  {
   "cell_type": "code",
   "execution_count": 195,
   "id": "e2ac8389",
   "metadata": {},
   "outputs": [],
   "source": [
    "rfc_best = RandomForestClassifier(n_estimators=100, max_depth=10, max_features='sqrt')"
   ]
  },
  {
   "cell_type": "code",
   "execution_count": 196,
   "id": "0a9084df",
   "metadata": {},
   "outputs": [
    {
     "data": {
      "text/plain": [
       "RandomForestClassifier(max_depth=10, max_features='sqrt')"
      ]
     },
     "execution_count": 196,
     "metadata": {},
     "output_type": "execute_result"
    }
   ],
   "source": [
    "rfc_best.fit(X_train,Y_train)"
   ]
  },
  {
   "cell_type": "code",
   "execution_count": 197,
   "id": "de641f77",
   "metadata": {},
   "outputs": [],
   "source": [
    "rfc_predictions_best = rfc_best.predict(X_test)"
   ]
  },
  {
   "cell_type": "code",
   "execution_count": 198,
   "id": "8388a860",
   "metadata": {},
   "outputs": [
    {
     "name": "stdout",
     "output_type": "stream",
     "text": [
      "              precision    recall  f1-score   support\n",
      "\n",
      "           0       0.60      0.53      0.57        77\n",
      "           1       0.62      0.68      0.65        85\n",
      "\n",
      "    accuracy                           0.61       162\n",
      "   macro avg       0.61      0.61      0.61       162\n",
      "weighted avg       0.61      0.61      0.61       162\n",
      "\n"
     ]
    }
   ],
   "source": [
    "print(classification_report(Y_test, rfc_predictions_best))"
   ]
  },
  {
   "cell_type": "code",
   "execution_count": null,
   "id": "adb55612",
   "metadata": {},
   "outputs": [],
   "source": []
  },
  {
   "cell_type": "code",
   "execution_count": null,
   "id": "d37dd0ca",
   "metadata": {},
   "outputs": [],
   "source": []
  },
  {
   "cell_type": "code",
   "execution_count": null,
   "id": "659fab89",
   "metadata": {},
   "outputs": [],
   "source": []
  },
  {
   "cell_type": "code",
   "execution_count": null,
   "id": "d1f187c0",
   "metadata": {},
   "outputs": [],
   "source": []
  }
 ],
 "metadata": {
  "kernelspec": {
   "display_name": "Python 3 (ipykernel)",
   "language": "python",
   "name": "python3"
  },
  "language_info": {
   "codemirror_mode": {
    "name": "ipython",
    "version": 3
   },
   "file_extension": ".py",
   "mimetype": "text/x-python",
   "name": "python",
   "nbconvert_exporter": "python",
   "pygments_lexer": "ipython3",
   "version": "3.8.3"
  }
 },
 "nbformat": 4,
 "nbformat_minor": 5
}
