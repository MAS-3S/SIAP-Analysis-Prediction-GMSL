{
 "cells": [
  {
   "cell_type": "code",
   "execution_count": 155,
   "id": "5cad7e1f",
   "metadata": {},
   "outputs": [],
   "source": [
    "import pandas as pd\n",
    "import seaborn as sb\n",
    "import numpy as np\n",
    "import matplotlib.pyplot as plt\n",
    "from skforecast.ForecasterAutoreg import ForecasterAutoreg\n",
    "from xgboost import XGBRegressor\n",
    "from skforecast.model_selection import grid_search_forecaster\n",
    "from skforecast.model_selection import backtesting_forecaster\n",
    "from statsmodels.graphics.tsaplots import plot_acf\n",
    "from statsmodels.graphics.tsaplots import plot_pacf"
   ]
  },
  {
   "cell_type": "code",
   "execution_count": 156,
   "id": "365db676",
   "metadata": {},
   "outputs": [],
   "source": [
    "data = pd.read_csv('processed_datasets/GMSL_analysis_and_prediction.csv', delimiter=',')"
   ]
  },
  {
   "cell_type": "code",
   "execution_count": 157,
   "id": "6d51a32e",
   "metadata": {},
   "outputs": [
    {
     "data": {
      "text/html": [
       "<div>\n",
       "<style scoped>\n",
       "    .dataframe tbody tr th:only-of-type {\n",
       "        vertical-align: middle;\n",
       "    }\n",
       "\n",
       "    .dataframe tbody tr th {\n",
       "        vertical-align: top;\n",
       "    }\n",
       "\n",
       "    .dataframe thead th {\n",
       "        text-align: right;\n",
       "    }\n",
       "</style>\n",
       "<table border=\"1\" class=\"dataframe\">\n",
       "  <thead>\n",
       "    <tr style=\"text-align: right;\">\n",
       "      <th></th>\n",
       "      <th>Date</th>\n",
       "      <th>Extent</th>\n",
       "      <th>WaterTemp</th>\n",
       "      <th>O2ml</th>\n",
       "      <th>SiO3</th>\n",
       "      <th>NO3</th>\n",
       "      <th>LandAverageTemperature</th>\n",
       "      <th>LandAndOceanAverageTemperature</th>\n",
       "      <th>CO2</th>\n",
       "      <th>IsGMSLIncreased</th>\n",
       "      <th>GMSL</th>\n",
       "    </tr>\n",
       "  </thead>\n",
       "  <tbody>\n",
       "    <tr>\n",
       "      <th>0</th>\n",
       "      <td>1969-01</td>\n",
       "      <td>11.412998</td>\n",
       "      <td>13.265000</td>\n",
       "      <td>5.595000</td>\n",
       "      <td>7.00000</td>\n",
       "      <td>3.250</td>\n",
       "      <td>1.966</td>\n",
       "      <td>13.518</td>\n",
       "      <td>324.00</td>\n",
       "      <td>0</td>\n",
       "      <td>-35.8</td>\n",
       "    </tr>\n",
       "    <tr>\n",
       "      <th>1</th>\n",
       "      <td>1969-02</td>\n",
       "      <td>11.419180</td>\n",
       "      <td>12.435000</td>\n",
       "      <td>5.695000</td>\n",
       "      <td>6.40000</td>\n",
       "      <td>5.200</td>\n",
       "      <td>2.450</td>\n",
       "      <td>13.747</td>\n",
       "      <td>324.42</td>\n",
       "      <td>0</td>\n",
       "      <td>-37.2</td>\n",
       "    </tr>\n",
       "    <tr>\n",
       "      <th>2</th>\n",
       "      <td>1969-03</td>\n",
       "      <td>11.425310</td>\n",
       "      <td>15.535000</td>\n",
       "      <td>5.490000</td>\n",
       "      <td>4.00000</td>\n",
       "      <td>0.300</td>\n",
       "      <td>5.131</td>\n",
       "      <td>14.576</td>\n",
       "      <td>325.64</td>\n",
       "      <td>1</td>\n",
       "      <td>-36.2</td>\n",
       "    </tr>\n",
       "    <tr>\n",
       "      <th>3</th>\n",
       "      <td>1969-04</td>\n",
       "      <td>11.431388</td>\n",
       "      <td>12.070000</td>\n",
       "      <td>5.312500</td>\n",
       "      <td>8.50000</td>\n",
       "      <td>6.400</td>\n",
       "      <td>8.576</td>\n",
       "      <td>15.518</td>\n",
       "      <td>326.66</td>\n",
       "      <td>0</td>\n",
       "      <td>-37.4</td>\n",
       "    </tr>\n",
       "    <tr>\n",
       "      <th>4</th>\n",
       "      <td>1969-05</td>\n",
       "      <td>11.437415</td>\n",
       "      <td>12.120000</td>\n",
       "      <td>5.945000</td>\n",
       "      <td>6.00000</td>\n",
       "      <td>3.700</td>\n",
       "      <td>11.354</td>\n",
       "      <td>16.329</td>\n",
       "      <td>327.34</td>\n",
       "      <td>0</td>\n",
       "      <td>-38.6</td>\n",
       "    </tr>\n",
       "    <tr>\n",
       "      <th>535</th>\n",
       "      <td>2013-08</td>\n",
       "      <td>12.338645</td>\n",
       "      <td>12.053062</td>\n",
       "      <td>5.263625</td>\n",
       "      <td>7.47125</td>\n",
       "      <td>8.925</td>\n",
       "      <td>14.742</td>\n",
       "      <td>17.462</td>\n",
       "      <td>395.20</td>\n",
       "      <td>1</td>\n",
       "      <td>71.6</td>\n",
       "    </tr>\n",
       "    <tr>\n",
       "      <th>536</th>\n",
       "      <td>2013-09</td>\n",
       "      <td>12.298467</td>\n",
       "      <td>12.200875</td>\n",
       "      <td>5.302750</td>\n",
       "      <td>6.75750</td>\n",
       "      <td>8.100</td>\n",
       "      <td>13.154</td>\n",
       "      <td>16.894</td>\n",
       "      <td>393.45</td>\n",
       "      <td>0</td>\n",
       "      <td>68.8</td>\n",
       "    </tr>\n",
       "    <tr>\n",
       "      <th>537</th>\n",
       "      <td>2013-10</td>\n",
       "      <td>13.236306</td>\n",
       "      <td>12.348688</td>\n",
       "      <td>5.341875</td>\n",
       "      <td>6.04375</td>\n",
       "      <td>7.275</td>\n",
       "      <td>10.256</td>\n",
       "      <td>15.905</td>\n",
       "      <td>393.70</td>\n",
       "      <td>0</td>\n",
       "      <td>66.4</td>\n",
       "    </tr>\n",
       "    <tr>\n",
       "      <th>538</th>\n",
       "      <td>2013-11</td>\n",
       "      <td>13.405600</td>\n",
       "      <td>12.496500</td>\n",
       "      <td>5.381000</td>\n",
       "      <td>5.33000</td>\n",
       "      <td>6.450</td>\n",
       "      <td>7.424</td>\n",
       "      <td>15.107</td>\n",
       "      <td>395.16</td>\n",
       "      <td>0</td>\n",
       "      <td>59.7</td>\n",
       "    </tr>\n",
       "    <tr>\n",
       "      <th>539</th>\n",
       "      <td>2013-12</td>\n",
       "      <td>13.066000</td>\n",
       "      <td>13.062250</td>\n",
       "      <td>5.427250</td>\n",
       "      <td>4.62625</td>\n",
       "      <td>4.275</td>\n",
       "      <td>4.724</td>\n",
       "      <td>14.339</td>\n",
       "      <td>396.84</td>\n",
       "      <td>0</td>\n",
       "      <td>58.5</td>\n",
       "    </tr>\n",
       "  </tbody>\n",
       "</table>\n",
       "</div>"
      ],
      "text/plain": [
       "        Date     Extent  WaterTemp      O2ml     SiO3    NO3  \\\n",
       "0    1969-01  11.412998  13.265000  5.595000  7.00000  3.250   \n",
       "1    1969-02  11.419180  12.435000  5.695000  6.40000  5.200   \n",
       "2    1969-03  11.425310  15.535000  5.490000  4.00000  0.300   \n",
       "3    1969-04  11.431388  12.070000  5.312500  8.50000  6.400   \n",
       "4    1969-05  11.437415  12.120000  5.945000  6.00000  3.700   \n",
       "535  2013-08  12.338645  12.053062  5.263625  7.47125  8.925   \n",
       "536  2013-09  12.298467  12.200875  5.302750  6.75750  8.100   \n",
       "537  2013-10  13.236306  12.348688  5.341875  6.04375  7.275   \n",
       "538  2013-11  13.405600  12.496500  5.381000  5.33000  6.450   \n",
       "539  2013-12  13.066000  13.062250  5.427250  4.62625  4.275   \n",
       "\n",
       "     LandAverageTemperature  LandAndOceanAverageTemperature     CO2  \\\n",
       "0                     1.966                          13.518  324.00   \n",
       "1                     2.450                          13.747  324.42   \n",
       "2                     5.131                          14.576  325.64   \n",
       "3                     8.576                          15.518  326.66   \n",
       "4                    11.354                          16.329  327.34   \n",
       "535                  14.742                          17.462  395.20   \n",
       "536                  13.154                          16.894  393.45   \n",
       "537                  10.256                          15.905  393.70   \n",
       "538                   7.424                          15.107  395.16   \n",
       "539                   4.724                          14.339  396.84   \n",
       "\n",
       "     IsGMSLIncreased  GMSL  \n",
       "0                  0 -35.8  \n",
       "1                  0 -37.2  \n",
       "2                  1 -36.2  \n",
       "3                  0 -37.4  \n",
       "4                  0 -38.6  \n",
       "535                1  71.6  \n",
       "536                0  68.8  \n",
       "537                0  66.4  \n",
       "538                0  59.7  \n",
       "539                0  58.5  "
      ]
     },
     "execution_count": 157,
     "metadata": {},
     "output_type": "execute_result"
    }
   ],
   "source": [
    "data.head().append(data.tail())"
   ]
  },
  {
   "cell_type": "code",
   "execution_count": 158,
   "id": "717a5f5e",
   "metadata": {},
   "outputs": [
    {
     "data": {
      "text/html": [
       "<div>\n",
       "<style scoped>\n",
       "    .dataframe tbody tr th:only-of-type {\n",
       "        vertical-align: middle;\n",
       "    }\n",
       "\n",
       "    .dataframe tbody tr th {\n",
       "        vertical-align: top;\n",
       "    }\n",
       "\n",
       "    .dataframe thead th {\n",
       "        text-align: right;\n",
       "    }\n",
       "</style>\n",
       "<table border=\"1\" class=\"dataframe\">\n",
       "  <thead>\n",
       "    <tr style=\"text-align: right;\">\n",
       "      <th></th>\n",
       "      <th>Extent</th>\n",
       "      <th>WaterTemp</th>\n",
       "      <th>O2ml</th>\n",
       "      <th>SiO3</th>\n",
       "      <th>NO3</th>\n",
       "      <th>LandAverageTemperature</th>\n",
       "      <th>LandAndOceanAverageTemperature</th>\n",
       "      <th>CO2</th>\n",
       "      <th>IsGMSLIncreased</th>\n",
       "      <th>GMSL</th>\n",
       "    </tr>\n",
       "    <tr>\n",
       "      <th>Date</th>\n",
       "      <th></th>\n",
       "      <th></th>\n",
       "      <th></th>\n",
       "      <th></th>\n",
       "      <th></th>\n",
       "      <th></th>\n",
       "      <th></th>\n",
       "      <th></th>\n",
       "      <th></th>\n",
       "      <th></th>\n",
       "    </tr>\n",
       "  </thead>\n",
       "  <tbody>\n",
       "    <tr>\n",
       "      <th>1969-01-01</th>\n",
       "      <td>11.412998</td>\n",
       "      <td>13.265000</td>\n",
       "      <td>5.595000</td>\n",
       "      <td>7.00000</td>\n",
       "      <td>3.250</td>\n",
       "      <td>1.966</td>\n",
       "      <td>13.518</td>\n",
       "      <td>324.00</td>\n",
       "      <td>0</td>\n",
       "      <td>-35.8</td>\n",
       "    </tr>\n",
       "    <tr>\n",
       "      <th>1969-02-01</th>\n",
       "      <td>11.419180</td>\n",
       "      <td>12.435000</td>\n",
       "      <td>5.695000</td>\n",
       "      <td>6.40000</td>\n",
       "      <td>5.200</td>\n",
       "      <td>2.450</td>\n",
       "      <td>13.747</td>\n",
       "      <td>324.42</td>\n",
       "      <td>0</td>\n",
       "      <td>-37.2</td>\n",
       "    </tr>\n",
       "    <tr>\n",
       "      <th>1969-03-01</th>\n",
       "      <td>11.425310</td>\n",
       "      <td>15.535000</td>\n",
       "      <td>5.490000</td>\n",
       "      <td>4.00000</td>\n",
       "      <td>0.300</td>\n",
       "      <td>5.131</td>\n",
       "      <td>14.576</td>\n",
       "      <td>325.64</td>\n",
       "      <td>1</td>\n",
       "      <td>-36.2</td>\n",
       "    </tr>\n",
       "    <tr>\n",
       "      <th>1969-04-01</th>\n",
       "      <td>11.431388</td>\n",
       "      <td>12.070000</td>\n",
       "      <td>5.312500</td>\n",
       "      <td>8.50000</td>\n",
       "      <td>6.400</td>\n",
       "      <td>8.576</td>\n",
       "      <td>15.518</td>\n",
       "      <td>326.66</td>\n",
       "      <td>0</td>\n",
       "      <td>-37.4</td>\n",
       "    </tr>\n",
       "    <tr>\n",
       "      <th>1969-05-01</th>\n",
       "      <td>11.437415</td>\n",
       "      <td>12.120000</td>\n",
       "      <td>5.945000</td>\n",
       "      <td>6.00000</td>\n",
       "      <td>3.700</td>\n",
       "      <td>11.354</td>\n",
       "      <td>16.329</td>\n",
       "      <td>327.34</td>\n",
       "      <td>0</td>\n",
       "      <td>-38.6</td>\n",
       "    </tr>\n",
       "    <tr>\n",
       "      <th>...</th>\n",
       "      <td>...</td>\n",
       "      <td>...</td>\n",
       "      <td>...</td>\n",
       "      <td>...</td>\n",
       "      <td>...</td>\n",
       "      <td>...</td>\n",
       "      <td>...</td>\n",
       "      <td>...</td>\n",
       "      <td>...</td>\n",
       "      <td>...</td>\n",
       "    </tr>\n",
       "    <tr>\n",
       "      <th>2013-08-01</th>\n",
       "      <td>12.338645</td>\n",
       "      <td>12.053062</td>\n",
       "      <td>5.263625</td>\n",
       "      <td>7.47125</td>\n",
       "      <td>8.925</td>\n",
       "      <td>14.742</td>\n",
       "      <td>17.462</td>\n",
       "      <td>395.20</td>\n",
       "      <td>1</td>\n",
       "      <td>71.6</td>\n",
       "    </tr>\n",
       "    <tr>\n",
       "      <th>2013-09-01</th>\n",
       "      <td>12.298467</td>\n",
       "      <td>12.200875</td>\n",
       "      <td>5.302750</td>\n",
       "      <td>6.75750</td>\n",
       "      <td>8.100</td>\n",
       "      <td>13.154</td>\n",
       "      <td>16.894</td>\n",
       "      <td>393.45</td>\n",
       "      <td>0</td>\n",
       "      <td>68.8</td>\n",
       "    </tr>\n",
       "    <tr>\n",
       "      <th>2013-10-01</th>\n",
       "      <td>13.236306</td>\n",
       "      <td>12.348688</td>\n",
       "      <td>5.341875</td>\n",
       "      <td>6.04375</td>\n",
       "      <td>7.275</td>\n",
       "      <td>10.256</td>\n",
       "      <td>15.905</td>\n",
       "      <td>393.70</td>\n",
       "      <td>0</td>\n",
       "      <td>66.4</td>\n",
       "    </tr>\n",
       "    <tr>\n",
       "      <th>2013-11-01</th>\n",
       "      <td>13.405600</td>\n",
       "      <td>12.496500</td>\n",
       "      <td>5.381000</td>\n",
       "      <td>5.33000</td>\n",
       "      <td>6.450</td>\n",
       "      <td>7.424</td>\n",
       "      <td>15.107</td>\n",
       "      <td>395.16</td>\n",
       "      <td>0</td>\n",
       "      <td>59.7</td>\n",
       "    </tr>\n",
       "    <tr>\n",
       "      <th>2013-12-01</th>\n",
       "      <td>13.066000</td>\n",
       "      <td>13.062250</td>\n",
       "      <td>5.427250</td>\n",
       "      <td>4.62625</td>\n",
       "      <td>4.275</td>\n",
       "      <td>4.724</td>\n",
       "      <td>14.339</td>\n",
       "      <td>396.84</td>\n",
       "      <td>0</td>\n",
       "      <td>58.5</td>\n",
       "    </tr>\n",
       "  </tbody>\n",
       "</table>\n",
       "<p>540 rows × 10 columns</p>\n",
       "</div>"
      ],
      "text/plain": [
       "               Extent  WaterTemp      O2ml     SiO3    NO3  \\\n",
       "Date                                                         \n",
       "1969-01-01  11.412998  13.265000  5.595000  7.00000  3.250   \n",
       "1969-02-01  11.419180  12.435000  5.695000  6.40000  5.200   \n",
       "1969-03-01  11.425310  15.535000  5.490000  4.00000  0.300   \n",
       "1969-04-01  11.431388  12.070000  5.312500  8.50000  6.400   \n",
       "1969-05-01  11.437415  12.120000  5.945000  6.00000  3.700   \n",
       "...               ...        ...       ...      ...    ...   \n",
       "2013-08-01  12.338645  12.053062  5.263625  7.47125  8.925   \n",
       "2013-09-01  12.298467  12.200875  5.302750  6.75750  8.100   \n",
       "2013-10-01  13.236306  12.348688  5.341875  6.04375  7.275   \n",
       "2013-11-01  13.405600  12.496500  5.381000  5.33000  6.450   \n",
       "2013-12-01  13.066000  13.062250  5.427250  4.62625  4.275   \n",
       "\n",
       "            LandAverageTemperature  LandAndOceanAverageTemperature     CO2  \\\n",
       "Date                                                                         \n",
       "1969-01-01                   1.966                          13.518  324.00   \n",
       "1969-02-01                   2.450                          13.747  324.42   \n",
       "1969-03-01                   5.131                          14.576  325.64   \n",
       "1969-04-01                   8.576                          15.518  326.66   \n",
       "1969-05-01                  11.354                          16.329  327.34   \n",
       "...                            ...                             ...     ...   \n",
       "2013-08-01                  14.742                          17.462  395.20   \n",
       "2013-09-01                  13.154                          16.894  393.45   \n",
       "2013-10-01                  10.256                          15.905  393.70   \n",
       "2013-11-01                   7.424                          15.107  395.16   \n",
       "2013-12-01                   4.724                          14.339  396.84   \n",
       "\n",
       "            IsGMSLIncreased  GMSL  \n",
       "Date                               \n",
       "1969-01-01                0 -35.8  \n",
       "1969-02-01                0 -37.2  \n",
       "1969-03-01                1 -36.2  \n",
       "1969-04-01                0 -37.4  \n",
       "1969-05-01                0 -38.6  \n",
       "...                     ...   ...  \n",
       "2013-08-01                1  71.6  \n",
       "2013-09-01                0  68.8  \n",
       "2013-10-01                0  66.4  \n",
       "2013-11-01                0  59.7  \n",
       "2013-12-01                0  58.5  \n",
       "\n",
       "[540 rows x 10 columns]"
      ]
     },
     "execution_count": 158,
     "metadata": {},
     "output_type": "execute_result"
    }
   ],
   "source": [
    "data['Date'] = pd.to_datetime(data['Date'], format='%Y-%m-%d %H:%M:%S')\n",
    "data = data.set_index('Date')\n",
    "data = data.asfreq('MS')\n",
    "data = data.sort_index()\n",
    "data"
   ]
  },
  {
   "cell_type": "code",
   "execution_count": 159,
   "id": "52e88e23",
   "metadata": {},
   "outputs": [
    {
     "name": "stdout",
     "output_type": "stream",
     "text": [
      "Dates train      : 1969-01-01 00:00:00 --- 2008-12-01 00:00:00  (n=480)\n",
      "Dates validacion : 2008-12-01 00:00:00 --- 2011-12-01 00:00:00  (n=37)\n",
      "Dates test       : 2011-12-01 00:00:00 --- 2013-12-01 00:00:00  (n=25)\n"
     ]
    }
   ],
   "source": [
    "# Split train-val-test\n",
    "# ==============================================================================\n",
    "end_train = '2008-12-01'\n",
    "end_validation = '2011-12-01'\n",
    "data_train = data.loc[: end_train, :]\n",
    "data_val   = data.loc[end_train:end_validation, :]\n",
    "data_test  = data.loc[end_validation:, :]\n",
    "\n",
    "print(f\"Dates train      : {data_train.index.min()} --- {data_train.index.max()}  (n={len(data_train)})\")\n",
    "print(f\"Dates validacion : {data_val.index.min()} --- {data_val.index.max()}  (n={len(data_val)})\")\n",
    "print(f\"Dates test       : {data_test.index.min()} --- {data_test.index.max()}  (n={len(data_test)})\")"
   ]
  },
  {
   "cell_type": "code",
   "execution_count": 160,
   "id": "c20c3bba",
   "metadata": {},
   "outputs": [
    {
     "data": {
      "text/plain": [
       "<matplotlib.legend.Legend at 0x7fd1909b7460>"
      ]
     },
     "execution_count": 160,
     "metadata": {},
     "output_type": "execute_result"
    },
    {
     "data": {
      "image/png": "[encoded data removed]",
      "text/plain": [
       "<Figure size 792x288 with 1 Axes>"
      ]
     },
     "metadata": {
      "needs_background": "light"
     },
     "output_type": "display_data"
    }
   ],
   "source": [
    "fig, ax = plt.subplots(figsize=(11, 4))\n",
    "data_train['GMSL'].plot(ax=ax, label='train')\n",
    "data_val['GMSL'].plot(ax=ax, label='validation')\n",
    "data_test['GMSL'].plot(ax=ax, label='test')\n",
    "ax.set_title('GMSL')\n",
    "ax.legend()"
   ]
  },
  {
   "cell_type": "code",
   "execution_count": 161,
   "id": "1cc64a1a",
   "metadata": {},
   "outputs": [
    {
     "data": {
      "application/vnd.plotly.v1+json": {
       "config": {
        "plotlyServerURL": "https://plot.ly"
       },
       "data": [
        {
         "hovertemplate": "partition=train<br>Date=%{x}<br>GMSL=%{y}<extra></extra>",
         "legendgroup": "train",
         "line": {
          "color": "#636efa",
          "dash": "solid"
         },
         "marker": {
          "symbol": "circle"
         },
         "mode": "lines",
         "name": "train",
         "orientation": "v",
         "showlegend": true,
         "type": "scatter",
         "x": [
          "1969-01-01T00:00:00",
          "1969-02-01T00:00:00",
          "1969-03-01T00:00:00",
          "1969-04-01T00:00:00",
          "1969-05-01T00:00:00",
          "1969-06-01T00:00:00",
          "1969-07-01T00:00:00",
          "1969-08-01T00:00:00",
          "1969-09-01T00:00:00",
          "1969-10-01T00:00:00",
          "1969-11-01T00:00:00",
          "1969-12-01T00:00:00",
          "1970-01-01T00:00:00",
          "1970-02-01T00:00:00",
          "1970-03-01T00:00:00",
          "1970-04-01T00:00:00",
          "1970-05-01T00:00:00",
          "1970-06-01T00:00:00",
          "1970-07-01T00:00:00",
          "1970-08-01T00:00:00",
          "1970-09-01T00:00:00",
          "1970-10-01T00:00:00",
          "1970-11-01T00:00:00",
          "1970-12-01T00:00:00",
          "1971-01-01T00:00:00",
          "1971-02-01T00:00:00",
          "1971-03-01T00:00:00",
          "1971-04-01T00:00:00",
          "1971-05-01T00:00:00",
          "1971-06-01T00:00:00",
          "1971-07-01T00:00:00",
          "1971-08-01T00:00:00",
          "1971-09-01T00:00:00",
          "1971-10-01T00:00:00",
          "1971-11-01T00:00:00",
          "1971-12-01T00:00:00",
          "1972-01-01T00:00:00",
          "1972-02-01T00:00:00",
          "1972-03-01T00:00:00",
          "1972-04-01T00:00:00",
          "1972-05-01T00:00:00",
          "1972-06-01T00:00:00",
          "1972-07-01T00:00:00",
          "1972-08-01T00:00:00",
          "1972-09-01T00:00:00",
          "1972-10-01T00:00:00",
          "1972-11-01T00:00:00",
          "1972-12-01T00:00:00",
          "1973-01-01T00:00:00",
          "1973-02-01T00:00:00",
          "1973-03-01T00:00:00",
          "1973-04-01T00:00:00",
          "1973-05-01T00:00:00",
          "1973-06-01T00:00:00",
          "1973-07-01T00:00:00",
          "1973-08-01T00:00:00",
          "1973-09-01T00:00:00",
          "1973-10-01T00:00:00",
          "1973-11-01T00:00:00",
          "1973-12-01T00:00:00",
          "1974-01-01T00:00:00",
          "1974-02-01T00:00:00",
          "1974-03-01T00:00:00",
          "1974-04-01T00:00:00",
          "1974-05-01T00:00:00",
          "1974-06-01T00:00:00",
          "1974-07-01T00:00:00",
          "1974-08-01T00:00:00",
          "1974-09-01T00:00:00",
          "1974-10-01T00:00:00",
          "1974-11-01T00:00:00",
          "1974-12-01T00:00:00",
          "1975-01-01T00:00:00",
          "1975-02-01T00:00:00",
          "1975-03-01T00:00:00",
          "1975-04-01T00:00:00",
          "1975-05-01T00:00:00",
          "1975-06-01T00:00:00",
          "1975-07-01T00:00:00",
          "1975-08-01T00:00:00",
          "1975-09-01T00:00:00",
          "1975-10-01T00:00:00",
          "1975-11-01T00:00:00",
          "1975-12-01T00:00:00",
          "1976-01-01T00:00:00",
          "1976-02-01T00:00:00",
          "1976-03-01T00:00:00",
          "1976-04-01T00:00:00",
          "1976-05-01T00:00:00",
          "1976-06-01T00:00:00",
          "1976-07-01T00:00:00",
          "1976-08-01T00:00:00",
          "1976-09-01T00:00:00",
          "1976-10-01T00:00:00",
          "1976-11-01T00:00:00",
          "1976-12-01T00:00:00",
          "1977-01-01T00:00:00",
          "1977-02-01T00:00:00",
          "1977-03-01T00:00:00",
          "1977-04-01T00:00:00",
          "1977-05-01T00:00:00",
          "1977-06-01T00:00:00",
          "1977-07-01T00:00:00",
          "1977-08-01T00:00:00",
          "1977-09-01T00:00:00",
          "1977-10-01T00:00:00",
          "1977-11-01T00:00:00",
          "1977-12-01T00:00:00",
          "1978-01-01T00:00:00",
          "1978-02-01T00:00:00",
          "1978-03-01T00:00:00",
          "1978-04-01T00:00:00",
          "1978-05-01T00:00:00",
          "1978-06-01T00:00:00",
          "1978-07-01T00:00:00",
          "1978-08-01T00:00:00",
          "1978-09-01T00:00:00",
          "1978-10-01T00:00:00",
          "1978-11-01T00:00:00",
          "1978-12-01T00:00:00",
          "1979-01-01T00:00:00",
          "1979-02-01T00:00:00",
          "1979-03-01T00:00:00",
          "1979-04-01T00:00:00",
          "1979-05-01T00:00:00",
          "1979-06-01T00:00:00",
          "1979-07-01T00:00:00",
          "1979-08-01T00:00:00",
          "1979-09-01T00:00:00",
          "1979-10-01T00:00:00",
          "1979-11-01T00:00:00",
          "1979-12-01T00:00:00",
          "1980-01-01T00:00:00",
          "1980-02-01T00:00:00",
          "1980-03-01T00:00:00",
          "1980-04-01T00:00:00",
          "1980-05-01T00:00:00",
          "1980-06-01T00:00:00",
          "1980-07-01T00:00:00",
          "1980-08-01T00:00:00",
          "1980-09-01T00:00:00",
          "1980-10-01T00:00:00",
          "1980-11-01T00:00:00",
          "1980-12-01T00:00:00",
          "1981-01-01T00:00:00",
          "1981-02-01T00:00:00",
          "1981-03-01T00:00:00",
          "1981-04-01T00:00:00",
          "1981-05-01T00:00:00",
          "1981-06-01T00:00:00",
          "1981-07-01T00:00:00",
          "1981-08-01T00:00:00",
          "1981-09-01T00:00:00",
          "1981-10-01T00:00:00",
          "1981-11-01T00:00:00",
          "1981-12-01T00:00:00",
          "1982-01-01T00:00:00",
          "1982-02-01T00:00:00",
          "1982-03-01T00:00:00",
          "1982-04-01T00:00:00",
          "1982-05-01T00:00:00",
          "1982-06-01T00:00:00",
          "1982-07-01T00:00:00",
          "1982-08-01T00:00:00",
          "1982-09-01T00:00:00",
          "1982-10-01T00:00:00",
          "1982-11-01T00:00:00",
          "1982-12-01T00:00:00",
          "1983-01-01T00:00:00",
          "1983-02-01T00:00:00",
          "1983-03-01T00:00:00",
          "1983-04-01T00:00:00",
          "1983-05-01T00:00:00",
          "1983-06-01T00:00:00",
          "1983-07-01T00:00:00",
          "1983-08-01T00:00:00",
          "1983-09-01T00:00:00",
          "1983-10-01T00:00:00",
          "1983-11-01T00:00:00",
          "1983-12-01T00:00:00",
          "1984-01-01T00:00:00",
          "1984-02-01T00:00:00",
          "1984-03-01T00:00:00",
          "1984-04-01T00:00:00",
          "1984-05-01T00:00:00",
          "1984-06-01T00:00:00",
          "1984-07-01T00:00:00",
          "1984-08-01T00:00:00",
          "1984-09-01T00:00:00",
          "1984-10-01T00:00:00",
          "1984-11-01T00:00:00",
          "1984-12-01T00:00:00",
          "1985-01-01T00:00:00",
          "1985-02-01T00:00:00",
          "1985-03-01T00:00:00",
          "1985-04-01T00:00:00",
          "1985-05-01T00:00:00",
          "1985-06-01T00:00:00",
          "1985-07-01T00:00:00",
          "1985-08-01T00:00:00",
          "1985-09-01T00:00:00",
          "1985-10-01T00:00:00",
          "1985-11-01T00:00:00",
          "1985-12-01T00:00:00",
          "1986-01-01T00:00:00",
          "1986-02-01T00:00:00",
          "1986-03-01T00:00:00",
          "1986-04-01T00:00:00",
          "1986-05-01T00:00:00",
          "1986-06-01T00:00:00",
          "1986-07-01T00:00:00",
          "1986-08-01T00:00:00",
          "1986-09-01T00:00:00",
          "1986-10-01T00:00:00",
          "1986-11-01T00:00:00",
          "1986-12-01T00:00:00",
          "1987-01-01T00:00:00",
          "1987-02-01T00:00:00",
          "1987-03-01T00:00:00",
          "1987-04-01T00:00:00",
          "1987-05-01T00:00:00",
          "1987-06-01T00:00:00",
          "1987-07-01T00:00:00",
          "1987-08-01T00:00:00",
          "1987-09-01T00:00:00",
          "1987-10-01T00:00:00",
          "1987-11-01T00:00:00",
          "1987-12-01T00:00:00",
          "1988-01-01T00:00:00",
          "1988-02-01T00:00:00",
          "1988-03-01T00:00:00",
          "1988-04-01T00:00:00",
          "1988-05-01T00:00:00",
          "1988-06-01T00:00:00",
          "1988-07-01T00:00:00",
          "1988-08-01T00:00:00",
          "1988-09-01T00:00:00",
          "1988-10-01T00:00:00",
          "1988-11-01T00:00:00",
          "1988-12-01T00:00:00",
          "1989-01-01T00:00:00",
          "1989-02-01T00:00:00",
          "1989-03-01T00:00:00",
          "1989-04-01T00:00:00",
          "1989-05-01T00:00:00",
          "1989-06-01T00:00:00",
          "1989-07-01T00:00:00",
          "1989-08-01T00:00:00",
          "1989-09-01T00:00:00",
          "1989-10-01T00:00:00",
          "1989-11-01T00:00:00",
          "1989-12-01T00:00:00",
          "1990-01-01T00:00:00",
          "1990-02-01T00:00:00",
          "1990-03-01T00:00:00",
          "1990-04-01T00:00:00",
          "1990-05-01T00:00:00",
          "1990-06-01T00:00:00",
          "1990-07-01T00:00:00",
          "1990-08-01T00:00:00",
          "1990-09-01T00:00:00",
          "1990-10-01T00:00:00",
          "1990-11-01T00:00:00",
          "1990-12-01T00:00:00",
          "1991-01-01T00:00:00",
          "1991-02-01T00:00:00",
          "1991-03-01T00:00:00",
          "1991-04-01T00:00:00",
          "1991-05-01T00:00:00",
          "1991-06-01T00:00:00",
          "1991-07-01T00:00:00",
          "1991-08-01T00:00:00",
          "1991-09-01T00:00:00",
          "1991-10-01T00:00:00",
          "1991-11-01T00:00:00",
          "1991-12-01T00:00:00",
          "1992-01-01T00:00:00",
          "1992-02-01T00:00:00",
          "1992-03-01T00:00:00",
          "1992-04-01T00:00:00",
          "1992-05-01T00:00:00",
          "1992-06-01T00:00:00",
          "1992-07-01T00:00:00",
          "1992-08-01T00:00:00",
          "1992-09-01T00:00:00",
          "1992-10-01T00:00:00",
          "1992-11-01T00:00:00",
          "1992-12-01T00:00:00",
          "1993-01-01T00:00:00",
          "1993-02-01T00:00:00",
          "1993-03-01T00:00:00",
          "1993-04-01T00:00:00",
          "1993-05-01T00:00:00",
          "1993-06-01T00:00:00",
          "1993-07-01T00:00:00",
          "1993-08-01T00:00:00",
          "1993-09-01T00:00:00",
          "1993-10-01T00:00:00",
          "1993-11-01T00:00:00",
          "1993-12-01T00:00:00",
          "1994-01-01T00:00:00",
          "1994-02-01T00:00:00",
          "1994-03-01T00:00:00",
          "1994-04-01T00:00:00",
          "1994-05-01T00:00:00",
          "1994-06-01T00:00:00",
          "1994-07-01T00:00:00",
          "1994-08-01T00:00:00",
          "1994-09-01T00:00:00",
          "1994-10-01T00:00:00",
          "1994-11-01T00:00:00",
          "1994-12-01T00:00:00",
          "1995-01-01T00:00:00",
          "1995-02-01T00:00:00",
          "1995-03-01T00:00:00",
          "1995-04-01T00:00:00",
          "1995-05-01T00:00:00",
          "1995-06-01T00:00:00",
          "1995-07-01T00:00:00",
          "1995-08-01T00:00:00",
          "1995-09-01T00:00:00",
          "1995-10-01T00:00:00",
          "1995-11-01T00:00:00",
          "1995-12-01T00:00:00",
          "1996-01-01T00:00:00",
          "1996-02-01T00:00:00",
          "1996-03-01T00:00:00",
          "1996-04-01T00:00:00",
          "1996-05-01T00:00:00",
          "1996-06-01T00:00:00",
          "1996-07-01T00:00:00",
          "1996-08-01T00:00:00",
          "1996-09-01T00:00:00",
          "1996-10-01T00:00:00",
          "1996-11-01T00:00:00",
          "1996-12-01T00:00:00",
          "1997-01-01T00:00:00",
          "1997-02-01T00:00:00",
          "1997-03-01T00:00:00",
          "1997-04-01T00:00:00",
          "1997-05-01T00:00:00",
          "1997-06-01T00:00:00",
          "1997-07-01T00:00:00",
          "1997-08-01T00:00:00",
          "1997-09-01T00:00:00",
          "1997-10-01T00:00:00",
          "1997-11-01T00:00:00",
          "1997-12-01T00:00:00",
          "1998-01-01T00:00:00",
          "1998-02-01T00:00:00",
          "1998-03-01T00:00:00",
          "1998-04-01T00:00:00",
          "1998-05-01T00:00:00",
          "1998-06-01T00:00:00",
          "1998-07-01T00:00:00",
          "1998-08-01T00:00:00",
          "1998-09-01T00:00:00",
          "1998-10-01T00:00:00",
          "1998-11-01T00:00:00",
          "1998-12-01T00:00:00",
          "1999-01-01T00:00:00",
          "1999-02-01T00:00:00",
          "1999-03-01T00:00:00",
          "1999-04-01T00:00:00",
          "1999-05-01T00:00:00",
          "1999-06-01T00:00:00",
          "1999-07-01T00:00:00",
          "1999-08-01T00:00:00",
          "1999-09-01T00:00:00",
          "1999-10-01T00:00:00",
          "1999-11-01T00:00:00",
          "1999-12-01T00:00:00",
          "2000-01-01T00:00:00",
          "2000-02-01T00:00:00",
          "2000-03-01T00:00:00",
          "2000-04-01T00:00:00",
          "2000-05-01T00:00:00",
          "2000-06-01T00:00:00",
          "2000-07-01T00:00:00",
          "2000-08-01T00:00:00",
          "2000-09-01T00:00:00",
          "2000-10-01T00:00:00",
          "2000-11-01T00:00:00",
          "2000-12-01T00:00:00",
          "2001-01-01T00:00:00",
          "2001-02-01T00:00:00",
          "2001-03-01T00:00:00",
          "2001-04-01T00:00:00",
          "2001-05-01T00:00:00",
          "2001-06-01T00:00:00",
          "2001-07-01T00:00:00",
          "2001-08-01T00:00:00",
          "2001-09-01T00:00:00",
          "2001-10-01T00:00:00",
          "2001-11-01T00:00:00",
          "2001-12-01T00:00:00",
          "2002-01-01T00:00:00",
          "2002-02-01T00:00:00",
          "2002-03-01T00:00:00",
          "2002-04-01T00:00:00",
          "2002-05-01T00:00:00",
          "2002-06-01T00:00:00",
          "2002-07-01T00:00:00",
          "2002-08-01T00:00:00",
          "2002-09-01T00:00:00",
          "2002-10-01T00:00:00",
          "2002-11-01T00:00:00",
          "2002-12-01T00:00:00",
          "2003-01-01T00:00:00",
          "2003-02-01T00:00:00",
          "2003-03-01T00:00:00",
          "2003-04-01T00:00:00",
          "2003-05-01T00:00:00",
          "2003-06-01T00:00:00",
          "2003-07-01T00:00:00",
          "2003-08-01T00:00:00",
          "2003-09-01T00:00:00",
          "2003-10-01T00:00:00",
          "2003-11-01T00:00:00",
          "2003-12-01T00:00:00",
          "2004-01-01T00:00:00",
          "2004-02-01T00:00:00",
          "2004-03-01T00:00:00",
          "2004-04-01T00:00:00",
          "2004-05-01T00:00:00",
          "2004-06-01T00:00:00",
          "2004-07-01T00:00:00",
          "2004-08-01T00:00:00",
          "2004-09-01T00:00:00",
          "2004-10-01T00:00:00",
          "2004-11-01T00:00:00",
          "2004-12-01T00:00:00",
          "2005-01-01T00:00:00",
          "2005-02-01T00:00:00",
          "2005-03-01T00:00:00",
          "2005-04-01T00:00:00",
          "2005-05-01T00:00:00",
          "2005-06-01T00:00:00",
          "2005-07-01T00:00:00",
          "2005-08-01T00:00:00",
          "2005-09-01T00:00:00",
          "2005-10-01T00:00:00",
          "2005-11-01T00:00:00",
          "2005-12-01T00:00:00",
          "2006-01-01T00:00:00",
          "2006-02-01T00:00:00",
          "2006-03-01T00:00:00",
          "2006-04-01T00:00:00",
          "2006-05-01T00:00:00",
          "2006-06-01T00:00:00",
          "2006-07-01T00:00:00",
          "2006-08-01T00:00:00",
          "2006-09-01T00:00:00",
          "2006-10-01T00:00:00",
          "2006-11-01T00:00:00",
          "2006-12-01T00:00:00",
          "2007-01-01T00:00:00",
          "2007-02-01T00:00:00",
          "2007-03-01T00:00:00",
          "2007-04-01T00:00:00",
          "2007-05-01T00:00:00",
          "2007-06-01T00:00:00",
          "2007-07-01T00:00:00",
          "2007-08-01T00:00:00",
          "2007-09-01T00:00:00",
          "2007-10-01T00:00:00",
          "2007-11-01T00:00:00",
          "2007-12-01T00:00:00",
          "2008-01-01T00:00:00",
          "2008-02-01T00:00:00",
          "2008-03-01T00:00:00",
          "2008-04-01T00:00:00",
          "2008-05-01T00:00:00",
          "2008-06-01T00:00:00",
          "2008-07-01T00:00:00",
          "2008-08-01T00:00:00",
          "2008-09-01T00:00:00",
          "2008-10-01T00:00:00",
          "2008-11-01T00:00:00"
         ],
         "xaxis": "x",
         "y": [
          -35.8,
          -37.2,
          -36.2,
          -37.4,
          -38.6,
          -39.1,
          -41.1,
          -38.9,
          -37.9,
          -36.5,
          -37.9,
          -39.4,
          -38.8,
          -37.6,
          -38.2,
          -41.1,
          -41.3,
          -41,
          -42.6,
          -41.9,
          -42.4,
          -38.7,
          -38.6,
          -37.1,
          -34.9,
          -31.7,
          -30.7,
          -31.4,
          -35.2,
          -37.7,
          -38.5,
          -36.5,
          -33.1,
          -33.5,
          -35.9,
          -37.6,
          -34,
          -29.2,
          -25.3,
          -24.6,
          -22.6,
          -20.2,
          -19.1,
          -23.1,
          -25.7,
          -27.9,
          -26.9,
          -28.5,
          -33.2,
          -33.6,
          -34.6,
          -31.7,
          -33.8,
          -32.7,
          -34.4,
          -34.4,
          -34.5,
          -31.6,
          -24.7,
          -19.9,
          -15.4,
          -16.5,
          -17.6,
          -17.4,
          -17.7,
          -18.3,
          -20.4,
          -22.1,
          -23,
          -23.8,
          -22.6,
          -21.8,
          -21.1,
          -20.2,
          -18.7,
          -20,
          -21.3,
          -23.4,
          -23.4,
          -22,
          -21.3,
          -20.7,
          -20.5,
          -22.7,
          -22.9,
          -25.7,
          -24.4,
          -23.2,
          -22.5,
          -20.4,
          -21.6,
          -23.5,
          -22.2,
          -22.6,
          -19.7,
          -19.5,
          -20.9,
          -23.6,
          -25.4,
          -27.6,
          -27.1,
          -26.5,
          -25.5,
          -24.8,
          -23.8,
          -23.1,
          -21,
          -18.3,
          -15.7,
          -12,
          -13,
          -13.3,
          -17,
          -18.5,
          -19.9,
          -18.3,
          -18,
          -17.7,
          -22.2,
          -25.2,
          -28,
          -26.9,
          -25.8,
          -26.1,
          -27.5,
          -27.1,
          -24.7,
          -19.9,
          -17.3,
          -14.9,
          -17.2,
          -15,
          -15.2,
          -14.1,
          -16.1,
          -15.8,
          -16.1,
          -16.7,
          -19.2,
          -21,
          -21,
          -19.2,
          -14,
          -9.9,
          -7.8,
          -6.8,
          -5,
          -4,
          -2.7,
          -2.2,
          -3.9,
          -3.1,
          -4.1,
          -2,
          -2.9,
          -4.4,
          -8.2,
          -9.3,
          -10.6,
          -13.1,
          -13.5,
          -14.7,
          -15.8,
          -14.4,
          -10.3,
          -4.7,
          -2.1,
          -1.6,
          0.2,
          -0.5,
          1.1,
          4.3,
          7.5,
          6,
          1.8,
          -5.9,
          -6.7,
          -9.7,
          -6.8,
          -8.9,
          -7.5,
          -6.3,
          -3,
          -2.2,
          -1.2,
          1,
          0.6,
          2,
          -0.2,
          -1.1,
          -4.4,
          -6.4,
          -10.4,
          -9.5,
          -11.7,
          -11.7,
          -13.5,
          -13.1,
          -13.7,
          -15.4,
          -14.6,
          -13.9,
          -12.5,
          -12.2,
          -10.8,
          -9.7,
          -10.3,
          -10.5,
          -11.8,
          -11,
          -13.3,
          -12.5,
          -13.5,
          -13.9,
          -14.3,
          -13.1,
          -11.2,
          -8.5,
          -10.8,
          -12.4,
          -10.9,
          -9.3,
          -8.2,
          -13.5,
          -15.3,
          -16.7,
          -12.1,
          -8.6,
          -9.1,
          -7.8,
          -9.9,
          -8.2,
          -8.1,
          -6.6,
          -6.4,
          -4.8,
          -3.3,
          -2.6,
          -4.9,
          -9.4,
          -9.4,
          -8,
          -2.4,
          -1.6,
          -1.1,
          -3,
          -2.7,
          -1,
          0.3,
          0.6,
          1.1,
          -0.6,
          -0.2,
          -2.6,
          -4.4,
          -3.9,
          -4.1,
          0,
          -0.2,
          2.8,
          3,
          3.8,
          4.3,
          1.6,
          3,
          3.7,
          5,
          1.4,
          -1,
          -1.4,
          1,
          3.6,
          3.8,
          4.1,
          4,
          2.9,
          5,
          6,
          4.6,
          3.1,
          0.6,
          1,
          0.3,
          0.6,
          2.2,
          5.5,
          5.1,
          4,
          2.7,
          3.8,
          6.3,
          8.3,
          8.6,
          4.3,
          0.6,
          -2.4,
          -5.3,
          -4.1,
          -5.2,
          -0.6,
          3.4,
          4,
          6,
          5.1,
          7.4,
          6.4,
          9,
          8.3,
          8,
          7.6,
          5.9,
          7.8,
          8.6,
          9.7,
          10.4,
          8.6,
          7.7,
          6.6,
          7.9,
          7.3,
          8.6,
          10.1,
          12.5,
          16.3,
          16.2,
          16.1,
          11.1,
          8.4,
          7.5,
          7.1,
          13,
          15.6,
          20.7,
          18.1,
          16,
          14.2,
          16.5,
          19.2,
          22.8,
          23.1,
          22.7,
          22.2,
          17.6,
          17.7,
          16.9,
          22.1,
          22,
          23.9,
          20.4,
          16.4,
          11.5,
          7.1,
          6.5,
          7.2,
          9.5,
          10.1,
          11.6,
          9.9,
          8.9,
          8.9,
          12.5,
          15.8,
          20.7,
          19.9,
          21.9,
          21.3,
          23.2,
          22.7,
          22.2,
          20.3,
          16.2,
          14,
          12.8,
          15.5,
          19.4,
          22.2,
          26.2,
          25.9,
          27.1,
          22.4,
          20,
          16.7,
          17.8,
          19.8,
          23.8,
          24.2,
          27,
          24.8,
          25.3,
          25.7,
          27.1,
          29.8,
          29.9,
          27.6,
          24.5,
          22.1,
          23.1,
          24.3,
          25.9,
          24.9,
          26.5,
          29.2,
          29.4,
          28.5,
          30,
          31.4,
          34.2,
          32.9,
          31.8,
          30.2,
          29.3,
          33.5,
          35.9,
          40,
          40,
          42.4,
          43.6,
          44.3,
          41,
          39.3,
          36.3,
          33.4,
          33.9,
          34.9,
          39.2,
          41.5,
          40.4,
          41.6,
          38.6,
          37.3,
          34.5,
          34.6,
          36.6,
          37.2,
          36.2,
          36.4,
          37.9,
          40,
          40.7,
          39.7,
          36.6,
          36,
          34.7,
          35.5,
          35.2,
          37.8,
          43,
          44.7,
          43.4,
          40.8,
          40.3,
          42.2,
          43.5,
          44.6,
          44.2,
          39.1,
          35.6,
          31.4,
          34.3,
          38.3,
          45.5,
          49.1,
          50.5,
          50.5,
          47.9,
          46.5,
          46.8,
          45.4,
          46.5,
          46.1,
          52.5,
          56.3,
          60.1,
          60.1,
          59.3,
          55,
          50.9,
          46.8,
          46.8
         ],
         "yaxis": "y"
        },
        {
         "hovertemplate": "partition=validation<br>Date=%{x}<br>GMSL=%{y}<extra></extra>",
         "legendgroup": "validation",
         "line": {
          "color": "#EF553B",
          "dash": "solid"
         },
         "marker": {
          "symbol": "circle"
         },
         "mode": "lines",
         "name": "validation",
         "orientation": "v",
         "showlegend": true,
         "type": "scatter",
         "x": [
          "2008-12-01T00:00:00",
          "2009-01-01T00:00:00",
          "2009-02-01T00:00:00",
          "2009-03-01T00:00:00",
          "2009-04-01T00:00:00",
          "2009-05-01T00:00:00",
          "2009-06-01T00:00:00",
          "2009-07-01T00:00:00",
          "2009-08-01T00:00:00",
          "2009-09-01T00:00:00",
          "2009-10-01T00:00:00",
          "2009-11-01T00:00:00",
          "2009-12-01T00:00:00",
          "2010-01-01T00:00:00",
          "2010-02-01T00:00:00",
          "2010-03-01T00:00:00",
          "2010-04-01T00:00:00",
          "2010-05-01T00:00:00",
          "2010-06-01T00:00:00",
          "2010-07-01T00:00:00",
          "2010-08-01T00:00:00",
          "2010-09-01T00:00:00",
          "2010-10-01T00:00:00",
          "2010-11-01T00:00:00",
          "2010-12-01T00:00:00",
          "2011-01-01T00:00:00",
          "2011-02-01T00:00:00",
          "2011-03-01T00:00:00",
          "2011-04-01T00:00:00",
          "2011-05-01T00:00:00",
          "2011-06-01T00:00:00",
          "2011-07-01T00:00:00",
          "2011-08-01T00:00:00",
          "2011-09-01T00:00:00",
          "2011-10-01T00:00:00",
          "2011-11-01T00:00:00"
         ],
         "xaxis": "x",
         "y": [
          46,
          47.5,
          46.8,
          49,
          50.2,
          55.6,
          59.6,
          62.7,
          62.9,
          63.6,
          63.9,
          65.6,
          68.8,
          67.6,
          67.6,
          63.2,
          65,
          61.7,
          61.8,
          61,
          63.3,
          65.2,
          68.7,
          71.1,
          72.8,
          70.4,
          68.5,
          67.2,
          70.6,
          72.6,
          73.2,
          72.1,
          69.3,
          67,
          62.6,
          58.7
         ],
         "yaxis": "y"
        },
        {
         "hovertemplate": "partition=test<br>Date=%{x}<br>GMSL=%{y}<extra></extra>",
         "legendgroup": "test",
         "line": {
          "color": "#00cc96",
          "dash": "solid"
         },
         "marker": {
          "symbol": "circle"
         },
         "mode": "lines",
         "name": "test",
         "orientation": "v",
         "showlegend": true,
         "type": "scatter",
         "x": [
          "2011-12-01T00:00:00",
          "2012-01-01T00:00:00",
          "2012-02-01T00:00:00",
          "2012-03-01T00:00:00",
          "2012-04-01T00:00:00",
          "2012-05-01T00:00:00",
          "2012-06-01T00:00:00",
          "2012-07-01T00:00:00",
          "2012-08-01T00:00:00",
          "2012-09-01T00:00:00",
          "2012-10-01T00:00:00",
          "2012-11-01T00:00:00",
          "2012-12-01T00:00:00",
          "2013-01-01T00:00:00",
          "2013-02-01T00:00:00",
          "2013-03-01T00:00:00",
          "2013-04-01T00:00:00",
          "2013-05-01T00:00:00",
          "2013-06-01T00:00:00",
          "2013-07-01T00:00:00",
          "2013-08-01T00:00:00",
          "2013-09-01T00:00:00",
          "2013-10-01T00:00:00",
          "2013-11-01T00:00:00",
          "2013-12-01T00:00:00"
         ],
         "xaxis": "x",
         "y": [
          55.4,
          58.5,
          63.8,
          72.5,
          80.4,
          82,
          82.4,
          78.1,
          78.8,
          78.6,
          80.8,
          79.4,
          77.7,
          70.5,
          65.7,
          67,
          69.8,
          72,
          71.5,
          71.2,
          71.6,
          68.8,
          66.4,
          59.7,
          58.5
         ],
         "yaxis": "y"
        }
       ],
       "layout": {
        "height": 500,
        "legend": {
         "title": {
          "text": "partition"
         },
         "tracegroupgap": 0
        },
        "template": {
         "data": {
          "bar": [
           {
            "error_x": {
             "color": "#2a3f5f"
            },
            "error_y": {
             "color": "#2a3f5f"
            },
            "marker": {
             "line": {
              "color": "#E5ECF6",
              "width": 0.5
             },
             "pattern": {
              "fillmode": "overlay",
              "size": 10,
              "solidity": 0.2
             }
            },
            "type": "bar"
           }
          ],
          "barpolar": [
           {
            "marker": {
             "line": {
              "color": "#E5ECF6",
              "width": 0.5
             },
             "pattern": {
              "fillmode": "overlay",
              "size": 10,
              "solidity": 0.2
             }
            },
            "type": "barpolar"
           }
          ],
          "carpet": [
           {
            "aaxis": {
             "endlinecolor": "#2a3f5f",
             "gridcolor": "white",
             "linecolor": "white",
             "minorgridcolor": "white",
             "startlinecolor": "#2a3f5f"
            },
            "baxis": {
             "endlinecolor": "#2a3f5f",
             "gridcolor": "white",
             "linecolor": "white",
             "minorgridcolor": "white",
             "startlinecolor": "#2a3f5f"
            },
            "type": "carpet"
           }
          ],
          "choropleth": [
           {
            "colorbar": {
             "outlinewidth": 0,
             "ticks": ""
            },
            "type": "choropleth"
           }
          ],
          "contour": [
           {
            "colorbar": {
             "outlinewidth": 0,
             "ticks": ""
            },
            "colorscale": [
             [
              0,
              "#0d0887"
             ],
             [
              0.1111111111111111,
              "#46039f"
             ],
             [
              0.2222222222222222,
              "#7201a8"
             ],
             [
              0.3333333333333333,
              "#9c179e"
             ],
             [
              0.4444444444444444,
              "#bd3786"
             ],
             [
              0.5555555555555556,
              "#d8576b"
             ],
             [
              0.6666666666666666,
              "#ed7953"
             ],
             [
              0.7777777777777778,
              "#fb9f3a"
             ],
             [
              0.8888888888888888,
              "#fdca26"
             ],
             [
              1,
              "#f0f921"
             ]
            ],
            "type": "contour"
           }
          ],
          "contourcarpet": [
           {
            "colorbar": {
             "outlinewidth": 0,
             "ticks": ""
            },
            "type": "contourcarpet"
           }
          ],
          "heatmap": [
           {
            "colorbar": {
             "outlinewidth": 0,
             "ticks": ""
            },
            "colorscale": [
             [
              0,
              "#0d0887"
             ],
             [
              0.1111111111111111,
              "#46039f"
             ],
             [
              0.2222222222222222,
              "#7201a8"
             ],
             [
              0.3333333333333333,
              "#9c179e"
             ],
             [
              0.4444444444444444,
              "#bd3786"
             ],
             [
              0.5555555555555556,
              "#d8576b"
             ],
             [
              0.6666666666666666,
              "#ed7953"
             ],
             [
              0.7777777777777778,
              "#fb9f3a"
             ],
             [
              0.8888888888888888,
              "#fdca26"
             ],
             [
              1,
              "#f0f921"
             ]
            ],
            "type": "heatmap"
           }
          ],
          "heatmapgl": [
           {
            "colorbar": {
             "outlinewidth": 0,
             "ticks": ""
            },
            "colorscale": [
             [
              0,
              "#0d0887"
             ],
             [
              0.1111111111111111,
              "#46039f"
             ],
             [
              0.2222222222222222,
              "#7201a8"
             ],
             [
              0.3333333333333333,
              "#9c179e"
             ],
             [
              0.4444444444444444,
              "#bd3786"
             ],
             [
              0.5555555555555556,
              "#d8576b"
             ],
             [
              0.6666666666666666,
              "#ed7953"
             ],
             [
              0.7777777777777778,
              "#fb9f3a"
             ],
             [
              0.8888888888888888,
              "#fdca26"
             ],
             [
              1,
              "#f0f921"
             ]
            ],
            "type": "heatmapgl"
           }
          ],
          "histogram": [
           {
            "marker": {
             "pattern": {
              "fillmode": "overlay",
              "size": 10,
              "solidity": 0.2
             }
            },
            "type": "histogram"
           }
          ],
          "histogram2d": [
           {
            "colorbar": {
             "outlinewidth": 0,
             "ticks": ""
            },
            "colorscale": [
             [
              0,
              "#0d0887"
             ],
             [
              0.1111111111111111,
              "#46039f"
             ],
             [
              0.2222222222222222,
              "#7201a8"
             ],
             [
              0.3333333333333333,
              "#9c179e"
             ],
             [
              0.4444444444444444,
              "#bd3786"
             ],
             [
              0.5555555555555556,
              "#d8576b"
             ],
             [
              0.6666666666666666,
              "#ed7953"
             ],
             [
              0.7777777777777778,
              "#fb9f3a"
             ],
             [
              0.8888888888888888,
              "#fdca26"
             ],
             [
              1,
              "#f0f921"
             ]
            ],
            "type": "histogram2d"
           }
          ],
          "histogram2dcontour": [
           {
            "colorbar": {
             "outlinewidth": 0,
             "ticks": ""
            },
            "colorscale": [
             [
              0,
              "#0d0887"
             ],
             [
              0.1111111111111111,
              "#46039f"
             ],
             [
              0.2222222222222222,
              "#7201a8"
             ],
             [
              0.3333333333333333,
              "#9c179e"
             ],
             [
              0.4444444444444444,
              "#bd3786"
             ],
             [
              0.5555555555555556,
              "#d8576b"
             ],
             [
              0.6666666666666666,
              "#ed7953"
             ],
             [
              0.7777777777777778,
              "#fb9f3a"
             ],
             [
              0.8888888888888888,
              "#fdca26"
             ],
             [
              1,
              "#f0f921"
             ]
            ],
            "type": "histogram2dcontour"
           }
          ],
          "mesh3d": [
           {
            "colorbar": {
             "outlinewidth": 0,
             "ticks": ""
            },
            "type": "mesh3d"
           }
          ],
          "parcoords": [
           {
            "line": {
             "colorbar": {
              "outlinewidth": 0,
              "ticks": ""
             }
            },
            "type": "parcoords"
           }
          ],
          "pie": [
           {
            "automargin": true,
            "type": "pie"
           }
          ],
          "scatter": [
           {
            "marker": {
             "colorbar": {
              "outlinewidth": 0,
              "ticks": ""
             }
            },
            "type": "scatter"
           }
          ],
          "scatter3d": [
           {
            "line": {
             "colorbar": {
              "outlinewidth": 0,
              "ticks": ""
             }
            },
            "marker": {
             "colorbar": {
              "outlinewidth": 0,
              "ticks": ""
             }
            },
            "type": "scatter3d"
           }
          ],
          "scattercarpet": [
           {
            "marker": {
             "colorbar": {
              "outlinewidth": 0,
              "ticks": ""
             }
            },
            "type": "scattercarpet"
           }
          ],
          "scattergeo": [
           {
            "marker": {
             "colorbar": {
              "outlinewidth": 0,
              "ticks": ""
             }
            },
            "type": "scattergeo"
           }
          ],
          "scattergl": [
           {
            "marker": {
             "colorbar": {
              "outlinewidth": 0,
              "ticks": ""
             }
            },
            "type": "scattergl"
           }
          ],
          "scattermapbox": [
           {
            "marker": {
             "colorbar": {
              "outlinewidth": 0,
              "ticks": ""
             }
            },
            "type": "scattermapbox"
           }
          ],
          "scatterpolar": [
           {
            "marker": {
             "colorbar": {
              "outlinewidth": 0,
              "ticks": ""
             }
            },
            "type": "scatterpolar"
           }
          ],
          "scatterpolargl": [
           {
            "marker": {
             "colorbar": {
              "outlinewidth": 0,
              "ticks": ""
             }
            },
            "type": "scatterpolargl"
           }
          ],
          "scatterternary": [
           {
            "marker": {
             "colorbar": {
              "outlinewidth": 0,
              "ticks": ""
             }
            },
            "type": "scatterternary"
           }
          ],
          "surface": [
           {
            "colorbar": {
             "outlinewidth": 0,
             "ticks": ""
            },
            "colorscale": [
             [
              0,
              "#0d0887"
             ],
             [
              0.1111111111111111,
              "#46039f"
             ],
             [
              0.2222222222222222,
              "#7201a8"
             ],
             [
              0.3333333333333333,
              "#9c179e"
             ],
             [
              0.4444444444444444,
              "#bd3786"
             ],
             [
              0.5555555555555556,
              "#d8576b"
             ],
             [
              0.6666666666666666,
              "#ed7953"
             ],
             [
              0.7777777777777778,
              "#fb9f3a"
             ],
             [
              0.8888888888888888,
              "#fdca26"
             ],
             [
              1,
              "#f0f921"
             ]
            ],
            "type": "surface"
           }
          ],
          "table": [
           {
            "cells": {
             "fill": {
              "color": "#EBF0F8"
             },
             "line": {
              "color": "white"
             }
            },
            "header": {
             "fill": {
              "color": "#C8D4E3"
             },
             "line": {
              "color": "white"
             }
            },
            "type": "table"
           }
          ]
         },
         "layout": {
          "annotationdefaults": {
           "arrowcolor": "#2a3f5f",
           "arrowhead": 0,
           "arrowwidth": 1
          },
          "autotypenumbers": "strict",
          "coloraxis": {
           "colorbar": {
            "outlinewidth": 0,
            "ticks": ""
           }
          },
          "colorscale": {
           "diverging": [
            [
             0,
             "#8e0152"
            ],
            [
             0.1,
             "#c51b7d"
            ],
            [
             0.2,
             "#de77ae"
            ],
            [
             0.3,
             "#f1b6da"
            ],
            [
             0.4,
             "#fde0ef"
            ],
            [
             0.5,
             "#f7f7f7"
            ],
            [
             0.6,
             "#e6f5d0"
            ],
            [
             0.7,
             "#b8e186"
            ],
            [
             0.8,
             "#7fbc41"
            ],
            [
             0.9,
             "#4d9221"
            ],
            [
             1,
             "#276419"
            ]
           ],
           "sequential": [
            [
             0,
             "#0d0887"
            ],
            [
             0.1111111111111111,
             "#46039f"
            ],
            [
             0.2222222222222222,
             "#7201a8"
            ],
            [
             0.3333333333333333,
             "#9c179e"
            ],
            [
             0.4444444444444444,
             "#bd3786"
            ],
            [
             0.5555555555555556,
             "#d8576b"
            ],
            [
             0.6666666666666666,
             "#ed7953"
            ],
            [
             0.7777777777777778,
             "#fb9f3a"
            ],
            [
             0.8888888888888888,
             "#fdca26"
            ],
            [
             1,
             "#f0f921"
            ]
           ],
           "sequentialminus": [
            [
             0,
             "#0d0887"
            ],
            [
             0.1111111111111111,
             "#46039f"
            ],
            [
             0.2222222222222222,
             "#7201a8"
            ],
            [
             0.3333333333333333,
             "#9c179e"
            ],
            [
             0.4444444444444444,
             "#bd3786"
            ],
            [
             0.5555555555555556,
             "#d8576b"
            ],
            [
             0.6666666666666666,
             "#ed7953"
            ],
            [
             0.7777777777777778,
             "#fb9f3a"
            ],
            [
             0.8888888888888888,
             "#fdca26"
            ],
            [
             1,
             "#f0f921"
            ]
           ]
          },
          "colorway": [
           "#636efa",
           "#EF553B",
           "#00cc96",
           "#ab63fa",
           "#FFA15A",
           "#19d3f3",
           "#FF6692",
           "#B6E880",
           "#FF97FF",
           "#FECB52"
          ],
          "font": {
           "color": "#2a3f5f"
          },
          "geo": {
           "bgcolor": "white",
           "lakecolor": "white",
           "landcolor": "#E5ECF6",
           "showlakes": true,
           "showland": true,
           "subunitcolor": "white"
          },
          "hoverlabel": {
           "align": "left"
          },
          "hovermode": "closest",
          "mapbox": {
           "style": "light"
          },
          "paper_bgcolor": "white",
          "plot_bgcolor": "#E5ECF6",
          "polar": {
           "angularaxis": {
            "gridcolor": "white",
            "linecolor": "white",
            "ticks": ""
           },
           "bgcolor": "#E5ECF6",
           "radialaxis": {
            "gridcolor": "white",
            "linecolor": "white",
            "ticks": ""
           }
          },
          "scene": {
           "xaxis": {
            "backgroundcolor": "#E5ECF6",
            "gridcolor": "white",
            "gridwidth": 2,
            "linecolor": "white",
            "showbackground": true,
            "ticks": "",
            "zerolinecolor": "white"
           },
           "yaxis": {
            "backgroundcolor": "#E5ECF6",
            "gridcolor": "white",
            "gridwidth": 2,
            "linecolor": "white",
            "showbackground": true,
            "ticks": "",
            "zerolinecolor": "white"
           },
           "zaxis": {
            "backgroundcolor": "#E5ECF6",
            "gridcolor": "white",
            "gridwidth": 2,
            "linecolor": "white",
            "showbackground": true,
            "ticks": "",
            "zerolinecolor": "white"
           }
          },
          "shapedefaults": {
           "line": {
            "color": "#2a3f5f"
           }
          },
          "ternary": {
           "aaxis": {
            "gridcolor": "white",
            "linecolor": "white",
            "ticks": ""
           },
           "baxis": {
            "gridcolor": "white",
            "linecolor": "white",
            "ticks": ""
           },
           "bgcolor": "#E5ECF6",
           "caxis": {
            "gridcolor": "white",
            "linecolor": "white",
            "ticks": ""
           }
          },
          "title": {
           "x": 0.05
          },
          "xaxis": {
           "automargin": true,
           "gridcolor": "white",
           "linecolor": "white",
           "ticks": "",
           "title": {
            "standoff": 15
           },
           "zerolinecolor": "white",
           "zerolinewidth": 2
          },
          "yaxis": {
           "automargin": true,
           "gridcolor": "white",
           "linecolor": "white",
           "ticks": "",
           "title": {
            "standoff": 15
           },
           "zerolinecolor": "white",
           "zerolinewidth": 2
          }
         }
        },
        "title": {
         "text": "GMSL"
        },
        "width": 900,
        "xaxis": {
         "anchor": "y",
         "domain": [
          0,
          1
         ],
         "rangeselector": {
          "buttons": [
           {
            "count": 1,
            "label": "1m",
            "step": "month",
            "stepmode": "backward"
           },
           {
            "count": 6,
            "label": "6m",
            "step": "month",
            "stepmode": "backward"
           },
           {
            "count": 1,
            "label": "YTD",
            "step": "year",
            "stepmode": "todate"
           },
           {
            "count": 1,
            "label": "1y",
            "step": "year",
            "stepmode": "backward"
           },
           {
            "step": "all"
           }
          ]
         },
         "rangeslider": {
          "visible": true
         },
         "title": {
          "text": "Date"
         }
        },
        "yaxis": {
         "anchor": "x",
         "domain": [
          0,
          1
         ],
         "title": {
          "text": "GMSL"
         }
        }
       }
      },
      "text/html": [
       "<div>                            <div id=\"36a00c04-8a45-4773-8900-5cd182a2f5cb\" class=\"plotly-graph-div\" style=\"height:500px; width:900px;\"></div>            <script type=\"text/javascript\">                require([\"plotly\"], function(Plotly) {                    window.PLOTLYENV=window.PLOTLYENV || {};                                    if (document.getElementById(\"36a00c04-8a45-4773-8900-5cd182a2f5cb\")) {                    Plotly.newPlot(                        \"36a00c04-8a45-4773-8900-5cd182a2f5cb\",                        [{\"hovertemplate\":\"partition=train<br>Date=%{x}<br>GMSL=%{y}<extra></extra>\",\"legendgroup\":\"train\",\"line\":{\"color\":\"#636efa\",\"dash\":\"solid\"},\"marker\":{\"symbol\":\"circle\"},\"mode\":\"lines\",\"name\":\"train\",\"orientation\":\"v\",\"showlegend\":true,\"x\":[\"1969-01-01T00:00:00\",\"1969-02-01T00:00:00\",\"1969-03-01T00:00:00\",\"1969-04-01T00:00:00\",\"1969-05-01T00:00:00\",\"1969-06-01T00:00:00\",\"1969-07-01T00:00:00\",\"1969-08-01T00:00:00\",\"1969-09-01T00:00:00\",\"1969-10-01T00:00:00\",\"1969-11-01T00:00:00\",\"1969-12-01T00:00:00\",\"1970-01-01T00:00:00\",\"1970-02-01T00:00:00\",\"1970-03-01T00:00:00\",\"1970-04-01T00:00:00\",\"1970-05-01T00:00:00\",\"1970-06-01T00:00:00\",\"1970-07-01T00:00:00\",\"1970-08-01T00:00:00\",\"1970-09-01T00:00:00\",\"1970-10-01T00:00:00\",\"1970-11-01T00:00:00\",\"1970-12-01T00:00:00\",\"1971-01-01T00:00:00\",\"1971-02-01T00:00:00\",\"1971-03-01T00:00:00\",\"1971-04-01T00:00:00\",\"1971-05-01T00:00:00\",\"1971-06-01T00:00:00\",\"1971-07-01T00:00:00\",\"1971-08-01T00:00:00\",\"1971-09-01T00:00:00\",\"1971-10-01T00:00:00\",\"1971-11-01T00:00:00\",\"1971-12-01T00:00:00\",\"1972-01-01T00:00:00\",\"1972-02-01T00:00:00\",\"1972-03-01T00:00:00\",\"1972-04-01T00:00:00\",\"1972-05-01T00:00:00\",\"1972-06-01T00:00:00\",\"1972-07-01T00:00:00\",\"1972-08-01T00:00:00\",\"1972-09-01T00:00:00\",\"1972-10-01T00:00:00\",\"1972-11-01T00:00:00\",\"1972-12-01T00:00:00\",\"1973-01-01T00:00:00\",\"1973-02-01T00:00:00\",\"1973-03-01T00:00:00\",\"1973-04-01T00:00:00\",\"1973-05-01T00:00:00\",\"1973-06-01T00:00:00\",\"1973-07-01T00:00:00\",\"1973-08-01T00:00:00\",\"1973-09-01T00:00:00\",\"1973-10-01T00:00:00\",\"1973-11-01T00:00:00\",\"1973-12-01T00:00:00\",\"1974-01-01T00:00:00\",\"1974-02-01T00:00:00\",\"1974-03-01T00:00:00\",\"1974-04-01T00:00:00\",\"1974-05-01T00:00:00\",\"1974-06-01T00:00:00\",\"1974-07-01T00:00:00\",\"1974-08-01T00:00:00\",\"1974-09-01T00:00:00\",\"1974-10-01T00:00:00\",\"1974-11-01T00:00:00\",\"1974-12-01T00:00:00\",\"1975-01-01T00:00:00\",\"1975-02-01T00:00:00\",\"1975-03-01T00:00:00\",\"1975-04-01T00:00:00\",\"1975-05-01T00:00:00\",\"1975-06-01T00:00:00\",\"1975-07-01T00:00:00\",\"1975-08-01T00:00:00\",\"1975-09-01T00:00:00\",\"1975-10-01T00:00:00\",\"1975-11-01T00:00:00\",\"1975-12-01T00:00:00\",\"1976-01-01T00:00:00\",\"1976-02-01T00:00:00\",\"1976-03-01T00:00:00\",\"1976-04-01T00:00:00\",\"1976-05-01T00:00:00\",\"1976-06-01T00:00:00\",\"1976-07-01T00:00:00\",\"1976-08-01T00:00:00\",\"1976-09-01T00:00:00\",\"1976-10-01T00:00:00\",\"1976-11-01T00:00:00\",\"1976-12-01T00:00:00\",\"1977-01-01T00:00:00\",\"1977-02-01T00:00:00\",\"1977-03-01T00:00:00\",\"1977-04-01T00:00:00\",\"1977-05-01T00:00:00\",\"1977-06-01T00:00:00\",\"1977-07-01T00:00:00\",\"1977-08-01T00:00:00\",\"1977-09-01T00:00:00\",\"1977-10-01T00:00:00\",\"1977-11-01T00:00:00\",\"1977-12-01T00:00:00\",\"1978-01-01T00:00:00\",\"1978-02-01T00:00:00\",\"1978-03-01T00:00:00\",\"1978-04-01T00:00:00\",\"1978-05-01T00:00:00\",\"1978-06-01T00:00:00\",\"1978-07-01T00:00:00\",\"1978-08-01T00:00:00\",\"1978-09-01T00:00:00\",\"1978-10-01T00:00:00\",\"1978-11-01T00:00:00\",\"1978-12-01T00:00:00\",\"1979-01-01T00:00:00\",\"1979-02-01T00:00:00\",\"1979-03-01T00:00:00\",\"1979-04-01T00:00:00\",\"1979-05-01T00:00:00\",\"1979-06-01T00:00:00\",\"1979-07-01T00:00:00\",\"1979-08-01T00:00:00\",\"1979-09-01T00:00:00\",\"1979-10-01T00:00:00\",\"1979-11-01T00:00:00\",\"1979-12-01T00:00:00\",\"1980-01-01T00:00:00\",\"1980-02-01T00:00:00\",\"1980-03-01T00:00:00\",\"1980-04-01T00:00:00\",\"1980-05-01T00:00:00\",\"1980-06-01T00:00:00\",\"1980-07-01T00:00:00\",\"1980-08-01T00:00:00\",\"1980-09-01T00:00:00\",\"1980-10-01T00:00:00\",\"1980-11-01T00:00:00\",\"1980-12-01T00:00:00\",\"1981-01-01T00:00:00\",\"1981-02-01T00:00:00\",\"1981-03-01T00:00:00\",\"1981-04-01T00:00:00\",\"1981-05-01T00:00:00\",\"1981-06-01T00:00:00\",\"1981-07-01T00:00:00\",\"1981-08-01T00:00:00\",\"1981-09-01T00:00:00\",\"1981-10-01T00:00:00\",\"1981-11-01T00:00:00\",\"1981-12-01T00:00:00\",\"1982-01-01T00:00:00\",\"1982-02-01T00:00:00\",\"1982-03-01T00:00:00\",\"1982-04-01T00:00:00\",\"1982-05-01T00:00:00\",\"1982-06-01T00:00:00\",\"1982-07-01T00:00:00\",\"1982-08-01T00:00:00\",\"1982-09-01T00:00:00\",\"1982-10-01T00:00:00\",\"1982-11-01T00:00:00\",\"1982-12-01T00:00:00\",\"1983-01-01T00:00:00\",\"1983-02-01T00:00:00\",\"1983-03-01T00:00:00\",\"1983-04-01T00:00:00\",\"1983-05-01T00:00:00\",\"1983-06-01T00:00:00\",\"1983-07-01T00:00:00\",\"1983-08-01T00:00:00\",\"1983-09-01T00:00:00\",\"1983-10-01T00:00:00\",\"1983-11-01T00:00:00\",\"1983-12-01T00:00:00\",\"1984-01-01T00:00:00\",\"1984-02-01T00:00:00\",\"1984-03-01T00:00:00\",\"1984-04-01T00:00:00\",\"1984-05-01T00:00:00\",\"1984-06-01T00:00:00\",\"1984-07-01T00:00:00\",\"1984-08-01T00:00:00\",\"1984-09-01T00:00:00\",\"1984-10-01T00:00:00\",\"1984-11-01T00:00:00\",\"1984-12-01T00:00:00\",\"1985-01-01T00:00:00\",\"1985-02-01T00:00:00\",\"1985-03-01T00:00:00\",\"1985-04-01T00:00:00\",\"1985-05-01T00:00:00\",\"1985-06-01T00:00:00\",\"1985-07-01T00:00:00\",\"1985-08-01T00:00:00\",\"1985-09-01T00:00:00\",\"1985-10-01T00:00:00\",\"1985-11-01T00:00:00\",\"1985-12-01T00:00:00\",\"1986-01-01T00:00:00\",\"1986-02-01T00:00:00\",\"1986-03-01T00:00:00\",\"1986-04-01T00:00:00\",\"1986-05-01T00:00:00\",\"1986-06-01T00:00:00\",\"1986-07-01T00:00:00\",\"1986-08-01T00:00:00\",\"1986-09-01T00:00:00\",\"1986-10-01T00:00:00\",\"1986-11-01T00:00:00\",\"1986-12-01T00:00:00\",\"1987-01-01T00:00:00\",\"1987-02-01T00:00:00\",\"1987-03-01T00:00:00\",\"1987-04-01T00:00:00\",\"1987-05-01T00:00:00\",\"1987-06-01T00:00:00\",\"1987-07-01T00:00:00\",\"1987-08-01T00:00:00\",\"1987-09-01T00:00:00\",\"1987-10-01T00:00:00\",\"1987-11-01T00:00:00\",\"1987-12-01T00:00:00\",\"1988-01-01T00:00:00\",\"1988-02-01T00:00:00\",\"1988-03-01T00:00:00\",\"1988-04-01T00:00:00\",\"1988-05-01T00:00:00\",\"1988-06-01T00:00:00\",\"1988-07-01T00:00:00\",\"1988-08-01T00:00:00\",\"1988-09-01T00:00:00\",\"1988-10-01T00:00:00\",\"1988-11-01T00:00:00\",\"1988-12-01T00:00:00\",\"1989-01-01T00:00:00\",\"1989-02-01T00:00:00\",\"1989-03-01T00:00:00\",\"1989-04-01T00:00:00\",\"1989-05-01T00:00:00\",\"1989-06-01T00:00:00\",\"1989-07-01T00:00:00\",\"1989-08-01T00:00:00\",\"1989-09-01T00:00:00\",\"1989-10-01T00:00:00\",\"1989-11-01T00:00:00\",\"1989-12-01T00:00:00\",\"1990-01-01T00:00:00\",\"1990-02-01T00:00:00\",\"1990-03-01T00:00:00\",\"1990-04-01T00:00:00\",\"1990-05-01T00:00:00\",\"1990-06-01T00:00:00\",\"1990-07-01T00:00:00\",\"1990-08-01T00:00:00\",\"1990-09-01T00:00:00\",\"1990-10-01T00:00:00\",\"1990-11-01T00:00:00\",\"1990-12-01T00:00:00\",\"1991-01-01T00:00:00\",\"1991-02-01T00:00:00\",\"1991-03-01T00:00:00\",\"1991-04-01T00:00:00\",\"1991-05-01T00:00:00\",\"1991-06-01T00:00:00\",\"1991-07-01T00:00:00\",\"1991-08-01T00:00:00\",\"1991-09-01T00:00:00\",\"1991-10-01T00:00:00\",\"1991-11-01T00:00:00\",\"1991-12-01T00:00:00\",\"1992-01-01T00:00:00\",\"1992-02-01T00:00:00\",\"1992-03-01T00:00:00\",\"1992-04-01T00:00:00\",\"1992-05-01T00:00:00\",\"1992-06-01T00:00:00\",\"1992-07-01T00:00:00\",\"1992-08-01T00:00:00\",\"1992-09-01T00:00:00\",\"1992-10-01T00:00:00\",\"1992-11-01T00:00:00\",\"1992-12-01T00:00:00\",\"1993-01-01T00:00:00\",\"1993-02-01T00:00:00\",\"1993-03-01T00:00:00\",\"1993-04-01T00:00:00\",\"1993-05-01T00:00:00\",\"1993-06-01T00:00:00\",\"1993-07-01T00:00:00\",\"1993-08-01T00:00:00\",\"1993-09-01T00:00:00\",\"1993-10-01T00:00:00\",\"1993-11-01T00:00:00\",\"1993-12-01T00:00:00\",\"1994-01-01T00:00:00\",\"1994-02-01T00:00:00\",\"1994-03-01T00:00:00\",\"1994-04-01T00:00:00\",\"1994-05-01T00:00:00\",\"1994-06-01T00:00:00\",\"1994-07-01T00:00:00\",\"1994-08-01T00:00:00\",\"1994-09-01T00:00:00\",\"1994-10-01T00:00:00\",\"1994-11-01T00:00:00\",\"1994-12-01T00:00:00\",\"1995-01-01T00:00:00\",\"1995-02-01T00:00:00\",\"1995-03-01T00:00:00\",\"1995-04-01T00:00:00\",\"1995-05-01T00:00:00\",\"1995-06-01T00:00:00\",\"1995-07-01T00:00:00\",\"1995-08-01T00:00:00\",\"1995-09-01T00:00:00\",\"1995-10-01T00:00:00\",\"1995-11-01T00:00:00\",\"1995-12-01T00:00:00\",\"1996-01-01T00:00:00\",\"1996-02-01T00:00:00\",\"1996-03-01T00:00:00\",\"1996-04-01T00:00:00\",\"1996-05-01T00:00:00\",\"1996-06-01T00:00:00\",\"1996-07-01T00:00:00\",\"1996-08-01T00:00:00\",\"1996-09-01T00:00:00\",\"1996-10-01T00:00:00\",\"1996-11-01T00:00:00\",\"1996-12-01T00:00:00\",\"1997-01-01T00:00:00\",\"1997-02-01T00:00:00\",\"1997-03-01T00:00:00\",\"1997-04-01T00:00:00\",\"1997-05-01T00:00:00\",\"1997-06-01T00:00:00\",\"1997-07-01T00:00:00\",\"1997-08-01T00:00:00\",\"1997-09-01T00:00:00\",\"1997-10-01T00:00:00\",\"1997-11-01T00:00:00\",\"1997-12-01T00:00:00\",\"1998-01-01T00:00:00\",\"1998-02-01T00:00:00\",\"1998-03-01T00:00:00\",\"1998-04-01T00:00:00\",\"1998-05-01T00:00:00\",\"1998-06-01T00:00:00\",\"1998-07-01T00:00:00\",\"1998-08-01T00:00:00\",\"1998-09-01T00:00:00\",\"1998-10-01T00:00:00\",\"1998-11-01T00:00:00\",\"1998-12-01T00:00:00\",\"1999-01-01T00:00:00\",\"1999-02-01T00:00:00\",\"1999-03-01T00:00:00\",\"1999-04-01T00:00:00\",\"1999-05-01T00:00:00\",\"1999-06-01T00:00:00\",\"1999-07-01T00:00:00\",\"1999-08-01T00:00:00\",\"1999-09-01T00:00:00\",\"1999-10-01T00:00:00\",\"1999-11-01T00:00:00\",\"1999-12-01T00:00:00\",\"2000-01-01T00:00:00\",\"2000-02-01T00:00:00\",\"2000-03-01T00:00:00\",\"2000-04-01T00:00:00\",\"2000-05-01T00:00:00\",\"2000-06-01T00:00:00\",\"2000-07-01T00:00:00\",\"2000-08-01T00:00:00\",\"2000-09-01T00:00:00\",\"2000-10-01T00:00:00\",\"2000-11-01T00:00:00\",\"2000-12-01T00:00:00\",\"2001-01-01T00:00:00\",\"2001-02-01T00:00:00\",\"2001-03-01T00:00:00\",\"2001-04-01T00:00:00\",\"2001-05-01T00:00:00\",\"2001-06-01T00:00:00\",\"2001-07-01T00:00:00\",\"2001-08-01T00:00:00\",\"2001-09-01T00:00:00\",\"2001-10-01T00:00:00\",\"2001-11-01T00:00:00\",\"2001-12-01T00:00:00\",\"2002-01-01T00:00:00\",\"2002-02-01T00:00:00\",\"2002-03-01T00:00:00\",\"2002-04-01T00:00:00\",\"2002-05-01T00:00:00\",\"2002-06-01T00:00:00\",\"2002-07-01T00:00:00\",\"2002-08-01T00:00:00\",\"2002-09-01T00:00:00\",\"2002-10-01T00:00:00\",\"2002-11-01T00:00:00\",\"2002-12-01T00:00:00\",\"2003-01-01T00:00:00\",\"2003-02-01T00:00:00\",\"2003-03-01T00:00:00\",\"2003-04-01T00:00:00\",\"2003-05-01T00:00:00\",\"2003-06-01T00:00:00\",\"2003-07-01T00:00:00\",\"2003-08-01T00:00:00\",\"2003-09-01T00:00:00\",\"2003-10-01T00:00:00\",\"2003-11-01T00:00:00\",\"2003-12-01T00:00:00\",\"2004-01-01T00:00:00\",\"2004-02-01T00:00:00\",\"2004-03-01T00:00:00\",\"2004-04-01T00:00:00\",\"2004-05-01T00:00:00\",\"2004-06-01T00:00:00\",\"2004-07-01T00:00:00\",\"2004-08-01T00:00:00\",\"2004-09-01T00:00:00\",\"2004-10-01T00:00:00\",\"2004-11-01T00:00:00\",\"2004-12-01T00:00:00\",\"2005-01-01T00:00:00\",\"2005-02-01T00:00:00\",\"2005-03-01T00:00:00\",\"2005-04-01T00:00:00\",\"2005-05-01T00:00:00\",\"2005-06-01T00:00:00\",\"2005-07-01T00:00:00\",\"2005-08-01T00:00:00\",\"2005-09-01T00:00:00\",\"2005-10-01T00:00:00\",\"2005-11-01T00:00:00\",\"2005-12-01T00:00:00\",\"2006-01-01T00:00:00\",\"2006-02-01T00:00:00\",\"2006-03-01T00:00:00\",\"2006-04-01T00:00:00\",\"2006-05-01T00:00:00\",\"2006-06-01T00:00:00\",\"2006-07-01T00:00:00\",\"2006-08-01T00:00:00\",\"2006-09-01T00:00:00\",\"2006-10-01T00:00:00\",\"2006-11-01T00:00:00\",\"2006-12-01T00:00:00\",\"2007-01-01T00:00:00\",\"2007-02-01T00:00:00\",\"2007-03-01T00:00:00\",\"2007-04-01T00:00:00\",\"2007-05-01T00:00:00\",\"2007-06-01T00:00:00\",\"2007-07-01T00:00:00\",\"2007-08-01T00:00:00\",\"2007-09-01T00:00:00\",\"2007-10-01T00:00:00\",\"2007-11-01T00:00:00\",\"2007-12-01T00:00:00\",\"2008-01-01T00:00:00\",\"2008-02-01T00:00:00\",\"2008-03-01T00:00:00\",\"2008-04-01T00:00:00\",\"2008-05-01T00:00:00\",\"2008-06-01T00:00:00\",\"2008-07-01T00:00:00\",\"2008-08-01T00:00:00\",\"2008-09-01T00:00:00\",\"2008-10-01T00:00:00\",\"2008-11-01T00:00:00\"],\"xaxis\":\"x\",\"y\":[-35.8,-37.2,-36.2,-37.4,-38.6,-39.1,-41.1,-38.9,-37.9,-36.5,-37.9,-39.4,-38.8,-37.6,-38.2,-41.1,-41.3,-41.0,-42.6,-41.9,-42.4,-38.7,-38.6,-37.1,-34.9,-31.7,-30.7,-31.4,-35.2,-37.7,-38.5,-36.5,-33.1,-33.5,-35.9,-37.6,-34.0,-29.2,-25.3,-24.6,-22.6,-20.2,-19.1,-23.1,-25.7,-27.9,-26.9,-28.5,-33.2,-33.6,-34.6,-31.7,-33.8,-32.7,-34.4,-34.4,-34.5,-31.6,-24.7,-19.9,-15.4,-16.5,-17.6,-17.4,-17.7,-18.3,-20.4,-22.1,-23.0,-23.8,-22.6,-21.8,-21.1,-20.2,-18.7,-20.0,-21.3,-23.4,-23.4,-22.0,-21.3,-20.7,-20.5,-22.7,-22.9,-25.7,-24.4,-23.2,-22.5,-20.4,-21.6,-23.5,-22.2,-22.6,-19.7,-19.5,-20.9,-23.6,-25.4,-27.6,-27.1,-26.5,-25.5,-24.8,-23.8,-23.1,-21.0,-18.3,-15.7,-12.0,-13.0,-13.3,-17.0,-18.5,-19.9,-18.3,-18.0,-17.7,-22.2,-25.2,-28.0,-26.9,-25.8,-26.1,-27.5,-27.1,-24.7,-19.9,-17.3,-14.9,-17.2,-15.0,-15.2,-14.1,-16.1,-15.8,-16.1,-16.7,-19.2,-21.0,-21.0,-19.2,-14.0,-9.9,-7.8,-6.8,-5.0,-4.0,-2.7,-2.2,-3.9,-3.1,-4.1,-2.0,-2.9,-4.4,-8.2,-9.3,-10.6,-13.1,-13.5,-14.7,-15.8,-14.4,-10.3,-4.7,-2.1,-1.6,0.2,-0.5,1.1,4.3,7.5,6.0,1.8,-5.9,-6.7,-9.7,-6.8,-8.9,-7.5,-6.3,-3.0,-2.2,-1.2,1.0,0.6,2.0,-0.2,-1.1,-4.4,-6.4,-10.4,-9.5,-11.7,-11.7,-13.5,-13.1,-13.7,-15.4,-14.6,-13.9,-12.5,-12.2,-10.8,-9.7,-10.3,-10.5,-11.8,-11.0,-13.3,-12.5,-13.5,-13.9,-14.3,-13.1,-11.2,-8.5,-10.8,-12.4,-10.9,-9.3,-8.2,-13.5,-15.3,-16.7,-12.1,-8.6,-9.1,-7.8,-9.9,-8.2,-8.1,-6.6,-6.4,-4.8,-3.3,-2.6,-4.9,-9.4,-9.4,-8.0,-2.4,-1.6,-1.1,-3.0,-2.7,-1.0,0.3,0.6,1.1,-0.6,-0.2,-2.6,-4.4,-3.9,-4.1,-0.0,-0.2,2.8,3.0,3.8,4.3,1.6,3.0,3.7,5.0,1.4,-1.0,-1.4,1.0,3.6,3.8,4.1,4.0,2.9,5.0,6.0,4.6,3.1,0.6,1.0,0.3,0.6,2.2,5.5,5.1,4.0,2.7,3.8,6.3,8.3,8.6,4.3,0.6,-2.4,-5.3,-4.1,-5.2,-0.6,3.4,4.0,6.0,5.1,7.4,6.4,9.0,8.3,8.0,7.6,5.9,7.8,8.6,9.7,10.4,8.6,7.7,6.6,7.9,7.3,8.6,10.1,12.5,16.3,16.2,16.1,11.1,8.4,7.5,7.1,13.0,15.6,20.7,18.1,16.0,14.2,16.5,19.2,22.8,23.1,22.7,22.2,17.6,17.7,16.9,22.1,22.0,23.9,20.4,16.4,11.5,7.1,6.5,7.2,9.5,10.1,11.6,9.9,8.9,8.9,12.5,15.8,20.7,19.9,21.9,21.3,23.2,22.7,22.2,20.3,16.2,14.0,12.8,15.5,19.4,22.2,26.2,25.9,27.1,22.4,20.0,16.7,17.8,19.8,23.8,24.2,27.0,24.8,25.3,25.7,27.1,29.8,29.9,27.6,24.5,22.1,23.1,24.3,25.9,24.9,26.5,29.2,29.4,28.5,30.0,31.4,34.2,32.9,31.8,30.2,29.3,33.5,35.9,40.0,40.0,42.4,43.6,44.3,41.0,39.3,36.3,33.4,33.9,34.9,39.2,41.5,40.4,41.6,38.6,37.3,34.5,34.6,36.6,37.2,36.2,36.4,37.9,40.0,40.7,39.7,36.6,36.0,34.7,35.5,35.2,37.8,43.0,44.7,43.4,40.8,40.3,42.2,43.5,44.6,44.2,39.1,35.6,31.4,34.3,38.3,45.5,49.1,50.5,50.5,47.9,46.5,46.8,45.4,46.5,46.1,52.5,56.3,60.1,60.1,59.3,55.0,50.9,46.8,46.8],\"yaxis\":\"y\",\"type\":\"scatter\"},{\"hovertemplate\":\"partition=validation<br>Date=%{x}<br>GMSL=%{y}<extra></extra>\",\"legendgroup\":\"validation\",\"line\":{\"color\":\"#EF553B\",\"dash\":\"solid\"},\"marker\":{\"symbol\":\"circle\"},\"mode\":\"lines\",\"name\":\"validation\",\"orientation\":\"v\",\"showlegend\":true,\"x\":[\"2008-12-01T00:00:00\",\"2009-01-01T00:00:00\",\"2009-02-01T00:00:00\",\"2009-03-01T00:00:00\",\"2009-04-01T00:00:00\",\"2009-05-01T00:00:00\",\"2009-06-01T00:00:00\",\"2009-07-01T00:00:00\",\"2009-08-01T00:00:00\",\"2009-09-01T00:00:00\",\"2009-10-01T00:00:00\",\"2009-11-01T00:00:00\",\"2009-12-01T00:00:00\",\"2010-01-01T00:00:00\",\"2010-02-01T00:00:00\",\"2010-03-01T00:00:00\",\"2010-04-01T00:00:00\",\"2010-05-01T00:00:00\",\"2010-06-01T00:00:00\",\"2010-07-01T00:00:00\",\"2010-08-01T00:00:00\",\"2010-09-01T00:00:00\",\"2010-10-01T00:00:00\",\"2010-11-01T00:00:00\",\"2010-12-01T00:00:00\",\"2011-01-01T00:00:00\",\"2011-02-01T00:00:00\",\"2011-03-01T00:00:00\",\"2011-04-01T00:00:00\",\"2011-05-01T00:00:00\",\"2011-06-01T00:00:00\",\"2011-07-01T00:00:00\",\"2011-08-01T00:00:00\",\"2011-09-01T00:00:00\",\"2011-10-01T00:00:00\",\"2011-11-01T00:00:00\"],\"xaxis\":\"x\",\"y\":[46.0,47.5,46.8,49.0,50.2,55.6,59.6,62.7,62.9,63.6,63.9,65.6,68.8,67.6,67.6,63.2,65.0,61.7,61.8,61.0,63.3,65.2,68.7,71.1,72.8,70.4,68.5,67.2,70.6,72.6,73.2,72.1,69.3,67.0,62.6,58.7],\"yaxis\":\"y\",\"type\":\"scatter\"},{\"hovertemplate\":\"partition=test<br>Date=%{x}<br>GMSL=%{y}<extra></extra>\",\"legendgroup\":\"test\",\"line\":{\"color\":\"#00cc96\",\"dash\":\"solid\"},\"marker\":{\"symbol\":\"circle\"},\"mode\":\"lines\",\"name\":\"test\",\"orientation\":\"v\",\"showlegend\":true,\"x\":[\"2011-12-01T00:00:00\",\"2012-01-01T00:00:00\",\"2012-02-01T00:00:00\",\"2012-03-01T00:00:00\",\"2012-04-01T00:00:00\",\"2012-05-01T00:00:00\",\"2012-06-01T00:00:00\",\"2012-07-01T00:00:00\",\"2012-08-01T00:00:00\",\"2012-09-01T00:00:00\",\"2012-10-01T00:00:00\",\"2012-11-01T00:00:00\",\"2012-12-01T00:00:00\",\"2013-01-01T00:00:00\",\"2013-02-01T00:00:00\",\"2013-03-01T00:00:00\",\"2013-04-01T00:00:00\",\"2013-05-01T00:00:00\",\"2013-06-01T00:00:00\",\"2013-07-01T00:00:00\",\"2013-08-01T00:00:00\",\"2013-09-01T00:00:00\",\"2013-10-01T00:00:00\",\"2013-11-01T00:00:00\",\"2013-12-01T00:00:00\"],\"xaxis\":\"x\",\"y\":[55.4,58.5,63.8,72.5,80.4,82.0,82.4,78.1,78.8,78.6,80.8,79.4,77.7,70.5,65.7,67.0,69.8,72.0,71.5,71.2,71.6,68.8,66.4,59.7,58.5],\"yaxis\":\"y\",\"type\":\"scatter\"}],                        {\"template\":{\"data\":{\"bar\":[{\"error_x\":{\"color\":\"#2a3f5f\"},\"error_y\":{\"color\":\"#2a3f5f\"},\"marker\":{\"line\":{\"color\":\"#E5ECF6\",\"width\":0.5},\"pattern\":{\"fillmode\":\"overlay\",\"size\":10,\"solidity\":0.2}},\"type\":\"bar\"}],\"barpolar\":[{\"marker\":{\"line\":{\"color\":\"#E5ECF6\",\"width\":0.5},\"pattern\":{\"fillmode\":\"overlay\",\"size\":10,\"solidity\":0.2}},\"type\":\"barpolar\"}],\"carpet\":[{\"aaxis\":{\"endlinecolor\":\"#2a3f5f\",\"gridcolor\":\"white\",\"linecolor\":\"white\",\"minorgridcolor\":\"white\",\"startlinecolor\":\"#2a3f5f\"},\"baxis\":{\"endlinecolor\":\"#2a3f5f\",\"gridcolor\":\"white\",\"linecolor\":\"white\",\"minorgridcolor\":\"white\",\"startlinecolor\":\"#2a3f5f\"},\"type\":\"carpet\"}],\"choropleth\":[{\"colorbar\":{\"outlinewidth\":0,\"ticks\":\"\"},\"type\":\"choropleth\"}],\"contour\":[{\"colorbar\":{\"outlinewidth\":0,\"ticks\":\"\"},\"colorscale\":[[0.0,\"#0d0887\"],[0.1111111111111111,\"#46039f\"],[0.2222222222222222,\"#7201a8\"],[0.3333333333333333,\"#9c179e\"],[0.4444444444444444,\"#bd3786\"],[0.5555555555555556,\"#d8576b\"],[0.6666666666666666,\"#ed7953\"],[0.7777777777777778,\"#fb9f3a\"],[0.8888888888888888,\"#fdca26\"],[1.0,\"#f0f921\"]],\"type\":\"contour\"}],\"contourcarpet\":[{\"colorbar\":{\"outlinewidth\":0,\"ticks\":\"\"},\"type\":\"contourcarpet\"}],\"heatmap\":[{\"colorbar\":{\"outlinewidth\":0,\"ticks\":\"\"},\"colorscale\":[[0.0,\"#0d0887\"],[0.1111111111111111,\"#46039f\"],[0.2222222222222222,\"#7201a8\"],[0.3333333333333333,\"#9c179e\"],[0.4444444444444444,\"#bd3786\"],[0.5555555555555556,\"#d8576b\"],[0.6666666666666666,\"#ed7953\"],[0.7777777777777778,\"#fb9f3a\"],[0.8888888888888888,\"#fdca26\"],[1.0,\"#f0f921\"]],\"type\":\"heatmap\"}],\"heatmapgl\":[{\"colorbar\":{\"outlinewidth\":0,\"ticks\":\"\"},\"colorscale\":[[0.0,\"#0d0887\"],[0.1111111111111111,\"#46039f\"],[0.2222222222222222,\"#7201a8\"],[0.3333333333333333,\"#9c179e\"],[0.4444444444444444,\"#bd3786\"],[0.5555555555555556,\"#d8576b\"],[0.6666666666666666,\"#ed7953\"],[0.7777777777777778,\"#fb9f3a\"],[0.8888888888888888,\"#fdca26\"],[1.0,\"#f0f921\"]],\"type\":\"heatmapgl\"}],\"histogram\":[{\"marker\":{\"pattern\":{\"fillmode\":\"overlay\",\"size\":10,\"solidity\":0.2}},\"type\":\"histogram\"}],\"histogram2d\":[{\"colorbar\":{\"outlinewidth\":0,\"ticks\":\"\"},\"colorscale\":[[0.0,\"#0d0887\"],[0.1111111111111111,\"#46039f\"],[0.2222222222222222,\"#7201a8\"],[0.3333333333333333,\"#9c179e\"],[0.4444444444444444,\"#bd3786\"],[0.5555555555555556,\"#d8576b\"],[0.6666666666666666,\"#ed7953\"],[0.7777777777777778,\"#fb9f3a\"],[0.8888888888888888,\"#fdca26\"],[1.0,\"#f0f921\"]],\"type\":\"histogram2d\"}],\"histogram2dcontour\":[{\"colorbar\":{\"outlinewidth\":0,\"ticks\":\"\"},\"colorscale\":[[0.0,\"#0d0887\"],[0.1111111111111111,\"#46039f\"],[0.2222222222222222,\"#7201a8\"],[0.3333333333333333,\"#9c179e\"],[0.4444444444444444,\"#bd3786\"],[0.5555555555555556,\"#d8576b\"],[0.6666666666666666,\"#ed7953\"],[0.7777777777777778,\"#fb9f3a\"],[0.8888888888888888,\"#fdca26\"],[1.0,\"#f0f921\"]],\"type\":\"histogram2dcontour\"}],\"mesh3d\":[{\"colorbar\":{\"outlinewidth\":0,\"ticks\":\"\"},\"type\":\"mesh3d\"}],\"parcoords\":[{\"line\":{\"colorbar\":{\"outlinewidth\":0,\"ticks\":\"\"}},\"type\":\"parcoords\"}],\"pie\":[{\"automargin\":true,\"type\":\"pie\"}],\"scatter\":[{\"marker\":{\"colorbar\":{\"outlinewidth\":0,\"ticks\":\"\"}},\"type\":\"scatter\"}],\"scatter3d\":[{\"line\":{\"colorbar\":{\"outlinewidth\":0,\"ticks\":\"\"}},\"marker\":{\"colorbar\":{\"outlinewidth\":0,\"ticks\":\"\"}},\"type\":\"scatter3d\"}],\"scattercarpet\":[{\"marker\":{\"colorbar\":{\"outlinewidth\":0,\"ticks\":\"\"}},\"type\":\"scattercarpet\"}],\"scattergeo\":[{\"marker\":{\"colorbar\":{\"outlinewidth\":0,\"ticks\":\"\"}},\"type\":\"scattergeo\"}],\"scattergl\":[{\"marker\":{\"colorbar\":{\"outlinewidth\":0,\"ticks\":\"\"}},\"type\":\"scattergl\"}],\"scattermapbox\":[{\"marker\":{\"colorbar\":{\"outlinewidth\":0,\"ticks\":\"\"}},\"type\":\"scattermapbox\"}],\"scatterpolar\":[{\"marker\":{\"colorbar\":{\"outlinewidth\":0,\"ticks\":\"\"}},\"type\":\"scatterpolar\"}],\"scatterpolargl\":[{\"marker\":{\"colorbar\":{\"outlinewidth\":0,\"ticks\":\"\"}},\"type\":\"scatterpolargl\"}],\"scatterternary\":[{\"marker\":{\"colorbar\":{\"outlinewidth\":0,\"ticks\":\"\"}},\"type\":\"scatterternary\"}],\"surface\":[{\"colorbar\":{\"outlinewidth\":0,\"ticks\":\"\"},\"colorscale\":[[0.0,\"#0d0887\"],[0.1111111111111111,\"#46039f\"],[0.2222222222222222,\"#7201a8\"],[0.3333333333333333,\"#9c179e\"],[0.4444444444444444,\"#bd3786\"],[0.5555555555555556,\"#d8576b\"],[0.6666666666666666,\"#ed7953\"],[0.7777777777777778,\"#fb9f3a\"],[0.8888888888888888,\"#fdca26\"],[1.0,\"#f0f921\"]],\"type\":\"surface\"}],\"table\":[{\"cells\":{\"fill\":{\"color\":\"#EBF0F8\"},\"line\":{\"color\":\"white\"}},\"header\":{\"fill\":{\"color\":\"#C8D4E3\"},\"line\":{\"color\":\"white\"}},\"type\":\"table\"}]},\"layout\":{\"annotationdefaults\":{\"arrowcolor\":\"#2a3f5f\",\"arrowhead\":0,\"arrowwidth\":1},\"autotypenumbers\":\"strict\",\"coloraxis\":{\"colorbar\":{\"outlinewidth\":0,\"ticks\":\"\"}},\"colorscale\":{\"diverging\":[[0,\"#8e0152\"],[0.1,\"#c51b7d\"],[0.2,\"#de77ae\"],[0.3,\"#f1b6da\"],[0.4,\"#fde0ef\"],[0.5,\"#f7f7f7\"],[0.6,\"#e6f5d0\"],[0.7,\"#b8e186\"],[0.8,\"#7fbc41\"],[0.9,\"#4d9221\"],[1,\"#276419\"]],\"sequential\":[[0.0,\"#0d0887\"],[0.1111111111111111,\"#46039f\"],[0.2222222222222222,\"#7201a8\"],[0.3333333333333333,\"#9c179e\"],[0.4444444444444444,\"#bd3786\"],[0.5555555555555556,\"#d8576b\"],[0.6666666666666666,\"#ed7953\"],[0.7777777777777778,\"#fb9f3a\"],[0.8888888888888888,\"#fdca26\"],[1.0,\"#f0f921\"]],\"sequentialminus\":[[0.0,\"#0d0887\"],[0.1111111111111111,\"#46039f\"],[0.2222222222222222,\"#7201a8\"],[0.3333333333333333,\"#9c179e\"],[0.4444444444444444,\"#bd3786\"],[0.5555555555555556,\"#d8576b\"],[0.6666666666666666,\"#ed7953\"],[0.7777777777777778,\"#fb9f3a\"],[0.8888888888888888,\"#fdca26\"],[1.0,\"#f0f921\"]]},\"colorway\":[\"#636efa\",\"#EF553B\",\"#00cc96\",\"#ab63fa\",\"#FFA15A\",\"#19d3f3\",\"#FF6692\",\"#B6E880\",\"#FF97FF\",\"#FECB52\"],\"font\":{\"color\":\"#2a3f5f\"},\"geo\":{\"bgcolor\":\"white\",\"lakecolor\":\"white\",\"landcolor\":\"#E5ECF6\",\"showlakes\":true,\"showland\":true,\"subunitcolor\":\"white\"},\"hoverlabel\":{\"align\":\"left\"},\"hovermode\":\"closest\",\"mapbox\":{\"style\":\"light\"},\"paper_bgcolor\":\"white\",\"plot_bgcolor\":\"#E5ECF6\",\"polar\":{\"angularaxis\":{\"gridcolor\":\"white\",\"linecolor\":\"white\",\"ticks\":\"\"},\"bgcolor\":\"#E5ECF6\",\"radialaxis\":{\"gridcolor\":\"white\",\"linecolor\":\"white\",\"ticks\":\"\"}},\"scene\":{\"xaxis\":{\"backgroundcolor\":\"#E5ECF6\",\"gridcolor\":\"white\",\"gridwidth\":2,\"linecolor\":\"white\",\"showbackground\":true,\"ticks\":\"\",\"zerolinecolor\":\"white\"},\"yaxis\":{\"backgroundcolor\":\"#E5ECF6\",\"gridcolor\":\"white\",\"gridwidth\":2,\"linecolor\":\"white\",\"showbackground\":true,\"ticks\":\"\",\"zerolinecolor\":\"white\"},\"zaxis\":{\"backgroundcolor\":\"#E5ECF6\",\"gridcolor\":\"white\",\"gridwidth\":2,\"linecolor\":\"white\",\"showbackground\":true,\"ticks\":\"\",\"zerolinecolor\":\"white\"}},\"shapedefaults\":{\"line\":{\"color\":\"#2a3f5f\"}},\"ternary\":{\"aaxis\":{\"gridcolor\":\"white\",\"linecolor\":\"white\",\"ticks\":\"\"},\"baxis\":{\"gridcolor\":\"white\",\"linecolor\":\"white\",\"ticks\":\"\"},\"bgcolor\":\"#E5ECF6\",\"caxis\":{\"gridcolor\":\"white\",\"linecolor\":\"white\",\"ticks\":\"\"}},\"title\":{\"x\":0.05},\"xaxis\":{\"automargin\":true,\"gridcolor\":\"white\",\"linecolor\":\"white\",\"ticks\":\"\",\"title\":{\"standoff\":15},\"zerolinecolor\":\"white\",\"zerolinewidth\":2},\"yaxis\":{\"automargin\":true,\"gridcolor\":\"white\",\"linecolor\":\"white\",\"ticks\":\"\",\"title\":{\"standoff\":15},\"zerolinecolor\":\"white\",\"zerolinewidth\":2}}},\"xaxis\":{\"anchor\":\"y\",\"domain\":[0.0,1.0],\"title\":{\"text\":\"Date\"},\"rangeslider\":{\"visible\":true},\"rangeselector\":{\"buttons\":[{\"count\":1,\"label\":\"1m\",\"step\":\"month\",\"stepmode\":\"backward\"},{\"count\":6,\"label\":\"6m\",\"step\":\"month\",\"stepmode\":\"backward\"},{\"count\":1,\"label\":\"YTD\",\"step\":\"year\",\"stepmode\":\"todate\"},{\"count\":1,\"label\":\"1y\",\"step\":\"year\",\"stepmode\":\"backward\"},{\"step\":\"all\"}]}},\"yaxis\":{\"anchor\":\"x\",\"domain\":[0.0,1.0],\"title\":{\"text\":\"GMSL\"}},\"legend\":{\"title\":{\"text\":\"partition\"},\"tracegroupgap\":0},\"title\":{\"text\":\"GMSL\"},\"height\":500,\"width\":900},                        {\"responsive\": true}                    ).then(function(){\n",
       "                            \n",
       "var gd = document.getElementById('36a00c04-8a45-4773-8900-5cd182a2f5cb');\n",
       "var x = new MutationObserver(function (mutations, observer) {{\n",
       "        var display = window.getComputedStyle(gd).display;\n",
       "        if (!display || display === 'none') {{\n",
       "            console.log([gd, 'removed!']);\n",
       "            Plotly.purge(gd);\n",
       "            observer.disconnect();\n",
       "        }}\n",
       "}});\n",
       "\n",
       "// Listen for the removal of the full notebook cells\n",
       "var notebookContainer = gd.closest('#notebook-container');\n",
       "if (notebookContainer) {{\n",
       "    x.observe(notebookContainer, {childList: true});\n",
       "}}\n",
       "\n",
       "// Listen for the clearing of the current output cell\n",
       "var outputEl = gd.closest('.output');\n",
       "if (outputEl) {{\n",
       "    x.observe(outputEl, {childList: true});\n",
       "}}\n",
       "\n",
       "                        })                };                });            </script>        </div>"
      ]
     },
     "metadata": {},
     "output_type": "display_data"
    }
   ],
   "source": [
    "# Interactive plot of time series\n",
    "# ==============================================================================\n",
    "data.loc[:end_train, 'partition'] = 'train'\n",
    "data.loc[end_train:end_validation, 'partition'] = 'validation'\n",
    "data.loc[end_validation:, 'partition'] = 'test'\n",
    "\n",
    "fig = px.line(\n",
    "    data_frame = data.reset_index(),\n",
    "    x      = 'Date',\n",
    "    y      = 'GMSL',\n",
    "    color  = 'partition',\n",
    "    title  = 'GMSL',\n",
    "    width  = 900,\n",
    "    height = 500\n",
    ")\n",
    "\n",
    "fig.update_xaxes(\n",
    "    rangeslider_visible=True,\n",
    "    rangeselector=dict(\n",
    "        buttons=list([\n",
    "            dict(count=1, label=\"1m\", step=\"month\", stepmode=\"backward\"),\n",
    "            dict(count=6, label=\"6m\", step=\"month\", stepmode=\"backward\"),\n",
    "            dict(count=1, label=\"YTD\", step=\"year\", stepmode=\"todate\"),\n",
    "            dict(count=1, label=\"1y\", step=\"year\", stepmode=\"backward\"),\n",
    "            dict(step=\"all\")\n",
    "        ])\n",
    "    )\n",
    ")\n",
    "\n",
    "fig.show()\n",
    "\n",
    "data=data.drop(columns='partition')"
   ]
  },
  {
   "cell_type": "code",
   "execution_count": 162,
   "id": "3c3fa897",
   "metadata": {},
   "outputs": [
    {
     "data": {
      "image/png": "[encoded data removed]",
      "text/plain": [
       "<Figure size 1080x432 with 1 Axes>"
      ]
     },
     "metadata": {
      "needs_background": "light"
     },
     "output_type": "display_data"
    }
   ],
   "source": [
    "# Autocorrelation plot\n",
    "# ==============================================================================\n",
    "fig, ax = plt.subplots(figsize=(15, 6))\n",
    "plot_acf(data['GMSL'], ax=ax, lags=72)\n",
    "plt.show()"
   ]
  },
  {
   "cell_type": "code",
   "execution_count": 163,
   "id": "c5579fde",
   "metadata": {},
   "outputs": [
    {
     "data": {
      "image/png": "[encoded data removed]",
      "text/plain": [
       "<Figure size 1080x432 with 1 Axes>"
      ]
     },
     "metadata": {
      "needs_background": "light"
     },
     "output_type": "display_data"
    }
   ],
   "source": [
    "# Partial autocorrelation plot\n",
    "# ==============================================================================\n",
    "fig, ax = plt.subplots(figsize=(15, 6))\n",
    "plot_pacf(data['GMSL'], ax=ax, lags=72, method='ywm')\n",
    "plt.show()"
   ]
  },
  {
   "cell_type": "code",
   "execution_count": 164,
   "id": "2917a81b",
   "metadata": {},
   "outputs": [
    {
     "name": "stdout",
     "output_type": "stream",
     "text": [
      "['Extent', 'WaterTemp', 'O2ml', 'SiO3', 'NO3', 'LandAverageTemperature', 'LandAndOceanAverageTemperature', 'CO2']\n"
     ]
    }
   ],
   "source": [
    "exog_variables = [column for column in data.columns\n",
    "                      if column.startswith(('Extent', 'WaterTemp', 'O2ml', 'SiO3', 'NO3', 'LandAverageTemperature', 'LandAndOceanAverageTemperature', 'CO2'))]\n",
    "print(exog_variables)"
   ]
  },
  {
   "cell_type": "code",
   "execution_count": 165,
   "id": "134547b9",
   "metadata": {},
   "outputs": [],
   "source": [
    "# Create forecaster\n",
    "# ==============================================================================\n",
    "forecaster = ForecasterAutoreg(\n",
    "                regressor = XGBRegressor(random_state=123),\n",
    "                lags = 8\n",
    "             )"
   ]
  },
  {
   "cell_type": "code",
   "execution_count": 166,
   "id": "614d013b",
   "metadata": {},
   "outputs": [
    {
     "name": "stdout",
     "output_type": "stream",
     "text": [
      "Number of models compared: 72\n"
     ]
    },
    {
     "name": "stderr",
     "output_type": "stream",
     "text": [
      "loop lags_grid:   0%|                                               | 0/3 [00:00<?, ?it/s]\n",
      "loop param_grid:   0%|                                             | 0/24 [00:00<?, ?it/s]\u001b[A\n",
      "loop param_grid:   4%|█▌                                   | 1/24 [00:00<00:07,  3.08it/s]\u001b[A\n",
      "loop param_grid:   8%|███                                  | 2/24 [00:00<00:06,  3.26it/s]\u001b[A\n",
      "loop param_grid:  12%|████▋                                | 3/24 [00:01<00:14,  1.44it/s]\u001b[A\n",
      "loop param_grid:  17%|██████▏                              | 4/24 [00:02<00:10,  1.95it/s]\u001b[A\n",
      "loop param_grid:  21%|███████▋                             | 5/24 [00:02<00:09,  2.01it/s]\u001b[A\n",
      "loop param_grid:  25%|█████████▎                           | 6/24 [00:04<00:18,  1.04s/it]\u001b[A\n",
      "loop param_grid:  29%|██████████▊                          | 7/24 [00:04<00:13,  1.25it/s]\u001b[A\n",
      "loop param_grid:  33%|████████████▎                        | 8/24 [00:05<00:11,  1.39it/s]\u001b[A\n",
      "loop param_grid:  38%|█████████████▉                       | 9/24 [00:08<00:19,  1.31s/it]\u001b[A\n",
      "loop param_grid:  42%|███████████████                     | 10/24 [00:08<00:14,  1.03s/it]\u001b[A\n",
      "loop param_grid:  46%|████████████████▌                   | 11/24 [00:09<00:12,  1.06it/s]\u001b[A\n",
      "loop param_grid:  50%|██████████████████                  | 12/24 [00:14<00:25,  2.12s/it]\u001b[A\n",
      "loop param_grid:  54%|███████████████████▌                | 13/24 [00:14<00:16,  1.54s/it]\u001b[A\n",
      "loop param_grid:  58%|█████████████████████               | 14/24 [00:14<00:11,  1.16s/it]\u001b[A\n",
      "loop param_grid:  62%|██████████████████████▌             | 15/24 [00:15<00:10,  1.22s/it]\u001b[A\n",
      "loop param_grid:  67%|████████████████████████            | 16/24 [00:16<00:07,  1.06it/s]\u001b[A\n",
      "loop param_grid:  71%|█████████████████████████▌          | 17/24 [00:16<00:05,  1.25it/s]\u001b[A\n",
      "loop param_grid:  75%|███████████████████████████         | 18/24 [00:18<00:07,  1.19s/it]\u001b[A\n",
      "loop param_grid:  79%|████████████████████████████▌       | 19/24 [00:19<00:04,  1.06it/s]\u001b[A\n",
      "loop param_grid:  83%|██████████████████████████████      | 20/24 [00:19<00:03,  1.20it/s]\u001b[A\n",
      "loop param_grid:  88%|███████████████████████████████▌    | 21/24 [00:22<00:03,  1.31s/it]\u001b[A\n",
      "loop param_grid:  92%|█████████████████████████████████   | 22/24 [00:22<00:02,  1.09s/it]\u001b[A\n",
      "loop param_grid:  96%|██████████████████████████████████▌ | 23/24 [00:23<00:01,  1.09s/it]\u001b[A\n",
      "loop param_grid: 100%|████████████████████████████████████| 24/24 [00:25<00:00,  1.42s/it]\u001b[A\n",
      "loop lags_grid:  33%|█████████████                          | 1/3 [00:25<00:51, 25.96s/it]\u001b[A\n",
      "loop param_grid:   0%|                                             | 0/24 [00:00<?, ?it/s]\u001b[A\n",
      "loop param_grid:   4%|█▌                                   | 1/24 [00:00<00:04,  5.14it/s]\u001b[A\n",
      "loop param_grid:   8%|███                                  | 2/24 [00:00<00:05,  3.83it/s]\u001b[A\n",
      "loop param_grid:  12%|████▋                                | 3/24 [00:01<00:15,  1.35it/s]\u001b[A\n",
      "loop param_grid:  17%|██████▏                              | 4/24 [00:02<00:10,  1.83it/s]\u001b[A\n",
      "loop param_grid:  21%|███████▋                             | 5/24 [00:02<00:09,  1.93it/s]\u001b[A\n",
      "loop param_grid:  25%|█████████▎                           | 6/24 [00:04<00:20,  1.14s/it]\u001b[A\n",
      "loop param_grid:  29%|██████████▊                          | 7/24 [00:05<00:14,  1.15it/s]\u001b[A\n",
      "loop param_grid:  33%|████████████▎                        | 8/24 [00:05<00:12,  1.25it/s]\u001b[A\n",
      "loop param_grid:  38%|█████████████▉                       | 9/24 [00:08<00:22,  1.49s/it]\u001b[A\n",
      "loop param_grid:  42%|███████████████                     | 10/24 [00:09<00:16,  1.18s/it]\u001b[A\n",
      "loop param_grid:  46%|████████████████▌                   | 11/24 [00:10<00:14,  1.09s/it]\u001b[A\n",
      "loop param_grid:  50%|██████████████████                  | 12/24 [00:15<00:28,  2.39s/it]\u001b[A\n",
      "loop param_grid:  54%|███████████████████▌                | 13/24 [00:15<00:19,  1.73s/it]\u001b[A\n",
      "loop param_grid:  58%|█████████████████████               | 14/24 [00:16<00:13,  1.31s/it]\u001b[A\n",
      "loop param_grid:  62%|██████████████████████▌             | 15/24 [00:18<00:13,  1.52s/it]\u001b[A\n",
      "loop param_grid:  67%|████████████████████████            | 16/24 [00:18<00:09,  1.21s/it]\u001b[A\n",
      "loop param_grid:  71%|█████████████████████████▌          | 17/24 [00:19<00:07,  1.01s/it]\u001b[A\n",
      "loop param_grid:  75%|███████████████████████████         | 18/24 [00:21<00:08,  1.40s/it]\u001b[A\n",
      "loop param_grid:  79%|████████████████████████████▌       | 19/24 [00:21<00:05,  1.10s/it]\u001b[A\n",
      "loop param_grid:  83%|██████████████████████████████      | 20/24 [00:22<00:03,  1.04it/s]\u001b[A\n",
      "loop param_grid:  88%|███████████████████████████████▌    | 21/24 [00:25<00:04,  1.60s/it]\u001b[A\n",
      "loop param_grid:  92%|█████████████████████████████████   | 22/24 [00:26<00:02,  1.30s/it]\u001b[A\n",
      "loop param_grid:  96%|██████████████████████████████████▌ | 23/24 [00:27<00:01,  1.34s/it]\u001b[A\n",
      "loop param_grid: 100%|████████████████████████████████████| 24/24 [00:30<00:00,  1.81s/it]\u001b[A\n",
      "loop lags_grid:  67%|██████████████████████████             | 2/3 [00:56<00:28, 28.67s/it]\u001b[A\n",
      "loop param_grid:   0%|                                             | 0/24 [00:00<?, ?it/s]\u001b[A\n",
      "loop param_grid:   4%|█▌                                   | 1/24 [00:00<00:05,  4.49it/s]\u001b[A\n",
      "loop param_grid:   8%|███                                  | 2/24 [00:00<00:08,  2.71it/s]\u001b[A\n",
      "loop param_grid:  12%|████▋                                | 3/24 [00:02<00:19,  1.06it/s]\u001b[A\n",
      "loop param_grid:  17%|██████▏                              | 4/24 [00:02<00:14,  1.40it/s]\u001b[A\n",
      "loop param_grid:  21%|███████▋                             | 5/24 [00:03<00:12,  1.53it/s]\u001b[A\n",
      "loop param_grid:  25%|█████████▎                           | 6/24 [00:05<00:21,  1.19s/it]\u001b[A\n",
      "loop param_grid:  29%|██████████▊                          | 7/24 [00:05<00:15,  1.10it/s]\u001b[A\n",
      "loop param_grid:  33%|████████████▎                        | 8/24 [00:06<00:12,  1.27it/s]\u001b[A\n",
      "loop param_grid:  38%|█████████████▉                       | 9/24 [00:09<00:24,  1.62s/it]\u001b[A\n",
      "loop param_grid:  42%|███████████████                     | 10/24 [00:10<00:18,  1.29s/it]\u001b[A\n",
      "loop param_grid:  46%|████████████████▌                   | 11/24 [00:11<00:15,  1.17s/it]\u001b[A\n",
      "loop param_grid:  50%|██████████████████                  | 12/24 [00:17<00:31,  2.63s/it]\u001b[A\n",
      "loop param_grid:  54%|███████████████████▌                | 13/24 [00:17<00:20,  1.89s/it]\u001b[A\n",
      "loop param_grid:  58%|█████████████████████               | 14/24 [00:17<00:14,  1.41s/it]\u001b[A\n",
      "loop param_grid:  62%|██████████████████████▌             | 15/24 [00:18<00:12,  1.38s/it]\u001b[A\n",
      "loop param_grid:  67%|████████████████████████            | 16/24 [00:19<00:08,  1.04s/it]\u001b[A\n",
      "loop param_grid:  71%|█████████████████████████▌          | 17/24 [00:19<00:06,  1.13it/s]\u001b[A\n",
      "loop param_grid:  75%|███████████████████████████         | 18/24 [00:21<00:07,  1.27s/it]\u001b[A\n",
      "loop param_grid:  79%|████████████████████████████▌       | 19/24 [00:22<00:04,  1.00it/s]\u001b[A\n",
      "loop param_grid:  83%|██████████████████████████████      | 20/24 [00:22<00:03,  1.11it/s]\u001b[A\n",
      "loop param_grid:  88%|███████████████████████████████▌    | 21/24 [00:25<00:04,  1.42s/it]\u001b[A\n",
      "loop param_grid:  92%|█████████████████████████████████   | 22/24 [00:26<00:02,  1.18s/it]\u001b[A\n",
      "loop param_grid:  96%|██████████████████████████████████▌ | 23/24 [00:27<00:01,  1.31s/it]\u001b[A\n",
      "loop param_grid: 100%|████████████████████████████████████| 24/24 [00:30<00:00,  1.82s/it]\u001b[A\n",
      "loop lags_grid: 100%|███████████████████████████████████████| 3/3 [01:27<00:00, 29.13s/it]\u001b[A\n"
     ]
    },
    {
     "name": "stdout",
     "output_type": "stream",
     "text": [
      "`Forecaster` refitted using the best-found lags and parameters, and the whole data set: \n",
      "  Lags: [ 1  2  3  4  5  6  7  8  9 10] \n",
      "  Parameters: {'learning_rate': 0.1, 'max_depth': 10, 'n_estimators': 500}\n",
      "  Backtesting metric: 70.80228547682303\n",
      "\n"
     ]
    }
   ],
   "source": [
    "# Grid search of hyperparameters and lags\n",
    "# ==============================================================================\n",
    "# Regressor hyperparameters\n",
    "param_grid = {\n",
    "    'n_estimators': [50, 100, 500],\n",
    "    'max_depth': [3, 5, 6, 10],\n",
    "    'learning_rate': [0.01, 0.1]\n",
    "}\n",
    "\n",
    "# Lags used as predictors\n",
    "#lags_grid = [72, [1, 2, 3, 23, 24, 25, 71, 72, 73]]\n",
    "lags_grid = [3, 10, [1, 2, 3, 20]]\n",
    "\n",
    "results_grid = grid_search_forecaster(\n",
    "                        forecaster         = forecaster,\n",
    "                        y                  = data.loc[:end_validation, 'GMSL'],\n",
    "                        exog               = data.loc[:end_validation, exog_variables],\n",
    "                        param_grid         = param_grid,\n",
    "                        lags_grid          = lags_grid,\n",
    "                        steps              = 1,\n",
    "                        refit              = False,\n",
    "                        metric             = 'mean_squared_error',\n",
    "                        initial_train_size = int(len(data_train)),\n",
    "                        return_best        = True,\n",
    "                        verbose            = False\n",
    "                   )\n",
    "# best 56.2972068648576\n",
    "\n",
    "# param_grid = {\n",
    "#     'n_estimators': [20, 50, 75, 100, 300, 500],\n",
    "#     'max_depth': [3, 4, 5, 6, 7, 8, 9, 10, 15, 20, 25],\n",
    "#     'learning_rate': [0.01, 0.02, 0.1]\n",
    "# }\n",
    "\n",
    "# # Lags used as predictors\n",
    "# #lags_grid = [72, [1, 2, 3, 23, 24, 25, 71, 72, 73]]\n",
    "# lags_grid = [3, 5, 10, [1, 2, 3, 4, 6, 10, 16, 20]]\n",
    "\n",
    "# results_grid = grid_search_forecaster(\n",
    "#                         forecaster         = forecaster,\n",
    "#                         y                  = data.loc[:end_validation, 'GMSL'],\n",
    "#                         exog               = data.loc[:end_validation, exog_variables],\n",
    "#                         param_grid         = param_grid,\n",
    "#                         lags_grid          = lags_grid,\n",
    "#                         steps              = 1,\n",
    "#                         refit              = False,\n",
    "#                         metric             = 'mean_squared_error',\n",
    "#                         initial_train_size = int(len(data_train)),\n",
    "#                         return_best        = True,\n",
    "#                         verbose            = False\n",
    "#                    )\n",
    "\n",
    "# best 53.482526615700706"
   ]
  },
  {
   "cell_type": "code",
   "execution_count": 167,
   "id": "bf4ed1bd",
   "metadata": {},
   "outputs": [
    {
     "name": "stdout",
     "output_type": "stream",
     "text": [
      "Backtest error: 56.2972068648576\n"
     ]
    }
   ],
   "source": [
    "# Backtesting\n",
    "# ==============================================================================\n",
    "metric, predictions = backtesting_forecaster(\n",
    "    forecaster         = forecaster,\n",
    "    y                  = data['GMSL'],\n",
    "    exog               = data[exog_variables],\n",
    "    initial_train_size = len(data.loc[:end_validation])-1,\n",
    "    steps              = 1,\n",
    "    refit              = False,\n",
    "    metric             = 'mean_squared_error',\n",
    "    verbose            = False\n",
    ")\n",
    "\n",
    "print(f\"Backtest error: {metric}\")"
   ]
  },
  {
   "cell_type": "code",
   "execution_count": 168,
   "id": "4cc49c1c",
   "metadata": {},
   "outputs": [
    {
     "data": {
      "text/html": [
       "<div>\n",
       "<style scoped>\n",
       "    .dataframe tbody tr th:only-of-type {\n",
       "        vertical-align: middle;\n",
       "    }\n",
       "\n",
       "    .dataframe tbody tr th {\n",
       "        vertical-align: top;\n",
       "    }\n",
       "\n",
       "    .dataframe thead th {\n",
       "        text-align: right;\n",
       "    }\n",
       "</style>\n",
       "<table border=\"1\" class=\"dataframe\">\n",
       "  <thead>\n",
       "    <tr style=\"text-align: right;\">\n",
       "      <th></th>\n",
       "      <th>feature</th>\n",
       "      <th>importance</th>\n",
       "    </tr>\n",
       "  </thead>\n",
       "  <tbody>\n",
       "    <tr>\n",
       "      <th>0</th>\n",
       "      <td>lag_1</td>\n",
       "      <td>0.946348</td>\n",
       "    </tr>\n",
       "    <tr>\n",
       "      <th>1</th>\n",
       "      <td>lag_2</td>\n",
       "      <td>0.001085</td>\n",
       "    </tr>\n",
       "    <tr>\n",
       "      <th>2</th>\n",
       "      <td>lag_3</td>\n",
       "      <td>0.000963</td>\n",
       "    </tr>\n",
       "    <tr>\n",
       "      <th>3</th>\n",
       "      <td>lag_4</td>\n",
       "      <td>0.000406</td>\n",
       "    </tr>\n",
       "    <tr>\n",
       "      <th>4</th>\n",
       "      <td>lag_5</td>\n",
       "      <td>0.001531</td>\n",
       "    </tr>\n",
       "    <tr>\n",
       "      <th>5</th>\n",
       "      <td>lag_6</td>\n",
       "      <td>0.001603</td>\n",
       "    </tr>\n",
       "    <tr>\n",
       "      <th>6</th>\n",
       "      <td>lag_7</td>\n",
       "      <td>0.002795</td>\n",
       "    </tr>\n",
       "    <tr>\n",
       "      <th>7</th>\n",
       "      <td>lag_8</td>\n",
       "      <td>0.008277</td>\n",
       "    </tr>\n",
       "    <tr>\n",
       "      <th>8</th>\n",
       "      <td>lag_9</td>\n",
       "      <td>0.001874</td>\n",
       "    </tr>\n",
       "    <tr>\n",
       "      <th>9</th>\n",
       "      <td>lag_10</td>\n",
       "      <td>0.013336</td>\n",
       "    </tr>\n",
       "    <tr>\n",
       "      <th>10</th>\n",
       "      <td>Extent</td>\n",
       "      <td>0.000616</td>\n",
       "    </tr>\n",
       "    <tr>\n",
       "      <th>11</th>\n",
       "      <td>WaterTemp</td>\n",
       "      <td>0.000627</td>\n",
       "    </tr>\n",
       "    <tr>\n",
       "      <th>12</th>\n",
       "      <td>O2ml</td>\n",
       "      <td>0.000552</td>\n",
       "    </tr>\n",
       "    <tr>\n",
       "      <th>13</th>\n",
       "      <td>SiO3</td>\n",
       "      <td>0.000412</td>\n",
       "    </tr>\n",
       "    <tr>\n",
       "      <th>14</th>\n",
       "      <td>NO3</td>\n",
       "      <td>0.000732</td>\n",
       "    </tr>\n",
       "    <tr>\n",
       "      <th>15</th>\n",
       "      <td>LandAverageTemperature</td>\n",
       "      <td>0.000572</td>\n",
       "    </tr>\n",
       "    <tr>\n",
       "      <th>16</th>\n",
       "      <td>LandAndOceanAverageTemperature</td>\n",
       "      <td>0.000704</td>\n",
       "    </tr>\n",
       "    <tr>\n",
       "      <th>17</th>\n",
       "      <td>CO2</td>\n",
       "      <td>0.017567</td>\n",
       "    </tr>\n",
       "  </tbody>\n",
       "</table>\n",
       "</div>"
      ],
      "text/plain": [
       "                           feature  importance\n",
       "0                            lag_1    0.946348\n",
       "1                            lag_2    0.001085\n",
       "2                            lag_3    0.000963\n",
       "3                            lag_4    0.000406\n",
       "4                            lag_5    0.001531\n",
       "5                            lag_6    0.001603\n",
       "6                            lag_7    0.002795\n",
       "7                            lag_8    0.008277\n",
       "8                            lag_9    0.001874\n",
       "9                           lag_10    0.013336\n",
       "10                          Extent    0.000616\n",
       "11                       WaterTemp    0.000627\n",
       "12                            O2ml    0.000552\n",
       "13                            SiO3    0.000412\n",
       "14                             NO3    0.000732\n",
       "15          LandAverageTemperature    0.000572\n",
       "16  LandAndOceanAverageTemperature    0.000704\n",
       "17                             CO2    0.017567"
      ]
     },
     "execution_count": 168,
     "metadata": {},
     "output_type": "execute_result"
    }
   ],
   "source": [
    "importance = forecaster.get_feature_importance()\n",
    "importance"
   ]
  },
  {
   "cell_type": "code",
   "execution_count": 169,
   "id": "6226d1cf",
   "metadata": {},
   "outputs": [],
   "source": [
    "# Predictions\n",
    "# ==============================================================================\n",
    "#predictions"
   ]
  },
  {
   "cell_type": "code",
   "execution_count": 170,
   "id": "8227fbe6",
   "metadata": {
    "scrolled": true
   },
   "outputs": [
    {
     "data": {
      "image/png": "[encoded data removed]",
      "text/plain": [
       "<Figure size 792x288 with 1 Axes>"
      ]
     },
     "metadata": {
      "needs_background": "light"
     },
     "output_type": "display_data"
    }
   ],
   "source": [
    "# Plot of predictions\n",
    "# ==============================================================================\n",
    "fig, ax = plt.subplots(figsize=(11, 4))\n",
    "data_test['GMSL'].plot(ax=ax, label='test')\n",
    "predictions['pred'].plot(ax=ax, label='predictions')\n",
    "ax.legend();"
   ]
  },
  {
   "cell_type": "code",
   "execution_count": 171,
   "id": "1b93679b",
   "metadata": {},
   "outputs": [
    {
     "data": {
      "text/plain": [
       "2011-12-01    56.872383\n",
       "2012-01-01    56.016464\n",
       "2012-02-01    58.133602\n",
       "2012-03-01    64.637260\n",
       "2012-04-01    71.544617\n",
       "2012-05-01    71.654991\n",
       "2012-06-01    70.901321\n",
       "2012-07-01    70.758163\n",
       "2012-08-01    66.509651\n",
       "2012-09-01    66.523705\n",
       "2012-10-01    65.797508\n",
       "2012-11-01    66.481636\n",
       "2012-12-01    68.653633\n",
       "2013-01-01    67.980553\n",
       "2013-02-01    67.462547\n",
       "2013-03-01    64.246880\n",
       "2013-04-01    64.399742\n",
       "2013-05-01    68.653557\n",
       "2013-06-01    72.000160\n",
       "2013-07-01    72.396645\n",
       "2013-08-01    71.571686\n",
       "2013-09-01    71.576088\n",
       "2013-10-01    69.124802\n",
       "2013-11-01    68.217438\n",
       "2013-12-01    62.520317\n",
       "Freq: MS, Name: pred, dtype: float64"
      ]
     },
     "execution_count": 171,
     "metadata": {},
     "output_type": "execute_result"
    }
   ],
   "source": [
    "predictions['pred']"
   ]
  },
  {
   "cell_type": "code",
   "execution_count": 172,
   "id": "90f58805",
   "metadata": {},
   "outputs": [
    {
     "data": {
      "text/plain": [
       "Date\n",
       "2011-12-01    55.4\n",
       "2012-01-01    58.5\n",
       "2012-02-01    63.8\n",
       "2012-03-01    72.5\n",
       "2012-04-01    80.4\n",
       "2012-05-01    82.0\n",
       "2012-06-01    82.4\n",
       "2012-07-01    78.1\n",
       "2012-08-01    78.8\n",
       "2012-09-01    78.6\n",
       "2012-10-01    80.8\n",
       "2012-11-01    79.4\n",
       "2012-12-01    77.7\n",
       "2013-01-01    70.5\n",
       "2013-02-01    65.7\n",
       "2013-03-01    67.0\n",
       "2013-04-01    69.8\n",
       "2013-05-01    72.0\n",
       "2013-06-01    71.5\n",
       "2013-07-01    71.2\n",
       "2013-08-01    71.6\n",
       "2013-09-01    68.8\n",
       "2013-10-01    66.4\n",
       "2013-11-01    59.7\n",
       "2013-12-01    58.5\n",
       "Freq: MS, Name: GMSL, dtype: float64"
      ]
     },
     "execution_count": 172,
     "metadata": {},
     "output_type": "execute_result"
    }
   ],
   "source": [
    "data_test['GMSL']"
   ]
  },
  {
   "cell_type": "code",
   "execution_count": 173,
   "id": "8f77e885",
   "metadata": {},
   "outputs": [
    {
     "data": {
      "image/png": "[encoded data removed]",
      "text/plain": [
       "<Figure size 1080x432 with 1 Axes>"
      ]
     },
     "metadata": {
      "needs_background": "light"
     },
     "output_type": "display_data"
    }
   ],
   "source": [
    "# Plot\n",
    "# ==============================================================================\n",
    "fig, ax = plt.subplots(figsize=(15, 6))\n",
    "data_train['GMSL'].plot(ax=ax, label='train')\n",
    "data_test['GMSL'].plot(ax=ax, label='test')\n",
    "data_val['GMSL'].plot(ax=ax, label='validation')\n",
    "predictions.plot(ax=ax, label='predictions')\n",
    "ax.legend();"
   ]
  },
  {
   "cell_type": "code",
   "execution_count": 174,
   "id": "c19a11b7",
   "metadata": {},
   "outputs": [],
   "source": [
    "data_test.insert(len(data_test.columns), 'GMSL_PREDICTION', predictions['pred'])"
   ]
  },
  {
   "cell_type": "code",
   "execution_count": 175,
   "id": "0e41c0f6",
   "metadata": {},
   "outputs": [
    {
     "data": {
      "text/html": [
       "<div>\n",
       "<style scoped>\n",
       "    .dataframe tbody tr th:only-of-type {\n",
       "        vertical-align: middle;\n",
       "    }\n",
       "\n",
       "    .dataframe tbody tr th {\n",
       "        vertical-align: top;\n",
       "    }\n",
       "\n",
       "    .dataframe thead th {\n",
       "        text-align: right;\n",
       "    }\n",
       "</style>\n",
       "<table border=\"1\" class=\"dataframe\">\n",
       "  <thead>\n",
       "    <tr style=\"text-align: right;\">\n",
       "      <th></th>\n",
       "      <th>Extent</th>\n",
       "      <th>WaterTemp</th>\n",
       "      <th>O2ml</th>\n",
       "      <th>SiO3</th>\n",
       "      <th>NO3</th>\n",
       "      <th>LandAverageTemperature</th>\n",
       "      <th>LandAndOceanAverageTemperature</th>\n",
       "      <th>CO2</th>\n",
       "      <th>IsGMSLIncreased</th>\n",
       "      <th>GMSL</th>\n",
       "      <th>GMSL_PREDICTION</th>\n",
       "    </tr>\n",
       "    <tr>\n",
       "      <th>Date</th>\n",
       "      <th></th>\n",
       "      <th></th>\n",
       "      <th></th>\n",
       "      <th></th>\n",
       "      <th></th>\n",
       "      <th></th>\n",
       "      <th></th>\n",
       "      <th></th>\n",
       "      <th></th>\n",
       "      <th></th>\n",
       "      <th></th>\n",
       "    </tr>\n",
       "  </thead>\n",
       "  <tbody>\n",
       "    <tr>\n",
       "      <th>2011-12-01</th>\n",
       "      <td>11.676274</td>\n",
       "      <td>12.355</td>\n",
       "      <td>4.825</td>\n",
       "      <td>8.500</td>\n",
       "      <td>8.700</td>\n",
       "      <td>4.655</td>\n",
       "      <td>14.198</td>\n",
       "      <td>391.86</td>\n",
       "      <td>0</td>\n",
       "      <td>55.4</td>\n",
       "      <td>56.872383</td>\n",
       "    </tr>\n",
       "    <tr>\n",
       "      <th>2012-01-01</th>\n",
       "      <td>9.691645</td>\n",
       "      <td>13.900</td>\n",
       "      <td>5.640</td>\n",
       "      <td>2.600</td>\n",
       "      <td>0.600</td>\n",
       "      <td>3.157</td>\n",
       "      <td>13.859</td>\n",
       "      <td>393.12</td>\n",
       "      <td>1</td>\n",
       "      <td>58.5</td>\n",
       "      <td>56.016464</td>\n",
       "    </tr>\n",
       "    <tr>\n",
       "      <th>2012-02-01</th>\n",
       "      <td>9.053293</td>\n",
       "      <td>12.160</td>\n",
       "      <td>5.410</td>\n",
       "      <td>5.825</td>\n",
       "      <td>5.525</td>\n",
       "      <td>3.628</td>\n",
       "      <td>14.164</td>\n",
       "      <td>393.86</td>\n",
       "      <td>1</td>\n",
       "      <td>63.8</td>\n",
       "      <td>58.133602</td>\n",
       "    </tr>\n",
       "    <tr>\n",
       "      <th>2012-03-01</th>\n",
       "      <td>9.873258</td>\n",
       "      <td>11.750</td>\n",
       "      <td>5.495</td>\n",
       "      <td>10.000</td>\n",
       "      <td>10.400</td>\n",
       "      <td>6.023</td>\n",
       "      <td>14.863</td>\n",
       "      <td>394.40</td>\n",
       "      <td>1</td>\n",
       "      <td>72.5</td>\n",
       "      <td>64.637260</td>\n",
       "    </tr>\n",
       "    <tr>\n",
       "      <th>2012-04-01</th>\n",
       "      <td>10.967500</td>\n",
       "      <td>10.660</td>\n",
       "      <td>4.990</td>\n",
       "      <td>19.000</td>\n",
       "      <td>17.300</td>\n",
       "      <td>9.676</td>\n",
       "      <td>15.881</td>\n",
       "      <td>396.18</td>\n",
       "      <td>1</td>\n",
       "      <td>80.4</td>\n",
       "      <td>71.544617</td>\n",
       "    </tr>\n",
       "  </tbody>\n",
       "</table>\n",
       "</div>"
      ],
      "text/plain": [
       "               Extent  WaterTemp   O2ml    SiO3     NO3  \\\n",
       "Date                                                      \n",
       "2011-12-01  11.676274     12.355  4.825   8.500   8.700   \n",
       "2012-01-01   9.691645     13.900  5.640   2.600   0.600   \n",
       "2012-02-01   9.053293     12.160  5.410   5.825   5.525   \n",
       "2012-03-01   9.873258     11.750  5.495  10.000  10.400   \n",
       "2012-04-01  10.967500     10.660  4.990  19.000  17.300   \n",
       "\n",
       "            LandAverageTemperature  LandAndOceanAverageTemperature     CO2  \\\n",
       "Date                                                                         \n",
       "2011-12-01                   4.655                          14.198  391.86   \n",
       "2012-01-01                   3.157                          13.859  393.12   \n",
       "2012-02-01                   3.628                          14.164  393.86   \n",
       "2012-03-01                   6.023                          14.863  394.40   \n",
       "2012-04-01                   9.676                          15.881  396.18   \n",
       "\n",
       "            IsGMSLIncreased  GMSL  GMSL_PREDICTION  \n",
       "Date                                                \n",
       "2011-12-01                0  55.4        56.872383  \n",
       "2012-01-01                1  58.5        56.016464  \n",
       "2012-02-01                1  63.8        58.133602  \n",
       "2012-03-01                1  72.5        64.637260  \n",
       "2012-04-01                1  80.4        71.544617  "
      ]
     },
     "execution_count": 175,
     "metadata": {},
     "output_type": "execute_result"
    }
   ],
   "source": [
    "data_test.head()"
   ]
  },
  {
   "cell_type": "code",
   "execution_count": 176,
   "id": "0b857400",
   "metadata": {},
   "outputs": [],
   "source": [
    "data_test.insert(len(data_test.columns), 'Error', data_test['GMSL'] - data_test['GMSL_PREDICTION'])\n",
    "data_test.insert(len(data_test.columns), 'Abs_error', data_test['Error'].apply(np.abs))"
   ]
  },
  {
   "cell_type": "code",
   "execution_count": 177,
   "id": "e6a462e4",
   "metadata": {},
   "outputs": [],
   "source": [
    "error_by_day = data_test.groupby(['Date']).mean()[['GMSL','GMSL_PREDICTION','Error','Abs_error']]"
   ]
  },
  {
   "cell_type": "code",
   "execution_count": 178,
   "id": "a540f7d4",
   "metadata": {},
   "outputs": [
    {
     "data": {
      "text/html": [
       "<div>\n",
       "<style scoped>\n",
       "    .dataframe tbody tr th:only-of-type {\n",
       "        vertical-align: middle;\n",
       "    }\n",
       "\n",
       "    .dataframe tbody tr th {\n",
       "        vertical-align: top;\n",
       "    }\n",
       "\n",
       "    .dataframe thead th {\n",
       "        text-align: right;\n",
       "    }\n",
       "</style>\n",
       "<table border=\"1\" class=\"dataframe\">\n",
       "  <thead>\n",
       "    <tr style=\"text-align: right;\">\n",
       "      <th></th>\n",
       "      <th>GMSL</th>\n",
       "      <th>GMSL_PREDICTION</th>\n",
       "      <th>Error</th>\n",
       "      <th>Abs_error</th>\n",
       "    </tr>\n",
       "    <tr>\n",
       "      <th>Date</th>\n",
       "      <th></th>\n",
       "      <th></th>\n",
       "      <th></th>\n",
       "      <th></th>\n",
       "    </tr>\n",
       "  </thead>\n",
       "  <tbody>\n",
       "    <tr>\n",
       "      <th>2012-10-01</th>\n",
       "      <td>80.8</td>\n",
       "      <td>65.797508</td>\n",
       "      <td>15.002492</td>\n",
       "      <td>15.002492</td>\n",
       "    </tr>\n",
       "    <tr>\n",
       "      <th>2012-11-01</th>\n",
       "      <td>79.4</td>\n",
       "      <td>66.481636</td>\n",
       "      <td>12.918364</td>\n",
       "      <td>12.918364</td>\n",
       "    </tr>\n",
       "    <tr>\n",
       "      <th>2012-08-01</th>\n",
       "      <td>78.8</td>\n",
       "      <td>66.509651</td>\n",
       "      <td>12.290349</td>\n",
       "      <td>12.290349</td>\n",
       "    </tr>\n",
       "    <tr>\n",
       "      <th>2012-09-01</th>\n",
       "      <td>78.6</td>\n",
       "      <td>66.523705</td>\n",
       "      <td>12.076295</td>\n",
       "      <td>12.076295</td>\n",
       "    </tr>\n",
       "    <tr>\n",
       "      <th>2012-06-01</th>\n",
       "      <td>82.4</td>\n",
       "      <td>70.901321</td>\n",
       "      <td>11.498679</td>\n",
       "      <td>11.498679</td>\n",
       "    </tr>\n",
       "    <tr>\n",
       "      <th>2012-05-01</th>\n",
       "      <td>82.0</td>\n",
       "      <td>71.654991</td>\n",
       "      <td>10.345009</td>\n",
       "      <td>10.345009</td>\n",
       "    </tr>\n",
       "    <tr>\n",
       "      <th>2012-12-01</th>\n",
       "      <td>77.7</td>\n",
       "      <td>68.653633</td>\n",
       "      <td>9.046367</td>\n",
       "      <td>9.046367</td>\n",
       "    </tr>\n",
       "    <tr>\n",
       "      <th>2012-04-01</th>\n",
       "      <td>80.4</td>\n",
       "      <td>71.544617</td>\n",
       "      <td>8.855383</td>\n",
       "      <td>8.855383</td>\n",
       "    </tr>\n",
       "    <tr>\n",
       "      <th>2013-11-01</th>\n",
       "      <td>59.7</td>\n",
       "      <td>68.217438</td>\n",
       "      <td>-8.517438</td>\n",
       "      <td>8.517438</td>\n",
       "    </tr>\n",
       "    <tr>\n",
       "      <th>2012-03-01</th>\n",
       "      <td>72.5</td>\n",
       "      <td>64.637260</td>\n",
       "      <td>7.862740</td>\n",
       "      <td>7.862740</td>\n",
       "    </tr>\n",
       "  </tbody>\n",
       "</table>\n",
       "</div>"
      ],
      "text/plain": [
       "            GMSL  GMSL_PREDICTION      Error  Abs_error\n",
       "Date                                                   \n",
       "2012-10-01  80.8        65.797508  15.002492  15.002492\n",
       "2012-11-01  79.4        66.481636  12.918364  12.918364\n",
       "2012-08-01  78.8        66.509651  12.290349  12.290349\n",
       "2012-09-01  78.6        66.523705  12.076295  12.076295\n",
       "2012-06-01  82.4        70.901321  11.498679  11.498679\n",
       "2012-05-01  82.0        71.654991  10.345009  10.345009\n",
       "2012-12-01  77.7        68.653633   9.046367   9.046367\n",
       "2012-04-01  80.4        71.544617   8.855383   8.855383\n",
       "2013-11-01  59.7        68.217438  -8.517438   8.517438\n",
       "2012-03-01  72.5        64.637260   7.862740   7.862740"
      ]
     },
     "execution_count": 178,
     "metadata": {},
     "output_type": "execute_result"
    }
   ],
   "source": [
    "# Worst absolute predicted days\n",
    "error_by_day.sort_values('Abs_error', ascending=False).head(10)"
   ]
  },
  {
   "cell_type": "code",
   "execution_count": 179,
   "id": "29190d8b",
   "metadata": {},
   "outputs": [
    {
     "data": {
      "text/html": [
       "<div>\n",
       "<style scoped>\n",
       "    .dataframe tbody tr th:only-of-type {\n",
       "        vertical-align: middle;\n",
       "    }\n",
       "\n",
       "    .dataframe tbody tr th {\n",
       "        vertical-align: top;\n",
       "    }\n",
       "\n",
       "    .dataframe thead th {\n",
       "        text-align: right;\n",
       "    }\n",
       "</style>\n",
       "<table border=\"1\" class=\"dataframe\">\n",
       "  <thead>\n",
       "    <tr style=\"text-align: right;\">\n",
       "      <th></th>\n",
       "      <th>GMSL</th>\n",
       "      <th>GMSL_PREDICTION</th>\n",
       "      <th>Error</th>\n",
       "      <th>Abs_error</th>\n",
       "    </tr>\n",
       "    <tr>\n",
       "      <th>Date</th>\n",
       "      <th></th>\n",
       "      <th></th>\n",
       "      <th></th>\n",
       "      <th></th>\n",
       "    </tr>\n",
       "  </thead>\n",
       "  <tbody>\n",
       "    <tr>\n",
       "      <th>2013-08-01</th>\n",
       "      <td>71.6</td>\n",
       "      <td>71.571686</td>\n",
       "      <td>0.028314</td>\n",
       "      <td>0.028314</td>\n",
       "    </tr>\n",
       "    <tr>\n",
       "      <th>2013-06-01</th>\n",
       "      <td>71.5</td>\n",
       "      <td>72.000160</td>\n",
       "      <td>-0.500160</td>\n",
       "      <td>0.500160</td>\n",
       "    </tr>\n",
       "    <tr>\n",
       "      <th>2013-07-01</th>\n",
       "      <td>71.2</td>\n",
       "      <td>72.396645</td>\n",
       "      <td>-1.196645</td>\n",
       "      <td>1.196645</td>\n",
       "    </tr>\n",
       "    <tr>\n",
       "      <th>2011-12-01</th>\n",
       "      <td>55.4</td>\n",
       "      <td>56.872383</td>\n",
       "      <td>-1.472383</td>\n",
       "      <td>1.472383</td>\n",
       "    </tr>\n",
       "    <tr>\n",
       "      <th>2013-02-01</th>\n",
       "      <td>65.7</td>\n",
       "      <td>67.462547</td>\n",
       "      <td>-1.762547</td>\n",
       "      <td>1.762547</td>\n",
       "    </tr>\n",
       "    <tr>\n",
       "      <th>2012-01-01</th>\n",
       "      <td>58.5</td>\n",
       "      <td>56.016464</td>\n",
       "      <td>2.483536</td>\n",
       "      <td>2.483536</td>\n",
       "    </tr>\n",
       "    <tr>\n",
       "      <th>2013-01-01</th>\n",
       "      <td>70.5</td>\n",
       "      <td>67.980553</td>\n",
       "      <td>2.519447</td>\n",
       "      <td>2.519447</td>\n",
       "    </tr>\n",
       "    <tr>\n",
       "      <th>2013-10-01</th>\n",
       "      <td>66.4</td>\n",
       "      <td>69.124802</td>\n",
       "      <td>-2.724802</td>\n",
       "      <td>2.724802</td>\n",
       "    </tr>\n",
       "    <tr>\n",
       "      <th>2013-03-01</th>\n",
       "      <td>67.0</td>\n",
       "      <td>64.246880</td>\n",
       "      <td>2.753120</td>\n",
       "      <td>2.753120</td>\n",
       "    </tr>\n",
       "    <tr>\n",
       "      <th>2013-09-01</th>\n",
       "      <td>68.8</td>\n",
       "      <td>71.576088</td>\n",
       "      <td>-2.776088</td>\n",
       "      <td>2.776088</td>\n",
       "    </tr>\n",
       "  </tbody>\n",
       "</table>\n",
       "</div>"
      ],
      "text/plain": [
       "            GMSL  GMSL_PREDICTION     Error  Abs_error\n",
       "Date                                                  \n",
       "2013-08-01  71.6        71.571686  0.028314   0.028314\n",
       "2013-06-01  71.5        72.000160 -0.500160   0.500160\n",
       "2013-07-01  71.2        72.396645 -1.196645   1.196645\n",
       "2011-12-01  55.4        56.872383 -1.472383   1.472383\n",
       "2013-02-01  65.7        67.462547 -1.762547   1.762547\n",
       "2012-01-01  58.5        56.016464  2.483536   2.483536\n",
       "2013-01-01  70.5        67.980553  2.519447   2.519447\n",
       "2013-10-01  66.4        69.124802 -2.724802   2.724802\n",
       "2013-03-01  67.0        64.246880  2.753120   2.753120\n",
       "2013-09-01  68.8        71.576088 -2.776088   2.776088"
      ]
     },
     "execution_count": 179,
     "metadata": {},
     "output_type": "execute_result"
    }
   ],
   "source": [
    "# Best predicted days\n",
    "error_by_day.sort_values('Abs_error', ascending=True).head(10)"
   ]
  },
  {
   "cell_type": "code",
   "execution_count": 180,
   "id": "a6462155",
   "metadata": {},
   "outputs": [
    {
     "data": {
      "image/png": "[encoded data removed]",
      "text/plain": [
       "<Figure size 720x360 with 1 Axes>"
      ]
     },
     "metadata": {
      "needs_background": "light"
     },
     "output_type": "display_data"
    }
   ],
   "source": [
    "f, ax = plt.subplots(1)\n",
    "f.set_figheight(5)\n",
    "f.set_figwidth(10)\n",
    "_ = data_test[['GMSL_PREDICTION','GMSL']].plot(ax=ax,\n",
    "                                              style=['-','.'])\n",
    "ax.set_ylim(50, 90)\n",
    "ax.set_xbound(lower='06-01-2012', upper='12-01-2012')\n",
    "plot = plt.suptitle('Oct 01, 2012 - Worst Predicted Day')"
   ]
  },
  {
   "cell_type": "code",
   "execution_count": 181,
   "id": "1cb1ec09",
   "metadata": {},
   "outputs": [
    {
     "data": {
      "image/png": "[encoded data removed]",
      "text/plain": [
       "<Figure size 720x360 with 1 Axes>"
      ]
     },
     "metadata": {
      "needs_background": "light"
     },
     "output_type": "display_data"
    }
   ],
   "source": [
    "f, ax = plt.subplots(1)\n",
    "f.set_figheight(5)\n",
    "f.set_figwidth(10)\n",
    "_ = data_test[['GMSL_PREDICTION','GMSL']].plot(ax=ax,\n",
    "                                              style=['-','.'])\n",
    "ax.set_ylim(50, 90)\n",
    "ax.set_xbound(lower='04-01-2013', upper='10-01-2013')\n",
    "plot = plt.suptitle('Aug 01, 2013 - Best Predicted Day')"
   ]
  },
  {
   "cell_type": "code",
   "execution_count": null,
   "id": "5db78560",
   "metadata": {},
   "outputs": [],
   "source": []
  }
 ],
 "metadata": {
  "kernelspec": {
   "display_name": "Python 3 (ipykernel)",
   "language": "python",
   "name": "python3"
  },
  "language_info": {
   "codemirror_mode": {
    "name": "ipython",
    "version": 3
   },
   "file_extension": ".py",
   "mimetype": "text/x-python",
   "name": "python",
   "nbconvert_exporter": "python",
   "pygments_lexer": "ipython3",
   "version": "3.9.7"
  }
 },
 "nbformat": 4,
 "nbformat_minor": 5
}
