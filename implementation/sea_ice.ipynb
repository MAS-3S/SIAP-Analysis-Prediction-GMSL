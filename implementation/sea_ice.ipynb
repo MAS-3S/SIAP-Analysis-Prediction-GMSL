{
 "cells": [
  {
   "cell_type": "markdown",
   "id": "aebd422b",
   "metadata": {},
   "source": [
    "# GMSL Analysis and Prediction"
   ]
  },
  {
   "cell_type": "markdown",
   "id": "24a0bde3",
   "metadata": {},
   "source": [
    "## Sea Level Rise Dataset (https://www.kaggle.com/nsidcorg/daily-sea-ice-extent-data)"
   ]
  },
  {
   "cell_type": "markdown",
   "id": "1701eabe",
   "metadata": {},
   "source": [
    "Ovaj skup podataka sadrži ukupnu površina morskog leda za vremenski period od 1978. do 2015 godine.\n",
    "\n",
    "Podaci koji su od interesa za naš rad su:\n",
    "\n",
    "* Year - godina merenja\n",
    "* Month - mesec merenja\n",
    "* Day - dan merenja\n",
    "* Extent - ukupna površina morskog leda izražena u jedinici 10^6 kvadratnih kilometar"
   ]
  },
  {
   "cell_type": "code",
   "execution_count": 1,
   "id": "f92925c4",
   "metadata": {},
   "outputs": [],
   "source": [
    "import pandas as pd\n",
    "import seaborn as sns\n",
    "from scipy.optimize import curve_fit"
   ]
  },
  {
   "cell_type": "code",
   "execution_count": 2,
   "id": "85da3f85",
   "metadata": {},
   "outputs": [],
   "source": [
    "df = pd.read_csv('original_datasets/seaice.csv', delimiter=',')"
   ]
  },
  {
   "cell_type": "code",
   "execution_count": 3,
   "id": "a0b2b352",
   "metadata": {},
   "outputs": [
    {
     "data": {
      "text/html": [
       "<div>\n",
       "<style scoped>\n",
       "    .dataframe tbody tr th:only-of-type {\n",
       "        vertical-align: middle;\n",
       "    }\n",
       "\n",
       "    .dataframe tbody tr th {\n",
       "        vertical-align: top;\n",
       "    }\n",
       "\n",
       "    .dataframe thead th {\n",
       "        text-align: right;\n",
       "    }\n",
       "</style>\n",
       "<table border=\"1\" class=\"dataframe\">\n",
       "  <thead>\n",
       "    <tr style=\"text-align: right;\">\n",
       "      <th></th>\n",
       "      <th>Year</th>\n",
       "      <th>Month</th>\n",
       "      <th>Day</th>\n",
       "      <th>Extent</th>\n",
       "      <th>Missing</th>\n",
       "      <th>Source Data</th>\n",
       "      <th>hemisphere</th>\n",
       "    </tr>\n",
       "  </thead>\n",
       "  <tbody>\n",
       "    <tr>\n",
       "      <th>0</th>\n",
       "      <td>1978</td>\n",
       "      <td>10</td>\n",
       "      <td>26</td>\n",
       "      <td>10.231</td>\n",
       "      <td>0.0</td>\n",
       "      <td>['ftp://sidads.colorado.edu/pub/DATASETS/nsid...</td>\n",
       "      <td>north</td>\n",
       "    </tr>\n",
       "    <tr>\n",
       "      <th>1</th>\n",
       "      <td>1978</td>\n",
       "      <td>10</td>\n",
       "      <td>28</td>\n",
       "      <td>10.420</td>\n",
       "      <td>0.0</td>\n",
       "      <td>['ftp://sidads.colorado.edu/pub/DATASETS/nsid...</td>\n",
       "      <td>north</td>\n",
       "    </tr>\n",
       "    <tr>\n",
       "      <th>2</th>\n",
       "      <td>1978</td>\n",
       "      <td>10</td>\n",
       "      <td>30</td>\n",
       "      <td>10.557</td>\n",
       "      <td>0.0</td>\n",
       "      <td>['ftp://sidads.colorado.edu/pub/DATASETS/nsid...</td>\n",
       "      <td>north</td>\n",
       "    </tr>\n",
       "    <tr>\n",
       "      <th>3</th>\n",
       "      <td>1978</td>\n",
       "      <td>11</td>\n",
       "      <td>1</td>\n",
       "      <td>10.670</td>\n",
       "      <td>0.0</td>\n",
       "      <td>['ftp://sidads.colorado.edu/pub/DATASETS/nsid...</td>\n",
       "      <td>north</td>\n",
       "    </tr>\n",
       "    <tr>\n",
       "      <th>4</th>\n",
       "      <td>1978</td>\n",
       "      <td>11</td>\n",
       "      <td>3</td>\n",
       "      <td>10.777</td>\n",
       "      <td>0.0</td>\n",
       "      <td>['ftp://sidads.colorado.edu/pub/DATASETS/nsid...</td>\n",
       "      <td>north</td>\n",
       "    </tr>\n",
       "  </tbody>\n",
       "</table>\n",
       "</div>"
      ],
      "text/plain": [
       "   Year   Month   Day       Extent      Missing  \\\n",
       "0  1978      10    26       10.231          0.0   \n",
       "1  1978      10    28       10.420          0.0   \n",
       "2  1978      10    30       10.557          0.0   \n",
       "3  1978      11     1       10.670          0.0   \n",
       "4  1978      11     3       10.777          0.0   \n",
       "\n",
       "                                         Source Data hemisphere  \n",
       "0   ['ftp://sidads.colorado.edu/pub/DATASETS/nsid...      north  \n",
       "1   ['ftp://sidads.colorado.edu/pub/DATASETS/nsid...      north  \n",
       "2   ['ftp://sidads.colorado.edu/pub/DATASETS/nsid...      north  \n",
       "3   ['ftp://sidads.colorado.edu/pub/DATASETS/nsid...      north  \n",
       "4   ['ftp://sidads.colorado.edu/pub/DATASETS/nsid...      north  "
      ]
     },
     "execution_count": 3,
     "metadata": {},
     "output_type": "execute_result"
    }
   ],
   "source": [
    "df.head()"
   ]
  },
  {
   "cell_type": "code",
   "execution_count": 4,
   "id": "52d64825",
   "metadata": {},
   "outputs": [
    {
     "data": {
      "text/plain": [
       "Index(['Year', ' Month', ' Day', '     Extent', '    Missing', ' Source Data',\n",
       "       'hemisphere'],\n",
       "      dtype='object')"
      ]
     },
     "execution_count": 4,
     "metadata": {},
     "output_type": "execute_result"
    }
   ],
   "source": [
    "df.columns"
   ]
  },
  {
   "cell_type": "code",
   "execution_count": 5,
   "id": "4ca38758",
   "metadata": {},
   "outputs": [],
   "source": [
    "df.drop(['    Missing', ' Source Data'], axis=1, inplace=True)"
   ]
  },
  {
   "cell_type": "code",
   "execution_count": 6,
   "id": "3c7c9dea",
   "metadata": {},
   "outputs": [],
   "source": [
    "df.rename(columns={'     Extent':'Extent'}, inplace = True)"
   ]
  },
  {
   "cell_type": "code",
   "execution_count": 7,
   "id": "6b945299",
   "metadata": {},
   "outputs": [
    {
     "data": {
      "text/html": [
       "<div>\n",
       "<style scoped>\n",
       "    .dataframe tbody tr th:only-of-type {\n",
       "        vertical-align: middle;\n",
       "    }\n",
       "\n",
       "    .dataframe tbody tr th {\n",
       "        vertical-align: top;\n",
       "    }\n",
       "\n",
       "    .dataframe thead th {\n",
       "        text-align: right;\n",
       "    }\n",
       "</style>\n",
       "<table border=\"1\" class=\"dataframe\">\n",
       "  <thead>\n",
       "    <tr style=\"text-align: right;\">\n",
       "      <th></th>\n",
       "      <th>Year</th>\n",
       "      <th>Month</th>\n",
       "      <th>Day</th>\n",
       "      <th>Extent</th>\n",
       "      <th>hemisphere</th>\n",
       "    </tr>\n",
       "  </thead>\n",
       "  <tbody>\n",
       "    <tr>\n",
       "      <th>0</th>\n",
       "      <td>1978</td>\n",
       "      <td>10</td>\n",
       "      <td>26</td>\n",
       "      <td>10.231</td>\n",
       "      <td>north</td>\n",
       "    </tr>\n",
       "    <tr>\n",
       "      <th>1</th>\n",
       "      <td>1978</td>\n",
       "      <td>10</td>\n",
       "      <td>28</td>\n",
       "      <td>10.420</td>\n",
       "      <td>north</td>\n",
       "    </tr>\n",
       "    <tr>\n",
       "      <th>2</th>\n",
       "      <td>1978</td>\n",
       "      <td>10</td>\n",
       "      <td>30</td>\n",
       "      <td>10.557</td>\n",
       "      <td>north</td>\n",
       "    </tr>\n",
       "    <tr>\n",
       "      <th>3</th>\n",
       "      <td>1978</td>\n",
       "      <td>11</td>\n",
       "      <td>1</td>\n",
       "      <td>10.670</td>\n",
       "      <td>north</td>\n",
       "    </tr>\n",
       "    <tr>\n",
       "      <th>4</th>\n",
       "      <td>1978</td>\n",
       "      <td>11</td>\n",
       "      <td>3</td>\n",
       "      <td>10.777</td>\n",
       "      <td>north</td>\n",
       "    </tr>\n",
       "  </tbody>\n",
       "</table>\n",
       "</div>"
      ],
      "text/plain": [
       "   Year   Month   Day  Extent hemisphere\n",
       "0  1978      10    26  10.231      north\n",
       "1  1978      10    28  10.420      north\n",
       "2  1978      10    30  10.557      north\n",
       "3  1978      11     1  10.670      north\n",
       "4  1978      11     3  10.777      north"
      ]
     },
     "execution_count": 7,
     "metadata": {},
     "output_type": "execute_result"
    }
   ],
   "source": [
    "df.head()"
   ]
  },
  {
   "cell_type": "code",
   "execution_count": 8,
   "id": "0dc99957",
   "metadata": {},
   "outputs": [],
   "source": [
    "df['Year'] = pd.to_datetime(df[['Year', ' Month', ' Day']].astype(str).agg('-'.join, axis=1))"
   ]
  },
  {
   "cell_type": "code",
   "execution_count": 9,
   "id": "69dc35d2",
   "metadata": {},
   "outputs": [
    {
     "data": {
      "text/html": [
       "<div>\n",
       "<style scoped>\n",
       "    .dataframe tbody tr th:only-of-type {\n",
       "        vertical-align: middle;\n",
       "    }\n",
       "\n",
       "    .dataframe tbody tr th {\n",
       "        vertical-align: top;\n",
       "    }\n",
       "\n",
       "    .dataframe thead th {\n",
       "        text-align: right;\n",
       "    }\n",
       "</style>\n",
       "<table border=\"1\" class=\"dataframe\">\n",
       "  <thead>\n",
       "    <tr style=\"text-align: right;\">\n",
       "      <th></th>\n",
       "      <th>Year</th>\n",
       "      <th>Month</th>\n",
       "      <th>Day</th>\n",
       "      <th>Extent</th>\n",
       "      <th>hemisphere</th>\n",
       "    </tr>\n",
       "  </thead>\n",
       "  <tbody>\n",
       "    <tr>\n",
       "      <th>0</th>\n",
       "      <td>1978-10-26</td>\n",
       "      <td>10</td>\n",
       "      <td>26</td>\n",
       "      <td>10.231</td>\n",
       "      <td>north</td>\n",
       "    </tr>\n",
       "    <tr>\n",
       "      <th>1</th>\n",
       "      <td>1978-10-28</td>\n",
       "      <td>10</td>\n",
       "      <td>28</td>\n",
       "      <td>10.420</td>\n",
       "      <td>north</td>\n",
       "    </tr>\n",
       "    <tr>\n",
       "      <th>2</th>\n",
       "      <td>1978-10-30</td>\n",
       "      <td>10</td>\n",
       "      <td>30</td>\n",
       "      <td>10.557</td>\n",
       "      <td>north</td>\n",
       "    </tr>\n",
       "    <tr>\n",
       "      <th>3</th>\n",
       "      <td>1978-11-01</td>\n",
       "      <td>11</td>\n",
       "      <td>1</td>\n",
       "      <td>10.670</td>\n",
       "      <td>north</td>\n",
       "    </tr>\n",
       "    <tr>\n",
       "      <th>4</th>\n",
       "      <td>1978-11-03</td>\n",
       "      <td>11</td>\n",
       "      <td>3</td>\n",
       "      <td>10.777</td>\n",
       "      <td>north</td>\n",
       "    </tr>\n",
       "  </tbody>\n",
       "</table>\n",
       "</div>"
      ],
      "text/plain": [
       "        Year   Month   Day  Extent hemisphere\n",
       "0 1978-10-26      10    26  10.231      north\n",
       "1 1978-10-28      10    28  10.420      north\n",
       "2 1978-10-30      10    30  10.557      north\n",
       "3 1978-11-01      11     1  10.670      north\n",
       "4 1978-11-03      11     3  10.777      north"
      ]
     },
     "execution_count": 9,
     "metadata": {},
     "output_type": "execute_result"
    }
   ],
   "source": [
    "df.head()"
   ]
  },
  {
   "cell_type": "code",
   "execution_count": 10,
   "id": "e83d0d51",
   "metadata": {},
   "outputs": [],
   "source": [
    "df.drop([' Month', ' Day'], axis=1, inplace=True)\n",
    "#df['Date'] = pd.to_datetime(df['Date'])"
   ]
  },
  {
   "cell_type": "code",
   "execution_count": 11,
   "id": "740134d1",
   "metadata": {},
   "outputs": [],
   "source": [
    "df.rename(columns={'Year':'Date'}, inplace = True)"
   ]
  },
  {
   "cell_type": "code",
   "execution_count": 12,
   "id": "d925f0a3",
   "metadata": {},
   "outputs": [
    {
     "data": {
      "text/html": [
       "<div>\n",
       "<style scoped>\n",
       "    .dataframe tbody tr th:only-of-type {\n",
       "        vertical-align: middle;\n",
       "    }\n",
       "\n",
       "    .dataframe tbody tr th {\n",
       "        vertical-align: top;\n",
       "    }\n",
       "\n",
       "    .dataframe thead th {\n",
       "        text-align: right;\n",
       "    }\n",
       "</style>\n",
       "<table border=\"1\" class=\"dataframe\">\n",
       "  <thead>\n",
       "    <tr style=\"text-align: right;\">\n",
       "      <th></th>\n",
       "      <th>Date</th>\n",
       "      <th>Extent</th>\n",
       "      <th>hemisphere</th>\n",
       "    </tr>\n",
       "  </thead>\n",
       "  <tbody>\n",
       "    <tr>\n",
       "      <th>0</th>\n",
       "      <td>1978-10-26</td>\n",
       "      <td>10.231</td>\n",
       "      <td>north</td>\n",
       "    </tr>\n",
       "    <tr>\n",
       "      <th>1</th>\n",
       "      <td>1978-10-28</td>\n",
       "      <td>10.420</td>\n",
       "      <td>north</td>\n",
       "    </tr>\n",
       "    <tr>\n",
       "      <th>2</th>\n",
       "      <td>1978-10-30</td>\n",
       "      <td>10.557</td>\n",
       "      <td>north</td>\n",
       "    </tr>\n",
       "    <tr>\n",
       "      <th>3</th>\n",
       "      <td>1978-11-01</td>\n",
       "      <td>10.670</td>\n",
       "      <td>north</td>\n",
       "    </tr>\n",
       "    <tr>\n",
       "      <th>4</th>\n",
       "      <td>1978-11-03</td>\n",
       "      <td>10.777</td>\n",
       "      <td>north</td>\n",
       "    </tr>\n",
       "  </tbody>\n",
       "</table>\n",
       "</div>"
      ],
      "text/plain": [
       "        Date  Extent hemisphere\n",
       "0 1978-10-26  10.231      north\n",
       "1 1978-10-28  10.420      north\n",
       "2 1978-10-30  10.557      north\n",
       "3 1978-11-01  10.670      north\n",
       "4 1978-11-03  10.777      north"
      ]
     },
     "execution_count": 12,
     "metadata": {},
     "output_type": "execute_result"
    }
   ],
   "source": [
    "df.head()"
   ]
  },
  {
   "cell_type": "code",
   "execution_count": 13,
   "id": "cf656851",
   "metadata": {},
   "outputs": [
    {
     "name": "stdout",
     "output_type": "stream",
     "text": [
      "<class 'pandas.core.frame.DataFrame'>\n",
      "RangeIndex: 26354 entries, 0 to 26353\n",
      "Data columns (total 3 columns):\n",
      " #   Column      Non-Null Count  Dtype         \n",
      "---  ------      --------------  -----         \n",
      " 0   Date        26354 non-null  datetime64[ns]\n",
      " 1   Extent      26354 non-null  float64       \n",
      " 2   hemisphere  26354 non-null  object        \n",
      "dtypes: datetime64[ns](1), float64(1), object(1)\n",
      "memory usage: 617.8+ KB\n"
     ]
    }
   ],
   "source": [
    "#df['Date'] = pd.to_datetime(df['Date'])\n",
    "df.info()"
   ]
  },
  {
   "cell_type": "code",
   "execution_count": 14,
   "id": "ab2abde7",
   "metadata": {},
   "outputs": [
    {
     "data": {
      "text/plain": [
       "(26354, 3)"
      ]
     },
     "execution_count": 14,
     "metadata": {},
     "output_type": "execute_result"
    }
   ],
   "source": [
    "df.shape"
   ]
  },
  {
   "cell_type": "code",
   "execution_count": 15,
   "id": "dff63dba",
   "metadata": {},
   "outputs": [
    {
     "data": {
      "text/html": [
       "<div>\n",
       "<style scoped>\n",
       "    .dataframe tbody tr th:only-of-type {\n",
       "        vertical-align: middle;\n",
       "    }\n",
       "\n",
       "    .dataframe tbody tr th {\n",
       "        vertical-align: top;\n",
       "    }\n",
       "\n",
       "    .dataframe thead th {\n",
       "        text-align: right;\n",
       "    }\n",
       "</style>\n",
       "<table border=\"1\" class=\"dataframe\">\n",
       "  <thead>\n",
       "    <tr style=\"text-align: right;\">\n",
       "      <th></th>\n",
       "      <th>Extent</th>\n",
       "    </tr>\n",
       "  </thead>\n",
       "  <tbody>\n",
       "    <tr>\n",
       "      <th>count</th>\n",
       "      <td>26354.000000</td>\n",
       "    </tr>\n",
       "    <tr>\n",
       "      <th>mean</th>\n",
       "      <td>11.494986</td>\n",
       "    </tr>\n",
       "    <tr>\n",
       "      <th>std</th>\n",
       "      <td>4.611734</td>\n",
       "    </tr>\n",
       "    <tr>\n",
       "      <th>min</th>\n",
       "      <td>2.080000</td>\n",
       "    </tr>\n",
       "    <tr>\n",
       "      <th>25%</th>\n",
       "      <td>7.601000</td>\n",
       "    </tr>\n",
       "    <tr>\n",
       "      <th>50%</th>\n",
       "      <td>12.217000</td>\n",
       "    </tr>\n",
       "    <tr>\n",
       "      <th>75%</th>\n",
       "      <td>15.114000</td>\n",
       "    </tr>\n",
       "    <tr>\n",
       "      <th>max</th>\n",
       "      <td>20.201000</td>\n",
       "    </tr>\n",
       "  </tbody>\n",
       "</table>\n",
       "</div>"
      ],
      "text/plain": [
       "             Extent\n",
       "count  26354.000000\n",
       "mean      11.494986\n",
       "std        4.611734\n",
       "min        2.080000\n",
       "25%        7.601000\n",
       "50%       12.217000\n",
       "75%       15.114000\n",
       "max       20.201000"
      ]
     },
     "execution_count": 15,
     "metadata": {},
     "output_type": "execute_result"
    }
   ],
   "source": [
    "df.describe()"
   ]
  },
  {
   "cell_type": "code",
   "execution_count": 16,
   "id": "09b6bc88",
   "metadata": {},
   "outputs": [
    {
     "data": {
      "text/plain": [
       "Date          0\n",
       "Extent        0\n",
       "hemisphere    0\n",
       "dtype: int64"
      ]
     },
     "execution_count": 16,
     "metadata": {},
     "output_type": "execute_result"
    }
   ],
   "source": [
    "df.isna().sum()"
   ]
  },
  {
   "cell_type": "code",
   "execution_count": 17,
   "id": "1cd50b4e",
   "metadata": {},
   "outputs": [
    {
     "data": {
      "text/plain": [
       "Date          13177\n",
       "Extent        13078\n",
       "hemisphere        2\n",
       "dtype: int64"
      ]
     },
     "execution_count": 17,
     "metadata": {},
     "output_type": "execute_result"
    }
   ],
   "source": [
    "df.nunique()"
   ]
  },
  {
   "cell_type": "markdown",
   "id": "12e166bf",
   "metadata": {},
   "source": [
    "#### Skup podataka ima 26354 redova, a duplikata ima 13177 iz razloga što za isti dan imamo zasebno zabeleženu debljinu leda na severnoj i južnoj hemisferi. Potrebno je da grupišemo podatke i izračunamo srednju vrednost."
   ]
  },
  {
   "cell_type": "code",
   "execution_count": 18,
   "id": "5153e891",
   "metadata": {},
   "outputs": [
    {
     "data": {
      "text/html": [
       "<div>\n",
       "<style scoped>\n",
       "    .dataframe tbody tr th:only-of-type {\n",
       "        vertical-align: middle;\n",
       "    }\n",
       "\n",
       "    .dataframe tbody tr th {\n",
       "        vertical-align: top;\n",
       "    }\n",
       "\n",
       "    .dataframe thead th {\n",
       "        text-align: right;\n",
       "    }\n",
       "</style>\n",
       "<table border=\"1\" class=\"dataframe\">\n",
       "  <thead>\n",
       "    <tr style=\"text-align: right;\">\n",
       "      <th></th>\n",
       "      <th>Date</th>\n",
       "      <th>Extent</th>\n",
       "      <th>hemisphere</th>\n",
       "    </tr>\n",
       "  </thead>\n",
       "  <tbody>\n",
       "    <tr>\n",
       "      <th>0</th>\n",
       "      <td>1978-10-26</td>\n",
       "      <td>10.231</td>\n",
       "      <td>north</td>\n",
       "    </tr>\n",
       "    <tr>\n",
       "      <th>13177</th>\n",
       "      <td>1978-10-26</td>\n",
       "      <td>17.624</td>\n",
       "      <td>south</td>\n",
       "    </tr>\n",
       "    <tr>\n",
       "      <th>1</th>\n",
       "      <td>1978-10-28</td>\n",
       "      <td>10.420</td>\n",
       "      <td>north</td>\n",
       "    </tr>\n",
       "    <tr>\n",
       "      <th>13178</th>\n",
       "      <td>1978-10-28</td>\n",
       "      <td>17.803</td>\n",
       "      <td>south</td>\n",
       "    </tr>\n",
       "    <tr>\n",
       "      <th>2</th>\n",
       "      <td>1978-10-30</td>\n",
       "      <td>10.557</td>\n",
       "      <td>north</td>\n",
       "    </tr>\n",
       "    <tr>\n",
       "      <th>13179</th>\n",
       "      <td>1978-10-30</td>\n",
       "      <td>17.670</td>\n",
       "      <td>south</td>\n",
       "    </tr>\n",
       "    <tr>\n",
       "      <th>3</th>\n",
       "      <td>1978-11-01</td>\n",
       "      <td>10.670</td>\n",
       "      <td>north</td>\n",
       "    </tr>\n",
       "    <tr>\n",
       "      <th>13180</th>\n",
       "      <td>1978-11-01</td>\n",
       "      <td>17.527</td>\n",
       "      <td>south</td>\n",
       "    </tr>\n",
       "    <tr>\n",
       "      <th>4</th>\n",
       "      <td>1978-11-03</td>\n",
       "      <td>10.777</td>\n",
       "      <td>north</td>\n",
       "    </tr>\n",
       "    <tr>\n",
       "      <th>13181</th>\n",
       "      <td>1978-11-03</td>\n",
       "      <td>17.486</td>\n",
       "      <td>south</td>\n",
       "    </tr>\n",
       "  </tbody>\n",
       "</table>\n",
       "</div>"
      ],
      "text/plain": [
       "            Date  Extent hemisphere\n",
       "0     1978-10-26  10.231      north\n",
       "13177 1978-10-26  17.624      south\n",
       "1     1978-10-28  10.420      north\n",
       "13178 1978-10-28  17.803      south\n",
       "2     1978-10-30  10.557      north\n",
       "13179 1978-10-30  17.670      south\n",
       "3     1978-11-01  10.670      north\n",
       "13180 1978-11-01  17.527      south\n",
       "4     1978-11-03  10.777      north\n",
       "13181 1978-11-03  17.486      south"
      ]
     },
     "execution_count": 18,
     "metadata": {},
     "output_type": "execute_result"
    }
   ],
   "source": [
    "duplicate_dates = df.duplicated(subset=['Date'], keep=False)\n",
    "duplicate_dates\n",
    "duplicate_dates_df = df.loc[duplicate_dates.values]\n",
    "duplicate_dates_df.sort_values('Date').head(10)"
   ]
  },
  {
   "cell_type": "code",
   "execution_count": 19,
   "id": "11970435",
   "metadata": {},
   "outputs": [],
   "source": [
    "df.drop(['hemisphere'], axis=1, inplace=True)\n",
    "df = df.groupby('Date').mean().reset_index()"
   ]
  },
  {
   "cell_type": "code",
   "execution_count": 20,
   "id": "b74228e8",
   "metadata": {},
   "outputs": [
    {
     "data": {
      "text/plain": [
       "(13177, 2)"
      ]
     },
     "execution_count": 20,
     "metadata": {},
     "output_type": "execute_result"
    }
   ],
   "source": [
    "df.shape"
   ]
  },
  {
   "cell_type": "code",
   "execution_count": 21,
   "id": "01018ca6",
   "metadata": {},
   "outputs": [
    {
     "data": {
      "text/html": [
       "<div>\n",
       "<style scoped>\n",
       "    .dataframe tbody tr th:only-of-type {\n",
       "        vertical-align: middle;\n",
       "    }\n",
       "\n",
       "    .dataframe tbody tr th {\n",
       "        vertical-align: top;\n",
       "    }\n",
       "\n",
       "    .dataframe thead th {\n",
       "        text-align: right;\n",
       "    }\n",
       "</style>\n",
       "<table border=\"1\" class=\"dataframe\">\n",
       "  <thead>\n",
       "    <tr style=\"text-align: right;\">\n",
       "      <th></th>\n",
       "      <th>Date</th>\n",
       "      <th>Extent</th>\n",
       "    </tr>\n",
       "  </thead>\n",
       "  <tbody>\n",
       "    <tr>\n",
       "      <th>0</th>\n",
       "      <td>1978-10-26</td>\n",
       "      <td>13.9275</td>\n",
       "    </tr>\n",
       "    <tr>\n",
       "      <th>1</th>\n",
       "      <td>1978-10-28</td>\n",
       "      <td>14.1115</td>\n",
       "    </tr>\n",
       "    <tr>\n",
       "      <th>2</th>\n",
       "      <td>1978-10-30</td>\n",
       "      <td>14.1135</td>\n",
       "    </tr>\n",
       "    <tr>\n",
       "      <th>3</th>\n",
       "      <td>1978-11-01</td>\n",
       "      <td>14.0985</td>\n",
       "    </tr>\n",
       "    <tr>\n",
       "      <th>4</th>\n",
       "      <td>1978-11-03</td>\n",
       "      <td>14.1315</td>\n",
       "    </tr>\n",
       "  </tbody>\n",
       "</table>\n",
       "</div>"
      ],
      "text/plain": [
       "        Date   Extent\n",
       "0 1978-10-26  13.9275\n",
       "1 1978-10-28  14.1115\n",
       "2 1978-10-30  14.1135\n",
       "3 1978-11-01  14.0985\n",
       "4 1978-11-03  14.1315"
      ]
     },
     "execution_count": 21,
     "metadata": {},
     "output_type": "execute_result"
    }
   ],
   "source": [
    "df.head()"
   ]
  },
  {
   "cell_type": "code",
   "execution_count": 22,
   "id": "687afeeb",
   "metadata": {},
   "outputs": [
    {
     "data": {
      "text/plain": [
       "Date      13177\n",
       "Extent     8344\n",
       "dtype: int64"
      ]
     },
     "execution_count": 22,
     "metadata": {},
     "output_type": "execute_result"
    }
   ],
   "source": [
    "df.nunique()"
   ]
  },
  {
   "cell_type": "markdown",
   "id": "ca99f822",
   "metadata": {},
   "source": [
    "#### Sada smo dobili sve jedinstvene vrednosti datuma."
   ]
  },
  {
   "cell_type": "code",
   "execution_count": 23,
   "id": "59f97d7e",
   "metadata": {},
   "outputs": [
    {
     "data": {
      "text/plain": [
       "<AxesSubplot:xlabel='Extent'>"
      ]
     },
     "execution_count": 23,
     "metadata": {},
     "output_type": "execute_result"
    },
    {
     "data": {
      "image/png": "[encoded data removed]",
      "text/plain": [
       "<Figure size 432x288 with 1 Axes>"
      ]
     },
     "metadata": {
      "needs_background": "light"
     },
     "output_type": "display_data"
    }
   ],
   "source": [
    "sns.boxplot(x=df['Extent'])"
   ]
  },
  {
   "cell_type": "markdown",
   "id": "9dde37cc",
   "metadata": {},
   "source": [
    "#### Proverili smo vrednosti i uočili da nema autlajera."
   ]
  },
  {
   "cell_type": "markdown",
   "id": "7db0a07b",
   "metadata": {},
   "source": [
    "#### Uzimamo u obzir datume od 1969. do 2013. godine"
   ]
  },
  {
   "cell_type": "code",
   "execution_count": 24,
   "id": "f3db1c1a",
   "metadata": {},
   "outputs": [],
   "source": [
    "df = df[(df['Date'] >= '1969-01') & (df['Date'] <= '2013-12')]"
   ]
  },
  {
   "cell_type": "code",
   "execution_count": 25,
   "id": "7736f4bf",
   "metadata": {},
   "outputs": [
    {
     "data": {
      "text/html": [
       "<div>\n",
       "<style scoped>\n",
       "    .dataframe tbody tr th:only-of-type {\n",
       "        vertical-align: middle;\n",
       "    }\n",
       "\n",
       "    .dataframe tbody tr th {\n",
       "        vertical-align: top;\n",
       "    }\n",
       "\n",
       "    .dataframe thead th {\n",
       "        text-align: right;\n",
       "    }\n",
       "</style>\n",
       "<table border=\"1\" class=\"dataframe\">\n",
       "  <thead>\n",
       "    <tr style=\"text-align: right;\">\n",
       "      <th></th>\n",
       "      <th>Date</th>\n",
       "      <th>Extent</th>\n",
       "    </tr>\n",
       "  </thead>\n",
       "  <tbody>\n",
       "    <tr>\n",
       "      <th>0</th>\n",
       "      <td>1978-10-26</td>\n",
       "      <td>13.9275</td>\n",
       "    </tr>\n",
       "    <tr>\n",
       "      <th>1</th>\n",
       "      <td>1978-10-28</td>\n",
       "      <td>14.1115</td>\n",
       "    </tr>\n",
       "    <tr>\n",
       "      <th>2</th>\n",
       "      <td>1978-10-30</td>\n",
       "      <td>14.1135</td>\n",
       "    </tr>\n",
       "    <tr>\n",
       "      <th>3</th>\n",
       "      <td>1978-11-01</td>\n",
       "      <td>14.0985</td>\n",
       "    </tr>\n",
       "    <tr>\n",
       "      <th>4</th>\n",
       "      <td>1978-11-03</td>\n",
       "      <td>14.1315</td>\n",
       "    </tr>\n",
       "    <tr>\n",
       "      <th>11165</th>\n",
       "      <td>2013-11-27</td>\n",
       "      <td>13.1905</td>\n",
       "    </tr>\n",
       "    <tr>\n",
       "      <th>11166</th>\n",
       "      <td>2013-11-28</td>\n",
       "      <td>13.1555</td>\n",
       "    </tr>\n",
       "    <tr>\n",
       "      <th>11167</th>\n",
       "      <td>2013-11-29</td>\n",
       "      <td>13.1335</td>\n",
       "    </tr>\n",
       "    <tr>\n",
       "      <th>11168</th>\n",
       "      <td>2013-11-30</td>\n",
       "      <td>13.0895</td>\n",
       "    </tr>\n",
       "    <tr>\n",
       "      <th>11169</th>\n",
       "      <td>2013-12-01</td>\n",
       "      <td>13.0660</td>\n",
       "    </tr>\n",
       "  </tbody>\n",
       "</table>\n",
       "</div>"
      ],
      "text/plain": [
       "            Date   Extent\n",
       "0     1978-10-26  13.9275\n",
       "1     1978-10-28  14.1115\n",
       "2     1978-10-30  14.1135\n",
       "3     1978-11-01  14.0985\n",
       "4     1978-11-03  14.1315\n",
       "11165 2013-11-27  13.1905\n",
       "11166 2013-11-28  13.1555\n",
       "11167 2013-11-29  13.1335\n",
       "11168 2013-11-30  13.0895\n",
       "11169 2013-12-01  13.0660"
      ]
     },
     "execution_count": 25,
     "metadata": {},
     "output_type": "execute_result"
    }
   ],
   "source": [
    "df.head().append(df.tail())"
   ]
  },
  {
   "cell_type": "markdown",
   "id": "c1b2f50d",
   "metadata": {},
   "source": [
    "#### Dodajemo datume koji nedostaju"
   ]
  },
  {
   "cell_type": "code",
   "execution_count": 26,
   "id": "f0afbdf7",
   "metadata": {},
   "outputs": [],
   "source": [
    "df.set_index('Date', inplace = True)"
   ]
  },
  {
   "cell_type": "code",
   "execution_count": 27,
   "id": "090f678a",
   "metadata": {},
   "outputs": [],
   "source": [
    "idx = pd.date_range(start='1969-01', end='1978-10' , freq='M')\n",
    "df_missing = df.reindex(idx, fill_value=None)\n",
    "\n",
    "df = df_missing.append(df)"
   ]
  },
  {
   "cell_type": "code",
   "execution_count": 28,
   "id": "63e759db",
   "metadata": {},
   "outputs": [],
   "source": [
    "df.reset_index(inplace = True)"
   ]
  },
  {
   "cell_type": "code",
   "execution_count": 29,
   "id": "88fe56a5",
   "metadata": {},
   "outputs": [],
   "source": [
    "df.rename(columns={'index':'Date'}, inplace = True)"
   ]
  },
  {
   "cell_type": "code",
   "execution_count": 30,
   "id": "d27bf70d",
   "metadata": {},
   "outputs": [],
   "source": [
    "df['Date'] = pd.to_datetime(df['Date'])"
   ]
  },
  {
   "cell_type": "code",
   "execution_count": 31,
   "id": "8583ec03",
   "metadata": {},
   "outputs": [],
   "source": [
    "df['Date'] = df['Date'].dt.strftime('%Y-%m')"
   ]
  },
  {
   "cell_type": "markdown",
   "id": "4c706071",
   "metadata": {},
   "source": [
    "#### Obzirom da nam kod datuma dani nisu neophodni, potrebno je grupisati podatke po mesecima."
   ]
  },
  {
   "cell_type": "code",
   "execution_count": 32,
   "id": "e4f5247b",
   "metadata": {},
   "outputs": [],
   "source": [
    "df = df.groupby('Date').mean().reset_index()"
   ]
  },
  {
   "cell_type": "code",
   "execution_count": 33,
   "id": "6e7fd7f4",
   "metadata": {},
   "outputs": [
    {
     "data": {
      "text/html": [
       "<div>\n",
       "<style scoped>\n",
       "    .dataframe tbody tr th:only-of-type {\n",
       "        vertical-align: middle;\n",
       "    }\n",
       "\n",
       "    .dataframe tbody tr th {\n",
       "        vertical-align: top;\n",
       "    }\n",
       "\n",
       "    .dataframe thead th {\n",
       "        text-align: right;\n",
       "    }\n",
       "</style>\n",
       "<table border=\"1\" class=\"dataframe\">\n",
       "  <thead>\n",
       "    <tr style=\"text-align: right;\">\n",
       "      <th></th>\n",
       "      <th>Date</th>\n",
       "      <th>Extent</th>\n",
       "    </tr>\n",
       "  </thead>\n",
       "  <tbody>\n",
       "    <tr>\n",
       "      <th>0</th>\n",
       "      <td>1969-01</td>\n",
       "      <td>NaN</td>\n",
       "    </tr>\n",
       "    <tr>\n",
       "      <th>1</th>\n",
       "      <td>1969-02</td>\n",
       "      <td>NaN</td>\n",
       "    </tr>\n",
       "    <tr>\n",
       "      <th>2</th>\n",
       "      <td>1969-03</td>\n",
       "      <td>NaN</td>\n",
       "    </tr>\n",
       "    <tr>\n",
       "      <th>3</th>\n",
       "      <td>1969-04</td>\n",
       "      <td>NaN</td>\n",
       "    </tr>\n",
       "    <tr>\n",
       "      <th>4</th>\n",
       "      <td>1969-05</td>\n",
       "      <td>NaN</td>\n",
       "    </tr>\n",
       "    <tr>\n",
       "      <th>535</th>\n",
       "      <td>2013-08</td>\n",
       "      <td>12.338645</td>\n",
       "    </tr>\n",
       "    <tr>\n",
       "      <th>536</th>\n",
       "      <td>2013-09</td>\n",
       "      <td>12.298467</td>\n",
       "    </tr>\n",
       "    <tr>\n",
       "      <th>537</th>\n",
       "      <td>2013-10</td>\n",
       "      <td>13.236306</td>\n",
       "    </tr>\n",
       "    <tr>\n",
       "      <th>538</th>\n",
       "      <td>2013-11</td>\n",
       "      <td>13.405600</td>\n",
       "    </tr>\n",
       "    <tr>\n",
       "      <th>539</th>\n",
       "      <td>2013-12</td>\n",
       "      <td>13.066000</td>\n",
       "    </tr>\n",
       "  </tbody>\n",
       "</table>\n",
       "</div>"
      ],
      "text/plain": [
       "        Date     Extent\n",
       "0    1969-01        NaN\n",
       "1    1969-02        NaN\n",
       "2    1969-03        NaN\n",
       "3    1969-04        NaN\n",
       "4    1969-05        NaN\n",
       "535  2013-08  12.338645\n",
       "536  2013-09  12.298467\n",
       "537  2013-10  13.236306\n",
       "538  2013-11  13.405600\n",
       "539  2013-12  13.066000"
      ]
     },
     "execution_count": 33,
     "metadata": {},
     "output_type": "execute_result"
    }
   ],
   "source": [
    "df.head().append(df.tail())"
   ]
  },
  {
   "cell_type": "code",
   "execution_count": 34,
   "id": "e16fe8d0",
   "metadata": {},
   "outputs": [],
   "source": [
    "# Function to curve fit to the data\n",
    "def func(x, a, b, c, d):\n",
    "    return a * (x ** 3) + b * (x ** 2) + c * x + d"
   ]
  },
  {
   "cell_type": "code",
   "execution_count": 35,
   "id": "543d50de",
   "metadata": {},
   "outputs": [],
   "source": [
    "# Initial parameter guess, just to kick off the optimization\n",
    "guess = (11.5, 11.5, 11.5, 11.5)"
   ]
  },
  {
   "cell_type": "code",
   "execution_count": 36,
   "id": "0fab41ff",
   "metadata": {},
   "outputs": [],
   "source": [
    "# Create copy of data to remove NaNs for curve fitting\n",
    "fit_df = df.dropna()"
   ]
  },
  {
   "cell_type": "code",
   "execution_count": 37,
   "id": "9eff214f",
   "metadata": {},
   "outputs": [],
   "source": [
    "# Curve fit each column\n",
    "col_params = {}\n",
    "# for col in fit_df.columns:\n",
    "# Get x & y\n",
    "x = fit_df.index.astype(float).values\n",
    "y = fit_df['Extent'].values\n",
    "# Curve fit column and get curve parameters\n",
    "params = curve_fit(func, x, y, guess)\n",
    "# Store optimized parameters\n",
    "col_params['Extent'] = params[0]"
   ]
  },
  {
   "cell_type": "code",
   "execution_count": 38,
   "id": "c9087d06",
   "metadata": {},
   "outputs": [
    {
     "name": "stderr",
     "output_type": "stream",
     "text": [
      "C:\\Users\\Stefan\\AppData\\Local\\Temp/ipykernel_8672/3406352447.py:6: SettingWithCopyWarning: \n",
      "A value is trying to be set on a copy of a slice from a DataFrame\n",
      "\n",
      "See the caveats in the documentation: https://pandas.pydata.org/pandas-docs/stable/user_guide/indexing.html#returning-a-view-versus-a-copy\n",
      "  df['Extent'][x] = func(x, *col_params['Extent'])\n",
      "C:\\Users\\Stefan\\anaconda3\\lib\\site-packages\\pandas\\core\\indexing.py:1732: SettingWithCopyWarning: \n",
      "A value is trying to be set on a copy of a slice from a DataFrame\n",
      "\n",
      "See the caveats in the documentation: https://pandas.pydata.org/pandas-docs/stable/user_guide/indexing.html#returning-a-view-versus-a-copy\n",
      "  self._setitem_single_block(indexer, value, name)\n"
     ]
    }
   ],
   "source": [
    "# Extrapolate each column\n",
    "# for col in df.columns:\n",
    "# Get the index values for NaNs in the column\n",
    "x = df[pd.isnull(df['Extent'])].index.astype(float).values\n",
    "# Extrapolate those points with the fitted function\n",
    "df['Extent'][x] = func(x, *col_params['Extent'])"
   ]
  },
  {
   "cell_type": "code",
   "execution_count": 39,
   "id": "781ff368",
   "metadata": {},
   "outputs": [
    {
     "data": {
      "text/html": [
       "<div>\n",
       "<style scoped>\n",
       "    .dataframe tbody tr th:only-of-type {\n",
       "        vertical-align: middle;\n",
       "    }\n",
       "\n",
       "    .dataframe tbody tr th {\n",
       "        vertical-align: top;\n",
       "    }\n",
       "\n",
       "    .dataframe thead th {\n",
       "        text-align: right;\n",
       "    }\n",
       "</style>\n",
       "<table border=\"1\" class=\"dataframe\">\n",
       "  <thead>\n",
       "    <tr style=\"text-align: right;\">\n",
       "      <th></th>\n",
       "      <th>Date</th>\n",
       "      <th>Extent</th>\n",
       "    </tr>\n",
       "  </thead>\n",
       "  <tbody>\n",
       "    <tr>\n",
       "      <th>0</th>\n",
       "      <td>1969-01</td>\n",
       "      <td>11.412998</td>\n",
       "    </tr>\n",
       "    <tr>\n",
       "      <th>1</th>\n",
       "      <td>1969-02</td>\n",
       "      <td>11.419180</td>\n",
       "    </tr>\n",
       "    <tr>\n",
       "      <th>2</th>\n",
       "      <td>1969-03</td>\n",
       "      <td>11.425310</td>\n",
       "    </tr>\n",
       "    <tr>\n",
       "      <th>3</th>\n",
       "      <td>1969-04</td>\n",
       "      <td>11.431388</td>\n",
       "    </tr>\n",
       "    <tr>\n",
       "      <th>4</th>\n",
       "      <td>1969-05</td>\n",
       "      <td>11.437415</td>\n",
       "    </tr>\n",
       "    <tr>\n",
       "      <th>535</th>\n",
       "      <td>2013-08</td>\n",
       "      <td>12.338645</td>\n",
       "    </tr>\n",
       "    <tr>\n",
       "      <th>536</th>\n",
       "      <td>2013-09</td>\n",
       "      <td>12.298467</td>\n",
       "    </tr>\n",
       "    <tr>\n",
       "      <th>537</th>\n",
       "      <td>2013-10</td>\n",
       "      <td>13.236306</td>\n",
       "    </tr>\n",
       "    <tr>\n",
       "      <th>538</th>\n",
       "      <td>2013-11</td>\n",
       "      <td>13.405600</td>\n",
       "    </tr>\n",
       "    <tr>\n",
       "      <th>539</th>\n",
       "      <td>2013-12</td>\n",
       "      <td>13.066000</td>\n",
       "    </tr>\n",
       "  </tbody>\n",
       "</table>\n",
       "</div>"
      ],
      "text/plain": [
       "        Date     Extent\n",
       "0    1969-01  11.412998\n",
       "1    1969-02  11.419180\n",
       "2    1969-03  11.425310\n",
       "3    1969-04  11.431388\n",
       "4    1969-05  11.437415\n",
       "535  2013-08  12.338645\n",
       "536  2013-09  12.298467\n",
       "537  2013-10  13.236306\n",
       "538  2013-11  13.405600\n",
       "539  2013-12  13.066000"
      ]
     },
     "execution_count": 39,
     "metadata": {},
     "output_type": "execute_result"
    }
   ],
   "source": [
    "df.head().append(df.tail())"
   ]
  },
  {
   "cell_type": "code",
   "execution_count": 1168,
   "id": "1a490b7e",
   "metadata": {},
   "outputs": [],
   "source": [
    "df.to_csv('processed_datasets/Extent.csv', index = False)"
   ]
  },
  {
   "cell_type": "code",
   "execution_count": null,
   "id": "0659a648",
   "metadata": {},
   "outputs": [],
   "source": []
  }
 ],
 "metadata": {
  "kernelspec": {
   "display_name": "Python 3 (ipykernel)",
   "language": "python",
   "name": "python3"
  },
  "language_info": {
   "codemirror_mode": {
    "name": "ipython",
    "version": 3
   },
   "file_extension": ".py",
   "mimetype": "text/x-python",
   "name": "python",
   "nbconvert_exporter": "python",
   "pygments_lexer": "ipython3",
   "version": "3.8.3"
  }
 },
 "nbformat": 4,
 "nbformat_minor": 5
}
