{
 "cells": [
  {
   "cell_type": "markdown",
   "id": "831e736c",
   "metadata": {},
   "source": [
    "# GMSL Analysis and Prediction "
   ]
  },
  {
   "cell_type": "code",
   "execution_count": 408,
   "id": "fd9be505",
   "metadata": {},
   "outputs": [],
   "source": [
    "import pandas as pd\n",
    "import seaborn as sb"
   ]
  },
  {
   "cell_type": "code",
   "execution_count": 409,
   "id": "6ee6c70b",
   "metadata": {},
   "outputs": [],
   "source": [
    "df = pd.read_csv('processed_datasets/GMSL_analysis_and_prediction.csv', delimiter=',')"
   ]
  },
  {
   "cell_type": "code",
   "execution_count": 410,
   "id": "64edeab9",
   "metadata": {},
   "outputs": [
    {
     "data": {
      "text/html": [
       "<div>\n",
       "<style scoped>\n",
       "    .dataframe tbody tr th:only-of-type {\n",
       "        vertical-align: middle;\n",
       "    }\n",
       "\n",
       "    .dataframe tbody tr th {\n",
       "        vertical-align: top;\n",
       "    }\n",
       "\n",
       "    .dataframe thead th {\n",
       "        text-align: right;\n",
       "    }\n",
       "</style>\n",
       "<table border=\"1\" class=\"dataframe\">\n",
       "  <thead>\n",
       "    <tr style=\"text-align: right;\">\n",
       "      <th></th>\n",
       "      <th>Date</th>\n",
       "      <th>Extent</th>\n",
       "      <th>WaterTemp</th>\n",
       "      <th>O2ml</th>\n",
       "      <th>SiO3</th>\n",
       "      <th>NO3</th>\n",
       "      <th>LandAverageTemperature</th>\n",
       "      <th>LandAndOceanAverageTemperature</th>\n",
       "      <th>CO2</th>\n",
       "      <th>IsGMSLIncreased</th>\n",
       "    </tr>\n",
       "  </thead>\n",
       "  <tbody>\n",
       "    <tr>\n",
       "      <th>0</th>\n",
       "      <td>1969-01</td>\n",
       "      <td>11.412998</td>\n",
       "      <td>13.265000</td>\n",
       "      <td>5.595000</td>\n",
       "      <td>7.00000</td>\n",
       "      <td>3.250</td>\n",
       "      <td>1.966</td>\n",
       "      <td>13.518</td>\n",
       "      <td>324.00</td>\n",
       "      <td>0</td>\n",
       "    </tr>\n",
       "    <tr>\n",
       "      <th>1</th>\n",
       "      <td>1969-02</td>\n",
       "      <td>11.419180</td>\n",
       "      <td>12.435000</td>\n",
       "      <td>5.695000</td>\n",
       "      <td>6.40000</td>\n",
       "      <td>5.200</td>\n",
       "      <td>2.450</td>\n",
       "      <td>13.747</td>\n",
       "      <td>324.42</td>\n",
       "      <td>0</td>\n",
       "    </tr>\n",
       "    <tr>\n",
       "      <th>2</th>\n",
       "      <td>1969-03</td>\n",
       "      <td>11.425310</td>\n",
       "      <td>15.535000</td>\n",
       "      <td>5.490000</td>\n",
       "      <td>4.00000</td>\n",
       "      <td>0.300</td>\n",
       "      <td>5.131</td>\n",
       "      <td>14.576</td>\n",
       "      <td>325.64</td>\n",
       "      <td>1</td>\n",
       "    </tr>\n",
       "    <tr>\n",
       "      <th>3</th>\n",
       "      <td>1969-04</td>\n",
       "      <td>11.431388</td>\n",
       "      <td>12.070000</td>\n",
       "      <td>5.312500</td>\n",
       "      <td>8.50000</td>\n",
       "      <td>6.400</td>\n",
       "      <td>8.576</td>\n",
       "      <td>15.518</td>\n",
       "      <td>326.66</td>\n",
       "      <td>0</td>\n",
       "    </tr>\n",
       "    <tr>\n",
       "      <th>4</th>\n",
       "      <td>1969-05</td>\n",
       "      <td>11.437415</td>\n",
       "      <td>12.120000</td>\n",
       "      <td>5.945000</td>\n",
       "      <td>6.00000</td>\n",
       "      <td>3.700</td>\n",
       "      <td>11.354</td>\n",
       "      <td>16.329</td>\n",
       "      <td>327.34</td>\n",
       "      <td>0</td>\n",
       "    </tr>\n",
       "    <tr>\n",
       "      <th>535</th>\n",
       "      <td>2013-08</td>\n",
       "      <td>12.338645</td>\n",
       "      <td>12.053062</td>\n",
       "      <td>5.263625</td>\n",
       "      <td>7.47125</td>\n",
       "      <td>8.925</td>\n",
       "      <td>14.742</td>\n",
       "      <td>17.462</td>\n",
       "      <td>395.20</td>\n",
       "      <td>1</td>\n",
       "    </tr>\n",
       "    <tr>\n",
       "      <th>536</th>\n",
       "      <td>2013-09</td>\n",
       "      <td>12.298467</td>\n",
       "      <td>12.200875</td>\n",
       "      <td>5.302750</td>\n",
       "      <td>6.75750</td>\n",
       "      <td>8.100</td>\n",
       "      <td>13.154</td>\n",
       "      <td>16.894</td>\n",
       "      <td>393.45</td>\n",
       "      <td>0</td>\n",
       "    </tr>\n",
       "    <tr>\n",
       "      <th>537</th>\n",
       "      <td>2013-10</td>\n",
       "      <td>13.236306</td>\n",
       "      <td>12.348688</td>\n",
       "      <td>5.341875</td>\n",
       "      <td>6.04375</td>\n",
       "      <td>7.275</td>\n",
       "      <td>10.256</td>\n",
       "      <td>15.905</td>\n",
       "      <td>393.70</td>\n",
       "      <td>0</td>\n",
       "    </tr>\n",
       "    <tr>\n",
       "      <th>538</th>\n",
       "      <td>2013-11</td>\n",
       "      <td>13.405600</td>\n",
       "      <td>12.496500</td>\n",
       "      <td>5.381000</td>\n",
       "      <td>5.33000</td>\n",
       "      <td>6.450</td>\n",
       "      <td>7.424</td>\n",
       "      <td>15.107</td>\n",
       "      <td>395.16</td>\n",
       "      <td>0</td>\n",
       "    </tr>\n",
       "    <tr>\n",
       "      <th>539</th>\n",
       "      <td>2013-12</td>\n",
       "      <td>13.066000</td>\n",
       "      <td>13.062250</td>\n",
       "      <td>5.427250</td>\n",
       "      <td>4.62625</td>\n",
       "      <td>4.275</td>\n",
       "      <td>4.724</td>\n",
       "      <td>14.339</td>\n",
       "      <td>396.84</td>\n",
       "      <td>0</td>\n",
       "    </tr>\n",
       "  </tbody>\n",
       "</table>\n",
       "</div>"
      ],
      "text/plain": [
       "        Date     Extent  WaterTemp      O2ml     SiO3    NO3  \\\n",
       "0    1969-01  11.412998  13.265000  5.595000  7.00000  3.250   \n",
       "1    1969-02  11.419180  12.435000  5.695000  6.40000  5.200   \n",
       "2    1969-03  11.425310  15.535000  5.490000  4.00000  0.300   \n",
       "3    1969-04  11.431388  12.070000  5.312500  8.50000  6.400   \n",
       "4    1969-05  11.437415  12.120000  5.945000  6.00000  3.700   \n",
       "535  2013-08  12.338645  12.053062  5.263625  7.47125  8.925   \n",
       "536  2013-09  12.298467  12.200875  5.302750  6.75750  8.100   \n",
       "537  2013-10  13.236306  12.348688  5.341875  6.04375  7.275   \n",
       "538  2013-11  13.405600  12.496500  5.381000  5.33000  6.450   \n",
       "539  2013-12  13.066000  13.062250  5.427250  4.62625  4.275   \n",
       "\n",
       "     LandAverageTemperature  LandAndOceanAverageTemperature     CO2  \\\n",
       "0                     1.966                          13.518  324.00   \n",
       "1                     2.450                          13.747  324.42   \n",
       "2                     5.131                          14.576  325.64   \n",
       "3                     8.576                          15.518  326.66   \n",
       "4                    11.354                          16.329  327.34   \n",
       "535                  14.742                          17.462  395.20   \n",
       "536                  13.154                          16.894  393.45   \n",
       "537                  10.256                          15.905  393.70   \n",
       "538                   7.424                          15.107  395.16   \n",
       "539                   4.724                          14.339  396.84   \n",
       "\n",
       "     IsGMSLIncreased  \n",
       "0                  0  \n",
       "1                  0  \n",
       "2                  1  \n",
       "3                  0  \n",
       "4                  0  \n",
       "535                1  \n",
       "536                0  \n",
       "537                0  \n",
       "538                0  \n",
       "539                0  "
      ]
     },
     "execution_count": 410,
     "metadata": {},
     "output_type": "execute_result"
    }
   ],
   "source": [
    "df.head().append(df.tail())"
   ]
  },
  {
   "cell_type": "code",
   "execution_count": 411,
   "id": "12675d31",
   "metadata": {},
   "outputs": [
    {
     "data": {
      "text/html": [
       "<div>\n",
       "<style scoped>\n",
       "    .dataframe tbody tr th:only-of-type {\n",
       "        vertical-align: middle;\n",
       "    }\n",
       "\n",
       "    .dataframe tbody tr th {\n",
       "        vertical-align: top;\n",
       "    }\n",
       "\n",
       "    .dataframe thead th {\n",
       "        text-align: right;\n",
       "    }\n",
       "</style>\n",
       "<table border=\"1\" class=\"dataframe\">\n",
       "  <thead>\n",
       "    <tr style=\"text-align: right;\">\n",
       "      <th></th>\n",
       "      <th>Extent</th>\n",
       "      <th>WaterTemp</th>\n",
       "      <th>O2ml</th>\n",
       "      <th>SiO3</th>\n",
       "      <th>NO3</th>\n",
       "      <th>LandAverageTemperature</th>\n",
       "      <th>LandAndOceanAverageTemperature</th>\n",
       "      <th>CO2</th>\n",
       "      <th>IsGMSLIncreased</th>\n",
       "    </tr>\n",
       "  </thead>\n",
       "  <tbody>\n",
       "    <tr>\n",
       "      <th>count</th>\n",
       "      <td>540.000000</td>\n",
       "      <td>540.000000</td>\n",
       "      <td>540.000000</td>\n",
       "      <td>540.000000</td>\n",
       "      <td>540.000000</td>\n",
       "      <td>540.000000</td>\n",
       "      <td>540.000000</td>\n",
       "      <td>540.000000</td>\n",
       "      <td>540.000000</td>\n",
       "    </tr>\n",
       "    <tr>\n",
       "      <th>mean</th>\n",
       "      <td>11.633582</td>\n",
       "      <td>12.703859</td>\n",
       "      <td>5.140705</td>\n",
       "      <td>8.623137</td>\n",
       "      <td>7.488843</td>\n",
       "      <td>9.091504</td>\n",
       "      <td>15.553526</td>\n",
       "      <td>355.062907</td>\n",
       "      <td>0.525926</td>\n",
       "    </tr>\n",
       "    <tr>\n",
       "      <th>std</th>\n",
       "      <td>1.257900</td>\n",
       "      <td>1.178649</td>\n",
       "      <td>0.613406</td>\n",
       "      <td>5.566774</td>\n",
       "      <td>4.980329</td>\n",
       "      <td>4.156488</td>\n",
       "      <td>1.233037</td>\n",
       "      <td>34.925471</td>\n",
       "      <td>0.499790</td>\n",
       "    </tr>\n",
       "    <tr>\n",
       "      <th>min</th>\n",
       "      <td>8.441054</td>\n",
       "      <td>9.187500</td>\n",
       "      <td>2.320000</td>\n",
       "      <td>1.900000</td>\n",
       "      <td>0.000000</td>\n",
       "      <td>1.882000</td>\n",
       "      <td>13.298000</td>\n",
       "      <td>-99.990000</td>\n",
       "      <td>0.000000</td>\n",
       "    </tr>\n",
       "    <tr>\n",
       "      <th>25%</th>\n",
       "      <td>10.981980</td>\n",
       "      <td>11.967042</td>\n",
       "      <td>5.050313</td>\n",
       "      <td>5.451974</td>\n",
       "      <td>3.850000</td>\n",
       "      <td>4.959750</td>\n",
       "      <td>14.386250</td>\n",
       "      <td>338.025000</td>\n",
       "      <td>0.000000</td>\n",
       "    </tr>\n",
       "    <tr>\n",
       "      <th>50%</th>\n",
       "      <td>11.750654</td>\n",
       "      <td>12.453371</td>\n",
       "      <td>5.307197</td>\n",
       "      <td>7.508352</td>\n",
       "      <td>6.741667</td>\n",
       "      <td>9.342500</td>\n",
       "      <td>15.581000</td>\n",
       "      <td>355.390000</td>\n",
       "      <td>1.000000</td>\n",
       "    </tr>\n",
       "    <tr>\n",
       "      <th>75%</th>\n",
       "      <td>12.585463</td>\n",
       "      <td>13.278750</td>\n",
       "      <td>5.483333</td>\n",
       "      <td>10.000000</td>\n",
       "      <td>9.917708</td>\n",
       "      <td>13.153250</td>\n",
       "      <td>16.729750</td>\n",
       "      <td>373.890000</td>\n",
       "      <td>1.000000</td>\n",
       "    </tr>\n",
       "    <tr>\n",
       "      <th>max</th>\n",
       "      <td>14.050833</td>\n",
       "      <td>18.627500</td>\n",
       "      <td>6.150000</td>\n",
       "      <td>41.400000</td>\n",
       "      <td>22.900000</td>\n",
       "      <td>15.482000</td>\n",
       "      <td>17.609000</td>\n",
       "      <td>399.780000</td>\n",
       "      <td>1.000000</td>\n",
       "    </tr>\n",
       "  </tbody>\n",
       "</table>\n",
       "</div>"
      ],
      "text/plain": [
       "           Extent   WaterTemp        O2ml        SiO3         NO3  \\\n",
       "count  540.000000  540.000000  540.000000  540.000000  540.000000   \n",
       "mean    11.633582   12.703859    5.140705    8.623137    7.488843   \n",
       "std      1.257900    1.178649    0.613406    5.566774    4.980329   \n",
       "min      8.441054    9.187500    2.320000    1.900000    0.000000   \n",
       "25%     10.981980   11.967042    5.050313    5.451974    3.850000   \n",
       "50%     11.750654   12.453371    5.307197    7.508352    6.741667   \n",
       "75%     12.585463   13.278750    5.483333   10.000000    9.917708   \n",
       "max     14.050833   18.627500    6.150000   41.400000   22.900000   \n",
       "\n",
       "       LandAverageTemperature  LandAndOceanAverageTemperature         CO2  \\\n",
       "count              540.000000                      540.000000  540.000000   \n",
       "mean                 9.091504                       15.553526  355.062907   \n",
       "std                  4.156488                        1.233037   34.925471   \n",
       "min                  1.882000                       13.298000  -99.990000   \n",
       "25%                  4.959750                       14.386250  338.025000   \n",
       "50%                  9.342500                       15.581000  355.390000   \n",
       "75%                 13.153250                       16.729750  373.890000   \n",
       "max                 15.482000                       17.609000  399.780000   \n",
       "\n",
       "       IsGMSLIncreased  \n",
       "count       540.000000  \n",
       "mean          0.525926  \n",
       "std           0.499790  \n",
       "min           0.000000  \n",
       "25%           0.000000  \n",
       "50%           1.000000  \n",
       "75%           1.000000  \n",
       "max           1.000000  "
      ]
     },
     "execution_count": 411,
     "metadata": {},
     "output_type": "execute_result"
    }
   ],
   "source": [
    "df.describe()"
   ]
  },
  {
   "cell_type": "markdown",
   "id": "26310439",
   "metadata": {},
   "source": [
    "#### Podela skupa podataka na training i test"
   ]
  },
  {
   "cell_type": "code",
   "execution_count": 412,
   "id": "33d0c52b",
   "metadata": {},
   "outputs": [
    {
     "name": "stdout",
     "output_type": "stream",
     "text": [
      "<class 'pandas.core.frame.DataFrame'>\n",
      "RangeIndex: 540 entries, 0 to 539\n",
      "Data columns (total 10 columns):\n",
      " #   Column                          Non-Null Count  Dtype  \n",
      "---  ------                          --------------  -----  \n",
      " 0   Date                            540 non-null    object \n",
      " 1   Extent                          540 non-null    float64\n",
      " 2   WaterTemp                       540 non-null    float64\n",
      " 3   O2ml                            540 non-null    float64\n",
      " 4   SiO3                            540 non-null    float64\n",
      " 5   NO3                             540 non-null    float64\n",
      " 6   LandAverageTemperature          540 non-null    float64\n",
      " 7   LandAndOceanAverageTemperature  540 non-null    float64\n",
      " 8   CO2                             540 non-null    float64\n",
      " 9   IsGMSLIncreased                 540 non-null    int64  \n",
      "dtypes: float64(8), int64(1), object(1)\n",
      "memory usage: 42.3+ KB\n"
     ]
    }
   ],
   "source": [
    "df.info()"
   ]
  },
  {
   "cell_type": "code",
   "execution_count": 413,
   "id": "7bd38ac5",
   "metadata": {},
   "outputs": [],
   "source": [
    "from sklearn.model_selection import train_test_split\n",
    "\n",
    "X = df.drop([\"IsGMSLIncreased\", \"Date\"], axis=1)\n",
    "Y = df[\"IsGMSLIncreased\"]\n",
    "\n",
    "X_train, X_test, Y_train, Y_test = train_test_split(X, Y, test_size=0.25, random_state=35)"
   ]
  },
  {
   "cell_type": "code",
   "execution_count": 414,
   "id": "0da6cefa",
   "metadata": {},
   "outputs": [],
   "source": [
    "X_test = ((X_test-X_train.min())/(X_train.max()-X_train.min())).to_numpy()"
   ]
  },
  {
   "cell_type": "markdown",
   "id": "335a89be",
   "metadata": {},
   "source": [
    "#### Normalizaciju vrednosti atributa"
   ]
  },
  {
   "cell_type": "code",
   "execution_count": 415,
   "id": "9aff794b",
   "metadata": {},
   "outputs": [],
   "source": [
    "from sklearn.preprocessing import StandardScaler\n",
    "from sklearn import preprocessing\n",
    "\n",
    "# sc = StandardScaler()\n",
    "sc = preprocessing.MinMaxScaler()\n",
    "X_train = sc.fit_transform(X_train)\n",
    "#X_test = sc.transform(X_test)"
   ]
  },
  {
   "cell_type": "markdown",
   "id": "32d448fc",
   "metadata": {},
   "source": [
    "## Naive Bayes"
   ]
  },
  {
   "cell_type": "code",
   "execution_count": 416,
   "id": "e67def1d",
   "metadata": {},
   "outputs": [],
   "source": [
    "from sklearn.naive_bayes import GaussianNB\n",
    "\n",
    "nb = GaussianNB()"
   ]
  },
  {
   "cell_type": "markdown",
   "id": "ea2d11b3",
   "metadata": {},
   "source": [
    "#### Obučavanje - Naive Bayes"
   ]
  },
  {
   "cell_type": "code",
   "execution_count": 417,
   "id": "34fa4f9d",
   "metadata": {
    "scrolled": true
   },
   "outputs": [
    {
     "data": {
      "text/plain": [
       "GaussianNB()"
      ]
     },
     "execution_count": 417,
     "metadata": {},
     "output_type": "execute_result"
    }
   ],
   "source": [
    "nb.fit(X_train, Y_train)"
   ]
  },
  {
   "cell_type": "markdown",
   "id": "87602ea6",
   "metadata": {},
   "source": [
    "#### Predikcija - Naive Bayes"
   ]
  },
  {
   "cell_type": "code",
   "execution_count": 418,
   "id": "b826a9a8",
   "metadata": {},
   "outputs": [
    {
     "name": "stdout",
     "output_type": "stream",
     "text": [
      "Naive Bayes predictions:  [1 0 1 1 1 1 1 0 1 1 0 1 1 1 0 1 1 0 0 1 0 0 1 1 1 0 0 1 1 1 0 1 1 0 0 1 1\n",
      " 1 1 1 0 0 0 1 1 0 0 1 1 0 1 0 0 1 1 1 1 1 1 0 0 0 1 1 1 0 1 1 0 1 0 1 0 1\n",
      " 1 1 0 0 0 1 0 0 1 1 0 1 1 1 0 1 0 1 0 1 1 0 1 1 1 1 1 0 1 1 0 0 1 1 1 0 1\n",
      " 1 0 1 1 1 1 1 1 1 0 0 1 1 0 1 1 0 0 1 0 1 0 0 1]\n"
     ]
    }
   ],
   "source": [
    "nb_predictions = nb.predict(X_test)\n",
    "print(\"Naive Bayes predictions: \", nb_predictions)"
   ]
  },
  {
   "cell_type": "markdown",
   "id": "8f5f1438",
   "metadata": {},
   "source": [
    "#### Score - Naive Bayes"
   ]
  },
  {
   "cell_type": "code",
   "execution_count": 419,
   "id": "bb4a330a",
   "metadata": {},
   "outputs": [
    {
     "name": "stdout",
     "output_type": "stream",
     "text": [
      "Naive Bayes score:  0.5481481481481482\n"
     ]
    }
   ],
   "source": [
    "print(\"Naive Bayes score: \", nb.score(X_test, Y_test))"
   ]
  },
  {
   "cell_type": "code",
   "execution_count": 420,
   "id": "5dcfa2f2",
   "metadata": {},
   "outputs": [
    {
     "name": "stdout",
     "output_type": "stream",
     "text": [
      "Accuracy score:  0.5481481481481482\n"
     ]
    }
   ],
   "source": [
    "from sklearn.metrics import accuracy_score\n",
    "\n",
    "ac = accuracy_score(Y_test, nb_predictions)\n",
    "print(\"Accuracy score: \", ac)"
   ]
  },
  {
   "cell_type": "markdown",
   "id": "efaff377",
   "metadata": {},
   "source": [
    "#### F1 Score - Naive Bayes"
   ]
  },
  {
   "cell_type": "code",
   "execution_count": 421,
   "id": "fd151d5a",
   "metadata": {},
   "outputs": [
    {
     "name": "stdout",
     "output_type": "stream",
     "text": [
      "F1 score:  [0.44036697 0.62111801]\n"
     ]
    }
   ],
   "source": [
    "from sklearn.metrics import f1_score\n",
    "\n",
    "f1_sc = f1_score(Y_test, nb_predictions, average=None)\n",
    "print(\"F1 score: \", f1_sc)"
   ]
  },
  {
   "cell_type": "markdown",
   "id": "05ae9d1d",
   "metadata": {},
   "source": [
    "#### Report - Naive Bayes"
   ]
  },
  {
   "cell_type": "code",
   "execution_count": 422,
   "id": "0df4a145",
   "metadata": {},
   "outputs": [
    {
     "name": "stdout",
     "output_type": "stream",
     "text": [
      "              precision    recall  f1-score   support\n",
      "\n",
      "           0       0.47      0.41      0.44        58\n",
      "           1       0.60      0.65      0.62        77\n",
      "\n",
      "    accuracy                           0.55       135\n",
      "   macro avg       0.53      0.53      0.53       135\n",
      "weighted avg       0.54      0.55      0.54       135\n",
      "\n"
     ]
    }
   ],
   "source": [
    "from sklearn.metrics import classification_report\n",
    "\n",
    "print(classification_report(Y_test, nb_predictions))"
   ]
  },
  {
   "cell_type": "markdown",
   "id": "44775c70",
   "metadata": {},
   "source": [
    "## SVM klasifikator"
   ]
  },
  {
   "cell_type": "code",
   "execution_count": 423,
   "id": "360acbb9",
   "metadata": {},
   "outputs": [],
   "source": [
    "from sklearn import svm\n",
    "\n",
    "clf_svm = svm.SVC(kernel='rbf')"
   ]
  },
  {
   "cell_type": "markdown",
   "id": "42aa1121",
   "metadata": {},
   "source": [
    "#### Obučavanje - SVM"
   ]
  },
  {
   "cell_type": "code",
   "execution_count": 424,
   "id": "1055c2f5",
   "metadata": {
    "scrolled": true
   },
   "outputs": [
    {
     "data": {
      "text/plain": [
       "SVC()"
      ]
     },
     "execution_count": 424,
     "metadata": {},
     "output_type": "execute_result"
    }
   ],
   "source": [
    "clf_svm.fit(X_train, Y_train)"
   ]
  },
  {
   "cell_type": "markdown",
   "id": "e1f334cf",
   "metadata": {},
   "source": [
    "#### Predikcija - SVM"
   ]
  },
  {
   "cell_type": "code",
   "execution_count": 425,
   "id": "7e92bd49",
   "metadata": {},
   "outputs": [
    {
     "name": "stdout",
     "output_type": "stream",
     "text": [
      "SVM predictions:  [1 0 1 1 1 1 1 0 1 1 0 1 1 1 0 1 1 0 0 1 1 0 1 1 1 0 1 0 1 1 0 1 1 0 1 1 1\n",
      " 1 1 1 1 1 1 1 1 0 1 0 1 1 1 0 1 1 1 1 1 1 1 0 0 0 1 0 1 0 1 1 0 1 1 1 0 1\n",
      " 1 0 0 1 0 1 1 1 1 1 0 1 1 1 1 1 0 1 0 1 1 0 1 1 0 1 1 0 1 1 1 0 1 1 1 1 1\n",
      " 1 0 1 1 1 0 1 1 1 0 0 1 0 0 1 1 0 1 1 0 1 0 1 0]\n"
     ]
    }
   ],
   "source": [
    "svm_predictions = clf_svm.predict(X_test)\n",
    "print(\"SVM predictions: \", svm_predictions)"
   ]
  },
  {
   "cell_type": "markdown",
   "id": "7d57730f",
   "metadata": {},
   "source": [
    "#### F1 Score - SVM"
   ]
  },
  {
   "cell_type": "code",
   "execution_count": 426,
   "id": "bd8e2966",
   "metadata": {},
   "outputs": [
    {
     "name": "stdout",
     "output_type": "stream",
     "text": [
      "F1 score:  [0.44036697 0.62111801]\n"
     ]
    }
   ],
   "source": [
    "from sklearn.metrics import f1_score\n",
    "\n",
    "f1_sc = f1_score(Y_test, nb_predictions, average=None)\n",
    "print(\"F1 score: \", f1_sc)"
   ]
  },
  {
   "cell_type": "markdown",
   "id": "4ea16950",
   "metadata": {},
   "source": [
    "#### Report - SVM"
   ]
  },
  {
   "cell_type": "code",
   "execution_count": 427,
   "id": "cd749297",
   "metadata": {},
   "outputs": [
    {
     "name": "stdout",
     "output_type": "stream",
     "text": [
      "              precision    recall  f1-score   support\n",
      "\n",
      "           0       0.47      0.41      0.44        58\n",
      "           1       0.60      0.65      0.62        77\n",
      "\n",
      "    accuracy                           0.55       135\n",
      "   macro avg       0.53      0.53      0.53       135\n",
      "weighted avg       0.54      0.55      0.54       135\n",
      "\n"
     ]
    }
   ],
   "source": [
    "from sklearn.metrics import classification_report\n",
    "\n",
    "print(classification_report(Y_test, nb_predictions))"
   ]
  },
  {
   "cell_type": "markdown",
   "id": "78755b46",
   "metadata": {},
   "source": [
    "# XGBoost"
   ]
  },
  {
   "cell_type": "code",
   "execution_count": 428,
   "id": "0358f025",
   "metadata": {},
   "outputs": [],
   "source": [
    "import xgboost as xgb"
   ]
  },
  {
   "cell_type": "markdown",
   "id": "d501da62",
   "metadata": {},
   "source": [
    "#### Ponovno učitavanje dataseta zbog kreiranja dtrain i dtest"
   ]
  },
  {
   "cell_type": "code",
   "execution_count": 429,
   "id": "b1bff612",
   "metadata": {},
   "outputs": [],
   "source": [
    "from sklearn.model_selection import train_test_split\n",
    "\n",
    "df = pd.read_csv('processed_datasets/GMSL_analysis_and_prediction.csv', delimiter=',')\n",
    "\n",
    "X = df.drop([\"IsGMSLIncreased\", \"Date\"], axis=1)\n",
    "Y = df[\"IsGMSLIncreased\"]\n",
    "\n",
    "X_train, X_test, Y_train, Y_test = train_test_split(X, Y, test_size=0.25, random_state=35)"
   ]
  },
  {
   "cell_type": "code",
   "execution_count": 430,
   "id": "931a6560",
   "metadata": {},
   "outputs": [],
   "source": [
    "dtrain = xgb.DMatrix(X_train, label=Y_train)\n",
    "dtest = xgb.DMatrix(X_test, label=Y_test)"
   ]
  },
  {
   "cell_type": "code",
   "execution_count": 431,
   "id": "16e864b2",
   "metadata": {},
   "outputs": [
    {
     "name": "stdout",
     "output_type": "stream",
     "text": [
      "Baseline MAE is 0.50\n"
     ]
    }
   ],
   "source": [
    "import numpy as np\n",
    "from sklearn.metrics import mean_absolute_error\n",
    "\n",
    "# \"Learn\" the mean from the training data\n",
    "mean_train = np.mean(Y_train)\n",
    "\n",
    "# Get predictions on the test set\n",
    "baseline_predictions = np.ones(Y_test.shape) * mean_train\n",
    "\n",
    "# Compute MAE\n",
    "mae_baseline = mean_absolute_error(Y_test, baseline_predictions)\n",
    "\n",
    "print(\"Baseline MAE is {:.2f}\".format(mae_baseline))"
   ]
  },
  {
   "cell_type": "markdown",
   "id": "f6a5da94",
   "metadata": {},
   "source": [
    "#### Definisanje parametara modela"
   ]
  },
  {
   "cell_type": "code",
   "execution_count": 432,
   "id": "c8457d9c",
   "metadata": {},
   "outputs": [],
   "source": [
    "params = {\n",
    "    'max_depth':6,\n",
    "    'min_child_weight': 1,\n",
    "    'eta':.3,\n",
    "    'subsample': 1,\n",
    "    'colsample_bytree': 1,\n",
    "    # Other parameters\n",
    "    'objective':'binary:logistic',\n",
    "}"
   ]
  },
  {
   "cell_type": "code",
   "execution_count": 433,
   "id": "887e484f",
   "metadata": {},
   "outputs": [],
   "source": [
    "params['eval_metric'] = \"mae\"\n",
    "num_boost_round = 999"
   ]
  },
  {
   "cell_type": "markdown",
   "id": "8d5dd35c",
   "metadata": {},
   "source": [
    "#### Obučavanje modela"
   ]
  },
  {
   "cell_type": "code",
   "execution_count": 434,
   "id": "64a2570d",
   "metadata": {},
   "outputs": [
    {
     "name": "stdout",
     "output_type": "stream",
     "text": [
      "[0]\tTest-mae:0.49222\n",
      "[1]\tTest-mae:0.49626\n",
      "[2]\tTest-mae:0.49402\n",
      "[3]\tTest-mae:0.49046\n",
      "[4]\tTest-mae:0.49527\n",
      "[5]\tTest-mae:0.49539\n",
      "[6]\tTest-mae:0.49466\n",
      "[7]\tTest-mae:0.49518\n",
      "[8]\tTest-mae:0.49225\n",
      "[9]\tTest-mae:0.48917\n",
      "[10]\tTest-mae:0.49029\n",
      "[11]\tTest-mae:0.49340\n",
      "[12]\tTest-mae:0.49268\n",
      "[13]\tTest-mae:0.48876\n",
      "[14]\tTest-mae:0.48782\n",
      "[15]\tTest-mae:0.48335\n",
      "[16]\tTest-mae:0.48335\n",
      "[17]\tTest-mae:0.48537\n",
      "[18]\tTest-mae:0.48505\n",
      "[19]\tTest-mae:0.48657\n",
      "[20]\tTest-mae:0.48806\n",
      "[21]\tTest-mae:0.48716\n",
      "[22]\tTest-mae:0.48962\n",
      "[23]\tTest-mae:0.49153\n",
      "[24]\tTest-mae:0.49270\n",
      "[25]\tTest-mae:0.49526\n"
     ]
    }
   ],
   "source": [
    "model = xgb.train(\n",
    "    params,\n",
    "    dtrain,\n",
    "    num_boost_round=num_boost_round,\n",
    "    evals=[(dtest, \"Test\")],\n",
    "    early_stopping_rounds=10\n",
    ")"
   ]
  },
  {
   "cell_type": "code",
   "execution_count": 435,
   "id": "456da380",
   "metadata": {},
   "outputs": [
    {
     "name": "stdout",
     "output_type": "stream",
     "text": [
      "Best MAE: 0.48 with 17 rounds\n"
     ]
    }
   ],
   "source": [
    "print(\"Best MAE: {:.2f} with {} rounds\".format(model.best_score, model.best_iteration + 1))"
   ]
  },
  {
   "cell_type": "markdown",
   "id": "e80bad4c",
   "metadata": {},
   "source": [
    "#### Report - XGBoost bez optimizacije parametara"
   ]
  },
  {
   "cell_type": "code",
   "execution_count": 436,
   "id": "3e692eb4",
   "metadata": {},
   "outputs": [],
   "source": [
    "xgb_pred = model.predict(dtest)\n",
    "xgb_predictions = [round(value) for value in xgb_pred]"
   ]
  },
  {
   "cell_type": "code",
   "execution_count": 437,
   "id": "05191351",
   "metadata": {},
   "outputs": [
    {
     "name": "stdout",
     "output_type": "stream",
     "text": [
      "F1 score:  [0.46511628 0.5106383 ]\n"
     ]
    }
   ],
   "source": [
    "f1_sc = f1_score(Y_test, xgb_predictions, average=None)\n",
    "print(\"F1 score: \", f1_sc)"
   ]
  },
  {
   "cell_type": "code",
   "execution_count": 438,
   "id": "626125cf",
   "metadata": {},
   "outputs": [
    {
     "name": "stdout",
     "output_type": "stream",
     "text": [
      "              precision    recall  f1-score   support\n",
      "\n",
      "           0       0.42      0.52      0.47        58\n",
      "           1       0.56      0.47      0.51        77\n",
      "\n",
      "    accuracy                           0.49       135\n",
      "   macro avg       0.49      0.49      0.49       135\n",
      "weighted avg       0.50      0.49      0.49       135\n",
      "\n"
     ]
    }
   ],
   "source": [
    "print(classification_report(Y_test, xgb_predictions))"
   ]
  },
  {
   "cell_type": "markdown",
   "id": "b2464b0b",
   "metadata": {},
   "source": [
    "#### Unakrsna validacija pomoću XGBoost."
   ]
  },
  {
   "cell_type": "code",
   "execution_count": 439,
   "id": "d7535a68",
   "metadata": {},
   "outputs": [],
   "source": [
    "cv_results = xgb.cv(\n",
    "    params,\n",
    "    dtrain,\n",
    "    num_boost_round=num_boost_round,\n",
    "    seed=42,\n",
    "    nfold=5,\n",
    "    metrics={'mae'},\n",
    "    early_stopping_rounds=10\n",
    ")"
   ]
  },
  {
   "cell_type": "code",
   "execution_count": 440,
   "id": "37ae9eff",
   "metadata": {},
   "outputs": [
    {
     "data": {
      "text/html": [
       "<div>\n",
       "<style scoped>\n",
       "    .dataframe tbody tr th:only-of-type {\n",
       "        vertical-align: middle;\n",
       "    }\n",
       "\n",
       "    .dataframe tbody tr th {\n",
       "        vertical-align: top;\n",
       "    }\n",
       "\n",
       "    .dataframe thead th {\n",
       "        text-align: right;\n",
       "    }\n",
       "</style>\n",
       "<table border=\"1\" class=\"dataframe\">\n",
       "  <thead>\n",
       "    <tr style=\"text-align: right;\">\n",
       "      <th></th>\n",
       "      <th>train-mae-mean</th>\n",
       "      <th>train-mae-std</th>\n",
       "      <th>test-mae-mean</th>\n",
       "      <th>test-mae-std</th>\n",
       "    </tr>\n",
       "  </thead>\n",
       "  <tbody>\n",
       "    <tr>\n",
       "      <th>0</th>\n",
       "      <td>0.465505</td>\n",
       "      <td>0.007034</td>\n",
       "      <td>0.499450</td>\n",
       "      <td>0.010603</td>\n",
       "    </tr>\n",
       "    <tr>\n",
       "      <th>1</th>\n",
       "      <td>0.439316</td>\n",
       "      <td>0.010747</td>\n",
       "      <td>0.503178</td>\n",
       "      <td>0.013240</td>\n",
       "    </tr>\n",
       "    <tr>\n",
       "      <th>2</th>\n",
       "      <td>0.413999</td>\n",
       "      <td>0.014849</td>\n",
       "      <td>0.504611</td>\n",
       "      <td>0.015097</td>\n",
       "    </tr>\n",
       "    <tr>\n",
       "      <th>3</th>\n",
       "      <td>0.396364</td>\n",
       "      <td>0.011921</td>\n",
       "      <td>0.500085</td>\n",
       "      <td>0.017702</td>\n",
       "    </tr>\n",
       "    <tr>\n",
       "      <th>4</th>\n",
       "      <td>0.372683</td>\n",
       "      <td>0.015913</td>\n",
       "      <td>0.498060</td>\n",
       "      <td>0.019201</td>\n",
       "    </tr>\n",
       "  </tbody>\n",
       "</table>\n",
       "</div>"
      ],
      "text/plain": [
       "   train-mae-mean  train-mae-std  test-mae-mean  test-mae-std\n",
       "0        0.465505       0.007034       0.499450      0.010603\n",
       "1        0.439316       0.010747       0.503178      0.013240\n",
       "2        0.413999       0.014849       0.504611      0.015097\n",
       "3        0.396364       0.011921       0.500085      0.017702\n",
       "4        0.372683       0.015913       0.498060      0.019201"
      ]
     },
     "execution_count": 440,
     "metadata": {},
     "output_type": "execute_result"
    }
   ],
   "source": [
    "cv_results.head()"
   ]
  },
  {
   "cell_type": "code",
   "execution_count": 441,
   "id": "f90be482",
   "metadata": {},
   "outputs": [
    {
     "name": "stdout",
     "output_type": "stream",
     "text": [
      "MIN MAE: 0.49805979999999994\n"
     ]
    }
   ],
   "source": [
    "cv_results['test-mae-mean'].min()\n",
    "print(\"MIN MAE: {}\".format(cv_results['test-mae-mean'].min()))"
   ]
  },
  {
   "cell_type": "markdown",
   "id": "90175902",
   "metadata": {},
   "source": [
    "Optimizacija parametara: **max_depth**, **min_child_weight**"
   ]
  },
  {
   "cell_type": "code",
   "execution_count": 442,
   "id": "813fa882",
   "metadata": {},
   "outputs": [],
   "source": [
    "gridsearch_params = [\n",
    "    (max_depth, min_child_weight)\n",
    "    for max_depth in range(1,30)\n",
    "    for min_child_weight in range(1,20)\n",
    "]\n",
    "\n",
    "min_mae = float(\"Inf\")\n",
    "best_params = None\n",
    "for max_depth, min_child_weight in gridsearch_params:\n",
    "    params['max_depth'] = max_depth\n",
    "    params['min_child_weight'] = min_child_weight\n",
    "    \n",
    "    cv_results = xgb.cv(\n",
    "        params,\n",
    "        dtrain,\n",
    "        num_boost_round=999,\n",
    "        seed=42,\n",
    "        nfold=5,\n",
    "        metrics={'mae'},\n",
    "        early_stopping_rounds=10\n",
    "    )\n",
    "    \n",
    "    mean_mae = cv_results['test-mae-mean'].min()\n",
    "    boost_rounds = cv_results['test-mae-mean'].argmin()\n",
    "    \n",
    "    if mean_mae < min_mae:\n",
    "        min_mae = mean_mae\n",
    "        best_params = (max_depth,min_child_weight)\n",
    "        "
   ]
  },
  {
   "cell_type": "code",
   "execution_count": 443,
   "id": "e2b5bbb7",
   "metadata": {},
   "outputs": [
    {
     "name": "stdout",
     "output_type": "stream",
     "text": [
      "Best param: 'max_depth' : 11\n",
      "Best param: 'min_child_weight' : 2\n",
      "MAE: 0.4748512\n"
     ]
    }
   ],
   "source": [
    "print(\"Best param: 'max_depth' : {}\".format(best_params[0]))\n",
    "print(\"Best param: 'min_child_weight' : {}\".format(best_params[1]))\n",
    "print(\"MAE: {}\".format(min_mae))"
   ]
  },
  {
   "cell_type": "code",
   "execution_count": 444,
   "id": "fe40d346",
   "metadata": {},
   "outputs": [
    {
     "data": {
      "text/plain": [
       "{'max_depth': 11,\n",
       " 'min_child_weight': 2,\n",
       " 'eta': 0.3,\n",
       " 'subsample': 1,\n",
       " 'colsample_bytree': 1,\n",
       " 'objective': 'binary:logistic',\n",
       " 'eval_metric': 'mae'}"
      ]
     },
     "execution_count": 444,
     "metadata": {},
     "output_type": "execute_result"
    }
   ],
   "source": [
    "params['max_depth'] = 11\n",
    "params['min_child_weight'] = 2\n",
    "params"
   ]
  },
  {
   "cell_type": "code",
   "execution_count": null,
   "id": "7dfaac20",
   "metadata": {},
   "outputs": [],
   "source": []
  },
  {
   "cell_type": "code",
   "execution_count": 445,
   "id": "234f8dd1",
   "metadata": {},
   "outputs": [
    {
     "name": "stdout",
     "output_type": "stream",
     "text": [
      "[0]\tTest-mae:0.49898\n",
      "[1]\tTest-mae:0.49835\n",
      "[2]\tTest-mae:0.49492\n",
      "[3]\tTest-mae:0.49900\n",
      "[4]\tTest-mae:0.49617\n",
      "[5]\tTest-mae:0.50041\n",
      "[6]\tTest-mae:0.49781\n",
      "[7]\tTest-mae:0.49451\n",
      "[8]\tTest-mae:0.48747\n",
      "[9]\tTest-mae:0.48978\n",
      "[10]\tTest-mae:0.48577\n",
      "[11]\tTest-mae:0.48691\n",
      "[12]\tTest-mae:0.48472\n",
      "[13]\tTest-mae:0.48303\n",
      "[14]\tTest-mae:0.48374\n",
      "[15]\tTest-mae:0.48408\n",
      "[16]\tTest-mae:0.48284\n",
      "[17]\tTest-mae:0.48124\n",
      "[18]\tTest-mae:0.48010\n",
      "[19]\tTest-mae:0.47726\n",
      "[20]\tTest-mae:0.47616\n",
      "[21]\tTest-mae:0.47572\n",
      "[22]\tTest-mae:0.47556\n",
      "[23]\tTest-mae:0.47833\n",
      "[24]\tTest-mae:0.47727\n",
      "[25]\tTest-mae:0.47614\n",
      "[26]\tTest-mae:0.47977\n",
      "[27]\tTest-mae:0.47889\n",
      "[28]\tTest-mae:0.47773\n",
      "[29]\tTest-mae:0.47835\n",
      "[30]\tTest-mae:0.47912\n",
      "[31]\tTest-mae:0.47831\n",
      "[32]\tTest-mae:0.47819\n"
     ]
    }
   ],
   "source": [
    "model = xgb.train(\n",
    "    params,\n",
    "    dtrain,\n",
    "    num_boost_round=num_boost_round,\n",
    "    evals=[(dtest, \"Test\")],\n",
    "    early_stopping_rounds=10\n",
    ")"
   ]
  },
  {
   "cell_type": "code",
   "execution_count": 446,
   "id": "d4921489",
   "metadata": {},
   "outputs": [],
   "source": [
    "xgb_pred = model.predict(dtest)\n",
    "xgb_predictions = [round(value) for value in xgb_pred]"
   ]
  },
  {
   "cell_type": "code",
   "execution_count": 447,
   "id": "48638af4",
   "metadata": {},
   "outputs": [
    {
     "name": "stdout",
     "output_type": "stream",
     "text": [
      "F1 score:  [0.46280992 0.56375839]\n"
     ]
    }
   ],
   "source": [
    "f1_sc = f1_score(Y_test, xgb_predictions, average=None)\n",
    "print(\"F1 score: \", f1_sc)"
   ]
  },
  {
   "cell_type": "code",
   "execution_count": 448,
   "id": "810863ed",
   "metadata": {},
   "outputs": [
    {
     "name": "stdout",
     "output_type": "stream",
     "text": [
      "              precision    recall  f1-score   support\n",
      "\n",
      "           0       0.44      0.48      0.46        58\n",
      "           1       0.58      0.55      0.56        77\n",
      "\n",
      "    accuracy                           0.52       135\n",
      "   macro avg       0.51      0.51      0.51       135\n",
      "weighted avg       0.52      0.52      0.52       135\n",
      "\n"
     ]
    }
   ],
   "source": [
    "print(classification_report(Y_test, xgb_predictions))"
   ]
  },
  {
   "cell_type": "code",
   "execution_count": null,
   "id": "be58687d",
   "metadata": {},
   "outputs": [],
   "source": []
  },
  {
   "cell_type": "markdown",
   "id": "61ff7a61",
   "metadata": {},
   "source": [
    "#### Značajnost atributa po XGBoost."
   ]
  },
  {
   "cell_type": "code",
   "execution_count": 449,
   "id": "08fe1c16",
   "metadata": {
    "scrolled": true
   },
   "outputs": [
    {
     "data": {
      "text/plain": [
       "<AxesSubplot:title={'center':'Feature importance'}, xlabel='F score', ylabel='Features'>"
      ]
     },
     "execution_count": 449,
     "metadata": {},
     "output_type": "execute_result"
    },
    {
     "data": {
      "image/png": "[encoded data removed]",
      "text/plain": [
       "<Figure size 432x288 with 1 Axes>"
      ]
     },
     "metadata": {
      "needs_background": "light"
     },
     "output_type": "display_data"
    }
   ],
   "source": [
    "from xgboost import plot_importance\n",
    "\n",
    "plot_importance(model)"
   ]
  },
  {
   "cell_type": "code",
   "execution_count": null,
   "id": "b9a1def7",
   "metadata": {},
   "outputs": [],
   "source": []
  },
  {
   "cell_type": "markdown",
   "id": "776b61e2",
   "metadata": {},
   "source": [
    "#### GridSearch"
   ]
  },
  {
   "cell_type": "code",
   "execution_count": 450,
   "id": "5df80f5c",
   "metadata": {},
   "outputs": [],
   "source": [
    "# from sklearn.model_selection import GridSearchCV\n",
    "\n",
    "# data = pd.read_csv('processed_datasets/GMSL_analysis_and_prediction.csv', delimiter=',')\n",
    "\n",
    "# X, y = data[data.columns.tolist()[1:-1]], data[data.columns.tolist()[-1]]\n",
    "\n",
    "# params = { 'max_depth': [3,6,10],\n",
    "#            'learning_rate': [0.01, 0.05, 0.1],\n",
    "#            'n_estimators': [100, 500, 1000],\n",
    "#            'colsample_bytree': [0.3, 0.7]}\n",
    "\n",
    "# xgbr = xgb.XGBRegressor(seed = 20)\n",
    "\n",
    "# clf = GridSearchCV(estimator=xgbr, \n",
    "#                    param_grid=params,\n",
    "#                    scoring='neg_mean_squared_error', \n",
    "#                    verbose=1)\n",
    "\n",
    "# clf.fit(X, y)\n",
    "\n",
    "# print(\"Best parameters:\", clf.best_params_)\n",
    "# print(\"Lowest RMSE: \", (-clf.best_score_)**(1/2.0))"
   ]
  },
  {
   "cell_type": "markdown",
   "id": "ab9c0eef",
   "metadata": {},
   "source": [
    "#### RandomizedSearch"
   ]
  },
  {
   "cell_type": "code",
   "execution_count": 451,
   "id": "4dc79c03",
   "metadata": {},
   "outputs": [],
   "source": [
    "# from sklearn.model_selection import RandomizedSearchCV\n",
    "\n",
    "# data = pd.read_csv('processed_datasets/GMSL_analysis_and_prediction.csv', delimiter=',')\n",
    "\n",
    "# X, y = data[data.columns.tolist()[1:-1]], data[data.columns.tolist()[-1]]\n",
    "\n",
    "# params = { 'max_depth': [3, 5, 6, 10, 15, 20],\n",
    "#            'learning_rate': [0.01, 0.1, 0.2, 0.3],\n",
    "#            'subsample': np.arange(0.5, 1.0, 0.1),\n",
    "#            'colsample_bytree': np.arange(0.4, 1.0, 0.1),\n",
    "#            'colsample_bylevel': np.arange(0.4, 1.0, 0.1),\n",
    "#            'n_estimators': [100, 500, 1000]}\n",
    "\n",
    "# xgbr = xgb.XGBRegressor(seed = 20)\n",
    "\n",
    "# clf = RandomizedSearchCV(estimator=xgbr,\n",
    "#                          param_distributions=params,\n",
    "#                          scoring='neg_mean_squared_error',\n",
    "#                          n_iter=25,)\n",
    "\n",
    "# clf.fit(X, y)\n",
    "\n",
    "# print(\"Best parameters:\", clf.best_params_)\n",
    "# print(\"Lowest RMSE: \", (-clf.best_score_)**(1/2.0))"
   ]
  },
  {
   "cell_type": "code",
   "execution_count": null,
   "id": "7b62ee64",
   "metadata": {},
   "outputs": [],
   "source": []
  }
 ],
 "metadata": {
  "kernelspec": {
   "display_name": "Python 3 (ipykernel)",
   "language": "python",
   "name": "python3"
  },
  "language_info": {
   "codemirror_mode": {
    "name": "ipython",
    "version": 3
   },
   "file_extension": ".py",
   "mimetype": "text/x-python",
   "name": "python",
   "nbconvert_exporter": "python",
   "pygments_lexer": "ipython3",
   "version": "3.8.3"
  }
 },
 "nbformat": 4,
 "nbformat_minor": 5
}
