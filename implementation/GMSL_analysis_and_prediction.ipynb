{
 "cells": [
  {
   "cell_type": "markdown",
   "id": "1c586275",
   "metadata": {},
   "source": [
    "# GMSL Analysis and Prediction "
   ]
  },
  {
   "cell_type": "markdown",
   "id": "78404080",
   "metadata": {},
   "source": [
    "## Final Dataset for GMSL analysis and prediction"
   ]
  },
  {
   "cell_type": "markdown",
   "id": "25ada774",
   "metadata": {},
   "source": [
    "Spajanjem prethodno dobijenih skupova podataka i izdvajanjem relevantnih atributa formira se konačan skup podataka nad kojim će se izvršiti detaljna analiza i dodatna obrada podataka.\n",
    "\n",
    "Podaci će biti grupisani na osnovu datuma merenja na mesečnom nivou (od 1969. do 2015.)\n",
    "\n",
    "Podatak na osnovu kog će se formirati klasa jeste **GMSL (global mean sea level)** koji predstavlja globalnu srednju vrednost nivoa mora na mesečnom nivou. \n",
    "\n",
    "Klasa će uzimati vrednost 0 ili 1:\n",
    "* 0 - nije se desio porast nivoa mora u odnosu na prethodni mesec\n",
    "* 1 - desio se porast nivoa mora u ondosu na prethnodni mesec\n",
    "\n",
    "Podaci koji utiču na porast nivoa mora:\n",
    "\n",
    "* Extent - ukupna površina morskog leda izražena u jedinici 10^6 kvadratnih kilometar\n",
    "* WaterTemp - temperatura vode izražena u celzijusima \n",
    "* O2ml - zasićenost vode kiseonikom\n",
    "* LandAvgTemp - prosečna temperatura kopna za dan merenja\n",
    "* LandAndOceanAvgTemp - prosečna temperatura kopna i mora za dan merenja\n",
    "* CO2mmf - prosečna koncentracija CO2 na mesečnom nivou"
   ]
  },
  {
   "cell_type": "code",
   "execution_count": 38,
   "id": "90c102ed",
   "metadata": {},
   "outputs": [],
   "source": [
    "import pandas as pd\n",
    "import seaborn as sb"
   ]
  },
  {
   "cell_type": "code",
   "execution_count": 39,
   "id": "09e7dcb5",
   "metadata": {},
   "outputs": [],
   "source": [
    "df_GMSL = pd.read_csv('processed_datasets/GMSL.csv', delimiter=',')"
   ]
  },
  {
   "cell_type": "code",
   "execution_count": 40,
   "id": "1e1a068d",
   "metadata": {},
   "outputs": [
    {
     "data": {
      "text/html": [
       "<div>\n",
       "<style scoped>\n",
       "    .dataframe tbody tr th:only-of-type {\n",
       "        vertical-align: middle;\n",
       "    }\n",
       "\n",
       "    .dataframe tbody tr th {\n",
       "        vertical-align: top;\n",
       "    }\n",
       "\n",
       "    .dataframe thead th {\n",
       "        text-align: right;\n",
       "    }\n",
       "</style>\n",
       "<table border=\"1\" class=\"dataframe\">\n",
       "  <thead>\n",
       "    <tr style=\"text-align: right;\">\n",
       "      <th></th>\n",
       "      <th>Date</th>\n",
       "      <th>GMSL</th>\n",
       "    </tr>\n",
       "  </thead>\n",
       "  <tbody>\n",
       "    <tr>\n",
       "      <th>0</th>\n",
       "      <td>1880-01</td>\n",
       "      <td>-183.0</td>\n",
       "    </tr>\n",
       "    <tr>\n",
       "      <th>1</th>\n",
       "      <td>1880-02</td>\n",
       "      <td>-171.1</td>\n",
       "    </tr>\n",
       "    <tr>\n",
       "      <th>2</th>\n",
       "      <td>1880-03</td>\n",
       "      <td>-164.3</td>\n",
       "    </tr>\n",
       "    <tr>\n",
       "      <th>3</th>\n",
       "      <td>1880-04</td>\n",
       "      <td>-158.2</td>\n",
       "    </tr>\n",
       "    <tr>\n",
       "      <th>4</th>\n",
       "      <td>1880-05</td>\n",
       "      <td>-158.7</td>\n",
       "    </tr>\n",
       "  </tbody>\n",
       "</table>\n",
       "</div>"
      ],
      "text/plain": [
       "      Date   GMSL\n",
       "0  1880-01 -183.0\n",
       "1  1880-02 -171.1\n",
       "2  1880-03 -164.3\n",
       "3  1880-04 -158.2\n",
       "4  1880-05 -158.7"
      ]
     },
     "execution_count": 40,
     "metadata": {},
     "output_type": "execute_result"
    }
   ],
   "source": [
    "df_GMSL.head()"
   ]
  },
  {
   "cell_type": "code",
   "execution_count": 41,
   "id": "939e0595",
   "metadata": {},
   "outputs": [],
   "source": [
    "df_Extent = pd.read_csv('processed_datasets/Extent.csv', delimiter=',')"
   ]
  },
  {
   "cell_type": "code",
   "execution_count": 42,
   "id": "b239ba3e",
   "metadata": {},
   "outputs": [
    {
     "data": {
      "text/html": [
       "<div>\n",
       "<style scoped>\n",
       "    .dataframe tbody tr th:only-of-type {\n",
       "        vertical-align: middle;\n",
       "    }\n",
       "\n",
       "    .dataframe tbody tr th {\n",
       "        vertical-align: top;\n",
       "    }\n",
       "\n",
       "    .dataframe thead th {\n",
       "        text-align: right;\n",
       "    }\n",
       "</style>\n",
       "<table border=\"1\" class=\"dataframe\">\n",
       "  <thead>\n",
       "    <tr style=\"text-align: right;\">\n",
       "      <th></th>\n",
       "      <th>Date</th>\n",
       "      <th>Extent</th>\n",
       "    </tr>\n",
       "  </thead>\n",
       "  <tbody>\n",
       "    <tr>\n",
       "      <th>0</th>\n",
       "      <td>1978-10</td>\n",
       "      <td>14.050833</td>\n",
       "    </tr>\n",
       "    <tr>\n",
       "      <th>1</th>\n",
       "      <td>1978-11</td>\n",
       "      <td>13.770767</td>\n",
       "    </tr>\n",
       "    <tr>\n",
       "      <th>2</th>\n",
       "      <td>1978-12</td>\n",
       "      <td>12.031156</td>\n",
       "    </tr>\n",
       "    <tr>\n",
       "      <th>3</th>\n",
       "      <td>1979-01</td>\n",
       "      <td>10.408100</td>\n",
       "    </tr>\n",
       "    <tr>\n",
       "      <th>4</th>\n",
       "      <td>1979-02</td>\n",
       "      <td>9.658179</td>\n",
       "    </tr>\n",
       "  </tbody>\n",
       "</table>\n",
       "</div>"
      ],
      "text/plain": [
       "      Date     Extent\n",
       "0  1978-10  14.050833\n",
       "1  1978-11  13.770767\n",
       "2  1978-12  12.031156\n",
       "3  1979-01  10.408100\n",
       "4  1979-02   9.658179"
      ]
     },
     "execution_count": 42,
     "metadata": {},
     "output_type": "execute_result"
    }
   ],
   "source": [
    "df_Extent.head()"
   ]
  },
  {
   "cell_type": "code",
   "execution_count": 43,
   "id": "3bcbeb63",
   "metadata": {},
   "outputs": [],
   "source": [
    "df_Water = pd.read_csv('processed_datasets/WaterTemp_O2ml.csv', delimiter=',')"
   ]
  },
  {
   "cell_type": "code",
   "execution_count": 44,
   "id": "a2c3f29b",
   "metadata": {},
   "outputs": [
    {
     "data": {
      "text/html": [
       "<div>\n",
       "<style scoped>\n",
       "    .dataframe tbody tr th:only-of-type {\n",
       "        vertical-align: middle;\n",
       "    }\n",
       "\n",
       "    .dataframe tbody tr th {\n",
       "        vertical-align: top;\n",
       "    }\n",
       "\n",
       "    .dataframe thead th {\n",
       "        text-align: right;\n",
       "    }\n",
       "</style>\n",
       "<table border=\"1\" class=\"dataframe\">\n",
       "  <thead>\n",
       "    <tr style=\"text-align: right;\">\n",
       "      <th></th>\n",
       "      <th>Date</th>\n",
       "      <th>WaterTemp</th>\n",
       "      <th>O2ml</th>\n",
       "    </tr>\n",
       "  </thead>\n",
       "  <tbody>\n",
       "    <tr>\n",
       "      <th>0</th>\n",
       "      <td>1959-08</td>\n",
       "      <td>16.950</td>\n",
       "      <td>4.2100</td>\n",
       "    </tr>\n",
       "    <tr>\n",
       "      <th>1</th>\n",
       "      <td>1969-01</td>\n",
       "      <td>13.265</td>\n",
       "      <td>5.5950</td>\n",
       "    </tr>\n",
       "    <tr>\n",
       "      <th>2</th>\n",
       "      <td>1969-02</td>\n",
       "      <td>12.380</td>\n",
       "      <td>5.7100</td>\n",
       "    </tr>\n",
       "    <tr>\n",
       "      <th>3</th>\n",
       "      <td>1969-03</td>\n",
       "      <td>15.535</td>\n",
       "      <td>5.4900</td>\n",
       "    </tr>\n",
       "    <tr>\n",
       "      <th>4</th>\n",
       "      <td>1969-04</td>\n",
       "      <td>12.070</td>\n",
       "      <td>5.3125</td>\n",
       "    </tr>\n",
       "  </tbody>\n",
       "</table>\n",
       "</div>"
      ],
      "text/plain": [
       "      Date  WaterTemp    O2ml\n",
       "0  1959-08     16.950  4.2100\n",
       "1  1969-01     13.265  5.5950\n",
       "2  1969-02     12.380  5.7100\n",
       "3  1969-03     15.535  5.4900\n",
       "4  1969-04     12.070  5.3125"
      ]
     },
     "execution_count": 44,
     "metadata": {},
     "output_type": "execute_result"
    }
   ],
   "source": [
    "df_Water.head()"
   ]
  },
  {
   "cell_type": "code",
   "execution_count": 45,
   "id": "08faa816",
   "metadata": {},
   "outputs": [],
   "source": [
    "df_Temp = pd.read_csv('processed_datasets/LandAverageTemp_LandAndOceanAverageTemp.csv', delimiter=',')"
   ]
  },
  {
   "cell_type": "code",
   "execution_count": 46,
   "id": "2b198bb0",
   "metadata": {},
   "outputs": [
    {
     "data": {
      "text/html": [
       "<div>\n",
       "<style scoped>\n",
       "    .dataframe tbody tr th:only-of-type {\n",
       "        vertical-align: middle;\n",
       "    }\n",
       "\n",
       "    .dataframe tbody tr th {\n",
       "        vertical-align: top;\n",
       "    }\n",
       "\n",
       "    .dataframe thead th {\n",
       "        text-align: right;\n",
       "    }\n",
       "</style>\n",
       "<table border=\"1\" class=\"dataframe\">\n",
       "  <thead>\n",
       "    <tr style=\"text-align: right;\">\n",
       "      <th></th>\n",
       "      <th>Date</th>\n",
       "      <th>LandAverageTemperature</th>\n",
       "      <th>LandAndOceanAverageTemperature</th>\n",
       "    </tr>\n",
       "  </thead>\n",
       "  <tbody>\n",
       "    <tr>\n",
       "      <th>0</th>\n",
       "      <td>1850-01</td>\n",
       "      <td>0.749</td>\n",
       "      <td>12.833</td>\n",
       "    </tr>\n",
       "    <tr>\n",
       "      <th>1</th>\n",
       "      <td>1850-02</td>\n",
       "      <td>3.071</td>\n",
       "      <td>13.588</td>\n",
       "    </tr>\n",
       "    <tr>\n",
       "      <th>2</th>\n",
       "      <td>1850-03</td>\n",
       "      <td>4.954</td>\n",
       "      <td>14.043</td>\n",
       "    </tr>\n",
       "    <tr>\n",
       "      <th>3</th>\n",
       "      <td>1850-04</td>\n",
       "      <td>7.217</td>\n",
       "      <td>14.667</td>\n",
       "    </tr>\n",
       "    <tr>\n",
       "      <th>4</th>\n",
       "      <td>1850-05</td>\n",
       "      <td>10.004</td>\n",
       "      <td>15.507</td>\n",
       "    </tr>\n",
       "  </tbody>\n",
       "</table>\n",
       "</div>"
      ],
      "text/plain": [
       "      Date  LandAverageTemperature  LandAndOceanAverageTemperature\n",
       "0  1850-01                   0.749                          12.833\n",
       "1  1850-02                   3.071                          13.588\n",
       "2  1850-03                   4.954                          14.043\n",
       "3  1850-04                   7.217                          14.667\n",
       "4  1850-05                  10.004                          15.507"
      ]
     },
     "execution_count": 46,
     "metadata": {},
     "output_type": "execute_result"
    }
   ],
   "source": [
    "df_Temp.head()"
   ]
  },
  {
   "cell_type": "code",
   "execution_count": 47,
   "id": "0a3ccbcf",
   "metadata": {},
   "outputs": [],
   "source": [
    "df_CO2 = pd.read_csv('processed_datasets/CO2.csv', delimiter=',')"
   ]
  },
  {
   "cell_type": "code",
   "execution_count": 48,
   "id": "66a224f3",
   "metadata": {},
   "outputs": [
    {
     "data": {
      "text/html": [
       "<div>\n",
       "<style scoped>\n",
       "    .dataframe tbody tr th:only-of-type {\n",
       "        vertical-align: middle;\n",
       "    }\n",
       "\n",
       "    .dataframe tbody tr th {\n",
       "        vertical-align: top;\n",
       "    }\n",
       "\n",
       "    .dataframe thead th {\n",
       "        text-align: right;\n",
       "    }\n",
       "</style>\n",
       "<table border=\"1\" class=\"dataframe\">\n",
       "  <thead>\n",
       "    <tr style=\"text-align: right;\">\n",
       "      <th></th>\n",
       "      <th>Date</th>\n",
       "      <th>CO2</th>\n",
       "    </tr>\n",
       "  </thead>\n",
       "  <tbody>\n",
       "    <tr>\n",
       "      <th>0</th>\n",
       "      <td>1958-03</td>\n",
       "      <td>315.71</td>\n",
       "    </tr>\n",
       "    <tr>\n",
       "      <th>1</th>\n",
       "      <td>1958-04</td>\n",
       "      <td>317.45</td>\n",
       "    </tr>\n",
       "    <tr>\n",
       "      <th>2</th>\n",
       "      <td>1958-05</td>\n",
       "      <td>317.50</td>\n",
       "    </tr>\n",
       "    <tr>\n",
       "      <th>3</th>\n",
       "      <td>1958-06</td>\n",
       "      <td>-99.99</td>\n",
       "    </tr>\n",
       "    <tr>\n",
       "      <th>4</th>\n",
       "      <td>1958-07</td>\n",
       "      <td>315.86</td>\n",
       "    </tr>\n",
       "  </tbody>\n",
       "</table>\n",
       "</div>"
      ],
      "text/plain": [
       "      Date     CO2\n",
       "0  1958-03  315.71\n",
       "1  1958-04  317.45\n",
       "2  1958-05  317.50\n",
       "3  1958-06  -99.99\n",
       "4  1958-07  315.86"
      ]
     },
     "execution_count": 48,
     "metadata": {},
     "output_type": "execute_result"
    }
   ],
   "source": [
    "df_CO2.head()"
   ]
  },
  {
   "cell_type": "code",
   "execution_count": 49,
   "id": "8fbbee84",
   "metadata": {},
   "outputs": [],
   "source": [
    "#merged_df = df_CO2.merge(df_Extent,left_on = 'Date', right_on = 'Date')\n",
    "#merged_df.head()"
   ]
  },
  {
   "cell_type": "code",
   "execution_count": 50,
   "id": "4eb5005e",
   "metadata": {},
   "outputs": [],
   "source": [
    "# df['Date'].value_counts() # Iskoristiti da se prebroje vrednosti GMSL kada budu True/False tj. 0/1"
   ]
  },
  {
   "cell_type": "code",
   "execution_count": null,
   "id": "6d121d61",
   "metadata": {},
   "outputs": [],
   "source": []
  },
  {
   "cell_type": "code",
   "execution_count": null,
   "id": "dc764a49",
   "metadata": {},
   "outputs": [],
   "source": []
  }
 ],
 "metadata": {
  "kernelspec": {
   "display_name": "Python 3 (ipykernel)",
   "language": "python",
   "name": "python3"
  },
  "language_info": {
   "codemirror_mode": {
    "name": "ipython",
    "version": 3
   },
   "file_extension": ".py",
   "mimetype": "text/x-python",
   "name": "python",
   "nbconvert_exporter": "python",
   "pygments_lexer": "ipython3",
   "version": "3.8.3"
  }
 },
 "nbformat": 4,
 "nbformat_minor": 5
}
