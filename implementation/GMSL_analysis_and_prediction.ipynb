{
 "cells": [
  {
   "cell_type": "markdown",
   "id": "831e736c",
   "metadata": {},
   "source": [
    "# GMSL Analysis and Prediction "
   ]
  },
  {
   "cell_type": "code",
   "execution_count": 1,
   "id": "fd9be505",
   "metadata": {},
   "outputs": [],
   "source": [
    "import pandas as pd\n",
    "import seaborn as sb"
   ]
  },
  {
   "cell_type": "code",
   "execution_count": 2,
   "id": "6ee6c70b",
   "metadata": {},
   "outputs": [],
   "source": [
    "df = pd.read_csv('processed_datasets/GMSL_analysis_and_prediction.csv', delimiter=',')"
   ]
  },
  {
   "cell_type": "code",
   "execution_count": 3,
   "id": "64edeab9",
   "metadata": {},
   "outputs": [
    {
     "data": {
      "text/html": [
       "<div>\n",
       "<style scoped>\n",
       "    .dataframe tbody tr th:only-of-type {\n",
       "        vertical-align: middle;\n",
       "    }\n",
       "\n",
       "    .dataframe tbody tr th {\n",
       "        vertical-align: top;\n",
       "    }\n",
       "\n",
       "    .dataframe thead th {\n",
       "        text-align: right;\n",
       "    }\n",
       "</style>\n",
       "<table border=\"1\" class=\"dataframe\">\n",
       "  <thead>\n",
       "    <tr style=\"text-align: right;\">\n",
       "      <th></th>\n",
       "      <th>Date</th>\n",
       "      <th>Extent</th>\n",
       "      <th>WaterTemp</th>\n",
       "      <th>O2ml</th>\n",
       "      <th>SiO3</th>\n",
       "      <th>NO3</th>\n",
       "      <th>LandAverageTemperature</th>\n",
       "      <th>LandAndOceanAverageTemperature</th>\n",
       "      <th>CO2</th>\n",
       "      <th>IsGMSLIncreased</th>\n",
       "      <th>GMSL</th>\n",
       "    </tr>\n",
       "  </thead>\n",
       "  <tbody>\n",
       "    <tr>\n",
       "      <th>0</th>\n",
       "      <td>1969-01</td>\n",
       "      <td>11.412998</td>\n",
       "      <td>13.265000</td>\n",
       "      <td>5.595000</td>\n",
       "      <td>7.00000</td>\n",
       "      <td>3.250</td>\n",
       "      <td>1.966</td>\n",
       "      <td>13.518</td>\n",
       "      <td>324.00</td>\n",
       "      <td>0</td>\n",
       "      <td>-35.8</td>\n",
       "    </tr>\n",
       "    <tr>\n",
       "      <th>1</th>\n",
       "      <td>1969-02</td>\n",
       "      <td>11.419180</td>\n",
       "      <td>12.435000</td>\n",
       "      <td>5.695000</td>\n",
       "      <td>6.40000</td>\n",
       "      <td>5.200</td>\n",
       "      <td>2.450</td>\n",
       "      <td>13.747</td>\n",
       "      <td>324.42</td>\n",
       "      <td>0</td>\n",
       "      <td>-37.2</td>\n",
       "    </tr>\n",
       "    <tr>\n",
       "      <th>2</th>\n",
       "      <td>1969-03</td>\n",
       "      <td>11.425310</td>\n",
       "      <td>15.535000</td>\n",
       "      <td>5.490000</td>\n",
       "      <td>4.00000</td>\n",
       "      <td>0.300</td>\n",
       "      <td>5.131</td>\n",
       "      <td>14.576</td>\n",
       "      <td>325.64</td>\n",
       "      <td>1</td>\n",
       "      <td>-36.2</td>\n",
       "    </tr>\n",
       "    <tr>\n",
       "      <th>3</th>\n",
       "      <td>1969-04</td>\n",
       "      <td>11.431388</td>\n",
       "      <td>12.070000</td>\n",
       "      <td>5.312500</td>\n",
       "      <td>8.50000</td>\n",
       "      <td>6.400</td>\n",
       "      <td>8.576</td>\n",
       "      <td>15.518</td>\n",
       "      <td>326.66</td>\n",
       "      <td>0</td>\n",
       "      <td>-37.4</td>\n",
       "    </tr>\n",
       "    <tr>\n",
       "      <th>4</th>\n",
       "      <td>1969-05</td>\n",
       "      <td>11.437415</td>\n",
       "      <td>12.120000</td>\n",
       "      <td>5.945000</td>\n",
       "      <td>6.00000</td>\n",
       "      <td>3.700</td>\n",
       "      <td>11.354</td>\n",
       "      <td>16.329</td>\n",
       "      <td>327.34</td>\n",
       "      <td>0</td>\n",
       "      <td>-38.6</td>\n",
       "    </tr>\n",
       "    <tr>\n",
       "      <th>535</th>\n",
       "      <td>2013-08</td>\n",
       "      <td>12.338645</td>\n",
       "      <td>12.053062</td>\n",
       "      <td>5.263625</td>\n",
       "      <td>7.47125</td>\n",
       "      <td>8.925</td>\n",
       "      <td>14.742</td>\n",
       "      <td>17.462</td>\n",
       "      <td>395.20</td>\n",
       "      <td>1</td>\n",
       "      <td>71.6</td>\n",
       "    </tr>\n",
       "    <tr>\n",
       "      <th>536</th>\n",
       "      <td>2013-09</td>\n",
       "      <td>12.298467</td>\n",
       "      <td>12.200875</td>\n",
       "      <td>5.302750</td>\n",
       "      <td>6.75750</td>\n",
       "      <td>8.100</td>\n",
       "      <td>13.154</td>\n",
       "      <td>16.894</td>\n",
       "      <td>393.45</td>\n",
       "      <td>0</td>\n",
       "      <td>68.8</td>\n",
       "    </tr>\n",
       "    <tr>\n",
       "      <th>537</th>\n",
       "      <td>2013-10</td>\n",
       "      <td>13.236306</td>\n",
       "      <td>12.348688</td>\n",
       "      <td>5.341875</td>\n",
       "      <td>6.04375</td>\n",
       "      <td>7.275</td>\n",
       "      <td>10.256</td>\n",
       "      <td>15.905</td>\n",
       "      <td>393.70</td>\n",
       "      <td>0</td>\n",
       "      <td>66.4</td>\n",
       "    </tr>\n",
       "    <tr>\n",
       "      <th>538</th>\n",
       "      <td>2013-11</td>\n",
       "      <td>13.405600</td>\n",
       "      <td>12.496500</td>\n",
       "      <td>5.381000</td>\n",
       "      <td>5.33000</td>\n",
       "      <td>6.450</td>\n",
       "      <td>7.424</td>\n",
       "      <td>15.107</td>\n",
       "      <td>395.16</td>\n",
       "      <td>0</td>\n",
       "      <td>59.7</td>\n",
       "    </tr>\n",
       "    <tr>\n",
       "      <th>539</th>\n",
       "      <td>2013-12</td>\n",
       "      <td>13.066000</td>\n",
       "      <td>13.062250</td>\n",
       "      <td>5.427250</td>\n",
       "      <td>4.62625</td>\n",
       "      <td>4.275</td>\n",
       "      <td>4.724</td>\n",
       "      <td>14.339</td>\n",
       "      <td>396.84</td>\n",
       "      <td>0</td>\n",
       "      <td>58.5</td>\n",
       "    </tr>\n",
       "  </tbody>\n",
       "</table>\n",
       "</div>"
      ],
      "text/plain": [
       "        Date     Extent  WaterTemp      O2ml     SiO3    NO3  \\\n",
       "0    1969-01  11.412998  13.265000  5.595000  7.00000  3.250   \n",
       "1    1969-02  11.419180  12.435000  5.695000  6.40000  5.200   \n",
       "2    1969-03  11.425310  15.535000  5.490000  4.00000  0.300   \n",
       "3    1969-04  11.431388  12.070000  5.312500  8.50000  6.400   \n",
       "4    1969-05  11.437415  12.120000  5.945000  6.00000  3.700   \n",
       "535  2013-08  12.338645  12.053062  5.263625  7.47125  8.925   \n",
       "536  2013-09  12.298467  12.200875  5.302750  6.75750  8.100   \n",
       "537  2013-10  13.236306  12.348688  5.341875  6.04375  7.275   \n",
       "538  2013-11  13.405600  12.496500  5.381000  5.33000  6.450   \n",
       "539  2013-12  13.066000  13.062250  5.427250  4.62625  4.275   \n",
       "\n",
       "     LandAverageTemperature  LandAndOceanAverageTemperature     CO2  \\\n",
       "0                     1.966                          13.518  324.00   \n",
       "1                     2.450                          13.747  324.42   \n",
       "2                     5.131                          14.576  325.64   \n",
       "3                     8.576                          15.518  326.66   \n",
       "4                    11.354                          16.329  327.34   \n",
       "535                  14.742                          17.462  395.20   \n",
       "536                  13.154                          16.894  393.45   \n",
       "537                  10.256                          15.905  393.70   \n",
       "538                   7.424                          15.107  395.16   \n",
       "539                   4.724                          14.339  396.84   \n",
       "\n",
       "     IsGMSLIncreased  GMSL  \n",
       "0                  0 -35.8  \n",
       "1                  0 -37.2  \n",
       "2                  1 -36.2  \n",
       "3                  0 -37.4  \n",
       "4                  0 -38.6  \n",
       "535                1  71.6  \n",
       "536                0  68.8  \n",
       "537                0  66.4  \n",
       "538                0  59.7  \n",
       "539                0  58.5  "
      ]
     },
     "execution_count": 3,
     "metadata": {},
     "output_type": "execute_result"
    }
   ],
   "source": [
    "df.head().append(df.tail())"
   ]
  },
  {
   "cell_type": "code",
   "execution_count": 4,
   "id": "12675d31",
   "metadata": {},
   "outputs": [
    {
     "data": {
      "text/html": [
       "<div>\n",
       "<style scoped>\n",
       "    .dataframe tbody tr th:only-of-type {\n",
       "        vertical-align: middle;\n",
       "    }\n",
       "\n",
       "    .dataframe tbody tr th {\n",
       "        vertical-align: top;\n",
       "    }\n",
       "\n",
       "    .dataframe thead th {\n",
       "        text-align: right;\n",
       "    }\n",
       "</style>\n",
       "<table border=\"1\" class=\"dataframe\">\n",
       "  <thead>\n",
       "    <tr style=\"text-align: right;\">\n",
       "      <th></th>\n",
       "      <th>Extent</th>\n",
       "      <th>WaterTemp</th>\n",
       "      <th>O2ml</th>\n",
       "      <th>SiO3</th>\n",
       "      <th>NO3</th>\n",
       "      <th>LandAverageTemperature</th>\n",
       "      <th>LandAndOceanAverageTemperature</th>\n",
       "      <th>CO2</th>\n",
       "      <th>IsGMSLIncreased</th>\n",
       "      <th>GMSL</th>\n",
       "    </tr>\n",
       "  </thead>\n",
       "  <tbody>\n",
       "    <tr>\n",
       "      <th>count</th>\n",
       "      <td>540.000000</td>\n",
       "      <td>540.000000</td>\n",
       "      <td>540.000000</td>\n",
       "      <td>540.000000</td>\n",
       "      <td>540.000000</td>\n",
       "      <td>540.000000</td>\n",
       "      <td>540.000000</td>\n",
       "      <td>540.000000</td>\n",
       "      <td>540.000000</td>\n",
       "      <td>540.000000</td>\n",
       "    </tr>\n",
       "    <tr>\n",
       "      <th>mean</th>\n",
       "      <td>11.633582</td>\n",
       "      <td>12.703859</td>\n",
       "      <td>5.140705</td>\n",
       "      <td>8.623137</td>\n",
       "      <td>7.488843</td>\n",
       "      <td>9.091504</td>\n",
       "      <td>15.553526</td>\n",
       "      <td>355.062907</td>\n",
       "      <td>0.525926</td>\n",
       "      <td>8.211111</td>\n",
       "    </tr>\n",
       "    <tr>\n",
       "      <th>std</th>\n",
       "      <td>1.257900</td>\n",
       "      <td>1.178649</td>\n",
       "      <td>0.613406</td>\n",
       "      <td>5.566774</td>\n",
       "      <td>4.980329</td>\n",
       "      <td>4.156488</td>\n",
       "      <td>1.233037</td>\n",
       "      <td>34.925471</td>\n",
       "      <td>0.499790</td>\n",
       "      <td>31.076247</td>\n",
       "    </tr>\n",
       "    <tr>\n",
       "      <th>min</th>\n",
       "      <td>8.441054</td>\n",
       "      <td>9.187500</td>\n",
       "      <td>2.320000</td>\n",
       "      <td>1.900000</td>\n",
       "      <td>0.000000</td>\n",
       "      <td>1.882000</td>\n",
       "      <td>13.298000</td>\n",
       "      <td>-99.990000</td>\n",
       "      <td>0.000000</td>\n",
       "      <td>-42.600000</td>\n",
       "    </tr>\n",
       "    <tr>\n",
       "      <th>25%</th>\n",
       "      <td>10.981980</td>\n",
       "      <td>11.967042</td>\n",
       "      <td>5.050313</td>\n",
       "      <td>5.451974</td>\n",
       "      <td>3.850000</td>\n",
       "      <td>4.959750</td>\n",
       "      <td>14.386250</td>\n",
       "      <td>338.025000</td>\n",
       "      <td>0.000000</td>\n",
       "      <td>-15.725000</td>\n",
       "    </tr>\n",
       "    <tr>\n",
       "      <th>50%</th>\n",
       "      <td>11.750654</td>\n",
       "      <td>12.453371</td>\n",
       "      <td>5.307197</td>\n",
       "      <td>7.508352</td>\n",
       "      <td>6.741667</td>\n",
       "      <td>9.342500</td>\n",
       "      <td>15.581000</td>\n",
       "      <td>355.390000</td>\n",
       "      <td>1.000000</td>\n",
       "      <td>1.900000</td>\n",
       "    </tr>\n",
       "    <tr>\n",
       "      <th>75%</th>\n",
       "      <td>12.585463</td>\n",
       "      <td>13.278750</td>\n",
       "      <td>5.483333</td>\n",
       "      <td>10.000000</td>\n",
       "      <td>9.917708</td>\n",
       "      <td>13.153250</td>\n",
       "      <td>16.729750</td>\n",
       "      <td>373.890000</td>\n",
       "      <td>1.000000</td>\n",
       "      <td>29.925000</td>\n",
       "    </tr>\n",
       "    <tr>\n",
       "      <th>max</th>\n",
       "      <td>14.050833</td>\n",
       "      <td>18.627500</td>\n",
       "      <td>6.150000</td>\n",
       "      <td>41.400000</td>\n",
       "      <td>22.900000</td>\n",
       "      <td>15.482000</td>\n",
       "      <td>17.609000</td>\n",
       "      <td>399.780000</td>\n",
       "      <td>1.000000</td>\n",
       "      <td>82.400000</td>\n",
       "    </tr>\n",
       "  </tbody>\n",
       "</table>\n",
       "</div>"
      ],
      "text/plain": [
       "           Extent   WaterTemp        O2ml        SiO3         NO3  \\\n",
       "count  540.000000  540.000000  540.000000  540.000000  540.000000   \n",
       "mean    11.633582   12.703859    5.140705    8.623137    7.488843   \n",
       "std      1.257900    1.178649    0.613406    5.566774    4.980329   \n",
       "min      8.441054    9.187500    2.320000    1.900000    0.000000   \n",
       "25%     10.981980   11.967042    5.050313    5.451974    3.850000   \n",
       "50%     11.750654   12.453371    5.307197    7.508352    6.741667   \n",
       "75%     12.585463   13.278750    5.483333   10.000000    9.917708   \n",
       "max     14.050833   18.627500    6.150000   41.400000   22.900000   \n",
       "\n",
       "       LandAverageTemperature  LandAndOceanAverageTemperature         CO2  \\\n",
       "count              540.000000                      540.000000  540.000000   \n",
       "mean                 9.091504                       15.553526  355.062907   \n",
       "std                  4.156488                        1.233037   34.925471   \n",
       "min                  1.882000                       13.298000  -99.990000   \n",
       "25%                  4.959750                       14.386250  338.025000   \n",
       "50%                  9.342500                       15.581000  355.390000   \n",
       "75%                 13.153250                       16.729750  373.890000   \n",
       "max                 15.482000                       17.609000  399.780000   \n",
       "\n",
       "       IsGMSLIncreased        GMSL  \n",
       "count       540.000000  540.000000  \n",
       "mean          0.525926    8.211111  \n",
       "std           0.499790   31.076247  \n",
       "min           0.000000  -42.600000  \n",
       "25%           0.000000  -15.725000  \n",
       "50%           1.000000    1.900000  \n",
       "75%           1.000000   29.925000  \n",
       "max           1.000000   82.400000  "
      ]
     },
     "execution_count": 4,
     "metadata": {},
     "output_type": "execute_result"
    }
   ],
   "source": [
    "df.describe()"
   ]
  },
  {
   "cell_type": "markdown",
   "id": "26310439",
   "metadata": {},
   "source": [
    "#### Podela skupa podataka na training i test"
   ]
  },
  {
   "cell_type": "code",
   "execution_count": 5,
   "id": "33d0c52b",
   "metadata": {},
   "outputs": [
    {
     "name": "stdout",
     "output_type": "stream",
     "text": [
      "<class 'pandas.core.frame.DataFrame'>\n",
      "RangeIndex: 540 entries, 0 to 539\n",
      "Data columns (total 11 columns):\n",
      " #   Column                          Non-Null Count  Dtype  \n",
      "---  ------                          --------------  -----  \n",
      " 0   Date                            540 non-null    object \n",
      " 1   Extent                          540 non-null    float64\n",
      " 2   WaterTemp                       540 non-null    float64\n",
      " 3   O2ml                            540 non-null    float64\n",
      " 4   SiO3                            540 non-null    float64\n",
      " 5   NO3                             540 non-null    float64\n",
      " 6   LandAverageTemperature          540 non-null    float64\n",
      " 7   LandAndOceanAverageTemperature  540 non-null    float64\n",
      " 8   CO2                             540 non-null    float64\n",
      " 9   IsGMSLIncreased                 540 non-null    int64  \n",
      " 10  GMSL                            540 non-null    float64\n",
      "dtypes: float64(9), int64(1), object(1)\n",
      "memory usage: 46.5+ KB\n"
     ]
    }
   ],
   "source": [
    "df.info()"
   ]
  },
  {
   "cell_type": "code",
   "execution_count": 6,
   "id": "7bd38ac5",
   "metadata": {},
   "outputs": [],
   "source": [
    "from sklearn.model_selection import train_test_split\n",
    "\n",
    "X = df.drop([\"IsGMSLIncreased\", \"Date\", \"GMSL\"], axis=1)\n",
    "Y = df[\"IsGMSLIncreased\"]\n",
    "\n",
    "X_train, X_test, Y_train, Y_test = train_test_split(X, Y, test_size=0.25, random_state=35)"
   ]
  },
  {
   "cell_type": "code",
   "execution_count": 7,
   "id": "0da6cefa",
   "metadata": {},
   "outputs": [],
   "source": [
    "X_test = ((X_test-X_train.min())/(X_train.max()-X_train.min())).to_numpy()"
   ]
  },
  {
   "cell_type": "markdown",
   "id": "335a89be",
   "metadata": {},
   "source": [
    "#### Normalizaciju vrednosti atributa"
   ]
  },
  {
   "cell_type": "code",
   "execution_count": 8,
   "id": "9aff794b",
   "metadata": {},
   "outputs": [],
   "source": [
    "from sklearn.preprocessing import StandardScaler\n",
    "from sklearn import preprocessing\n",
    "\n",
    "# sc = StandardScaler()\n",
    "sc = preprocessing.MinMaxScaler()\n",
    "X_train = sc.fit_transform(X_train)\n",
    "#X_test = sc.transform(X_test)"
   ]
  },
  {
   "cell_type": "markdown",
   "id": "32d448fc",
   "metadata": {},
   "source": [
    "## Naive Bayes"
   ]
  },
  {
   "cell_type": "code",
   "execution_count": 9,
   "id": "e67def1d",
   "metadata": {},
   "outputs": [],
   "source": [
    "from sklearn.naive_bayes import GaussianNB\n",
    "\n",
    "nb = GaussianNB()"
   ]
  },
  {
   "cell_type": "markdown",
   "id": "ea2d11b3",
   "metadata": {},
   "source": [
    "#### Obučavanje - Naive Bayes"
   ]
  },
  {
   "cell_type": "code",
   "execution_count": 10,
   "id": "34fa4f9d",
   "metadata": {
    "scrolled": true
   },
   "outputs": [
    {
     "data": {
      "text/plain": [
       "GaussianNB()"
      ]
     },
     "execution_count": 10,
     "metadata": {},
     "output_type": "execute_result"
    }
   ],
   "source": [
    "nb.fit(X_train, Y_train)"
   ]
  },
  {
   "cell_type": "markdown",
   "id": "87602ea6",
   "metadata": {},
   "source": [
    "#### Predikcija - Naive Bayes"
   ]
  },
  {
   "cell_type": "code",
   "execution_count": 11,
   "id": "b826a9a8",
   "metadata": {},
   "outputs": [
    {
     "name": "stdout",
     "output_type": "stream",
     "text": [
      "Naive Bayes predictions:  [1 0 1 1 1 1 1 0 1 1 0 1 1 1 0 1 1 0 0 1 0 0 1 1 1 0 0 1 1 1 0 1 1 0 0 1 1\n",
      " 1 1 1 0 0 0 1 1 0 0 1 1 0 1 0 0 1 1 1 1 1 1 0 0 0 1 1 1 0 1 1 0 1 0 1 0 1\n",
      " 1 1 0 0 0 1 0 0 1 1 0 1 1 1 0 1 0 1 0 1 1 0 1 1 1 1 1 0 1 1 0 0 1 1 1 0 1\n",
      " 1 0 1 1 1 1 1 1 1 0 0 1 1 0 1 1 0 0 1 0 1 0 0 1]\n"
     ]
    }
   ],
   "source": [
    "nb_predictions = nb.predict(X_test)\n",
    "print(\"Naive Bayes predictions: \", nb_predictions)"
   ]
  },
  {
   "cell_type": "markdown",
   "id": "8f5f1438",
   "metadata": {},
   "source": [
    "#### Score - Naive Bayes"
   ]
  },
  {
   "cell_type": "code",
   "execution_count": 12,
   "id": "bb4a330a",
   "metadata": {},
   "outputs": [
    {
     "name": "stdout",
     "output_type": "stream",
     "text": [
      "Naive Bayes score:  0.5481481481481482\n"
     ]
    }
   ],
   "source": [
    "print(\"Naive Bayes score: \", nb.score(X_test, Y_test))"
   ]
  },
  {
   "cell_type": "code",
   "execution_count": 13,
   "id": "5dcfa2f2",
   "metadata": {},
   "outputs": [
    {
     "name": "stdout",
     "output_type": "stream",
     "text": [
      "Accuracy score:  0.5481481481481482\n"
     ]
    }
   ],
   "source": [
    "from sklearn.metrics import accuracy_score\n",
    "\n",
    "ac = accuracy_score(Y_test, nb_predictions)\n",
    "print(\"Accuracy score: \", ac)"
   ]
  },
  {
   "cell_type": "markdown",
   "id": "efaff377",
   "metadata": {},
   "source": [
    "#### F1 Score - Naive Bayes"
   ]
  },
  {
   "cell_type": "code",
   "execution_count": 14,
   "id": "fd151d5a",
   "metadata": {},
   "outputs": [
    {
     "name": "stdout",
     "output_type": "stream",
     "text": [
      "F1 score:  [0.44036697 0.62111801]\n"
     ]
    }
   ],
   "source": [
    "from sklearn.metrics import f1_score\n",
    "\n",
    "f1_sc = f1_score(Y_test, nb_predictions, average=None)\n",
    "print(\"F1 score: \", f1_sc)"
   ]
  },
  {
   "cell_type": "markdown",
   "id": "05ae9d1d",
   "metadata": {},
   "source": [
    "#### Report - Naive Bayes"
   ]
  },
  {
   "cell_type": "code",
   "execution_count": 15,
   "id": "0df4a145",
   "metadata": {},
   "outputs": [
    {
     "name": "stdout",
     "output_type": "stream",
     "text": [
      "              precision    recall  f1-score   support\n",
      "\n",
      "           0       0.47      0.41      0.44        58\n",
      "           1       0.60      0.65      0.62        77\n",
      "\n",
      "    accuracy                           0.55       135\n",
      "   macro avg       0.53      0.53      0.53       135\n",
      "weighted avg       0.54      0.55      0.54       135\n",
      "\n"
     ]
    }
   ],
   "source": [
    "from sklearn.metrics import classification_report\n",
    "\n",
    "print(classification_report(Y_test, nb_predictions))"
   ]
  },
  {
   "cell_type": "markdown",
   "id": "44775c70",
   "metadata": {},
   "source": [
    "## SVM klasifikator"
   ]
  },
  {
   "cell_type": "code",
   "execution_count": 16,
   "id": "360acbb9",
   "metadata": {},
   "outputs": [],
   "source": [
    "from sklearn import svm\n",
    "\n",
    "clf_svm = svm.SVC(kernel='rbf')"
   ]
  },
  {
   "cell_type": "markdown",
   "id": "42aa1121",
   "metadata": {},
   "source": [
    "#### Obučavanje - SVM"
   ]
  },
  {
   "cell_type": "code",
   "execution_count": 17,
   "id": "1055c2f5",
   "metadata": {
    "scrolled": true
   },
   "outputs": [
    {
     "data": {
      "text/plain": [
       "SVC()"
      ]
     },
     "execution_count": 17,
     "metadata": {},
     "output_type": "execute_result"
    }
   ],
   "source": [
    "clf_svm.fit(X_train, Y_train)"
   ]
  },
  {
   "cell_type": "markdown",
   "id": "e1f334cf",
   "metadata": {},
   "source": [
    "#### Predikcija - SVM"
   ]
  },
  {
   "cell_type": "code",
   "execution_count": 18,
   "id": "7e92bd49",
   "metadata": {},
   "outputs": [
    {
     "name": "stdout",
     "output_type": "stream",
     "text": [
      "SVM predictions:  [1 0 1 1 1 1 1 0 1 1 0 1 1 1 0 1 1 0 0 1 1 0 1 1 1 0 1 0 1 1 0 1 1 0 1 1 1\n",
      " 1 1 1 1 1 1 1 1 0 1 0 1 1 1 0 1 1 1 1 1 1 1 0 0 0 1 0 1 0 1 1 0 1 1 1 0 1\n",
      " 1 0 0 1 0 1 1 1 1 1 0 1 1 1 1 1 0 1 0 1 1 0 1 1 0 1 1 0 1 1 1 0 1 1 1 1 1\n",
      " 1 0 1 1 1 0 1 1 1 0 0 1 0 0 1 1 0 1 1 0 1 0 1 0]\n"
     ]
    }
   ],
   "source": [
    "svm_predictions = clf_svm.predict(X_test)\n",
    "print(\"SVM predictions: \", svm_predictions)"
   ]
  },
  {
   "cell_type": "markdown",
   "id": "7d57730f",
   "metadata": {},
   "source": [
    "#### F1 Score - SVM"
   ]
  },
  {
   "cell_type": "code",
   "execution_count": 19,
   "id": "bd8e2966",
   "metadata": {},
   "outputs": [
    {
     "name": "stdout",
     "output_type": "stream",
     "text": [
      "F1 score:  [0.44036697 0.62111801]\n"
     ]
    }
   ],
   "source": [
    "from sklearn.metrics import f1_score\n",
    "\n",
    "f1_sc = f1_score(Y_test, nb_predictions, average=None)\n",
    "print(\"F1 score: \", f1_sc)"
   ]
  },
  {
   "cell_type": "markdown",
   "id": "4ea16950",
   "metadata": {},
   "source": [
    "#### Report - SVM"
   ]
  },
  {
   "cell_type": "code",
   "execution_count": 20,
   "id": "cd749297",
   "metadata": {},
   "outputs": [
    {
     "name": "stdout",
     "output_type": "stream",
     "text": [
      "              precision    recall  f1-score   support\n",
      "\n",
      "           0       0.47      0.41      0.44        58\n",
      "           1       0.60      0.65      0.62        77\n",
      "\n",
      "    accuracy                           0.55       135\n",
      "   macro avg       0.53      0.53      0.53       135\n",
      "weighted avg       0.54      0.55      0.54       135\n",
      "\n"
     ]
    }
   ],
   "source": [
    "from sklearn.metrics import classification_report\n",
    "\n",
    "print(classification_report(Y_test, nb_predictions))"
   ]
  },
  {
   "cell_type": "markdown",
   "id": "78755b46",
   "metadata": {},
   "source": [
    "# XGBoost"
   ]
  },
  {
   "cell_type": "code",
   "execution_count": 57,
   "id": "0358f025",
   "metadata": {},
   "outputs": [],
   "source": [
    "import xgboost as xgb\n",
    "from sklearn.model_selection import RandomizedSearchCV"
   ]
  },
  {
   "cell_type": "markdown",
   "id": "d501da62",
   "metadata": {},
   "source": [
    "#### Ponovno učitavanje dataseta zbog kreiranja dtrain i dtest"
   ]
  },
  {
   "cell_type": "code",
   "execution_count": 58,
   "id": "b1bff612",
   "metadata": {},
   "outputs": [],
   "source": [
    "from sklearn.model_selection import train_test_split\n",
    "\n",
    "df = pd.read_csv('processed_datasets/GMSL_analysis_and_prediction.csv', delimiter=',')\n",
    "\n",
    "X = df.drop([\"IsGMSLIncreased\", \"Date\", \"GMSL\"], axis=1)\n",
    "Y = df[\"IsGMSLIncreased\"]\n",
    "\n",
    "X_train, X_test, Y_train, Y_test = train_test_split(X, Y, test_size=0.25, random_state=35)"
   ]
  },
  {
   "cell_type": "code",
   "execution_count": 59,
   "id": "931a6560",
   "metadata": {},
   "outputs": [],
   "source": [
    "dtrain = xgb.DMatrix(X_train, label=Y_train)\n",
    "dtest = xgb.DMatrix(X_test, label=Y_test)"
   ]
  },
  {
   "cell_type": "code",
   "execution_count": 60,
   "id": "16e864b2",
   "metadata": {},
   "outputs": [
    {
     "name": "stdout",
     "output_type": "stream",
     "text": [
      "Baseline MAE is 0.50\n"
     ]
    }
   ],
   "source": [
    "import numpy as np\n",
    "from sklearn.metrics import mean_absolute_error\n",
    "\n",
    "# \"Learn\" the mean from the training data\n",
    "mean_train = np.mean(Y_train)\n",
    "\n",
    "# Get predictions on the test set\n",
    "baseline_predictions = np.ones(Y_test.shape) * mean_train\n",
    "\n",
    "# Compute MAE\n",
    "mae_baseline = mean_absolute_error(Y_test, baseline_predictions)\n",
    "\n",
    "print(\"Baseline MAE is {:.2f}\".format(mae_baseline))"
   ]
  },
  {
   "cell_type": "markdown",
   "id": "f6a5da94",
   "metadata": {},
   "source": [
    "#### Definisanje parametara modela bez optimizacije"
   ]
  },
  {
   "cell_type": "code",
   "execution_count": 61,
   "id": "c8457d9c",
   "metadata": {},
   "outputs": [],
   "source": [
    "params = {\n",
    "    'max_depth':6,\n",
    "    'min_child_weight': 1,\n",
    "    'eta':.3,\n",
    "    'subsample': 1,\n",
    "    'colsample_bytree': 1,\n",
    "    # Other parameters\n",
    "    'objective':'binary:logistic',\n",
    "}"
   ]
  },
  {
   "cell_type": "code",
   "execution_count": 62,
   "id": "887e484f",
   "metadata": {},
   "outputs": [],
   "source": [
    "params['eval_metric'] = \"mae\"\n",
    "num_boost_round = 999"
   ]
  },
  {
   "cell_type": "markdown",
   "id": "8d5dd35c",
   "metadata": {},
   "source": [
    "#### Obučavanje modela"
   ]
  },
  {
   "cell_type": "code",
   "execution_count": 63,
   "id": "64a2570d",
   "metadata": {},
   "outputs": [
    {
     "name": "stdout",
     "output_type": "stream",
     "text": [
      "[0]\tTest-mae:0.49222\n",
      "[1]\tTest-mae:0.49626\n",
      "[2]\tTest-mae:0.49402\n",
      "[3]\tTest-mae:0.49046\n",
      "[4]\tTest-mae:0.49527\n",
      "[5]\tTest-mae:0.49539\n",
      "[6]\tTest-mae:0.49466\n",
      "[7]\tTest-mae:0.49518\n",
      "[8]\tTest-mae:0.49225\n",
      "[9]\tTest-mae:0.48917\n",
      "[10]\tTest-mae:0.49029\n",
      "[11]\tTest-mae:0.49340\n",
      "[12]\tTest-mae:0.49268\n",
      "[13]\tTest-mae:0.48876\n",
      "[14]\tTest-mae:0.48782\n",
      "[15]\tTest-mae:0.48335\n",
      "[16]\tTest-mae:0.48335\n",
      "[17]\tTest-mae:0.48537\n",
      "[18]\tTest-mae:0.48505\n",
      "[19]\tTest-mae:0.48657\n",
      "[20]\tTest-mae:0.48806\n",
      "[21]\tTest-mae:0.48716\n",
      "[22]\tTest-mae:0.48962\n",
      "[23]\tTest-mae:0.49153\n",
      "[24]\tTest-mae:0.49270\n",
      "[25]\tTest-mae:0.49526\n"
     ]
    }
   ],
   "source": [
    "model = xgb.train(\n",
    "    params,\n",
    "    dtrain,\n",
    "    num_boost_round=num_boost_round,\n",
    "    evals=[(dtest, \"Test\")],\n",
    "    early_stopping_rounds=10\n",
    ")"
   ]
  },
  {
   "cell_type": "code",
   "execution_count": 64,
   "id": "456da380",
   "metadata": {},
   "outputs": [
    {
     "name": "stdout",
     "output_type": "stream",
     "text": [
      "Best MAE (Mean Absolute Error): 0.48 with 17 rounds\n"
     ]
    }
   ],
   "source": [
    "print(\"Best MAE (Mean Absolute Error): {:.2f} with {} rounds\".format(model.best_score, model.best_iteration + 1))"
   ]
  },
  {
   "cell_type": "markdown",
   "id": "e80bad4c",
   "metadata": {},
   "source": [
    "#### Report - XGBoost bez optimizacije parametara"
   ]
  },
  {
   "cell_type": "code",
   "execution_count": 65,
   "id": "3e692eb4",
   "metadata": {},
   "outputs": [],
   "source": [
    "xgb_pred = model.predict(dtest)\n",
    "xgb_predictions = [round(value) for value in xgb_pred]"
   ]
  },
  {
   "cell_type": "code",
   "execution_count": 66,
   "id": "05191351",
   "metadata": {},
   "outputs": [
    {
     "name": "stdout",
     "output_type": "stream",
     "text": [
      "F1 score:  [0.46511628 0.5106383 ]\n"
     ]
    }
   ],
   "source": [
    "f1_sc = f1_score(Y_test, xgb_predictions, average=None)\n",
    "print(\"F1 score: \", f1_sc)"
   ]
  },
  {
   "cell_type": "code",
   "execution_count": 67,
   "id": "626125cf",
   "metadata": {},
   "outputs": [
    {
     "name": "stdout",
     "output_type": "stream",
     "text": [
      "              precision    recall  f1-score   support\n",
      "\n",
      "           0       0.42      0.52      0.47        58\n",
      "           1       0.56      0.47      0.51        77\n",
      "\n",
      "    accuracy                           0.49       135\n",
      "   macro avg       0.49      0.49      0.49       135\n",
      "weighted avg       0.50      0.49      0.49       135\n",
      "\n"
     ]
    }
   ],
   "source": [
    "print(classification_report(Y_test, xgb_predictions))"
   ]
  },
  {
   "cell_type": "markdown",
   "id": "b2464b0b",
   "metadata": {},
   "source": [
    "#### Unakrsna validacija pomoću XGBoost."
   ]
  },
  {
   "cell_type": "code",
   "execution_count": 68,
   "id": "d7535a68",
   "metadata": {},
   "outputs": [],
   "source": [
    "cv_results = xgb.cv(\n",
    "    params,\n",
    "    dtrain,\n",
    "    num_boost_round=num_boost_round,\n",
    "    seed=42,\n",
    "    nfold=5,\n",
    "    metrics={'mae'},\n",
    "    early_stopping_rounds=10\n",
    ")"
   ]
  },
  {
   "cell_type": "code",
   "execution_count": 69,
   "id": "37ae9eff",
   "metadata": {},
   "outputs": [
    {
     "data": {
      "text/html": [
       "<div>\n",
       "<style scoped>\n",
       "    .dataframe tbody tr th:only-of-type {\n",
       "        vertical-align: middle;\n",
       "    }\n",
       "\n",
       "    .dataframe tbody tr th {\n",
       "        vertical-align: top;\n",
       "    }\n",
       "\n",
       "    .dataframe thead th {\n",
       "        text-align: right;\n",
       "    }\n",
       "</style>\n",
       "<table border=\"1\" class=\"dataframe\">\n",
       "  <thead>\n",
       "    <tr style=\"text-align: right;\">\n",
       "      <th></th>\n",
       "      <th>train-mae-mean</th>\n",
       "      <th>train-mae-std</th>\n",
       "      <th>test-mae-mean</th>\n",
       "      <th>test-mae-std</th>\n",
       "    </tr>\n",
       "  </thead>\n",
       "  <tbody>\n",
       "    <tr>\n",
       "      <th>0</th>\n",
       "      <td>0.465505</td>\n",
       "      <td>0.007034</td>\n",
       "      <td>0.499450</td>\n",
       "      <td>0.010603</td>\n",
       "    </tr>\n",
       "    <tr>\n",
       "      <th>1</th>\n",
       "      <td>0.439316</td>\n",
       "      <td>0.010747</td>\n",
       "      <td>0.503178</td>\n",
       "      <td>0.013240</td>\n",
       "    </tr>\n",
       "    <tr>\n",
       "      <th>2</th>\n",
       "      <td>0.413999</td>\n",
       "      <td>0.014849</td>\n",
       "      <td>0.504611</td>\n",
       "      <td>0.015097</td>\n",
       "    </tr>\n",
       "    <tr>\n",
       "      <th>3</th>\n",
       "      <td>0.396364</td>\n",
       "      <td>0.011921</td>\n",
       "      <td>0.500085</td>\n",
       "      <td>0.017702</td>\n",
       "    </tr>\n",
       "    <tr>\n",
       "      <th>4</th>\n",
       "      <td>0.372683</td>\n",
       "      <td>0.015913</td>\n",
       "      <td>0.498060</td>\n",
       "      <td>0.019201</td>\n",
       "    </tr>\n",
       "  </tbody>\n",
       "</table>\n",
       "</div>"
      ],
      "text/plain": [
       "   train-mae-mean  train-mae-std  test-mae-mean  test-mae-std\n",
       "0        0.465505       0.007034       0.499450      0.010603\n",
       "1        0.439316       0.010747       0.503178      0.013240\n",
       "2        0.413999       0.014849       0.504611      0.015097\n",
       "3        0.396364       0.011921       0.500085      0.017702\n",
       "4        0.372683       0.015913       0.498060      0.019201"
      ]
     },
     "execution_count": 69,
     "metadata": {},
     "output_type": "execute_result"
    }
   ],
   "source": [
    "cv_results.head()"
   ]
  },
  {
   "cell_type": "code",
   "execution_count": 70,
   "id": "f90be482",
   "metadata": {},
   "outputs": [
    {
     "name": "stdout",
     "output_type": "stream",
     "text": [
      "MIN MAE: 0.49805979999999994\n"
     ]
    }
   ],
   "source": [
    "cv_results['test-mae-mean'].min()\n",
    "print(\"MIN MAE: {}\".format(cv_results['test-mae-mean'].min()))"
   ]
  },
  {
   "cell_type": "markdown",
   "id": "90175902",
   "metadata": {},
   "source": [
    "### Optimizacija parametara XGB"
   ]
  },
  {
   "cell_type": "code",
   "execution_count": 199,
   "id": "813fa882",
   "metadata": {
    "scrolled": true
   },
   "outputs": [
    {
     "name": "stdout",
     "output_type": "stream",
     "text": [
      "Fitting 5 folds for each of 5 candidates, totalling 25 fits\n",
      "Best parameters: {'subsample': 1.0, 'n_estimators': 50, 'min_child_weight': 4, 'max_depth': 10, 'learning_rate': 0.1, 'eta': 0.1, 'colsample_bytree': 0.6}\n",
      "Lowest RMSE:  0.5366042356953803\n"
     ]
    }
   ],
   "source": [
    "# params = {\n",
    "#     'max_depth':[3, 4, 6, 8, 11, 13],\n",
    "#     'learning_rate': [0.01, 0.1, 0.2, 0.3],\n",
    "#     'min_child_weight': [1, 2, 3, 4],\n",
    "#     'eta':[0.1, 0.2, 0.3],\n",
    "#     'subsample': np.arange(1.0, 2.0, 4.0),\n",
    "#     'colsample_bytree': np.arange(0.4, 1.0, 0.1),\n",
    "#     'n_estimators' : [100, 200, 300]\n",
    "#     # Other parameters\n",
    "#    # 'objective':'binary:logistic',\n",
    "# }\n",
    "\n",
    "params = {'learning_rate': [0.01, 0.03, 0.06, 0.1, 0.15, 0.2, 0.25, 0.300000012, 0.4, 0.5, 0.6, 0.7],\n",
    "          'max_depth': [3, 5,6,7,8,9,10,11,12,13,14],\n",
    "          'n_estimators': [50,65,80,100,115,130,150],\n",
    "          'min_child_weight': [1, 2, 3, 4],\n",
    "          'eta':[0.1, 0.2, 0.3],\n",
    "         'subsample': np.arange(1.0, 2.0, 4.0),\n",
    "     'colsample_bytree': np.arange(0.4, 1.0, 0.1),\n",
    "         }\n",
    "\n",
    "xgbr = xgb.XGBRegressor(seed = 20)\n",
    "\n",
    "clf = RandomizedSearchCV(estimator=xgbr,\n",
    "                         param_distributions=params,\n",
    "                         scoring='neg_mean_squared_error',\n",
    "                         n_iter=5,\n",
    "                         verbose=1)\n",
    "clf.fit(X_train, Y_train)\n",
    "print(\"Best parameters:\", clf.best_params_)\n",
    "print(\"Lowest RMSE: \", (-clf.best_score_)**(1/2.0))"
   ]
  },
  {
   "cell_type": "markdown",
   "id": "146caf24",
   "metadata": {},
   "source": [
    "### Najbolji parametri:  \n",
    "#### 'subsample': 1.0, 'min_child_weight': 1, 'max_depth': 6, 'learning_rate': 0.01, 'eta': 0.1, 'colsample_bytree': 0.7"
   ]
  },
  {
   "cell_type": "code",
   "execution_count": 235,
   "id": "234f8dd1",
   "metadata": {},
   "outputs": [
    {
     "name": "stdout",
     "output_type": "stream",
     "text": [
      "[0]\tTest-mae:0.49986\n",
      "[1]\tTest-mae:0.49965\n",
      "[2]\tTest-mae:0.49944\n",
      "[3]\tTest-mae:0.49922\n",
      "[4]\tTest-mae:0.49915\n",
      "[5]\tTest-mae:0.49894\n",
      "[6]\tTest-mae:0.49873\n",
      "[7]\tTest-mae:0.49871\n",
      "[8]\tTest-mae:0.49858\n",
      "[9]\tTest-mae:0.49845\n",
      "[10]\tTest-mae:0.49825\n",
      "[11]\tTest-mae:0.49824\n",
      "[12]\tTest-mae:0.49804\n",
      "[13]\tTest-mae:0.49784\n",
      "[14]\tTest-mae:0.49780\n",
      "[15]\tTest-mae:0.49768\n",
      "[16]\tTest-mae:0.49760\n",
      "[17]\tTest-mae:0.49740\n",
      "[18]\tTest-mae:0.49721\n",
      "[19]\tTest-mae:0.49702\n",
      "[20]\tTest-mae:0.49683\n",
      "[21]\tTest-mae:0.49664\n",
      "[22]\tTest-mae:0.49646\n",
      "[23]\tTest-mae:0.49636\n",
      "[24]\tTest-mae:0.49623\n",
      "[25]\tTest-mae:0.49622\n",
      "[26]\tTest-mae:0.49610\n",
      "[27]\tTest-mae:0.49609\n",
      "[28]\tTest-mae:0.49590\n",
      "[29]\tTest-mae:0.49583\n",
      "[30]\tTest-mae:0.49573\n",
      "[31]\tTest-mae:0.49555\n",
      "[32]\tTest-mae:0.49538\n",
      "[33]\tTest-mae:0.49520\n",
      "[34]\tTest-mae:0.49508\n",
      "[35]\tTest-mae:0.49515\n",
      "[36]\tTest-mae:0.49514\n",
      "[37]\tTest-mae:0.49506\n",
      "[38]\tTest-mae:0.49489\n",
      "[39]\tTest-mae:0.49488\n",
      "[40]\tTest-mae:0.49478\n",
      "[41]\tTest-mae:0.49471\n",
      "[42]\tTest-mae:0.49467\n",
      "[43]\tTest-mae:0.49466\n",
      "[44]\tTest-mae:0.49458\n",
      "[45]\tTest-mae:0.49452\n",
      "[46]\tTest-mae:0.49462\n",
      "[47]\tTest-mae:0.49454\n",
      "[48]\tTest-mae:0.49467\n",
      "[49]\tTest-mae:0.49466\n",
      "[50]\tTest-mae:0.49463\n",
      "[51]\tTest-mae:0.49446\n",
      "[52]\tTest-mae:0.49446\n",
      "[53]\tTest-mae:0.49440\n",
      "[54]\tTest-mae:0.49450\n",
      "[55]\tTest-mae:0.49449\n",
      "[56]\tTest-mae:0.49452\n",
      "[57]\tTest-mae:0.49446\n",
      "[58]\tTest-mae:0.49460\n",
      "[59]\tTest-mae:0.49454\n",
      "[60]\tTest-mae:0.49446\n",
      "[61]\tTest-mae:0.49459\n",
      "[62]\tTest-mae:0.49443\n",
      "[63]\tTest-mae:0.49439\n",
      "[64]\tTest-mae:0.49434\n",
      "[65]\tTest-mae:0.49433\n",
      "[66]\tTest-mae:0.49429\n",
      "[67]\tTest-mae:0.49413\n",
      "[68]\tTest-mae:0.49418\n",
      "[69]\tTest-mae:0.49430\n",
      "[70]\tTest-mae:0.49439\n",
      "[71]\tTest-mae:0.49434\n",
      "[72]\tTest-mae:0.49435\n",
      "[73]\tTest-mae:0.49431\n",
      "[74]\tTest-mae:0.49415\n",
      "[75]\tTest-mae:0.49414\n",
      "[76]\tTest-mae:0.49398\n",
      "[77]\tTest-mae:0.49394\n",
      "[78]\tTest-mae:0.49395\n",
      "[79]\tTest-mae:0.49389\n",
      "[80]\tTest-mae:0.49374\n",
      "[81]\tTest-mae:0.49373\n",
      "[82]\tTest-mae:0.49378\n",
      "[83]\tTest-mae:0.49373\n",
      "[84]\tTest-mae:0.49388\n",
      "[85]\tTest-mae:0.49384\n",
      "[86]\tTest-mae:0.49380\n",
      "[87]\tTest-mae:0.49371\n",
      "[88]\tTest-mae:0.49373\n",
      "[89]\tTest-mae:0.49369\n",
      "[90]\tTest-mae:0.49354\n",
      "[91]\tTest-mae:0.49353\n",
      "[92]\tTest-mae:0.49338\n",
      "[93]\tTest-mae:0.49328\n",
      "[94]\tTest-mae:0.49324\n",
      "[95]\tTest-mae:0.49328\n",
      "[96]\tTest-mae:0.49331\n",
      "[97]\tTest-mae:0.49316\n",
      "[98]\tTest-mae:0.49321\n",
      "[99]\tTest-mae:0.49316\n",
      "[100]\tTest-mae:0.49306\n",
      "[101]\tTest-mae:0.49292\n",
      "[102]\tTest-mae:0.49291\n",
      "[103]\tTest-mae:0.49294\n",
      "[104]\tTest-mae:0.49290\n",
      "[105]\tTest-mae:0.49280\n",
      "[106]\tTest-mae:0.49266\n",
      "[107]\tTest-mae:0.49262\n",
      "[108]\tTest-mae:0.49271\n",
      "[109]\tTest-mae:0.49270\n",
      "[110]\tTest-mae:0.49272\n",
      "[111]\tTest-mae:0.49258\n",
      "[112]\tTest-mae:0.49275\n",
      "[113]\tTest-mae:0.49278\n",
      "[114]\tTest-mae:0.49274\n",
      "[115]\tTest-mae:0.49268\n",
      "[116]\tTest-mae:0.49265\n",
      "[117]\tTest-mae:0.49278\n",
      "[118]\tTest-mae:0.49269\n",
      "[119]\tTest-mae:0.49254\n",
      "[120]\tTest-mae:0.49257\n",
      "[121]\tTest-mae:0.49262\n",
      "[122]\tTest-mae:0.49262\n",
      "[123]\tTest-mae:0.49256\n",
      "[124]\tTest-mae:0.49247\n",
      "[125]\tTest-mae:0.49233\n",
      "[126]\tTest-mae:0.49224\n",
      "[127]\tTest-mae:0.49210\n",
      "[128]\tTest-mae:0.49207\n",
      "[129]\tTest-mae:0.49211\n",
      "[130]\tTest-mae:0.49204\n",
      "[131]\tTest-mae:0.49195\n",
      "[132]\tTest-mae:0.49206\n",
      "[133]\tTest-mae:0.49202\n",
      "[134]\tTest-mae:0.49188\n",
      "[135]\tTest-mae:0.49190\n",
      "[136]\tTest-mae:0.49206\n",
      "[137]\tTest-mae:0.49198\n",
      "[138]\tTest-mae:0.49190\n",
      "[139]\tTest-mae:0.49191\n",
      "[140]\tTest-mae:0.49207\n",
      "[141]\tTest-mae:0.49193\n",
      "[142]\tTest-mae:0.49186\n",
      "[143]\tTest-mae:0.49196\n",
      "[144]\tTest-mae:0.49204\n",
      "[145]\tTest-mae:0.49225\n",
      "[146]\tTest-mae:0.49220\n",
      "[147]\tTest-mae:0.49217\n",
      "[148]\tTest-mae:0.49214\n",
      "[149]\tTest-mae:0.49225\n",
      "[150]\tTest-mae:0.49216\n",
      "[151]\tTest-mae:0.49203\n"
     ]
    }
   ],
   "source": [
    "# params = {\n",
    "#     'max_depth':13,\n",
    "#     'min_child_weight': 1,\n",
    "#     'learning_rate': 0.01,\n",
    "#     'eta':.3,\n",
    "#     'subsample': 1,\n",
    "#     'colsample_bytree': 0.5,\n",
    "#     # Other parameters\n",
    "#     'objective':'binary:logistic',\n",
    "# }\n",
    "\n",
    "# params = {\n",
    "#     'max_depth':4,\n",
    "#     'min_child_weight': 8,\n",
    "#     'learning_rate': 0.01,\n",
    "#     'eta':.2,\n",
    "#     'subsample': 1,\n",
    "#     'colsample_bytree': 0.6,\n",
    "#     # Other parameters\n",
    "#     'objective':'binary:logistic',\n",
    "# }\n",
    "\n",
    "\n",
    "params = {\n",
    "    'max_depth':3,\n",
    "    'min_child_weight': 6,\n",
    "    'learning_rate': 0.01,\n",
    "    'eta':.2,\n",
    "    'subsample': 1,\n",
    "    'colsample_bytree': 0.8,\n",
    "    # Other parameters\n",
    "    'objective':'binary:logistic',\n",
    "}\n",
    "#early_stopping_rounds=10\n",
    "#F1 score:  [0.5210084  0.62251656] \n",
    "\n",
    "\n",
    "\n",
    "params['eval_metric'] = \"mae\"\n",
    "\n",
    "\n",
    "best_model = xgb.train(\n",
    "    params,\n",
    "    dtrain,\n",
    "    num_boost_round=num_boost_round,\n",
    "    evals=[(dtest, \"Test\")],\n",
    "    early_stopping_rounds=10\n",
    ")"
   ]
  },
  {
   "cell_type": "code",
   "execution_count": 240,
   "id": "d4921489",
   "metadata": {},
   "outputs": [],
   "source": [
    "xgb_pred = best_model.predict(dtest)\n",
    "xgb_predictions = [round(value) for value in xgb_pred]"
   ]
  },
  {
   "cell_type": "code",
   "execution_count": 241,
   "id": "48638af4",
   "metadata": {},
   "outputs": [
    {
     "name": "stdout",
     "output_type": "stream",
     "text": [
      "F1 score:  [0.5210084  0.62251656]\n"
     ]
    }
   ],
   "source": [
    "f1_sc = f1_score(Y_test, xgb_predictions, average=None)\n",
    "print(\"F1 score: \", f1_sc)"
   ]
  },
  {
   "cell_type": "code",
   "execution_count": 242,
   "id": "810863ed",
   "metadata": {},
   "outputs": [
    {
     "name": "stdout",
     "output_type": "stream",
     "text": [
      "              precision    recall  f1-score   support\n",
      "\n",
      "           0       0.51      0.53      0.52        58\n",
      "           1       0.64      0.61      0.62        77\n",
      "\n",
      "    accuracy                           0.58       135\n",
      "   macro avg       0.57      0.57      0.57       135\n",
      "weighted avg       0.58      0.58      0.58       135\n",
      "\n"
     ]
    }
   ],
   "source": [
    "print(classification_report(Y_test, xgb_predictions))"
   ]
  },
  {
   "cell_type": "code",
   "execution_count": 243,
   "id": "be58687d",
   "metadata": {},
   "outputs": [
    {
     "name": "stdout",
     "output_type": "stream",
     "text": [
      "Best MAE: 0.49 in 143 rounds\n"
     ]
    }
   ],
   "source": [
    "print(\"Best MAE: {:.2f} in {} rounds\".format(best_model.best_score, best_model.best_iteration + 1))"
   ]
  },
  {
   "cell_type": "markdown",
   "id": "61ff7a61",
   "metadata": {},
   "source": [
    "#### Značajnost atributa po XGBoost."
   ]
  },
  {
   "cell_type": "code",
   "execution_count": 244,
   "id": "08fe1c16",
   "metadata": {
    "scrolled": true
   },
   "outputs": [
    {
     "data": {
      "text/plain": [
       "<AxesSubplot:title={'center':'Feature importance'}, xlabel='F score', ylabel='Features'>"
      ]
     },
     "execution_count": 244,
     "metadata": {},
     "output_type": "execute_result"
    },
    {
     "data": {
      "image/png": "[encoded data removed]",
      "text/plain": [
       "<Figure size 432x288 with 1 Axes>"
      ]
     },
     "metadata": {
      "needs_background": "light"
     },
     "output_type": "display_data"
    }
   ],
   "source": [
    "from xgboost import plot_importance\n",
    "\n",
    "plot_importance(best_model)"
   ]
  }
 ],
 "metadata": {
  "kernelspec": {
   "display_name": "Python 3 (ipykernel)",
   "language": "python",
   "name": "python3"
  },
  "language_info": {
   "codemirror_mode": {
    "name": "ipython",
    "version": 3
   },
   "file_extension": ".py",
   "mimetype": "text/x-python",
   "name": "python",
   "nbconvert_exporter": "python",
   "pygments_lexer": "ipython3",
   "version": "3.9.7"
  }
 },
 "nbformat": 4,
 "nbformat_minor": 5
}
