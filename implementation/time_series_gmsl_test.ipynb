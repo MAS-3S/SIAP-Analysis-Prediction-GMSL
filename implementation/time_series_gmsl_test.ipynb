{
 "cells": [
  {
   "cell_type": "code",
   "execution_count": 88,
   "id": "218c9341",
   "metadata": {},
   "outputs": [],
   "source": [
    "import pandas as pd\n",
    "import seaborn as sb\n",
    "import matplotlib.pyplot as plt\n",
    "from skforecast.ForecasterAutoreg import ForecasterAutoreg\n",
    "from xgboost import XGBRegressor\n",
    "from skforecast.model_selection import grid_search_forecaster\n",
    "from skforecast.model_selection import backtesting_forecaster"
   ]
  },
  {
   "cell_type": "code",
   "execution_count": 165,
   "id": "8a365d48",
   "metadata": {},
   "outputs": [],
   "source": [
    "data = pd.read_csv('original_datasets/csiro_recons_gmsl_mo.csv', delimiter=',')"
   ]
  },
  {
   "cell_type": "code",
   "execution_count": 166,
   "id": "6937a8c5",
   "metadata": {},
   "outputs": [
    {
     "data": {
      "text/html": [
       "<div>\n",
       "<style scoped>\n",
       "    .dataframe tbody tr th:only-of-type {\n",
       "        vertical-align: middle;\n",
       "    }\n",
       "\n",
       "    .dataframe tbody tr th {\n",
       "        vertical-align: top;\n",
       "    }\n",
       "\n",
       "    .dataframe thead th {\n",
       "        text-align: right;\n",
       "    }\n",
       "</style>\n",
       "<table border=\"1\" class=\"dataframe\">\n",
       "  <thead>\n",
       "    <tr style=\"text-align: right;\">\n",
       "      <th></th>\n",
       "      <th>Time</th>\n",
       "      <th>GMSL</th>\n",
       "      <th>GMSL uncertainty</th>\n",
       "    </tr>\n",
       "  </thead>\n",
       "  <tbody>\n",
       "    <tr>\n",
       "      <th>0</th>\n",
       "      <td>1880-01-15</td>\n",
       "      <td>-183.0</td>\n",
       "      <td>24.2</td>\n",
       "    </tr>\n",
       "    <tr>\n",
       "      <th>1</th>\n",
       "      <td>1880-02-15</td>\n",
       "      <td>-171.1</td>\n",
       "      <td>24.2</td>\n",
       "    </tr>\n",
       "    <tr>\n",
       "      <th>2</th>\n",
       "      <td>1880-03-15</td>\n",
       "      <td>-164.3</td>\n",
       "      <td>24.2</td>\n",
       "    </tr>\n",
       "    <tr>\n",
       "      <th>3</th>\n",
       "      <td>1880-04-15</td>\n",
       "      <td>-158.2</td>\n",
       "      <td>24.2</td>\n",
       "    </tr>\n",
       "    <tr>\n",
       "      <th>4</th>\n",
       "      <td>1880-05-15</td>\n",
       "      <td>-158.7</td>\n",
       "      <td>24.2</td>\n",
       "    </tr>\n",
       "    <tr>\n",
       "      <th>1603</th>\n",
       "      <td>2013-08-15</td>\n",
       "      <td>71.6</td>\n",
       "      <td>8.8</td>\n",
       "    </tr>\n",
       "    <tr>\n",
       "      <th>1604</th>\n",
       "      <td>2013-09-15</td>\n",
       "      <td>68.8</td>\n",
       "      <td>8.8</td>\n",
       "    </tr>\n",
       "    <tr>\n",
       "      <th>1605</th>\n",
       "      <td>2013-10-15</td>\n",
       "      <td>66.4</td>\n",
       "      <td>8.9</td>\n",
       "    </tr>\n",
       "    <tr>\n",
       "      <th>1606</th>\n",
       "      <td>2013-11-15</td>\n",
       "      <td>59.7</td>\n",
       "      <td>9.0</td>\n",
       "    </tr>\n",
       "    <tr>\n",
       "      <th>1607</th>\n",
       "      <td>2013-12-15</td>\n",
       "      <td>58.5</td>\n",
       "      <td>9.0</td>\n",
       "    </tr>\n",
       "  </tbody>\n",
       "</table>\n",
       "</div>"
      ],
      "text/plain": [
       "            Time   GMSL  GMSL uncertainty\n",
       "0     1880-01-15 -183.0              24.2\n",
       "1     1880-02-15 -171.1              24.2\n",
       "2     1880-03-15 -164.3              24.2\n",
       "3     1880-04-15 -158.2              24.2\n",
       "4     1880-05-15 -158.7              24.2\n",
       "1603  2013-08-15   71.6               8.8\n",
       "1604  2013-09-15   68.8               8.8\n",
       "1605  2013-10-15   66.4               8.9\n",
       "1606  2013-11-15   59.7               9.0\n",
       "1607  2013-12-15   58.5               9.0"
      ]
     },
     "execution_count": 166,
     "metadata": {},
     "output_type": "execute_result"
    }
   ],
   "source": [
    "data.head().append(data.tail())"
   ]
  },
  {
   "cell_type": "code",
   "execution_count": 167,
   "id": "534e8f30",
   "metadata": {},
   "outputs": [
    {
     "data": {
      "text/html": [
       "<div>\n",
       "<style scoped>\n",
       "    .dataframe tbody tr th:only-of-type {\n",
       "        vertical-align: middle;\n",
       "    }\n",
       "\n",
       "    .dataframe tbody tr th {\n",
       "        vertical-align: top;\n",
       "    }\n",
       "\n",
       "    .dataframe thead th {\n",
       "        text-align: right;\n",
       "    }\n",
       "</style>\n",
       "<table border=\"1\" class=\"dataframe\">\n",
       "  <thead>\n",
       "    <tr style=\"text-align: right;\">\n",
       "      <th></th>\n",
       "      <th>GMSL</th>\n",
       "      <th>GMSL uncertainty</th>\n",
       "    </tr>\n",
       "    <tr>\n",
       "      <th>Time</th>\n",
       "      <th></th>\n",
       "      <th></th>\n",
       "    </tr>\n",
       "  </thead>\n",
       "  <tbody>\n",
       "    <tr>\n",
       "      <th>1880-01-01</th>\n",
       "      <td>-183.0</td>\n",
       "      <td>24.2</td>\n",
       "    </tr>\n",
       "    <tr>\n",
       "      <th>1880-02-01</th>\n",
       "      <td>-171.1</td>\n",
       "      <td>24.2</td>\n",
       "    </tr>\n",
       "    <tr>\n",
       "      <th>1880-03-01</th>\n",
       "      <td>-164.3</td>\n",
       "      <td>24.2</td>\n",
       "    </tr>\n",
       "    <tr>\n",
       "      <th>1880-04-01</th>\n",
       "      <td>-158.2</td>\n",
       "      <td>24.2</td>\n",
       "    </tr>\n",
       "    <tr>\n",
       "      <th>1880-05-01</th>\n",
       "      <td>-158.7</td>\n",
       "      <td>24.2</td>\n",
       "    </tr>\n",
       "    <tr>\n",
       "      <th>...</th>\n",
       "      <td>...</td>\n",
       "      <td>...</td>\n",
       "    </tr>\n",
       "    <tr>\n",
       "      <th>2013-08-01</th>\n",
       "      <td>71.6</td>\n",
       "      <td>8.8</td>\n",
       "    </tr>\n",
       "    <tr>\n",
       "      <th>2013-09-01</th>\n",
       "      <td>68.8</td>\n",
       "      <td>8.8</td>\n",
       "    </tr>\n",
       "    <tr>\n",
       "      <th>2013-10-01</th>\n",
       "      <td>66.4</td>\n",
       "      <td>8.9</td>\n",
       "    </tr>\n",
       "    <tr>\n",
       "      <th>2013-11-01</th>\n",
       "      <td>59.7</td>\n",
       "      <td>9.0</td>\n",
       "    </tr>\n",
       "    <tr>\n",
       "      <th>2013-12-01</th>\n",
       "      <td>58.5</td>\n",
       "      <td>9.0</td>\n",
       "    </tr>\n",
       "  </tbody>\n",
       "</table>\n",
       "<p>1608 rows × 2 columns</p>\n",
       "</div>"
      ],
      "text/plain": [
       "             GMSL  GMSL uncertainty\n",
       "Time                               \n",
       "1880-01-01 -183.0              24.2\n",
       "1880-02-01 -171.1              24.2\n",
       "1880-03-01 -164.3              24.2\n",
       "1880-04-01 -158.2              24.2\n",
       "1880-05-01 -158.7              24.2\n",
       "...           ...               ...\n",
       "2013-08-01   71.6               8.8\n",
       "2013-09-01   68.8               8.8\n",
       "2013-10-01   66.4               8.9\n",
       "2013-11-01   59.7               9.0\n",
       "2013-12-01   58.5               9.0\n",
       "\n",
       "[1608 rows x 2 columns]"
      ]
     },
     "execution_count": 167,
     "metadata": {},
     "output_type": "execute_result"
    }
   ],
   "source": [
    "data['Time'] = pd.to_datetime(data['Time'], format='%Y-%m-%d %H:%M:%S')\n",
    "data['Time'] = data['Time'].dt.strftime('%Y-%m')\n",
    "data['Time'] = pd.to_datetime(data['Time'], format='%Y-%m-%d %H:%M:%S')\n",
    "data = data.set_index('Time')\n",
    "data = data.asfreq('MS')\n",
    "data = data.sort_index()\n",
    "data\n"
   ]
  },
  {
   "cell_type": "code",
   "execution_count": 168,
   "id": "d35e69ee",
   "metadata": {},
   "outputs": [
    {
     "name": "stdout",
     "output_type": "stream",
     "text": [
      "Dates train      : 1880-01-01 00:00:00 --- 1980-12-01 00:00:00  (n=1212)\n",
      "Dates validacion : 1980-12-01 00:00:00 --- 2000-12-01 00:00:00  (n=241)\n",
      "Dates test       : 2000-12-01 00:00:00 --- 2013-12-01 00:00:00  (n=157)\n"
     ]
    }
   ],
   "source": [
    "# Split train-val-test\n",
    "# ==============================================================================\n",
    "end_train = '1980-12-01'\n",
    "end_validation = '2000-12-01'\n",
    "data_train = data.loc[: end_train, :]\n",
    "data_val   = data.loc[end_train:end_validation, :]\n",
    "data_test  = data.loc[end_validation:, :]\n",
    "\n",
    "print(f\"Dates train      : {data_train.index.min()} --- {data_train.index.max()}  (n={len(data_train)})\")\n",
    "print(f\"Dates validacion : {data_val.index.min()} --- {data_val.index.max()}  (n={len(data_val)})\")\n",
    "print(f\"Dates test       : {data_test.index.min()} --- {data_test.index.max()}  (n={len(data_test)})\")"
   ]
  },
  {
   "cell_type": "code",
   "execution_count": 169,
   "id": "75082fe1",
   "metadata": {},
   "outputs": [
    {
     "data": {
      "text/plain": [
       "<matplotlib.legend.Legend at 0x28d61792040>"
      ]
     },
     "execution_count": 169,
     "metadata": {},
     "output_type": "execute_result"
    },
    {
     "data": {
      "image/png": "[encoded data removed]",
      "text/plain": [
       "<Figure size 792x288 with 1 Axes>"
      ]
     },
     "metadata": {
      "needs_background": "light"
     },
     "output_type": "display_data"
    }
   ],
   "source": [
    "fig, ax = plt.subplots(figsize=(11, 4))\n",
    "data_train['GMSL'].plot(ax=ax, label='train')\n",
    "data_val['GMSL'].plot(ax=ax, label='validation')\n",
    "data_test['GMSL'].plot(ax=ax, label='test')\n",
    "ax.set_title('GMSL')\n",
    "ax.legend()"
   ]
  },
  {
   "cell_type": "code",
   "execution_count": 170,
   "id": "70cde7b1",
   "metadata": {},
   "outputs": [],
   "source": [
    "# Create forecaster\n",
    "# ==============================================================================\n",
    "forecaster = ForecasterAutoreg(\n",
    "                regressor = XGBRegressor(random_state=123),\n",
    "                lags = 8\n",
    "             )"
   ]
  },
  {
   "cell_type": "code",
   "execution_count": 171,
   "id": "3cba84fd",
   "metadata": {
    "scrolled": true
   },
   "outputs": [
    {
     "name": "stdout",
     "output_type": "stream",
     "text": [
      "Number of models compared: 60\n"
     ]
    },
    {
     "name": "stderr",
     "output_type": "stream",
     "text": [
      "loop lags_grid:   0%|                                               | 0/2 [00:00<?, ?it/s]\n",
      "loop param_grid:   0%|                                             | 0/30 [00:00<?, ?it/s]\u001b[A\n",
      "loop param_grid:   3%|█▏                                   | 1/30 [00:01<00:55,  1.93s/it]\u001b[A\n",
      "loop param_grid:   7%|██▍                                  | 2/30 [00:04<00:56,  2.01s/it]\u001b[A\n",
      "loop param_grid:  10%|███▋                                 | 3/30 [00:09<01:41,  3.74s/it]\u001b[A\n",
      "loop param_grid:  13%|████▉                                | 4/30 [00:12<01:31,  3.51s/it]\u001b[A\n",
      "loop param_grid:  17%|██████▏                              | 5/30 [00:15<01:18,  3.15s/it]\u001b[A\n",
      "loop param_grid:  20%|███████▍                             | 6/30 [00:23<01:58,  4.96s/it]\u001b[A\n",
      "loop param_grid:  23%|████████▋                            | 7/30 [00:25<01:29,  3.91s/it]\u001b[A\n",
      "loop param_grid:  27%|█████████▊                           | 8/30 [00:27<01:13,  3.32s/it]\u001b[A\n",
      "loop param_grid:  30%|███████████                          | 9/30 [00:34<01:35,  4.55s/it]\u001b[A\n",
      "loop param_grid:  33%|████████████                        | 10/30 [00:36<01:12,  3.65s/it]\u001b[A\n",
      "loop param_grid:  37%|█████████████▏                      | 11/30 [00:38<01:00,  3.18s/it]\u001b[A\n",
      "loop param_grid:  40%|██████████████▍                     | 12/30 [00:49<01:36,  5.37s/it]\u001b[A\n",
      "loop param_grid:  43%|███████████████▌                    | 13/30 [00:50<01:11,  4.23s/it]\u001b[A\n",
      "loop param_grid:  47%|████████████████▊                   | 14/30 [00:52<00:57,  3.60s/it]\u001b[A\n",
      "loop param_grid:  50%|██████████████████                  | 15/30 [01:07<01:44,  6.97s/it]\u001b[A\n",
      "loop param_grid:  53%|███████████████████▏                | 16/30 [01:09<01:15,  5.37s/it]\u001b[A\n",
      "loop param_grid:  57%|████████████████████▍               | 17/30 [01:11<00:56,  4.35s/it]\u001b[A\n",
      "loop param_grid:  60%|█████████████████████▌              | 18/30 [01:17<00:57,  4.83s/it]\u001b[A\n",
      "loop param_grid:  63%|██████████████████████▊             | 19/30 [01:19<00:43,  3.96s/it]\u001b[A\n",
      "loop param_grid:  67%|████████████████████████            | 20/30 [01:22<00:37,  3.70s/it]\u001b[A\n",
      "loop param_grid:  70%|█████████████████████████▏          | 21/30 [01:29<00:44,  4.91s/it]\u001b[A\n",
      "loop param_grid:  73%|██████████████████████████▍         | 22/30 [01:32<00:32,  4.12s/it]\u001b[A\n",
      "loop param_grid:  77%|███████████████████████████▌        | 23/30 [01:34<00:25,  3.69s/it]\u001b[A\n",
      "loop param_grid:  80%|████████████████████████████▊       | 24/30 [01:42<00:29,  4.98s/it]\u001b[A\n",
      "loop param_grid:  83%|██████████████████████████████      | 25/30 [01:46<00:22,  4.46s/it]\u001b[A\n",
      "loop param_grid:  87%|███████████████████████████████▏    | 26/30 [01:49<00:16,  4.20s/it]\u001b[A\n",
      "loop param_grid:  90%|████████████████████████████████▍   | 27/30 [02:00<00:18,  6.29s/it]\u001b[A\n",
      "loop param_grid:  93%|█████████████████████████████████▌  | 28/30 [02:04<00:10,  5.45s/it]\u001b[A\n",
      "loop param_grid:  97%|██████████████████████████████████▊ | 29/30 [02:09<00:05,  5.20s/it]\u001b[A\n",
      "loop param_grid: 100%|████████████████████████████████████| 30/30 [02:23<00:00,  7.92s/it]\u001b[A\n",
      "loop lags_grid:  50%|███████████████████                   | 1/2 [02:23<02:23, 143.34s/it]\u001b[A\n",
      "loop param_grid:   0%|                                             | 0/30 [00:00<?, ?it/s]\u001b[A\n",
      "loop param_grid:   3%|█▏                                   | 1/30 [00:01<00:51,  1.77s/it]\u001b[A\n",
      "loop param_grid:   7%|██▍                                  | 2/30 [00:03<00:50,  1.80s/it]\u001b[A\n",
      "loop param_grid:  10%|███▋                                 | 3/30 [00:06<00:57,  2.13s/it]\u001b[A\n",
      "loop param_grid:  13%|████▉                                | 4/30 [00:07<00:48,  1.87s/it]\u001b[A\n",
      "loop param_grid:  17%|██████▏                              | 5/30 [00:09<00:44,  1.78s/it]\u001b[A\n",
      "loop param_grid:  20%|███████▍                             | 6/30 [00:12<00:54,  2.28s/it]\u001b[A\n",
      "loop param_grid:  23%|████████▋                            | 7/30 [00:14<00:46,  2.04s/it]\u001b[A\n",
      "loop param_grid:  27%|█████████▊                           | 8/30 [00:15<00:42,  1.91s/it]\u001b[A\n",
      "loop param_grid:  30%|███████████                          | 9/30 [00:19<00:51,  2.45s/it]\u001b[A\n",
      "loop param_grid:  33%|████████████                        | 10/30 [00:21<00:48,  2.42s/it]\u001b[A\n",
      "loop param_grid:  37%|█████████████▏                      | 11/30 [00:23<00:43,  2.29s/it]\u001b[A\n",
      "loop param_grid:  40%|██████████████▍                     | 12/30 [00:28<00:55,  3.10s/it]\u001b[A\n",
      "loop param_grid:  43%|███████████████▌                    | 13/30 [00:31<00:49,  2.94s/it]\u001b[A\n",
      "loop param_grid:  47%|████████████████▊                   | 14/30 [00:33<00:45,  2.84s/it]\u001b[A\n",
      "loop param_grid:  50%|██████████████████                  | 15/30 [00:42<01:09,  4.61s/it]\u001b[A\n",
      "loop param_grid:  53%|███████████████████▏                | 16/30 [00:44<00:54,  3.88s/it]\u001b[A\n",
      "loop param_grid:  57%|████████████████████▍               | 17/30 [00:46<00:42,  3.28s/it]\u001b[A\n",
      "loop param_grid:  60%|█████████████████████▌              | 18/30 [00:49<00:39,  3.30s/it]\u001b[A\n",
      "loop param_grid:  63%|██████████████████████▊             | 19/30 [00:52<00:35,  3.24s/it]\u001b[A\n",
      "loop param_grid:  67%|████████████████████████            | 20/30 [00:56<00:33,  3.32s/it]\u001b[A\n",
      "loop param_grid:  70%|█████████████████████████▏          | 21/30 [01:00<00:32,  3.56s/it]\u001b[A\n",
      "loop param_grid:  73%|██████████████████████████▍         | 22/30 [01:04<00:28,  3.57s/it]\u001b[A\n",
      "loop param_grid:  77%|███████████████████████████▌        | 23/30 [01:10<00:30,  4.35s/it]\u001b[A\n",
      "loop param_grid:  80%|████████████████████████████▊       | 24/30 [01:13<00:24,  4.09s/it]\u001b[A\n",
      "loop param_grid:  83%|██████████████████████████████      | 25/30 [01:15<00:17,  3.47s/it]\u001b[A\n",
      "loop param_grid:  87%|███████████████████████████████▏    | 26/30 [01:18<00:12,  3.09s/it]\u001b[A\n",
      "loop param_grid:  90%|████████████████████████████████▍   | 27/30 [01:22<00:10,  3.55s/it]\u001b[A\n",
      "loop param_grid:  93%|█████████████████████████████████▌  | 28/30 [01:24<00:06,  3.05s/it]\u001b[A\n",
      "loop param_grid:  97%|██████████████████████████████████▊ | 29/30 [01:27<00:03,  3.13s/it]\u001b[A\n",
      "loop param_grid: 100%|████████████████████████████████████| 30/30 [01:33<00:00,  3.90s/it]\u001b[A\n",
      "loop lags_grid: 100%|██████████████████████████████████████| 2/2 [03:56<00:00, 118.49s/it]\u001b[A\n"
     ]
    },
    {
     "name": "stdout",
     "output_type": "stream",
     "text": [
      "Refitting `forecaster` using the best found parameters and the whole data set: \n",
      "  lags: [ 1  2  3  4  5  6  7  8  9 10 11 12 13 14 15 16 17 18 19 20 21 22 23 24\n",
      " 25 26 27 28 29 30 31 32 33 34 35 36 37 38 39 40 41 42 43 44 45 46 47 48\n",
      " 49 50 51 52 53 54 55 56 57 58 59 60 61 62 63 64 65 66 67 68 69 70 71 72] \n",
      "  params: {'learning_rate': 0.01, 'max_depth': 5, 'n_estimators': 50}\n",
      "\n"
     ]
    }
   ],
   "source": [
    "# Grid search of hyperparameters and lags\n",
    "# ==============================================================================\n",
    "# Regressor hyperparameters\n",
    "param_grid = {\n",
    "    'n_estimators': [50, 100, 500],\n",
    "    'max_depth': [3, 5, 6, 10, 15],\n",
    "    'learning_rate': [0.01, 0.1]\n",
    "}\n",
    "\n",
    "# Lags used as predictors\n",
    "lags_grid = [72, [1, 2, 3, 23, 24, 25, 71, 72, 73]]\n",
    "#lags_grid = [3, 10, [1, 2, 3, 20]]\n",
    "\n",
    "results_grid = grid_search_forecaster(\n",
    "                        forecaster         = forecaster,\n",
    "                        y                  = data.loc[:end_validation, 'GMSL'],\n",
    "                        param_grid         = param_grid,\n",
    "                        lags_grid          = lags_grid,\n",
    "                        steps              = 12,\n",
    "                        refit              = False,\n",
    "                        metric             = 'mean_squared_error',\n",
    "                        initial_train_size = int(len(data_train)),\n",
    "                        return_best        = True,\n",
    "                        verbose            = False\n",
    "                   )"
   ]
  },
  {
   "cell_type": "code",
   "execution_count": 172,
   "id": "ba8eca85",
   "metadata": {},
   "outputs": [
    {
     "name": "stdout",
     "output_type": "stream",
     "text": [
      "Backtest error: [2378.19852051]\n"
     ]
    }
   ],
   "source": [
    "# Backtesting\n",
    "# ==============================================================================\n",
    "metric, predictions = backtesting_forecaster(\n",
    "    forecaster         = forecaster,\n",
    "    y                  = data['GMSL'],\n",
    "    initial_train_size = len(data.loc[:end_validation]),\n",
    "    steps              = 12,\n",
    "    refit              = False,\n",
    "    metric             = 'mean_squared_error',\n",
    "    verbose            = False\n",
    ")\n",
    "\n",
    "print(f\"Backtest error: {metric}\")"
   ]
  },
  {
   "cell_type": "code",
   "execution_count": 173,
   "id": "a46bc403",
   "metadata": {},
   "outputs": [
    {
     "data": {
      "image/png": "[encoded data removed]",
      "text/plain": [
       "<Figure size 792x288 with 1 Axes>"
      ]
     },
     "metadata": {
      "needs_background": "light"
     },
     "output_type": "display_data"
    }
   ],
   "source": [
    "# Plot of predictions\n",
    "# ==============================================================================\n",
    "fig, ax = plt.subplots(figsize=(11, 4))\n",
    "data_test['GMSL'].plot(ax=ax, label='test')\n",
    "predictions['pred'].plot(ax=ax, label='predictions')\n",
    "ax.legend();"
   ]
  },
  {
   "cell_type": "code",
   "execution_count": null,
   "id": "9c43ddb4",
   "metadata": {},
   "outputs": [],
   "source": []
  }
 ],
 "metadata": {
  "kernelspec": {
   "display_name": "Python 3 (ipykernel)",
   "language": "python",
   "name": "python3"
  },
  "language_info": {
   "codemirror_mode": {
    "name": "ipython",
    "version": 3
   },
   "file_extension": ".py",
   "mimetype": "text/x-python",
   "name": "python",
   "nbconvert_exporter": "python",
   "pygments_lexer": "ipython3",
   "version": "3.8.3"
  }
 },
 "nbformat": 4,
 "nbformat_minor": 5
}
