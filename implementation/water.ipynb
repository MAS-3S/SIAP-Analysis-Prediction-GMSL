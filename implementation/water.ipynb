{
 "cells": [
  {
   "cell_type": "markdown",
   "id": "072554cb",
   "metadata": {},
   "source": [
    "# GMSL Analysis and Prediction "
   ]
  },
  {
   "cell_type": "markdown",
   "id": "9d2f723d",
   "metadata": {},
   "source": [
    "## Water Dataset (https://www.kaggle.com/mathsian/water-temperature)"
   ]
  },
  {
   "cell_type": "markdown",
   "id": "980ea798",
   "metadata": {},
   "source": [
    "Podaci u ovom skupu podataka predstavljaju uzorke vode sakupljene iz okeana između 1959. i 2020. godine. Uzećemo u obzir \n",
    "podatke prikupljane na dubinama do 200m (Photic)."
   ]
  },
  {
   "cell_type": "markdown",
   "id": "36393741",
   "metadata": {},
   "source": [
    "Podaci koji su od interesa za naš rad su:\n",
    "* T_degC - temperatura vode izražena u celzijusima \n",
    "* O2ml_L - zasićenost vode kiseonikom"
   ]
  },
  {
   "cell_type": "code",
   "execution_count": 1,
   "id": "1b4432a4",
   "metadata": {},
   "outputs": [],
   "source": [
    "import pandas as pd\n",
    "import seaborn as sb\n",
    "import matplotlib.pyplot as plt"
   ]
  },
  {
   "cell_type": "code",
   "execution_count": 2,
   "id": "132eed5c",
   "metadata": {},
   "outputs": [],
   "source": [
    "df = pd.read_csv('original_datasets/water.csv', delimiter=',')"
   ]
  },
  {
   "cell_type": "code",
   "execution_count": 3,
   "id": "d3ec8429",
   "metadata": {},
   "outputs": [
    {
     "data": {
      "text/html": [
       "<div>\n",
       "<style scoped>\n",
       "    .dataframe tbody tr th:only-of-type {\n",
       "        vertical-align: middle;\n",
       "    }\n",
       "\n",
       "    .dataframe tbody tr th {\n",
       "        vertical-align: top;\n",
       "    }\n",
       "\n",
       "    .dataframe thead th {\n",
       "        text-align: right;\n",
       "    }\n",
       "</style>\n",
       "<table border=\"1\" class=\"dataframe\">\n",
       "  <thead>\n",
       "    <tr style=\"text-align: right;\">\n",
       "      <th></th>\n",
       "      <th>Sta_ID</th>\n",
       "      <th>Date</th>\n",
       "      <th>Quarter</th>\n",
       "      <th>Lat_Deg</th>\n",
       "      <th>Depthm</th>\n",
       "      <th>Zone</th>\n",
       "      <th>T_degC</th>\n",
       "      <th>PO4uM</th>\n",
       "      <th>SiO3uM</th>\n",
       "      <th>NO2uM</th>\n",
       "      <th>NO3uM</th>\n",
       "      <th>Salnty</th>\n",
       "      <th>O2ml_L</th>\n",
       "    </tr>\n",
       "  </thead>\n",
       "  <tbody>\n",
       "    <tr>\n",
       "      <th>0</th>\n",
       "      <td>130.0 050.0</td>\n",
       "      <td>08/16/1959</td>\n",
       "      <td>3</td>\n",
       "      <td>25</td>\n",
       "      <td>0</td>\n",
       "      <td>Photic</td>\n",
       "      <td>25.38</td>\n",
       "      <td>0.36</td>\n",
       "      <td>1.0</td>\n",
       "      <td>0.0</td>\n",
       "      <td>0.9</td>\n",
       "      <td>34.150</td>\n",
       "      <td>4.72</td>\n",
       "    </tr>\n",
       "    <tr>\n",
       "      <th>1</th>\n",
       "      <td>130.0 050.0</td>\n",
       "      <td>08/16/1959</td>\n",
       "      <td>3</td>\n",
       "      <td>25</td>\n",
       "      <td>1</td>\n",
       "      <td>Photic</td>\n",
       "      <td>25.38</td>\n",
       "      <td>0.36</td>\n",
       "      <td>1.0</td>\n",
       "      <td>0.0</td>\n",
       "      <td>0.9</td>\n",
       "      <td>34.150</td>\n",
       "      <td>4.72</td>\n",
       "    </tr>\n",
       "    <tr>\n",
       "      <th>2</th>\n",
       "      <td>130.0 050.0</td>\n",
       "      <td>08/16/1959</td>\n",
       "      <td>3</td>\n",
       "      <td>25</td>\n",
       "      <td>10</td>\n",
       "      <td>Photic</td>\n",
       "      <td>25.35</td>\n",
       "      <td>0.41</td>\n",
       "      <td>1.0</td>\n",
       "      <td>0.0</td>\n",
       "      <td>0.8</td>\n",
       "      <td>34.180</td>\n",
       "      <td>4.14</td>\n",
       "    </tr>\n",
       "    <tr>\n",
       "      <th>3</th>\n",
       "      <td>130.0 050.0</td>\n",
       "      <td>08/16/1959</td>\n",
       "      <td>3</td>\n",
       "      <td>25</td>\n",
       "      <td>20</td>\n",
       "      <td>Photic</td>\n",
       "      <td>23.50</td>\n",
       "      <td>0.42</td>\n",
       "      <td>1.0</td>\n",
       "      <td>0.0</td>\n",
       "      <td>1.2</td>\n",
       "      <td>34.146</td>\n",
       "      <td>4.26</td>\n",
       "    </tr>\n",
       "    <tr>\n",
       "      <th>4</th>\n",
       "      <td>130.0 050.0</td>\n",
       "      <td>08/16/1959</td>\n",
       "      <td>3</td>\n",
       "      <td>25</td>\n",
       "      <td>30</td>\n",
       "      <td>Photic</td>\n",
       "      <td>21.45</td>\n",
       "      <td>0.43</td>\n",
       "      <td>1.0</td>\n",
       "      <td>0.0</td>\n",
       "      <td>1.5</td>\n",
       "      <td>34.117</td>\n",
       "      <td>4.57</td>\n",
       "    </tr>\n",
       "  </tbody>\n",
       "</table>\n",
       "</div>"
      ],
      "text/plain": [
       "        Sta_ID        Date  Quarter  Lat_Deg  Depthm    Zone  T_degC  PO4uM  \\\n",
       "0  130.0 050.0  08/16/1959        3       25       0  Photic   25.38   0.36   \n",
       "1  130.0 050.0  08/16/1959        3       25       1  Photic   25.38   0.36   \n",
       "2  130.0 050.0  08/16/1959        3       25      10  Photic   25.35   0.41   \n",
       "3  130.0 050.0  08/16/1959        3       25      20  Photic   23.50   0.42   \n",
       "4  130.0 050.0  08/16/1959        3       25      30  Photic   21.45   0.43   \n",
       "\n",
       "   SiO3uM  NO2uM  NO3uM  Salnty  O2ml_L  \n",
       "0     1.0    0.0    0.9  34.150    4.72  \n",
       "1     1.0    0.0    0.9  34.150    4.72  \n",
       "2     1.0    0.0    0.8  34.180    4.14  \n",
       "3     1.0    0.0    1.2  34.146    4.26  \n",
       "4     1.0    0.0    1.5  34.117    4.57  "
      ]
     },
     "execution_count": 3,
     "metadata": {},
     "output_type": "execute_result"
    }
   ],
   "source": [
    "df.head()"
   ]
  },
  {
   "cell_type": "code",
   "execution_count": 4,
   "id": "31ec2011",
   "metadata": {
    "scrolled": true
   },
   "outputs": [
    {
     "data": {
      "text/plain": [
       "Index(['Sta_ID', 'Date', 'Quarter', 'Lat_Deg', 'Depthm', 'Zone', 'T_degC',\n",
       "       'PO4uM', 'SiO3uM', 'NO2uM', 'NO3uM', 'Salnty', 'O2ml_L'],\n",
       "      dtype='object')"
      ]
     },
     "execution_count": 4,
     "metadata": {},
     "output_type": "execute_result"
    }
   ],
   "source": [
    "df.columns"
   ]
  },
  {
   "cell_type": "markdown",
   "id": "177b0f37",
   "metadata": {},
   "source": [
    "#### Uklanjanje kolona koje nisu od interesa. Kolone 'Depthm' i 'Zone' se ostavljaju radi daljih razmatranja."
   ]
  },
  {
   "cell_type": "markdown",
   "id": "12738a3c",
   "metadata": {},
   "source": [
    "* Depthm - dubina na kojoj je izvršeno merenje\n",
    "* Zone - zona u kojoj je izvršeno merenje (Photic/Disphotic)"
   ]
  },
  {
   "cell_type": "code",
   "execution_count": 5,
   "id": "de01b02e",
   "metadata": {},
   "outputs": [],
   "source": [
    "df.drop(['Sta_ID', 'Quarter', 'Lat_Deg', 'PO4uM', 'SiO3uM',\n",
    "         'NO2uM', 'NO3uM', 'Salnty'], axis = 1, inplace = True)"
   ]
  },
  {
   "cell_type": "code",
   "execution_count": 6,
   "id": "6be1010d",
   "metadata": {},
   "outputs": [],
   "source": [
    "df.rename(columns={'T_degC':'WaterTemp', 'O2ml_L':'O2ml'}, inplace = True)"
   ]
  },
  {
   "cell_type": "code",
   "execution_count": 7,
   "id": "95175358",
   "metadata": {},
   "outputs": [
    {
     "data": {
      "text/html": [
       "<div>\n",
       "<style scoped>\n",
       "    .dataframe tbody tr th:only-of-type {\n",
       "        vertical-align: middle;\n",
       "    }\n",
       "\n",
       "    .dataframe tbody tr th {\n",
       "        vertical-align: top;\n",
       "    }\n",
       "\n",
       "    .dataframe thead th {\n",
       "        text-align: right;\n",
       "    }\n",
       "</style>\n",
       "<table border=\"1\" class=\"dataframe\">\n",
       "  <thead>\n",
       "    <tr style=\"text-align: right;\">\n",
       "      <th></th>\n",
       "      <th>Depthm</th>\n",
       "      <th>WaterTemp</th>\n",
       "      <th>O2ml</th>\n",
       "    </tr>\n",
       "  </thead>\n",
       "  <tbody>\n",
       "    <tr>\n",
       "      <th>count</th>\n",
       "      <td>337792.000000</td>\n",
       "      <td>337792.000000</td>\n",
       "      <td>337792.000000</td>\n",
       "    </tr>\n",
       "    <tr>\n",
       "      <th>mean</th>\n",
       "      <td>170.392887</td>\n",
       "      <td>11.185802</td>\n",
       "      <td>3.728877</td>\n",
       "    </tr>\n",
       "    <tr>\n",
       "      <th>std</th>\n",
       "      <td>214.807837</td>\n",
       "      <td>3.820133</td>\n",
       "      <td>1.991083</td>\n",
       "    </tr>\n",
       "    <tr>\n",
       "      <th>min</th>\n",
       "      <td>0.000000</td>\n",
       "      <td>1.480000</td>\n",
       "      <td>-0.010000</td>\n",
       "    </tr>\n",
       "    <tr>\n",
       "      <th>25%</th>\n",
       "      <td>40.000000</td>\n",
       "      <td>8.200000</td>\n",
       "      <td>1.990000</td>\n",
       "    </tr>\n",
       "    <tr>\n",
       "      <th>50%</th>\n",
       "      <td>103.000000</td>\n",
       "      <td>10.450000</td>\n",
       "      <td>3.930000</td>\n",
       "    </tr>\n",
       "    <tr>\n",
       "      <th>75%</th>\n",
       "      <td>250.000000</td>\n",
       "      <td>14.170000</td>\n",
       "      <td>5.680000</td>\n",
       "    </tr>\n",
       "    <tr>\n",
       "      <th>max</th>\n",
       "      <td>5351.000000</td>\n",
       "      <td>30.020000</td>\n",
       "      <td>11.130000</td>\n",
       "    </tr>\n",
       "  </tbody>\n",
       "</table>\n",
       "</div>"
      ],
      "text/plain": [
       "              Depthm      WaterTemp           O2ml\n",
       "count  337792.000000  337792.000000  337792.000000\n",
       "mean      170.392887      11.185802       3.728877\n",
       "std       214.807837       3.820133       1.991083\n",
       "min         0.000000       1.480000      -0.010000\n",
       "25%        40.000000       8.200000       1.990000\n",
       "50%       103.000000      10.450000       3.930000\n",
       "75%       250.000000      14.170000       5.680000\n",
       "max      5351.000000      30.020000      11.130000"
      ]
     },
     "execution_count": 7,
     "metadata": {},
     "output_type": "execute_result"
    }
   ],
   "source": [
    "df.describe()"
   ]
  },
  {
   "cell_type": "code",
   "execution_count": 8,
   "id": "6cf968bf",
   "metadata": {},
   "outputs": [
    {
     "name": "stdout",
     "output_type": "stream",
     "text": [
      "<class 'pandas.core.frame.DataFrame'>\n",
      "RangeIndex: 337792 entries, 0 to 337791\n",
      "Data columns (total 5 columns):\n",
      " #   Column     Non-Null Count   Dtype  \n",
      "---  ------     --------------   -----  \n",
      " 0   Date       337792 non-null  object \n",
      " 1   Depthm     337792 non-null  int64  \n",
      " 2   Zone       337792 non-null  object \n",
      " 3   WaterTemp  337792 non-null  float64\n",
      " 4   O2ml       337792 non-null  float64\n",
      "dtypes: float64(2), int64(1), object(2)\n",
      "memory usage: 12.9+ MB\n"
     ]
    }
   ],
   "source": [
    "df.info()"
   ]
  },
  {
   "cell_type": "markdown",
   "id": "c4ce1f42",
   "metadata": {},
   "source": [
    "#### Konvertovanje datuma iz stringa u datetime"
   ]
  },
  {
   "cell_type": "code",
   "execution_count": 9,
   "id": "075f6a98",
   "metadata": {},
   "outputs": [],
   "source": [
    "df['Date'] = pd.to_datetime(df['Date'])"
   ]
  },
  {
   "cell_type": "markdown",
   "id": "5a4732a8",
   "metadata": {},
   "source": [
    "#### Uzimaju se u obzir podaci koji su prikupljani da dubinama do 200m (Photic) nakon čega se ta kolona briše"
   ]
  },
  {
   "cell_type": "code",
   "execution_count": 10,
   "id": "c3d9269d",
   "metadata": {},
   "outputs": [],
   "source": [
    "df = df[df['Zone'] == 'Photic']"
   ]
  },
  {
   "cell_type": "code",
   "execution_count": 11,
   "id": "5cbb7ca9",
   "metadata": {},
   "outputs": [
    {
     "data": {
      "text/plain": [
       "array(['Photic', 'Photic', 'Photic', ..., 'Photic', 'Photic', 'Photic'],\n",
       "      dtype=object)"
      ]
     },
     "execution_count": 11,
     "metadata": {},
     "output_type": "execute_result"
    }
   ],
   "source": [
    "df['Zone'].values"
   ]
  },
  {
   "cell_type": "code",
   "execution_count": 12,
   "id": "b072f779",
   "metadata": {},
   "outputs": [],
   "source": [
    "df.drop('Zone', axis = 1, inplace = True)"
   ]
  },
  {
   "cell_type": "code",
   "execution_count": 13,
   "id": "f2b0adfb",
   "metadata": {},
   "outputs": [
    {
     "name": "stdout",
     "output_type": "stream",
     "text": [
      "<class 'pandas.core.frame.DataFrame'>\n",
      "Int64Index: 236431 entries, 0 to 337791\n",
      "Data columns (total 4 columns):\n",
      " #   Column     Non-Null Count   Dtype         \n",
      "---  ------     --------------   -----         \n",
      " 0   Date       236431 non-null  datetime64[ns]\n",
      " 1   Depthm     236431 non-null  int64         \n",
      " 2   WaterTemp  236431 non-null  float64       \n",
      " 3   O2ml       236431 non-null  float64       \n",
      "dtypes: datetime64[ns](1), float64(2), int64(1)\n",
      "memory usage: 9.0 MB\n"
     ]
    }
   ],
   "source": [
    "df.info()"
   ]
  },
  {
   "cell_type": "code",
   "execution_count": 14,
   "id": "bac72e6c",
   "metadata": {},
   "outputs": [
    {
     "data": {
      "text/html": [
       "<div>\n",
       "<style scoped>\n",
       "    .dataframe tbody tr th:only-of-type {\n",
       "        vertical-align: middle;\n",
       "    }\n",
       "\n",
       "    .dataframe tbody tr th {\n",
       "        vertical-align: top;\n",
       "    }\n",
       "\n",
       "    .dataframe thead th {\n",
       "        text-align: right;\n",
       "    }\n",
       "</style>\n",
       "<table border=\"1\" class=\"dataframe\">\n",
       "  <thead>\n",
       "    <tr style=\"text-align: right;\">\n",
       "      <th></th>\n",
       "      <th>Date</th>\n",
       "      <th>Depthm</th>\n",
       "      <th>WaterTemp</th>\n",
       "      <th>O2ml</th>\n",
       "    </tr>\n",
       "  </thead>\n",
       "  <tbody>\n",
       "    <tr>\n",
       "      <th>0</th>\n",
       "      <td>1959-08-16</td>\n",
       "      <td>0</td>\n",
       "      <td>25.38</td>\n",
       "      <td>4.72</td>\n",
       "    </tr>\n",
       "    <tr>\n",
       "      <th>1</th>\n",
       "      <td>1959-08-16</td>\n",
       "      <td>1</td>\n",
       "      <td>25.38</td>\n",
       "      <td>4.72</td>\n",
       "    </tr>\n",
       "    <tr>\n",
       "      <th>2</th>\n",
       "      <td>1959-08-16</td>\n",
       "      <td>10</td>\n",
       "      <td>25.35</td>\n",
       "      <td>4.14</td>\n",
       "    </tr>\n",
       "    <tr>\n",
       "      <th>3</th>\n",
       "      <td>1959-08-16</td>\n",
       "      <td>20</td>\n",
       "      <td>23.50</td>\n",
       "      <td>4.26</td>\n",
       "    </tr>\n",
       "    <tr>\n",
       "      <th>4</th>\n",
       "      <td>1959-08-16</td>\n",
       "      <td>30</td>\n",
       "      <td>21.45</td>\n",
       "      <td>4.57</td>\n",
       "    </tr>\n",
       "  </tbody>\n",
       "</table>\n",
       "</div>"
      ],
      "text/plain": [
       "        Date  Depthm  WaterTemp  O2ml\n",
       "0 1959-08-16       0      25.38  4.72\n",
       "1 1959-08-16       1      25.38  4.72\n",
       "2 1959-08-16      10      25.35  4.14\n",
       "3 1959-08-16      20      23.50  4.26\n",
       "4 1959-08-16      30      21.45  4.57"
      ]
     },
     "execution_count": 14,
     "metadata": {},
     "output_type": "execute_result"
    }
   ],
   "source": [
    "df.head()"
   ]
  },
  {
   "cell_type": "code",
   "execution_count": 15,
   "id": "6ed575cf",
   "metadata": {},
   "outputs": [
    {
     "data": {
      "image/png": "[encoded data removed]",
      "text/plain": [
       "<Figure size 1152x576 with 1 Axes>"
      ]
     },
     "metadata": {
      "needs_background": "light"
     },
     "output_type": "display_data"
    }
   ],
   "source": [
    "fig, ax = plt.subplots(figsize=(16,8))\n",
    "ax = sb.boxplot(data=df, orient=\"h\", palette=\"Set2\")"
   ]
  },
  {
   "cell_type": "code",
   "execution_count": 16,
   "id": "46c4a353",
   "metadata": {},
   "outputs": [
    {
     "data": {
      "text/plain": [
       "<AxesSubplot:>"
      ]
     },
     "execution_count": 16,
     "metadata": {},
     "output_type": "execute_result"
    },
    {
     "data": {
      "image/png": "[encoded data removed]",
      "text/plain": [
       "<Figure size 432x360 with 1 Axes>"
      ]
     },
     "metadata": {
      "needs_background": "light"
     },
     "output_type": "display_data"
    }
   ],
   "source": [
    "df.plot(x_compat=True, rot=90, figsize=(6, 5))"
   ]
  },
  {
   "cell_type": "code",
   "execution_count": 17,
   "id": "a23fbe77",
   "metadata": {},
   "outputs": [
    {
     "data": {
      "text/plain": [
       "(236431, 4)"
      ]
     },
     "execution_count": 17,
     "metadata": {},
     "output_type": "execute_result"
    }
   ],
   "source": [
    "df.shape"
   ]
  },
  {
   "cell_type": "code",
   "execution_count": 18,
   "id": "029a5741",
   "metadata": {},
   "outputs": [
    {
     "data": {
      "text/plain": [
       "Date          3080\n",
       "Depthm         201\n",
       "WaterTemp    11518\n",
       "O2ml          5376\n",
       "dtype: int64"
      ]
     },
     "execution_count": 18,
     "metadata": {},
     "output_type": "execute_result"
    }
   ],
   "source": [
    "df.nunique()"
   ]
  },
  {
   "cell_type": "markdown",
   "id": "77ff2181",
   "metadata": {},
   "source": [
    "#### Pošto skup podataka ima 236431 redova, a rezultat nunique vraća da postoji 3080 različitih Date zaključujemo da postoje duplikati. "
   ]
  },
  {
   "cell_type": "markdown",
   "id": "0d879466",
   "metadata": {},
   "source": [
    "#### Izdvajanjem duplikata, može se primetiti da oni predstavljaju merenja u istom danu na različitim dubinama."
   ]
  },
  {
   "cell_type": "code",
   "execution_count": 19,
   "id": "1ff8bff0",
   "metadata": {},
   "outputs": [
    {
     "data": {
      "text/html": [
       "<div>\n",
       "<style scoped>\n",
       "    .dataframe tbody tr th:only-of-type {\n",
       "        vertical-align: middle;\n",
       "    }\n",
       "\n",
       "    .dataframe tbody tr th {\n",
       "        vertical-align: top;\n",
       "    }\n",
       "\n",
       "    .dataframe thead th {\n",
       "        text-align: right;\n",
       "    }\n",
       "</style>\n",
       "<table border=\"1\" class=\"dataframe\">\n",
       "  <thead>\n",
       "    <tr style=\"text-align: right;\">\n",
       "      <th></th>\n",
       "      <th>Date</th>\n",
       "      <th>Depthm</th>\n",
       "      <th>WaterTemp</th>\n",
       "      <th>O2ml</th>\n",
       "    </tr>\n",
       "  </thead>\n",
       "  <tbody>\n",
       "    <tr>\n",
       "      <th>0</th>\n",
       "      <td>1959-08-16</td>\n",
       "      <td>0</td>\n",
       "      <td>25.38</td>\n",
       "      <td>4.72</td>\n",
       "    </tr>\n",
       "    <tr>\n",
       "      <th>1</th>\n",
       "      <td>1959-08-16</td>\n",
       "      <td>1</td>\n",
       "      <td>25.38</td>\n",
       "      <td>4.72</td>\n",
       "    </tr>\n",
       "    <tr>\n",
       "      <th>2</th>\n",
       "      <td>1959-08-16</td>\n",
       "      <td>10</td>\n",
       "      <td>25.35</td>\n",
       "      <td>4.14</td>\n",
       "    </tr>\n",
       "    <tr>\n",
       "      <th>3</th>\n",
       "      <td>1959-08-16</td>\n",
       "      <td>20</td>\n",
       "      <td>23.50</td>\n",
       "      <td>4.26</td>\n",
       "    </tr>\n",
       "    <tr>\n",
       "      <th>4</th>\n",
       "      <td>1959-08-16</td>\n",
       "      <td>30</td>\n",
       "      <td>21.45</td>\n",
       "      <td>4.57</td>\n",
       "    </tr>\n",
       "    <tr>\n",
       "      <th>5</th>\n",
       "      <td>1959-08-16</td>\n",
       "      <td>34</td>\n",
       "      <td>20.58</td>\n",
       "      <td>4.74</td>\n",
       "    </tr>\n",
       "    <tr>\n",
       "      <th>6</th>\n",
       "      <td>1959-08-16</td>\n",
       "      <td>44</td>\n",
       "      <td>19.94</td>\n",
       "      <td>4.69</td>\n",
       "    </tr>\n",
       "    <tr>\n",
       "      <th>7</th>\n",
       "      <td>1959-08-16</td>\n",
       "      <td>50</td>\n",
       "      <td>19.30</td>\n",
       "      <td>5.04</td>\n",
       "    </tr>\n",
       "    <tr>\n",
       "      <th>8</th>\n",
       "      <td>1959-08-16</td>\n",
       "      <td>58</td>\n",
       "      <td>18.36</td>\n",
       "      <td>5.39</td>\n",
       "    </tr>\n",
       "    <tr>\n",
       "      <th>9</th>\n",
       "      <td>1959-08-16</td>\n",
       "      <td>73</td>\n",
       "      <td>16.83</td>\n",
       "      <td>4.21</td>\n",
       "    </tr>\n",
       "    <tr>\n",
       "      <th>10</th>\n",
       "      <td>1959-08-16</td>\n",
       "      <td>75</td>\n",
       "      <td>16.56</td>\n",
       "      <td>4.11</td>\n",
       "    </tr>\n",
       "    <tr>\n",
       "      <th>11</th>\n",
       "      <td>1959-08-16</td>\n",
       "      <td>100</td>\n",
       "      <td>13.37</td>\n",
       "      <td>3.14</td>\n",
       "    </tr>\n",
       "    <tr>\n",
       "      <th>12</th>\n",
       "      <td>1959-08-16</td>\n",
       "      <td>115</td>\n",
       "      <td>12.10</td>\n",
       "      <td>2.44</td>\n",
       "    </tr>\n",
       "    <tr>\n",
       "      <th>13</th>\n",
       "      <td>1959-08-16</td>\n",
       "      <td>125</td>\n",
       "      <td>11.79</td>\n",
       "      <td>2.02</td>\n",
       "    </tr>\n",
       "    <tr>\n",
       "      <th>14</th>\n",
       "      <td>1959-08-16</td>\n",
       "      <td>150</td>\n",
       "      <td>11.25</td>\n",
       "      <td>1.24</td>\n",
       "    </tr>\n",
       "    <tr>\n",
       "      <th>15</th>\n",
       "      <td>1959-08-16</td>\n",
       "      <td>191</td>\n",
       "      <td>11.50</td>\n",
       "      <td>0.22</td>\n",
       "    </tr>\n",
       "    <tr>\n",
       "      <th>16</th>\n",
       "      <td>1959-08-16</td>\n",
       "      <td>200</td>\n",
       "      <td>11.46</td>\n",
       "      <td>0.24</td>\n",
       "    </tr>\n",
       "    <tr>\n",
       "      <th>20</th>\n",
       "      <td>1959-08-18</td>\n",
       "      <td>0</td>\n",
       "      <td>22.66</td>\n",
       "      <td>4.88</td>\n",
       "    </tr>\n",
       "    <tr>\n",
       "      <th>21</th>\n",
       "      <td>1959-08-18</td>\n",
       "      <td>1</td>\n",
       "      <td>22.66</td>\n",
       "      <td>4.88</td>\n",
       "    </tr>\n",
       "    <tr>\n",
       "      <th>22</th>\n",
       "      <td>1959-08-18</td>\n",
       "      <td>9</td>\n",
       "      <td>22.64</td>\n",
       "      <td>4.64</td>\n",
       "    </tr>\n",
       "  </tbody>\n",
       "</table>\n",
       "</div>"
      ],
      "text/plain": [
       "         Date  Depthm  WaterTemp  O2ml\n",
       "0  1959-08-16       0      25.38  4.72\n",
       "1  1959-08-16       1      25.38  4.72\n",
       "2  1959-08-16      10      25.35  4.14\n",
       "3  1959-08-16      20      23.50  4.26\n",
       "4  1959-08-16      30      21.45  4.57\n",
       "5  1959-08-16      34      20.58  4.74\n",
       "6  1959-08-16      44      19.94  4.69\n",
       "7  1959-08-16      50      19.30  5.04\n",
       "8  1959-08-16      58      18.36  5.39\n",
       "9  1959-08-16      73      16.83  4.21\n",
       "10 1959-08-16      75      16.56  4.11\n",
       "11 1959-08-16     100      13.37  3.14\n",
       "12 1959-08-16     115      12.10  2.44\n",
       "13 1959-08-16     125      11.79  2.02\n",
       "14 1959-08-16     150      11.25  1.24\n",
       "15 1959-08-16     191      11.50  0.22\n",
       "16 1959-08-16     200      11.46  0.24\n",
       "20 1959-08-18       0      22.66  4.88\n",
       "21 1959-08-18       1      22.66  4.88\n",
       "22 1959-08-18       9      22.64  4.64"
      ]
     },
     "execution_count": 19,
     "metadata": {},
     "output_type": "execute_result"
    }
   ],
   "source": [
    "duplicate_dates = df.duplicated(subset=['Date'], keep=False)\n",
    "df = df.loc[duplicate_dates.values]\n",
    "df.head(20)"
   ]
  },
  {
   "cell_type": "markdown",
   "id": "7c325a0e",
   "metadata": {},
   "source": [
    "#### Grupisanjem po datumu i korišćenjem median metode, dobija se podatak o temperaturi vode i koncentraciji O2 za određeni dan."
   ]
  },
  {
   "cell_type": "code",
   "execution_count": 20,
   "id": "f985e6fd",
   "metadata": {},
   "outputs": [],
   "source": [
    "#df = df.groupby('Date').mean().reset_index()\n",
    "df = df.groupby('Date')[['WaterTemp', 'O2ml']].median().reset_index()"
   ]
  },
  {
   "cell_type": "markdown",
   "id": "04ecafb7",
   "metadata": {},
   "source": [
    "#### Nakon grupisanja izbačeni su duplikati i obrisane suvišne kolone"
   ]
  },
  {
   "cell_type": "code",
   "execution_count": 21,
   "id": "2766922e",
   "metadata": {},
   "outputs": [
    {
     "data": {
      "text/html": [
       "<div>\n",
       "<style scoped>\n",
       "    .dataframe tbody tr th:only-of-type {\n",
       "        vertical-align: middle;\n",
       "    }\n",
       "\n",
       "    .dataframe tbody tr th {\n",
       "        vertical-align: top;\n",
       "    }\n",
       "\n",
       "    .dataframe thead th {\n",
       "        text-align: right;\n",
       "    }\n",
       "</style>\n",
       "<table border=\"1\" class=\"dataframe\">\n",
       "  <thead>\n",
       "    <tr style=\"text-align: right;\">\n",
       "      <th></th>\n",
       "      <th>Date</th>\n",
       "      <th>WaterTemp</th>\n",
       "      <th>O2ml</th>\n",
       "    </tr>\n",
       "  </thead>\n",
       "  <tbody>\n",
       "    <tr>\n",
       "      <th>0</th>\n",
       "      <td>1959-08-16</td>\n",
       "      <td>18.360</td>\n",
       "      <td>4.210</td>\n",
       "    </tr>\n",
       "    <tr>\n",
       "      <th>1</th>\n",
       "      <td>1959-08-18</td>\n",
       "      <td>17.140</td>\n",
       "      <td>4.655</td>\n",
       "    </tr>\n",
       "    <tr>\n",
       "      <th>2</th>\n",
       "      <td>1959-08-19</td>\n",
       "      <td>16.640</td>\n",
       "      <td>5.120</td>\n",
       "    </tr>\n",
       "    <tr>\n",
       "      <th>3</th>\n",
       "      <td>1959-08-23</td>\n",
       "      <td>15.905</td>\n",
       "      <td>4.130</td>\n",
       "    </tr>\n",
       "    <tr>\n",
       "      <th>4</th>\n",
       "      <td>1959-08-26</td>\n",
       "      <td>16.950</td>\n",
       "      <td>3.765</td>\n",
       "    </tr>\n",
       "  </tbody>\n",
       "</table>\n",
       "</div>"
      ],
      "text/plain": [
       "        Date  WaterTemp   O2ml\n",
       "0 1959-08-16     18.360  4.210\n",
       "1 1959-08-18     17.140  4.655\n",
       "2 1959-08-19     16.640  5.120\n",
       "3 1959-08-23     15.905  4.130\n",
       "4 1959-08-26     16.950  3.765"
      ]
     },
     "execution_count": 21,
     "metadata": {},
     "output_type": "execute_result"
    }
   ],
   "source": [
    "df.sort_values('Date').head(5)"
   ]
  },
  {
   "cell_type": "markdown",
   "id": "c531e315",
   "metadata": {},
   "source": [
    "#### Kako bi se dobili podaci za određeni mesec izvršiće se grupisanje po datumu nakon što se izbaci dan iz datuma"
   ]
  },
  {
   "cell_type": "code",
   "execution_count": 22,
   "id": "2ef06742",
   "metadata": {},
   "outputs": [],
   "source": [
    "df['Date'] = df['Date'].dt.strftime('%Y-%m')"
   ]
  },
  {
   "cell_type": "code",
   "execution_count": 23,
   "id": "974fbe38",
   "metadata": {},
   "outputs": [],
   "source": [
    "#df = df.groupby('Date').mean().reset_index()\n",
    "df = df.groupby('Date')[['WaterTemp', 'O2ml']].median().reset_index()"
   ]
  },
  {
   "cell_type": "code",
   "execution_count": 24,
   "id": "eb564b52",
   "metadata": {},
   "outputs": [
    {
     "data": {
      "text/html": [
       "<div>\n",
       "<style scoped>\n",
       "    .dataframe tbody tr th:only-of-type {\n",
       "        vertical-align: middle;\n",
       "    }\n",
       "\n",
       "    .dataframe tbody tr th {\n",
       "        vertical-align: top;\n",
       "    }\n",
       "\n",
       "    .dataframe thead th {\n",
       "        text-align: right;\n",
       "    }\n",
       "</style>\n",
       "<table border=\"1\" class=\"dataframe\">\n",
       "  <thead>\n",
       "    <tr style=\"text-align: right;\">\n",
       "      <th></th>\n",
       "      <th>Date</th>\n",
       "      <th>WaterTemp</th>\n",
       "      <th>O2ml</th>\n",
       "    </tr>\n",
       "  </thead>\n",
       "  <tbody>\n",
       "    <tr>\n",
       "      <th>0</th>\n",
       "      <td>1959-08</td>\n",
       "      <td>16.950</td>\n",
       "      <td>4.2100</td>\n",
       "    </tr>\n",
       "    <tr>\n",
       "      <th>1</th>\n",
       "      <td>1969-01</td>\n",
       "      <td>13.265</td>\n",
       "      <td>5.5950</td>\n",
       "    </tr>\n",
       "    <tr>\n",
       "      <th>2</th>\n",
       "      <td>1969-02</td>\n",
       "      <td>12.380</td>\n",
       "      <td>5.7100</td>\n",
       "    </tr>\n",
       "    <tr>\n",
       "      <th>3</th>\n",
       "      <td>1969-03</td>\n",
       "      <td>15.535</td>\n",
       "      <td>5.4900</td>\n",
       "    </tr>\n",
       "    <tr>\n",
       "      <th>4</th>\n",
       "      <td>1969-04</td>\n",
       "      <td>12.070</td>\n",
       "      <td>5.3125</td>\n",
       "    </tr>\n",
       "  </tbody>\n",
       "</table>\n",
       "</div>"
      ],
      "text/plain": [
       "      Date  WaterTemp    O2ml\n",
       "0  1959-08     16.950  4.2100\n",
       "1  1969-01     13.265  5.5950\n",
       "2  1969-02     12.380  5.7100\n",
       "3  1969-03     15.535  5.4900\n",
       "4  1969-04     12.070  5.3125"
      ]
     },
     "execution_count": 24,
     "metadata": {},
     "output_type": "execute_result"
    }
   ],
   "source": [
    "df.head()"
   ]
  },
  {
   "cell_type": "code",
   "execution_count": 25,
   "id": "2123a3da",
   "metadata": {},
   "outputs": [],
   "source": [
    "df.to_csv('processed_datasets/WaterTemp_O2ml.csv', index = False)"
   ]
  }
 ],
 "metadata": {
  "kernelspec": {
   "display_name": "Python 3 (ipykernel)",
   "language": "python",
   "name": "python3"
  },
  "language_info": {
   "codemirror_mode": {
    "name": "ipython",
    "version": 3
   },
   "file_extension": ".py",
   "mimetype": "text/x-python",
   "name": "python",
   "nbconvert_exporter": "python",
   "pygments_lexer": "ipython3",
   "version": "3.8.3"
  }
 },
 "nbformat": 4,
 "nbformat_minor": 5
}
