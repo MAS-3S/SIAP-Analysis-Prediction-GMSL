{
 "cells": [
  {
   "cell_type": "markdown",
   "id": "072554cb",
   "metadata": {},
   "source": [
    "# GMSL Analysis and Prediction "
   ]
  },
  {
   "cell_type": "markdown",
   "id": "9d2f723d",
   "metadata": {},
   "source": [
    "## Water Dataset (https://www.kaggle.com/mathsian/water-temperature)"
   ]
  },
  {
   "cell_type": "markdown",
   "id": "980ea798",
   "metadata": {},
   "source": [
    "Podaci u ovom skupu podataka predstavljaju uzorke vode sakupljene iz okeana između 1959. i 2020. godine. Uzećemo u obzir \n",
    "podatke prikupljane na dubinama do 200m (Photic)."
   ]
  },
  {
   "cell_type": "markdown",
   "id": "36393741",
   "metadata": {},
   "source": [
    "Podaci koji su od interesa za naš rad su:\n",
    "* T_degC - temperatura vode izražena u celzijusima \n",
    "* O2ml_L - zasićenost vode kiseonikom"
   ]
  },
  {
   "cell_type": "code",
   "execution_count": 45,
   "id": "1b4432a4",
   "metadata": {},
   "outputs": [],
   "source": [
    "import pandas as pd\n",
    "import seaborn as sb\n",
    "import matplotlib.pyplot as plt"
   ]
  },
  {
   "cell_type": "code",
   "execution_count": 46,
   "id": "132eed5c",
   "metadata": {},
   "outputs": [],
   "source": [
    "df = pd.read_csv('original_datasets/water.csv', delimiter=',')"
   ]
  },
  {
   "cell_type": "code",
   "execution_count": 47,
   "id": "d3ec8429",
   "metadata": {},
   "outputs": [
    {
     "data": {
      "text/html": [
       "<div>\n",
       "<style scoped>\n",
       "    .dataframe tbody tr th:only-of-type {\n",
       "        vertical-align: middle;\n",
       "    }\n",
       "\n",
       "    .dataframe tbody tr th {\n",
       "        vertical-align: top;\n",
       "    }\n",
       "\n",
       "    .dataframe thead th {\n",
       "        text-align: right;\n",
       "    }\n",
       "</style>\n",
       "<table border=\"1\" class=\"dataframe\">\n",
       "  <thead>\n",
       "    <tr style=\"text-align: right;\">\n",
       "      <th></th>\n",
       "      <th>Sta_ID</th>\n",
       "      <th>Date</th>\n",
       "      <th>Quarter</th>\n",
       "      <th>Lat_Deg</th>\n",
       "      <th>Depthm</th>\n",
       "      <th>Zone</th>\n",
       "      <th>T_degC</th>\n",
       "      <th>PO4uM</th>\n",
       "      <th>SiO3uM</th>\n",
       "      <th>NO2uM</th>\n",
       "      <th>NO3uM</th>\n",
       "      <th>Salnty</th>\n",
       "      <th>O2ml_L</th>\n",
       "    </tr>\n",
       "  </thead>\n",
       "  <tbody>\n",
       "    <tr>\n",
       "      <th>0</th>\n",
       "      <td>130.0 050.0</td>\n",
       "      <td>08/16/1959</td>\n",
       "      <td>3</td>\n",
       "      <td>25</td>\n",
       "      <td>0</td>\n",
       "      <td>Photic</td>\n",
       "      <td>25.38</td>\n",
       "      <td>0.36</td>\n",
       "      <td>1.0</td>\n",
       "      <td>0.0</td>\n",
       "      <td>0.9</td>\n",
       "      <td>34.150</td>\n",
       "      <td>4.72</td>\n",
       "    </tr>\n",
       "    <tr>\n",
       "      <th>1</th>\n",
       "      <td>130.0 050.0</td>\n",
       "      <td>08/16/1959</td>\n",
       "      <td>3</td>\n",
       "      <td>25</td>\n",
       "      <td>1</td>\n",
       "      <td>Photic</td>\n",
       "      <td>25.38</td>\n",
       "      <td>0.36</td>\n",
       "      <td>1.0</td>\n",
       "      <td>0.0</td>\n",
       "      <td>0.9</td>\n",
       "      <td>34.150</td>\n",
       "      <td>4.72</td>\n",
       "    </tr>\n",
       "    <tr>\n",
       "      <th>2</th>\n",
       "      <td>130.0 050.0</td>\n",
       "      <td>08/16/1959</td>\n",
       "      <td>3</td>\n",
       "      <td>25</td>\n",
       "      <td>10</td>\n",
       "      <td>Photic</td>\n",
       "      <td>25.35</td>\n",
       "      <td>0.41</td>\n",
       "      <td>1.0</td>\n",
       "      <td>0.0</td>\n",
       "      <td>0.8</td>\n",
       "      <td>34.180</td>\n",
       "      <td>4.14</td>\n",
       "    </tr>\n",
       "    <tr>\n",
       "      <th>3</th>\n",
       "      <td>130.0 050.0</td>\n",
       "      <td>08/16/1959</td>\n",
       "      <td>3</td>\n",
       "      <td>25</td>\n",
       "      <td>20</td>\n",
       "      <td>Photic</td>\n",
       "      <td>23.50</td>\n",
       "      <td>0.42</td>\n",
       "      <td>1.0</td>\n",
       "      <td>0.0</td>\n",
       "      <td>1.2</td>\n",
       "      <td>34.146</td>\n",
       "      <td>4.26</td>\n",
       "    </tr>\n",
       "    <tr>\n",
       "      <th>4</th>\n",
       "      <td>130.0 050.0</td>\n",
       "      <td>08/16/1959</td>\n",
       "      <td>3</td>\n",
       "      <td>25</td>\n",
       "      <td>30</td>\n",
       "      <td>Photic</td>\n",
       "      <td>21.45</td>\n",
       "      <td>0.43</td>\n",
       "      <td>1.0</td>\n",
       "      <td>0.0</td>\n",
       "      <td>1.5</td>\n",
       "      <td>34.117</td>\n",
       "      <td>4.57</td>\n",
       "    </tr>\n",
       "  </tbody>\n",
       "</table>\n",
       "</div>"
      ],
      "text/plain": [
       "        Sta_ID        Date  Quarter  Lat_Deg  Depthm    Zone  T_degC  PO4uM  \\\n",
       "0  130.0 050.0  08/16/1959        3       25       0  Photic   25.38   0.36   \n",
       "1  130.0 050.0  08/16/1959        3       25       1  Photic   25.38   0.36   \n",
       "2  130.0 050.0  08/16/1959        3       25      10  Photic   25.35   0.41   \n",
       "3  130.0 050.0  08/16/1959        3       25      20  Photic   23.50   0.42   \n",
       "4  130.0 050.0  08/16/1959        3       25      30  Photic   21.45   0.43   \n",
       "\n",
       "   SiO3uM  NO2uM  NO3uM  Salnty  O2ml_L  \n",
       "0     1.0    0.0    0.9  34.150    4.72  \n",
       "1     1.0    0.0    0.9  34.150    4.72  \n",
       "2     1.0    0.0    0.8  34.180    4.14  \n",
       "3     1.0    0.0    1.2  34.146    4.26  \n",
       "4     1.0    0.0    1.5  34.117    4.57  "
      ]
     },
     "execution_count": 47,
     "metadata": {},
     "output_type": "execute_result"
    }
   ],
   "source": [
    "df.head()"
   ]
  },
  {
   "cell_type": "code",
   "execution_count": 48,
   "id": "31ec2011",
   "metadata": {
    "scrolled": true
   },
   "outputs": [
    {
     "data": {
      "text/plain": [
       "Index(['Sta_ID', 'Date', 'Quarter', 'Lat_Deg', 'Depthm', 'Zone', 'T_degC',\n",
       "       'PO4uM', 'SiO3uM', 'NO2uM', 'NO3uM', 'Salnty', 'O2ml_L'],\n",
       "      dtype='object')"
      ]
     },
     "execution_count": 48,
     "metadata": {},
     "output_type": "execute_result"
    }
   ],
   "source": [
    "df.columns"
   ]
  },
  {
   "cell_type": "code",
   "execution_count": 49,
   "id": "85c5e398",
   "metadata": {},
   "outputs": [
    {
     "name": "stderr",
     "output_type": "stream",
     "text": [
      "C:\\Users\\STEFAN~1\\AppData\\Local\\Temp/ipykernel_12024/3390915376.py:1: FutureWarning: Dropping of nuisance columns in DataFrame reductions (with 'numeric_only=None') is deprecated; in a future version this will raise TypeError.  Select only valid columns before calling the reduction.\n",
      "  df.std()\n"
     ]
    },
    {
     "data": {
      "text/plain": [
       "Quarter      1.124341\n",
       "Lat_Deg      2.069323\n",
       "Depthm     214.807837\n",
       "T_degC       3.820133\n",
       "PO4uM        0.998076\n",
       "SiO3uM      26.871026\n",
       "NO2uM        0.102860\n",
       "NO3uM       14.576561\n",
       "Salnty       0.414828\n",
       "O2ml_L       1.991083\n",
       "dtype: float64"
      ]
     },
     "execution_count": 49,
     "metadata": {},
     "output_type": "execute_result"
    }
   ],
   "source": [
    "df.std()"
   ]
  },
  {
   "cell_type": "markdown",
   "id": "177b0f37",
   "metadata": {},
   "source": [
    "#### Uklanjanje kolona koje nisu od interesa i kod kojih je standardna devijacija mala. Kolone 'Depthm' i 'Zone' se ostavljaju radi daljih razmatranja."
   ]
  },
  {
   "cell_type": "markdown",
   "id": "12738a3c",
   "metadata": {},
   "source": [
    "* Depthm - dubina na kojoj je izvršeno merenje\n",
    "* Zone - zona u kojoj je izvršeno merenje (Photic/Disphotic)"
   ]
  },
  {
   "cell_type": "code",
   "execution_count": 50,
   "id": "de01b02e",
   "metadata": {},
   "outputs": [],
   "source": [
    "df.drop(['Sta_ID', 'Quarter', 'Lat_Deg', 'PO4uM',\n",
    "         'NO2uM', 'Salnty'], axis = 1, inplace = True)"
   ]
  },
  {
   "cell_type": "code",
   "execution_count": 51,
   "id": "6be1010d",
   "metadata": {},
   "outputs": [],
   "source": [
    "df.rename(columns={'T_degC':'WaterTemp', 'O2ml_L':'O2ml', 'SiO3uM':'SiO3', 'NO3uM':'NO3'}, inplace = True)"
   ]
  },
  {
   "cell_type": "code",
   "execution_count": 52,
   "id": "95175358",
   "metadata": {},
   "outputs": [
    {
     "data": {
      "text/html": [
       "<div>\n",
       "<style scoped>\n",
       "    .dataframe tbody tr th:only-of-type {\n",
       "        vertical-align: middle;\n",
       "    }\n",
       "\n",
       "    .dataframe tbody tr th {\n",
       "        vertical-align: top;\n",
       "    }\n",
       "\n",
       "    .dataframe thead th {\n",
       "        text-align: right;\n",
       "    }\n",
       "</style>\n",
       "<table border=\"1\" class=\"dataframe\">\n",
       "  <thead>\n",
       "    <tr style=\"text-align: right;\">\n",
       "      <th></th>\n",
       "      <th>Depthm</th>\n",
       "      <th>WaterTemp</th>\n",
       "      <th>SiO3</th>\n",
       "      <th>NO3</th>\n",
       "      <th>O2ml</th>\n",
       "    </tr>\n",
       "  </thead>\n",
       "  <tbody>\n",
       "    <tr>\n",
       "      <th>count</th>\n",
       "      <td>337792.000000</td>\n",
       "      <td>337792.000000</td>\n",
       "      <td>337792.000000</td>\n",
       "      <td>337792.000000</td>\n",
       "      <td>337792.000000</td>\n",
       "    </tr>\n",
       "    <tr>\n",
       "      <th>mean</th>\n",
       "      <td>170.392887</td>\n",
       "      <td>11.185802</td>\n",
       "      <td>26.308965</td>\n",
       "      <td>17.234587</td>\n",
       "      <td>3.728877</td>\n",
       "    </tr>\n",
       "    <tr>\n",
       "      <th>std</th>\n",
       "      <td>214.807837</td>\n",
       "      <td>3.820133</td>\n",
       "      <td>26.871026</td>\n",
       "      <td>14.576561</td>\n",
       "      <td>1.991083</td>\n",
       "    </tr>\n",
       "    <tr>\n",
       "      <th>min</th>\n",
       "      <td>0.000000</td>\n",
       "      <td>1.480000</td>\n",
       "      <td>0.000000</td>\n",
       "      <td>-0.400000</td>\n",
       "      <td>-0.010000</td>\n",
       "    </tr>\n",
       "    <tr>\n",
       "      <th>25%</th>\n",
       "      <td>40.000000</td>\n",
       "      <td>8.200000</td>\n",
       "      <td>3.100000</td>\n",
       "      <td>0.600000</td>\n",
       "      <td>1.990000</td>\n",
       "    </tr>\n",
       "    <tr>\n",
       "      <th>50%</th>\n",
       "      <td>103.000000</td>\n",
       "      <td>10.450000</td>\n",
       "      <td>18.000000</td>\n",
       "      <td>18.000000</td>\n",
       "      <td>3.930000</td>\n",
       "    </tr>\n",
       "    <tr>\n",
       "      <th>75%</th>\n",
       "      <td>250.000000</td>\n",
       "      <td>14.170000</td>\n",
       "      <td>41.600000</td>\n",
       "      <td>30.000000</td>\n",
       "      <td>5.680000</td>\n",
       "    </tr>\n",
       "    <tr>\n",
       "      <th>max</th>\n",
       "      <td>5351.000000</td>\n",
       "      <td>30.020000</td>\n",
       "      <td>186.000000</td>\n",
       "      <td>95.000000</td>\n",
       "      <td>11.130000</td>\n",
       "    </tr>\n",
       "  </tbody>\n",
       "</table>\n",
       "</div>"
      ],
      "text/plain": [
       "              Depthm      WaterTemp           SiO3            NO3  \\\n",
       "count  337792.000000  337792.000000  337792.000000  337792.000000   \n",
       "mean      170.392887      11.185802      26.308965      17.234587   \n",
       "std       214.807837       3.820133      26.871026      14.576561   \n",
       "min         0.000000       1.480000       0.000000      -0.400000   \n",
       "25%        40.000000       8.200000       3.100000       0.600000   \n",
       "50%       103.000000      10.450000      18.000000      18.000000   \n",
       "75%       250.000000      14.170000      41.600000      30.000000   \n",
       "max      5351.000000      30.020000     186.000000      95.000000   \n",
       "\n",
       "                O2ml  \n",
       "count  337792.000000  \n",
       "mean        3.728877  \n",
       "std         1.991083  \n",
       "min        -0.010000  \n",
       "25%         1.990000  \n",
       "50%         3.930000  \n",
       "75%         5.680000  \n",
       "max        11.130000  "
      ]
     },
     "execution_count": 52,
     "metadata": {},
     "output_type": "execute_result"
    }
   ],
   "source": [
    "df.describe()"
   ]
  },
  {
   "cell_type": "code",
   "execution_count": 53,
   "id": "6cf968bf",
   "metadata": {},
   "outputs": [
    {
     "name": "stdout",
     "output_type": "stream",
     "text": [
      "<class 'pandas.core.frame.DataFrame'>\n",
      "RangeIndex: 337792 entries, 0 to 337791\n",
      "Data columns (total 7 columns):\n",
      " #   Column     Non-Null Count   Dtype  \n",
      "---  ------     --------------   -----  \n",
      " 0   Date       337792 non-null  object \n",
      " 1   Depthm     337792 non-null  int64  \n",
      " 2   Zone       337792 non-null  object \n",
      " 3   WaterTemp  337792 non-null  float64\n",
      " 4   SiO3       337792 non-null  float64\n",
      " 5   NO3        337792 non-null  float64\n",
      " 6   O2ml       337792 non-null  float64\n",
      "dtypes: float64(4), int64(1), object(2)\n",
      "memory usage: 18.0+ MB\n"
     ]
    }
   ],
   "source": [
    "df.info()"
   ]
  },
  {
   "cell_type": "markdown",
   "id": "c4ce1f42",
   "metadata": {},
   "source": [
    "#### Konvertovanje datuma iz stringa u datetime"
   ]
  },
  {
   "cell_type": "code",
   "execution_count": 54,
   "id": "075f6a98",
   "metadata": {},
   "outputs": [],
   "source": [
    "df['Date'] = pd.to_datetime(df['Date'])"
   ]
  },
  {
   "cell_type": "markdown",
   "id": "5a4732a8",
   "metadata": {},
   "source": [
    "#### Uzimaju se u obzir podaci koji su prikupljani da dubinama do 200m (Photic) nakon čega se ta kolona briše"
   ]
  },
  {
   "cell_type": "code",
   "execution_count": 55,
   "id": "c3d9269d",
   "metadata": {},
   "outputs": [],
   "source": [
    "df = df[df['Zone'] == 'Photic']"
   ]
  },
  {
   "cell_type": "code",
   "execution_count": 56,
   "id": "5cbb7ca9",
   "metadata": {},
   "outputs": [
    {
     "data": {
      "text/plain": [
       "array(['Photic', 'Photic', 'Photic', ..., 'Photic', 'Photic', 'Photic'],\n",
       "      dtype=object)"
      ]
     },
     "execution_count": 56,
     "metadata": {},
     "output_type": "execute_result"
    }
   ],
   "source": [
    "df['Zone'].values"
   ]
  },
  {
   "cell_type": "code",
   "execution_count": 57,
   "id": "b072f779",
   "metadata": {},
   "outputs": [],
   "source": [
    "df.drop('Zone', axis = 1, inplace = True)"
   ]
  },
  {
   "cell_type": "code",
   "execution_count": 58,
   "id": "f2b0adfb",
   "metadata": {},
   "outputs": [
    {
     "name": "stdout",
     "output_type": "stream",
     "text": [
      "<class 'pandas.core.frame.DataFrame'>\n",
      "Int64Index: 236431 entries, 0 to 337791\n",
      "Data columns (total 6 columns):\n",
      " #   Column     Non-Null Count   Dtype         \n",
      "---  ------     --------------   -----         \n",
      " 0   Date       236431 non-null  datetime64[ns]\n",
      " 1   Depthm     236431 non-null  int64         \n",
      " 2   WaterTemp  236431 non-null  float64       \n",
      " 3   SiO3       236431 non-null  float64       \n",
      " 4   NO3        236431 non-null  float64       \n",
      " 5   O2ml       236431 non-null  float64       \n",
      "dtypes: datetime64[ns](1), float64(4), int64(1)\n",
      "memory usage: 12.6 MB\n"
     ]
    }
   ],
   "source": [
    "df.info()"
   ]
  },
  {
   "cell_type": "code",
   "execution_count": 59,
   "id": "bac72e6c",
   "metadata": {},
   "outputs": [
    {
     "data": {
      "text/html": [
       "<div>\n",
       "<style scoped>\n",
       "    .dataframe tbody tr th:only-of-type {\n",
       "        vertical-align: middle;\n",
       "    }\n",
       "\n",
       "    .dataframe tbody tr th {\n",
       "        vertical-align: top;\n",
       "    }\n",
       "\n",
       "    .dataframe thead th {\n",
       "        text-align: right;\n",
       "    }\n",
       "</style>\n",
       "<table border=\"1\" class=\"dataframe\">\n",
       "  <thead>\n",
       "    <tr style=\"text-align: right;\">\n",
       "      <th></th>\n",
       "      <th>Date</th>\n",
       "      <th>Depthm</th>\n",
       "      <th>WaterTemp</th>\n",
       "      <th>SiO3</th>\n",
       "      <th>NO3</th>\n",
       "      <th>O2ml</th>\n",
       "    </tr>\n",
       "  </thead>\n",
       "  <tbody>\n",
       "    <tr>\n",
       "      <th>0</th>\n",
       "      <td>1959-08-16</td>\n",
       "      <td>0</td>\n",
       "      <td>25.38</td>\n",
       "      <td>1.0</td>\n",
       "      <td>0.9</td>\n",
       "      <td>4.72</td>\n",
       "    </tr>\n",
       "    <tr>\n",
       "      <th>1</th>\n",
       "      <td>1959-08-16</td>\n",
       "      <td>1</td>\n",
       "      <td>25.38</td>\n",
       "      <td>1.0</td>\n",
       "      <td>0.9</td>\n",
       "      <td>4.72</td>\n",
       "    </tr>\n",
       "    <tr>\n",
       "      <th>2</th>\n",
       "      <td>1959-08-16</td>\n",
       "      <td>10</td>\n",
       "      <td>25.35</td>\n",
       "      <td>1.0</td>\n",
       "      <td>0.8</td>\n",
       "      <td>4.14</td>\n",
       "    </tr>\n",
       "    <tr>\n",
       "      <th>3</th>\n",
       "      <td>1959-08-16</td>\n",
       "      <td>20</td>\n",
       "      <td>23.50</td>\n",
       "      <td>1.0</td>\n",
       "      <td>1.2</td>\n",
       "      <td>4.26</td>\n",
       "    </tr>\n",
       "    <tr>\n",
       "      <th>4</th>\n",
       "      <td>1959-08-16</td>\n",
       "      <td>30</td>\n",
       "      <td>21.45</td>\n",
       "      <td>1.0</td>\n",
       "      <td>1.5</td>\n",
       "      <td>4.57</td>\n",
       "    </tr>\n",
       "  </tbody>\n",
       "</table>\n",
       "</div>"
      ],
      "text/plain": [
       "        Date  Depthm  WaterTemp  SiO3  NO3  O2ml\n",
       "0 1959-08-16       0      25.38   1.0  0.9  4.72\n",
       "1 1959-08-16       1      25.38   1.0  0.9  4.72\n",
       "2 1959-08-16      10      25.35   1.0  0.8  4.14\n",
       "3 1959-08-16      20      23.50   1.0  1.2  4.26\n",
       "4 1959-08-16      30      21.45   1.0  1.5  4.57"
      ]
     },
     "execution_count": 59,
     "metadata": {},
     "output_type": "execute_result"
    }
   ],
   "source": [
    "df.head()"
   ]
  },
  {
   "cell_type": "code",
   "execution_count": 60,
   "id": "6ed575cf",
   "metadata": {
    "scrolled": true
   },
   "outputs": [
    {
     "data": {
      "image/png": "[encoded data removed]",
      "text/plain": [
       "<Figure size 1152x576 with 1 Axes>"
      ]
     },
     "metadata": {
      "needs_background": "light"
     },
     "output_type": "display_data"
    }
   ],
   "source": [
    "fig, ax = plt.subplots(figsize=(16,8))\n",
    "ax = sb.boxplot(data=df, orient=\"h\", palette=\"Set2\")"
   ]
  },
  {
   "cell_type": "code",
   "execution_count": 61,
   "id": "a23fbe77",
   "metadata": {},
   "outputs": [
    {
     "data": {
      "text/plain": [
       "(236431, 6)"
      ]
     },
     "execution_count": 61,
     "metadata": {},
     "output_type": "execute_result"
    }
   ],
   "source": [
    "df.shape"
   ]
  },
  {
   "cell_type": "code",
   "execution_count": 62,
   "id": "029a5741",
   "metadata": {},
   "outputs": [
    {
     "data": {
      "text/plain": [
       "Date          3080\n",
       "Depthm         201\n",
       "WaterTemp    11518\n",
       "SiO3          4251\n",
       "NO3           3023\n",
       "O2ml          5376\n",
       "dtype: int64"
      ]
     },
     "execution_count": 62,
     "metadata": {},
     "output_type": "execute_result"
    }
   ],
   "source": [
    "df.nunique()"
   ]
  },
  {
   "cell_type": "markdown",
   "id": "77ff2181",
   "metadata": {},
   "source": [
    "#### Pošto skup podataka ima 236431 redova, a rezultat nunique vraća da postoji 3080 različitih Date zaključujemo da postoje duplikati. "
   ]
  },
  {
   "cell_type": "markdown",
   "id": "0d879466",
   "metadata": {},
   "source": [
    "#### Izdvajanjem duplikata, može se primetiti da oni predstavljaju merenja u istom danu na različitim dubinama."
   ]
  },
  {
   "cell_type": "code",
   "execution_count": 63,
   "id": "1ff8bff0",
   "metadata": {},
   "outputs": [
    {
     "data": {
      "text/html": [
       "<div>\n",
       "<style scoped>\n",
       "    .dataframe tbody tr th:only-of-type {\n",
       "        vertical-align: middle;\n",
       "    }\n",
       "\n",
       "    .dataframe tbody tr th {\n",
       "        vertical-align: top;\n",
       "    }\n",
       "\n",
       "    .dataframe thead th {\n",
       "        text-align: right;\n",
       "    }\n",
       "</style>\n",
       "<table border=\"1\" class=\"dataframe\">\n",
       "  <thead>\n",
       "    <tr style=\"text-align: right;\">\n",
       "      <th></th>\n",
       "      <th>Date</th>\n",
       "      <th>Depthm</th>\n",
       "      <th>WaterTemp</th>\n",
       "      <th>SiO3</th>\n",
       "      <th>NO3</th>\n",
       "      <th>O2ml</th>\n",
       "    </tr>\n",
       "  </thead>\n",
       "  <tbody>\n",
       "    <tr>\n",
       "      <th>0</th>\n",
       "      <td>1959-08-16</td>\n",
       "      <td>0</td>\n",
       "      <td>25.38</td>\n",
       "      <td>1.0</td>\n",
       "      <td>0.9</td>\n",
       "      <td>4.72</td>\n",
       "    </tr>\n",
       "    <tr>\n",
       "      <th>1</th>\n",
       "      <td>1959-08-16</td>\n",
       "      <td>1</td>\n",
       "      <td>25.38</td>\n",
       "      <td>1.0</td>\n",
       "      <td>0.9</td>\n",
       "      <td>4.72</td>\n",
       "    </tr>\n",
       "    <tr>\n",
       "      <th>2</th>\n",
       "      <td>1959-08-16</td>\n",
       "      <td>10</td>\n",
       "      <td>25.35</td>\n",
       "      <td>1.0</td>\n",
       "      <td>0.8</td>\n",
       "      <td>4.14</td>\n",
       "    </tr>\n",
       "    <tr>\n",
       "      <th>3</th>\n",
       "      <td>1959-08-16</td>\n",
       "      <td>20</td>\n",
       "      <td>23.50</td>\n",
       "      <td>1.0</td>\n",
       "      <td>1.2</td>\n",
       "      <td>4.26</td>\n",
       "    </tr>\n",
       "    <tr>\n",
       "      <th>4</th>\n",
       "      <td>1959-08-16</td>\n",
       "      <td>30</td>\n",
       "      <td>21.45</td>\n",
       "      <td>1.0</td>\n",
       "      <td>1.5</td>\n",
       "      <td>4.57</td>\n",
       "    </tr>\n",
       "    <tr>\n",
       "      <th>5</th>\n",
       "      <td>1959-08-16</td>\n",
       "      <td>34</td>\n",
       "      <td>20.58</td>\n",
       "      <td>1.0</td>\n",
       "      <td>1.6</td>\n",
       "      <td>4.74</td>\n",
       "    </tr>\n",
       "    <tr>\n",
       "      <th>6</th>\n",
       "      <td>1959-08-16</td>\n",
       "      <td>44</td>\n",
       "      <td>19.94</td>\n",
       "      <td>1.0</td>\n",
       "      <td>1.2</td>\n",
       "      <td>4.69</td>\n",
       "    </tr>\n",
       "    <tr>\n",
       "      <th>7</th>\n",
       "      <td>1959-08-16</td>\n",
       "      <td>50</td>\n",
       "      <td>19.30</td>\n",
       "      <td>1.0</td>\n",
       "      <td>1.1</td>\n",
       "      <td>5.04</td>\n",
       "    </tr>\n",
       "    <tr>\n",
       "      <th>8</th>\n",
       "      <td>1959-08-16</td>\n",
       "      <td>58</td>\n",
       "      <td>18.36</td>\n",
       "      <td>1.0</td>\n",
       "      <td>1.0</td>\n",
       "      <td>5.39</td>\n",
       "    </tr>\n",
       "    <tr>\n",
       "      <th>9</th>\n",
       "      <td>1959-08-16</td>\n",
       "      <td>73</td>\n",
       "      <td>16.83</td>\n",
       "      <td>2.0</td>\n",
       "      <td>1.1</td>\n",
       "      <td>4.21</td>\n",
       "    </tr>\n",
       "    <tr>\n",
       "      <th>10</th>\n",
       "      <td>1959-08-16</td>\n",
       "      <td>75</td>\n",
       "      <td>16.56</td>\n",
       "      <td>2.3</td>\n",
       "      <td>1.9</td>\n",
       "      <td>4.11</td>\n",
       "    </tr>\n",
       "    <tr>\n",
       "      <th>11</th>\n",
       "      <td>1959-08-16</td>\n",
       "      <td>100</td>\n",
       "      <td>13.37</td>\n",
       "      <td>9.6</td>\n",
       "      <td>13.7</td>\n",
       "      <td>3.14</td>\n",
       "    </tr>\n",
       "    <tr>\n",
       "      <th>12</th>\n",
       "      <td>1959-08-16</td>\n",
       "      <td>115</td>\n",
       "      <td>12.10</td>\n",
       "      <td>16.0</td>\n",
       "      <td>22.6</td>\n",
       "      <td>2.44</td>\n",
       "    </tr>\n",
       "    <tr>\n",
       "      <th>13</th>\n",
       "      <td>1959-08-16</td>\n",
       "      <td>125</td>\n",
       "      <td>11.79</td>\n",
       "      <td>19.7</td>\n",
       "      <td>24.6</td>\n",
       "      <td>2.02</td>\n",
       "    </tr>\n",
       "    <tr>\n",
       "      <th>14</th>\n",
       "      <td>1959-08-16</td>\n",
       "      <td>150</td>\n",
       "      <td>11.25</td>\n",
       "      <td>27.7</td>\n",
       "      <td>29.6</td>\n",
       "      <td>1.24</td>\n",
       "    </tr>\n",
       "    <tr>\n",
       "      <th>15</th>\n",
       "      <td>1959-08-16</td>\n",
       "      <td>191</td>\n",
       "      <td>11.50</td>\n",
       "      <td>37.0</td>\n",
       "      <td>37.8</td>\n",
       "      <td>0.22</td>\n",
       "    </tr>\n",
       "    <tr>\n",
       "      <th>16</th>\n",
       "      <td>1959-08-16</td>\n",
       "      <td>200</td>\n",
       "      <td>11.46</td>\n",
       "      <td>37.3</td>\n",
       "      <td>35.0</td>\n",
       "      <td>0.24</td>\n",
       "    </tr>\n",
       "    <tr>\n",
       "      <th>20</th>\n",
       "      <td>1959-08-18</td>\n",
       "      <td>0</td>\n",
       "      <td>22.66</td>\n",
       "      <td>2.0</td>\n",
       "      <td>0.3</td>\n",
       "      <td>4.88</td>\n",
       "    </tr>\n",
       "    <tr>\n",
       "      <th>21</th>\n",
       "      <td>1959-08-18</td>\n",
       "      <td>1</td>\n",
       "      <td>22.66</td>\n",
       "      <td>2.0</td>\n",
       "      <td>0.3</td>\n",
       "      <td>4.88</td>\n",
       "    </tr>\n",
       "    <tr>\n",
       "      <th>22</th>\n",
       "      <td>1959-08-18</td>\n",
       "      <td>9</td>\n",
       "      <td>22.64</td>\n",
       "      <td>2.0</td>\n",
       "      <td>0.3</td>\n",
       "      <td>4.64</td>\n",
       "    </tr>\n",
       "  </tbody>\n",
       "</table>\n",
       "</div>"
      ],
      "text/plain": [
       "         Date  Depthm  WaterTemp  SiO3   NO3  O2ml\n",
       "0  1959-08-16       0      25.38   1.0   0.9  4.72\n",
       "1  1959-08-16       1      25.38   1.0   0.9  4.72\n",
       "2  1959-08-16      10      25.35   1.0   0.8  4.14\n",
       "3  1959-08-16      20      23.50   1.0   1.2  4.26\n",
       "4  1959-08-16      30      21.45   1.0   1.5  4.57\n",
       "5  1959-08-16      34      20.58   1.0   1.6  4.74\n",
       "6  1959-08-16      44      19.94   1.0   1.2  4.69\n",
       "7  1959-08-16      50      19.30   1.0   1.1  5.04\n",
       "8  1959-08-16      58      18.36   1.0   1.0  5.39\n",
       "9  1959-08-16      73      16.83   2.0   1.1  4.21\n",
       "10 1959-08-16      75      16.56   2.3   1.9  4.11\n",
       "11 1959-08-16     100      13.37   9.6  13.7  3.14\n",
       "12 1959-08-16     115      12.10  16.0  22.6  2.44\n",
       "13 1959-08-16     125      11.79  19.7  24.6  2.02\n",
       "14 1959-08-16     150      11.25  27.7  29.6  1.24\n",
       "15 1959-08-16     191      11.50  37.0  37.8  0.22\n",
       "16 1959-08-16     200      11.46  37.3  35.0  0.24\n",
       "20 1959-08-18       0      22.66   2.0   0.3  4.88\n",
       "21 1959-08-18       1      22.66   2.0   0.3  4.88\n",
       "22 1959-08-18       9      22.64   2.0   0.3  4.64"
      ]
     },
     "execution_count": 63,
     "metadata": {},
     "output_type": "execute_result"
    }
   ],
   "source": [
    "duplicate_dates = df.duplicated(subset=['Date'], keep=False)\n",
    "df = df.loc[duplicate_dates.values]\n",
    "df.head(20)"
   ]
  },
  {
   "cell_type": "markdown",
   "id": "7c325a0e",
   "metadata": {},
   "source": [
    "#### Grupisanjem po datumu i korišćenjem median metode, dobija se podatak o temperaturi vode i koncentraciji O2 za određeni dan."
   ]
  },
  {
   "cell_type": "code",
   "execution_count": 64,
   "id": "f985e6fd",
   "metadata": {},
   "outputs": [],
   "source": [
    "df = df.groupby('Date')[['WaterTemp', 'O2ml', 'SiO3', 'NO3']].median().reset_index()"
   ]
  },
  {
   "cell_type": "markdown",
   "id": "04ecafb7",
   "metadata": {},
   "source": [
    "#### Nakon grupisanja izbačeni su duplikati i obrisane suvišne kolone"
   ]
  },
  {
   "cell_type": "code",
   "execution_count": 65,
   "id": "2766922e",
   "metadata": {},
   "outputs": [
    {
     "data": {
      "text/html": [
       "<div>\n",
       "<style scoped>\n",
       "    .dataframe tbody tr th:only-of-type {\n",
       "        vertical-align: middle;\n",
       "    }\n",
       "\n",
       "    .dataframe tbody tr th {\n",
       "        vertical-align: top;\n",
       "    }\n",
       "\n",
       "    .dataframe thead th {\n",
       "        text-align: right;\n",
       "    }\n",
       "</style>\n",
       "<table border=\"1\" class=\"dataframe\">\n",
       "  <thead>\n",
       "    <tr style=\"text-align: right;\">\n",
       "      <th></th>\n",
       "      <th>Date</th>\n",
       "      <th>WaterTemp</th>\n",
       "      <th>O2ml</th>\n",
       "      <th>SiO3</th>\n",
       "      <th>NO3</th>\n",
       "    </tr>\n",
       "  </thead>\n",
       "  <tbody>\n",
       "    <tr>\n",
       "      <th>0</th>\n",
       "      <td>1959-08-16</td>\n",
       "      <td>18.360</td>\n",
       "      <td>4.210</td>\n",
       "      <td>1.0</td>\n",
       "      <td>1.50</td>\n",
       "    </tr>\n",
       "    <tr>\n",
       "      <th>1</th>\n",
       "      <td>1959-08-18</td>\n",
       "      <td>17.140</td>\n",
       "      <td>4.655</td>\n",
       "      <td>2.0</td>\n",
       "      <td>0.35</td>\n",
       "    </tr>\n",
       "    <tr>\n",
       "      <th>2</th>\n",
       "      <td>1959-08-19</td>\n",
       "      <td>16.640</td>\n",
       "      <td>5.120</td>\n",
       "      <td>2.0</td>\n",
       "      <td>0.60</td>\n",
       "    </tr>\n",
       "    <tr>\n",
       "      <th>3</th>\n",
       "      <td>1959-08-23</td>\n",
       "      <td>15.905</td>\n",
       "      <td>4.130</td>\n",
       "      <td>4.5</td>\n",
       "      <td>4.00</td>\n",
       "    </tr>\n",
       "    <tr>\n",
       "      <th>4</th>\n",
       "      <td>1959-08-26</td>\n",
       "      <td>16.950</td>\n",
       "      <td>3.765</td>\n",
       "      <td>4.7</td>\n",
       "      <td>3.40</td>\n",
       "    </tr>\n",
       "  </tbody>\n",
       "</table>\n",
       "</div>"
      ],
      "text/plain": [
       "        Date  WaterTemp   O2ml  SiO3   NO3\n",
       "0 1959-08-16     18.360  4.210   1.0  1.50\n",
       "1 1959-08-18     17.140  4.655   2.0  0.35\n",
       "2 1959-08-19     16.640  5.120   2.0  0.60\n",
       "3 1959-08-23     15.905  4.130   4.5  4.00\n",
       "4 1959-08-26     16.950  3.765   4.7  3.40"
      ]
     },
     "execution_count": 65,
     "metadata": {},
     "output_type": "execute_result"
    }
   ],
   "source": [
    "df.sort_values('Date').head(5)"
   ]
  },
  {
   "cell_type": "markdown",
   "id": "c531e315",
   "metadata": {},
   "source": [
    "#### Uzimamo u obzir datume od 1969. do 2013. godine"
   ]
  },
  {
   "cell_type": "code",
   "execution_count": 66,
   "id": "82a8c40e",
   "metadata": {},
   "outputs": [],
   "source": [
    "df = df[(df['Date'] >= '1969-01') & (df['Date'] <= '2014-02')]"
   ]
  },
  {
   "cell_type": "code",
   "execution_count": 67,
   "id": "3e637aaa",
   "metadata": {},
   "outputs": [
    {
     "data": {
      "text/html": [
       "<div>\n",
       "<style scoped>\n",
       "    .dataframe tbody tr th:only-of-type {\n",
       "        vertical-align: middle;\n",
       "    }\n",
       "\n",
       "    .dataframe tbody tr th {\n",
       "        vertical-align: top;\n",
       "    }\n",
       "\n",
       "    .dataframe thead th {\n",
       "        text-align: right;\n",
       "    }\n",
       "</style>\n",
       "<table border=\"1\" class=\"dataframe\">\n",
       "  <thead>\n",
       "    <tr style=\"text-align: right;\">\n",
       "      <th></th>\n",
       "      <th>Date</th>\n",
       "      <th>WaterTemp</th>\n",
       "      <th>O2ml</th>\n",
       "      <th>SiO3</th>\n",
       "      <th>NO3</th>\n",
       "    </tr>\n",
       "  </thead>\n",
       "  <tbody>\n",
       "    <tr>\n",
       "      <th>5</th>\n",
       "      <td>1969-01-08</td>\n",
       "      <td>11.5950</td>\n",
       "      <td>5.2050</td>\n",
       "      <td>8.400</td>\n",
       "      <td>8.15</td>\n",
       "    </tr>\n",
       "    <tr>\n",
       "      <th>6</th>\n",
       "      <td>1969-01-10</td>\n",
       "      <td>15.6300</td>\n",
       "      <td>5.6750</td>\n",
       "      <td>2.000</td>\n",
       "      <td>0.45</td>\n",
       "    </tr>\n",
       "    <tr>\n",
       "      <th>7</th>\n",
       "      <td>1969-01-11</td>\n",
       "      <td>13.4500</td>\n",
       "      <td>5.8500</td>\n",
       "      <td>2.750</td>\n",
       "      <td>0.10</td>\n",
       "    </tr>\n",
       "    <tr>\n",
       "      <th>8</th>\n",
       "      <td>1969-01-12</td>\n",
       "      <td>11.8000</td>\n",
       "      <td>4.9050</td>\n",
       "      <td>9.750</td>\n",
       "      <td>8.90</td>\n",
       "    </tr>\n",
       "    <tr>\n",
       "      <th>9</th>\n",
       "      <td>1969-01-15</td>\n",
       "      <td>13.0450</td>\n",
       "      <td>5.0250</td>\n",
       "      <td>5.550</td>\n",
       "      <td>6.65</td>\n",
       "    </tr>\n",
       "    <tr>\n",
       "      <th>2706</th>\n",
       "      <td>2013-11-25</td>\n",
       "      <td>16.1600</td>\n",
       "      <td>5.9560</td>\n",
       "      <td>1.400</td>\n",
       "      <td>0.20</td>\n",
       "    </tr>\n",
       "    <tr>\n",
       "      <th>2707</th>\n",
       "      <td>2014-01-29</td>\n",
       "      <td>13.8515</td>\n",
       "      <td>5.2720</td>\n",
       "      <td>4.735</td>\n",
       "      <td>3.20</td>\n",
       "    </tr>\n",
       "    <tr>\n",
       "      <th>2708</th>\n",
       "      <td>2014-01-30</td>\n",
       "      <td>12.3200</td>\n",
       "      <td>5.0765</td>\n",
       "      <td>6.805</td>\n",
       "      <td>7.80</td>\n",
       "    </tr>\n",
       "    <tr>\n",
       "      <th>2709</th>\n",
       "      <td>2014-01-31</td>\n",
       "      <td>13.6280</td>\n",
       "      <td>5.6750</td>\n",
       "      <td>3.110</td>\n",
       "      <td>1.00</td>\n",
       "    </tr>\n",
       "    <tr>\n",
       "      <th>2710</th>\n",
       "      <td>2014-02-01</td>\n",
       "      <td>14.9620</td>\n",
       "      <td>5.6040</td>\n",
       "      <td>2.580</td>\n",
       "      <td>0.10</td>\n",
       "    </tr>\n",
       "  </tbody>\n",
       "</table>\n",
       "</div>"
      ],
      "text/plain": [
       "           Date  WaterTemp    O2ml   SiO3   NO3\n",
       "5    1969-01-08    11.5950  5.2050  8.400  8.15\n",
       "6    1969-01-10    15.6300  5.6750  2.000  0.45\n",
       "7    1969-01-11    13.4500  5.8500  2.750  0.10\n",
       "8    1969-01-12    11.8000  4.9050  9.750  8.90\n",
       "9    1969-01-15    13.0450  5.0250  5.550  6.65\n",
       "2706 2013-11-25    16.1600  5.9560  1.400  0.20\n",
       "2707 2014-01-29    13.8515  5.2720  4.735  3.20\n",
       "2708 2014-01-30    12.3200  5.0765  6.805  7.80\n",
       "2709 2014-01-31    13.6280  5.6750  3.110  1.00\n",
       "2710 2014-02-01    14.9620  5.6040  2.580  0.10"
      ]
     },
     "execution_count": 67,
     "metadata": {},
     "output_type": "execute_result"
    }
   ],
   "source": [
    "df.head().append(df.tail())"
   ]
  },
  {
   "cell_type": "markdown",
   "id": "35e0b27b",
   "metadata": {},
   "source": [
    "#### Dodajemo datume koji nedostaju"
   ]
  },
  {
   "cell_type": "code",
   "execution_count": 68,
   "id": "63130654",
   "metadata": {},
   "outputs": [],
   "source": [
    "df.set_index('Date', inplace = True)"
   ]
  },
  {
   "cell_type": "code",
   "execution_count": 69,
   "id": "2c09d17d",
   "metadata": {},
   "outputs": [],
   "source": [
    "idx = pd.date_range(start='1969-01', end='2014-02' , freq='M')\n",
    "df_missing = df.reindex(idx, fill_value=None)\n",
    "\n",
    "df = df.append(df_missing)"
   ]
  },
  {
   "cell_type": "code",
   "execution_count": 70,
   "id": "29dcb0e2",
   "metadata": {},
   "outputs": [],
   "source": [
    "df.sort_index(inplace=True)"
   ]
  },
  {
   "cell_type": "code",
   "execution_count": 71,
   "id": "5bbacf68",
   "metadata": {},
   "outputs": [],
   "source": [
    "df.reset_index(inplace = True)"
   ]
  },
  {
   "cell_type": "code",
   "execution_count": 72,
   "id": "a9ca9f91",
   "metadata": {},
   "outputs": [],
   "source": [
    "df.rename(columns={'index':'Date'}, inplace = True)"
   ]
  },
  {
   "cell_type": "code",
   "execution_count": 73,
   "id": "4268bdeb",
   "metadata": {},
   "outputs": [],
   "source": [
    "df['Date'] = pd.to_datetime(df['Date'])"
   ]
  },
  {
   "cell_type": "code",
   "execution_count": 74,
   "id": "1338c156",
   "metadata": {},
   "outputs": [],
   "source": [
    "df['Date'] = df['Date'].dt.strftime('%Y-%m')"
   ]
  },
  {
   "cell_type": "markdown",
   "id": "46f5e17b",
   "metadata": {},
   "source": [
    "#### Kako bi se dobili podaci za određeni mesec izvršiće se grupisanje po datumu nakon što se izbaci dan iz datuma"
   ]
  },
  {
   "cell_type": "code",
   "execution_count": 75,
   "id": "b7d31836",
   "metadata": {},
   "outputs": [],
   "source": [
    "df = df.groupby('Date')[['WaterTemp', 'O2ml', 'SiO3', 'NO3']].median().reset_index()"
   ]
  },
  {
   "cell_type": "code",
   "execution_count": 76,
   "id": "eb4a957f",
   "metadata": {},
   "outputs": [
    {
     "data": {
      "text/html": [
       "<div>\n",
       "<style scoped>\n",
       "    .dataframe tbody tr th:only-of-type {\n",
       "        vertical-align: middle;\n",
       "    }\n",
       "\n",
       "    .dataframe tbody tr th {\n",
       "        vertical-align: top;\n",
       "    }\n",
       "\n",
       "    .dataframe thead th {\n",
       "        text-align: right;\n",
       "    }\n",
       "</style>\n",
       "<table border=\"1\" class=\"dataframe\">\n",
       "  <thead>\n",
       "    <tr style=\"text-align: right;\">\n",
       "      <th></th>\n",
       "      <th>Date</th>\n",
       "      <th>WaterTemp</th>\n",
       "      <th>O2ml</th>\n",
       "      <th>SiO3</th>\n",
       "      <th>NO3</th>\n",
       "    </tr>\n",
       "  </thead>\n",
       "  <tbody>\n",
       "    <tr>\n",
       "      <th>0</th>\n",
       "      <td>1969-01</td>\n",
       "      <td>13.2650</td>\n",
       "      <td>5.5950</td>\n",
       "      <td>7.0000</td>\n",
       "      <td>3.25</td>\n",
       "    </tr>\n",
       "    <tr>\n",
       "      <th>1</th>\n",
       "      <td>1969-02</td>\n",
       "      <td>12.4350</td>\n",
       "      <td>5.6950</td>\n",
       "      <td>6.4000</td>\n",
       "      <td>5.20</td>\n",
       "    </tr>\n",
       "    <tr>\n",
       "      <th>2</th>\n",
       "      <td>1969-03</td>\n",
       "      <td>15.5350</td>\n",
       "      <td>5.4900</td>\n",
       "      <td>4.0000</td>\n",
       "      <td>0.30</td>\n",
       "    </tr>\n",
       "    <tr>\n",
       "      <th>3</th>\n",
       "      <td>1969-04</td>\n",
       "      <td>12.0700</td>\n",
       "      <td>5.3125</td>\n",
       "      <td>8.5000</td>\n",
       "      <td>6.40</td>\n",
       "    </tr>\n",
       "    <tr>\n",
       "      <th>4</th>\n",
       "      <td>1969-05</td>\n",
       "      <td>12.1200</td>\n",
       "      <td>5.9450</td>\n",
       "      <td>6.0000</td>\n",
       "      <td>3.70</td>\n",
       "    </tr>\n",
       "    <tr>\n",
       "      <th>537</th>\n",
       "      <td>2013-10</td>\n",
       "      <td>NaN</td>\n",
       "      <td>NaN</td>\n",
       "      <td>NaN</td>\n",
       "      <td>NaN</td>\n",
       "    </tr>\n",
       "    <tr>\n",
       "      <th>538</th>\n",
       "      <td>2013-11</td>\n",
       "      <td>12.4965</td>\n",
       "      <td>5.3810</td>\n",
       "      <td>5.3300</td>\n",
       "      <td>6.45</td>\n",
       "    </tr>\n",
       "    <tr>\n",
       "      <th>539</th>\n",
       "      <td>2013-12</td>\n",
       "      <td>NaN</td>\n",
       "      <td>NaN</td>\n",
       "      <td>NaN</td>\n",
       "      <td>NaN</td>\n",
       "    </tr>\n",
       "    <tr>\n",
       "      <th>540</th>\n",
       "      <td>2014-01</td>\n",
       "      <td>13.6280</td>\n",
       "      <td>5.4735</td>\n",
       "      <td>3.9225</td>\n",
       "      <td>2.10</td>\n",
       "    </tr>\n",
       "    <tr>\n",
       "      <th>541</th>\n",
       "      <td>2014-02</td>\n",
       "      <td>14.9620</td>\n",
       "      <td>5.6040</td>\n",
       "      <td>2.5800</td>\n",
       "      <td>0.10</td>\n",
       "    </tr>\n",
       "  </tbody>\n",
       "</table>\n",
       "</div>"
      ],
      "text/plain": [
       "        Date  WaterTemp    O2ml    SiO3   NO3\n",
       "0    1969-01    13.2650  5.5950  7.0000  3.25\n",
       "1    1969-02    12.4350  5.6950  6.4000  5.20\n",
       "2    1969-03    15.5350  5.4900  4.0000  0.30\n",
       "3    1969-04    12.0700  5.3125  8.5000  6.40\n",
       "4    1969-05    12.1200  5.9450  6.0000  3.70\n",
       "537  2013-10        NaN     NaN     NaN   NaN\n",
       "538  2013-11    12.4965  5.3810  5.3300  6.45\n",
       "539  2013-12        NaN     NaN     NaN   NaN\n",
       "540  2014-01    13.6280  5.4735  3.9225  2.10\n",
       "541  2014-02    14.9620  5.6040  2.5800  0.10"
      ]
     },
     "execution_count": 76,
     "metadata": {},
     "output_type": "execute_result"
    }
   ],
   "source": [
    "df.head().append(df.tail())"
   ]
  },
  {
   "cell_type": "markdown",
   "id": "ed967f04",
   "metadata": {},
   "source": [
    "#### Vrednosti atributa sa nedostajućim vrednostima"
   ]
  },
  {
   "cell_type": "code",
   "execution_count": 77,
   "id": "8f27bead",
   "metadata": {},
   "outputs": [
    {
     "data": {
      "text/plain": [
       "<AxesSubplot:>"
      ]
     },
     "execution_count": 77,
     "metadata": {},
     "output_type": "execute_result"
    },
    {
     "data": {
      "image/png": "[encoded data removed]",
      "text/plain": [
       "<Figure size 432x360 with 1 Axes>"
      ]
     },
     "metadata": {
      "needs_background": "light"
     },
     "output_type": "display_data"
    }
   ],
   "source": [
    "df.plot(x_compat=True, rot=90, figsize=(6, 5))"
   ]
  },
  {
   "cell_type": "markdown",
   "id": "db51471a",
   "metadata": {},
   "source": [
    "#### Vršimo interpolaciju kako bi popunili nedostajuće vrednosti"
   ]
  },
  {
   "cell_type": "code",
   "execution_count": 78,
   "id": "c7e9fab0",
   "metadata": {},
   "outputs": [],
   "source": [
    "df = df.interpolate(method=\"polynomial\", order=1, limit_direction='both')"
   ]
  },
  {
   "cell_type": "markdown",
   "id": "7b8dc925",
   "metadata": {},
   "source": [
    "#### Vrednosti atributa nakon interpolacije"
   ]
  },
  {
   "cell_type": "code",
   "execution_count": 79,
   "id": "eab12a32",
   "metadata": {},
   "outputs": [
    {
     "data": {
      "text/plain": [
       "<AxesSubplot:>"
      ]
     },
     "execution_count": 79,
     "metadata": {},
     "output_type": "execute_result"
    },
    {
     "data": {
      "image/png": "[encoded data removed]",
      "text/plain": [
       "<Figure size 432x360 with 1 Axes>"
      ]
     },
     "metadata": {
      "needs_background": "light"
     },
     "output_type": "display_data"
    }
   ],
   "source": [
    "df.plot(x_compat=True, rot=90, figsize=(6, 5))"
   ]
  },
  {
   "cell_type": "code",
   "execution_count": 80,
   "id": "b9328c15",
   "metadata": {},
   "outputs": [],
   "source": [
    "df.drop(df.tail(2).index,inplace=True)"
   ]
  },
  {
   "cell_type": "code",
   "execution_count": 81,
   "id": "651b4680",
   "metadata": {},
   "outputs": [
    {
     "data": {
      "text/html": [
       "<div>\n",
       "<style scoped>\n",
       "    .dataframe tbody tr th:only-of-type {\n",
       "        vertical-align: middle;\n",
       "    }\n",
       "\n",
       "    .dataframe tbody tr th {\n",
       "        vertical-align: top;\n",
       "    }\n",
       "\n",
       "    .dataframe thead th {\n",
       "        text-align: right;\n",
       "    }\n",
       "</style>\n",
       "<table border=\"1\" class=\"dataframe\">\n",
       "  <thead>\n",
       "    <tr style=\"text-align: right;\">\n",
       "      <th></th>\n",
       "      <th>Date</th>\n",
       "      <th>WaterTemp</th>\n",
       "      <th>O2ml</th>\n",
       "      <th>SiO3</th>\n",
       "      <th>NO3</th>\n",
       "    </tr>\n",
       "  </thead>\n",
       "  <tbody>\n",
       "    <tr>\n",
       "      <th>0</th>\n",
       "      <td>1969-01</td>\n",
       "      <td>13.265000</td>\n",
       "      <td>5.595000</td>\n",
       "      <td>7.00000</td>\n",
       "      <td>3.250</td>\n",
       "    </tr>\n",
       "    <tr>\n",
       "      <th>1</th>\n",
       "      <td>1969-02</td>\n",
       "      <td>12.435000</td>\n",
       "      <td>5.695000</td>\n",
       "      <td>6.40000</td>\n",
       "      <td>5.200</td>\n",
       "    </tr>\n",
       "    <tr>\n",
       "      <th>2</th>\n",
       "      <td>1969-03</td>\n",
       "      <td>15.535000</td>\n",
       "      <td>5.490000</td>\n",
       "      <td>4.00000</td>\n",
       "      <td>0.300</td>\n",
       "    </tr>\n",
       "    <tr>\n",
       "      <th>3</th>\n",
       "      <td>1969-04</td>\n",
       "      <td>12.070000</td>\n",
       "      <td>5.312500</td>\n",
       "      <td>8.50000</td>\n",
       "      <td>6.400</td>\n",
       "    </tr>\n",
       "    <tr>\n",
       "      <th>4</th>\n",
       "      <td>1969-05</td>\n",
       "      <td>12.120000</td>\n",
       "      <td>5.945000</td>\n",
       "      <td>6.00000</td>\n",
       "      <td>3.700</td>\n",
       "    </tr>\n",
       "    <tr>\n",
       "      <th>535</th>\n",
       "      <td>2013-08</td>\n",
       "      <td>12.053062</td>\n",
       "      <td>5.263625</td>\n",
       "      <td>7.47125</td>\n",
       "      <td>8.925</td>\n",
       "    </tr>\n",
       "    <tr>\n",
       "      <th>536</th>\n",
       "      <td>2013-09</td>\n",
       "      <td>12.200875</td>\n",
       "      <td>5.302750</td>\n",
       "      <td>6.75750</td>\n",
       "      <td>8.100</td>\n",
       "    </tr>\n",
       "    <tr>\n",
       "      <th>537</th>\n",
       "      <td>2013-10</td>\n",
       "      <td>12.348688</td>\n",
       "      <td>5.341875</td>\n",
       "      <td>6.04375</td>\n",
       "      <td>7.275</td>\n",
       "    </tr>\n",
       "    <tr>\n",
       "      <th>538</th>\n",
       "      <td>2013-11</td>\n",
       "      <td>12.496500</td>\n",
       "      <td>5.381000</td>\n",
       "      <td>5.33000</td>\n",
       "      <td>6.450</td>\n",
       "    </tr>\n",
       "    <tr>\n",
       "      <th>539</th>\n",
       "      <td>2013-12</td>\n",
       "      <td>13.062250</td>\n",
       "      <td>5.427250</td>\n",
       "      <td>4.62625</td>\n",
       "      <td>4.275</td>\n",
       "    </tr>\n",
       "  </tbody>\n",
       "</table>\n",
       "</div>"
      ],
      "text/plain": [
       "        Date  WaterTemp      O2ml     SiO3    NO3\n",
       "0    1969-01  13.265000  5.595000  7.00000  3.250\n",
       "1    1969-02  12.435000  5.695000  6.40000  5.200\n",
       "2    1969-03  15.535000  5.490000  4.00000  0.300\n",
       "3    1969-04  12.070000  5.312500  8.50000  6.400\n",
       "4    1969-05  12.120000  5.945000  6.00000  3.700\n",
       "535  2013-08  12.053062  5.263625  7.47125  8.925\n",
       "536  2013-09  12.200875  5.302750  6.75750  8.100\n",
       "537  2013-10  12.348688  5.341875  6.04375  7.275\n",
       "538  2013-11  12.496500  5.381000  5.33000  6.450\n",
       "539  2013-12  13.062250  5.427250  4.62625  4.275"
      ]
     },
     "execution_count": 81,
     "metadata": {},
     "output_type": "execute_result"
    }
   ],
   "source": [
    "df.head().append(df.tail())"
   ]
  },
  {
   "cell_type": "code",
   "execution_count": 82,
   "id": "2123a3da",
   "metadata": {},
   "outputs": [],
   "source": [
    "df.to_csv('processed_datasets/WaterTemp_O2ml.csv', index = False)"
   ]
  }
 ],
 "metadata": {
  "kernelspec": {
   "display_name": "Python 3 (ipykernel)",
   "language": "python",
   "name": "python3"
  },
  "language_info": {
   "codemirror_mode": {
    "name": "ipython",
    "version": 3
   },
   "file_extension": ".py",
   "mimetype": "text/x-python",
   "name": "python",
   "nbconvert_exporter": "python",
   "pygments_lexer": "ipython3",
   "version": "3.9.7"
  }
 },
 "nbformat": 4,
 "nbformat_minor": 5
}
